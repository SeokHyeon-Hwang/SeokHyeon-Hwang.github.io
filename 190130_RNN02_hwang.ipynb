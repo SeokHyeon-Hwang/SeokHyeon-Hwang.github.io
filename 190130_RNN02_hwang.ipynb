{
  "nbformat": 4,
  "nbformat_minor": 0,
  "metadata": {
    "colab": {
      "name": "RNN02_hwang.ipynb",
      "version": "0.3.2",
      "provenance": [],
      "collapsed_sections": []
    },
    "kernelspec": {
      "name": "python3",
      "display_name": "Python 3"
    }
  },
  "cells": [
    {
      "metadata": {
        "id": "UkiJbFv5uZ3C",
        "colab_type": "text"
      },
      "cell_type": "markdown",
      "source": [
        "### 4개 글자를 가진 단어를 학습시킨다. 3글자만 주어지면 한글자를 추천한다. 단어 완성"
      ]
    },
    {
      "metadata": {
        "id": "PhS9-Lopuiz7",
        "colab_type": "code",
        "colab": {}
      },
      "cell_type": "code",
      "source": [
        "import tensorflow as tf\n",
        "import numpy as np"
      ],
      "execution_count": 0,
      "outputs": []
    },
    {
      "metadata": {
        "id": "Tz5PUVHewKVm",
        "colab_type": "text"
      },
      "cell_type": "markdown",
      "source": [
        "## 알파벳 예측"
      ]
    },
    {
      "metadata": {
        "id": "X0CtDYguwNNI",
        "colab_type": "code",
        "colab": {}
      },
      "cell_type": "code",
      "source": [
        "char_arr = ['a', 'b', 'c', 'd', 'e', 'f', 'g',\n",
        " 'h', 'i', 'j', 'k', 'l', 'm', 'n',\n",
        " 'o', 'p', 'q', 'r', 's', 't', 'u',\n",
        " 'v', 'w', 'x', 'y', 'z']"
      ],
      "execution_count": 0,
      "outputs": []
    },
    {
      "metadata": {
        "id": "FPkR6J3hwSgh",
        "colab_type": "code",
        "colab": {}
      },
      "cell_type": "code",
      "source": [
        "# {'a':1, 'b':1, 'c':2, ...'z':25}\n",
        "num_dic = {n:index for index, n in enumerate(char_arr)}\n",
        "dic_len=len(num_dic)\n",
        "#num_dic"
      ],
      "execution_count": 0,
      "outputs": []
    },
    {
      "metadata": {
        "id": "jgv9YH6ywl13",
        "colab_type": "code",
        "colab": {
          "base_uri": "https://localhost:8080/",
          "height": 35
        },
        "outputId": "64d05c59-8248-4c79-fc06-cf06d7f2e9c6"
      },
      "cell_type": "code",
      "source": [
        "dic = {}\n",
        "for idx, items in enumerate(char_arr):\n",
        "  dic[items] = idx\n",
        "print(dic)"
      ],
      "execution_count": 5,
      "outputs": [
        {
          "output_type": "stream",
          "text": [
            "{'a': 0, 'b': 1, 'c': 2, 'd': 3, 'e': 4, 'f': 5, 'g': 6, 'h': 7, 'i': 8, 'j': 9, 'k': 10, 'l': 11, 'm': 12, 'n': 13, 'o': 14, 'p': 15, 'q': 16, 'r': 17, 's': 18, 't': 19, 'u': 20, 'v': 21, 'w': 22, 'x': 23, 'y': 24, 'z': 25}\n"
          ],
          "name": "stdout"
        }
      ]
    },
    {
      "metadata": {
        "id": "hSQJud9VxFMG",
        "colab_type": "code",
        "colab": {}
      },
      "cell_type": "code",
      "source": [
        "## 입력은 앞 3단어 wor, woo, dee, div, col\n",
        "## 출력은 맨 끝단어 d, d, p, e, ..., s, d\n",
        "##\n",
        "seq_data = ['word', 'wood', 'deep', 'dive', 'cold', 'cool',\n",
        " 'load', 'love', 'kiss', 'kind']"
      ],
      "execution_count": 0,
      "outputs": []
    },
    {
      "metadata": {
        "id": "vZpN7_-7xfLY",
        "colab_type": "code",
        "colab": {}
      },
      "cell_type": "code",
      "source": [
        "def make_batch(seq_data):\n",
        "  input_batch = []   # 앞 3글자를 숫자로-> one Hot encoding\n",
        "  target_batch = []  # 영문을 숫자로 \n",
        "  \n",
        "  for seq in seq_data:\n",
        "    # word,   wood,  deep \n",
        "    # 'wor' ,     'woo',       'dee'\n",
        "    input = [num_dic[n] for n in seq[:-1]]  # 단어중 앞 3글자를 숫자로 바꿔줌.\n",
        "    # [22,14,17], [22, 14,14], [3,4,4]\n",
        "  \n",
        "    # word의 seq[-1]는 'd'\n",
        "    # wood의 seq[-1]는 'd'\n",
        "    # deep의 seq[-1]는 'p'\n",
        "  \n",
        "    target = num_dic[seq[-1]]   # 단어중 맨 끝글자를 숫자로\n",
        "    # 3, 3, 15  \n",
        "  \n",
        "    # input은 3개의 리스트를 갖는 숫자값을 one-hot-encoding\n",
        "    # if input is [0, 1, 2]:\n",
        "    # [[ 1. 0. 0. 0. 0. 0. 0. 0. 0. 0.]\n",
        "    # [ 0. 1. 0. 0. 0. 0. 0. 0. 0. 0.]\n",
        "    # [ 0. 0. 1. 0. 0. 0. 0. 0. 0. 0.]]\n",
        "    input_batch.append(np.eye(dic_len)[input])\n",
        "    \n",
        "    # sparse_softmax_cross_entropy_with_logits 는\n",
        "    # one-hot 인코딩을 사용하지 않으므로 index 를 그냥 넘겨주면 됩니다.\n",
        "    target_batch.append(target)\n",
        " \n",
        "  return input_batch, target_batch\n",
        "  "
      ],
      "execution_count": 0,
      "outputs": []
    },
    {
      "metadata": {
        "id": "aG4qV9BQ15z5",
        "colab_type": "code",
        "colab": {}
      },
      "cell_type": "code",
      "source": [
        "### 신경망 옵션 설정\n",
        "learning_rate = 0.01\n",
        "n_hidden = 128\n",
        "total_epoch = 30\n",
        "\n",
        "# 타입 스텝 :[1,2,3] -> 3\n",
        "n_step = 3\n",
        "n_input = n_class= dic_len"
      ],
      "execution_count": 0,
      "outputs": []
    },
    {
      "metadata": {
        "id": "bymXFTfm2F-a",
        "colab_type": "code",
        "colab": {}
      },
      "cell_type": "code",
      "source": [
        "### 신경망 모델을 구성\n",
        "X = tf.placeholder(tf.float32, [None, n_step, n_input])\n",
        "Y = tf.placeholder(tf.int32, [None])\n",
        "W = tf.Variable(tf.random_normal([n_hidden, n_class]))\n",
        "b = tf.Variable(tf.random_normal([n_class]))"
      ],
      "execution_count": 0,
      "outputs": []
    },
    {
      "metadata": {
        "id": "7dZ7pzW42oYc",
        "colab_type": "code",
        "colab": {}
      },
      "cell_type": "code",
      "source": [
        "## 기본 셀 구성\n",
        "cell1 = tf.nn.rnn_cell.BasicLSTMCell(n_hidden)\n"
      ],
      "execution_count": 0,
      "outputs": []
    },
    {
      "metadata": {
        "id": "ugn9ZjK825zU",
        "colab_type": "code",
        "colab": {}
      },
      "cell_type": "code",
      "source": [
        "## Dropout 기법\n",
        "cell1 = tf.nn.rnn_cell.DropoutWrapper(cell1, output_keep_prob=0.5)\n",
        "cell2 = tf.nn.rnn_cell.BasicLSTMCell(n_hidden)"
      ],
      "execution_count": 0,
      "outputs": []
    },
    {
      "metadata": {
        "id": "VQySuNgf3cWJ",
        "colab_type": "code",
        "colab": {}
      },
      "cell_type": "code",
      "source": [
        "## 여러개 셀을 조합\n",
        "multi_cell = tf.nn.rnn_cell.MultiRNNCell([cell1, cell2])"
      ],
      "execution_count": 0,
      "outputs": []
    },
    {
      "metadata": {
        "id": "hyFlxv-Z3kVn",
        "colab_type": "code",
        "colab": {}
      },
      "cell_type": "code",
      "source": [
        "outputs, states = tf.nn.dynamic_rnn(multi_cell, X, dtype=tf.float32)\n"
      ],
      "execution_count": 0,
      "outputs": []
    },
    {
      "metadata": {
        "id": "GHiJlkC5Ca3j",
        "colab_type": "code",
        "colab": {
          "base_uri": "https://localhost:8080/",
          "height": 73
        },
        "outputId": "e78dbb15-28d1-40cc-d0f7-a04d8cff84e2"
      },
      "cell_type": "code",
      "source": [
        "print(outputs)\n",
        "print(states)"
      ],
      "execution_count": 17,
      "outputs": [
        {
          "output_type": "stream",
          "text": [
            "Tensor(\"rnn/transpose_1:0\", shape=(?, 3, 128), dtype=float32)\n",
            "(LSTMStateTuple(c=<tf.Tensor 'rnn/while/Exit_3:0' shape=(?, 128) dtype=float32>, h=<tf.Tensor 'rnn/while/Exit_4:0' shape=(?, 128) dtype=float32>), LSTMStateTuple(c=<tf.Tensor 'rnn/while/Exit_5:0' shape=(?, 128) dtype=float32>, h=<tf.Tensor 'rnn/while/Exit_6:0' shape=(?, 128) dtype=float32>))\n"
          ],
          "name": "stdout"
        }
      ]
    },
    {
      "metadata": {
        "id": "ZXbAp7_tCc7Y",
        "colab_type": "code",
        "colab": {
          "base_uri": "https://localhost:8080/",
          "height": 35
        },
        "outputId": "8664b78e-4425-4afd-fd3f-f7f70433048c"
      },
      "cell_type": "code",
      "source": [
        "# 최종 결과는 one-hot 인코딩 형식으로 만듭니다\n",
        "# 결과를 Y의 다음 형식과 바꿔야 하기 때문에\n",
        "# Y : [batch_size, n_class]\n",
        "\n",
        "# --> outputs의 형태 : [batch_size, n_step, n_hidden]\n",
        "# --> transpose 순서 변경 [n_step, batch_size, n_hidden]\n",
        "# outputs[-1]  # output의 마지막 데이터\n",
        "# tf.transpose 함수를 이용하여 n_step과 batch_size의 차원의 순서를 바꾸고,\n",
        "# n_step 차원을 제거하여 마지막 단계의 결과값을 취함.\n",
        "outputs = tf.transpose(outputs, [1, 0, 2])\n",
        "outputs = outputs[-1]\n",
        "print(outputs)"
      ],
      "execution_count": 18,
      "outputs": [
        {
          "output_type": "stream",
          "text": [
            "Tensor(\"strided_slice:0\", shape=(?, 128), dtype=float32)\n"
          ],
          "name": "stdout"
        }
      ]
    },
    {
      "metadata": {
        "id": "FXhOBCnQCgSJ",
        "colab_type": "code",
        "colab": {}
      },
      "cell_type": "code",
      "source": [
        "model = tf.matmul(outputs, W) + b\n",
        "\n",
        "cost = tf.reduce_mean(\n",
        "        tf.nn.sparse_softmax_cross_entropy_with_logits(\n",
        "        logits=model, labels=Y))\n",
        "\n",
        "optimizer = tf.train.AdamOptimizer(learning_rate).minimize(cost)"
      ],
      "execution_count": 0,
      "outputs": []
    },
    {
      "metadata": {
        "id": "E1QYNZjTCiOg",
        "colab_type": "code",
        "colab": {}
      },
      "cell_type": "code",
      "source": [
        "#########\n",
        "# 신경망 모델 학습\n",
        "######\n",
        "sess = tf.Session()\n",
        "sess.run(tf.global_variables_initializer())\n",
        "input_batch, target_batch = make_batch(seq_data)"
      ],
      "execution_count": 0,
      "outputs": []
    },
    {
      "metadata": {
        "id": "YYjHYVNvCkEm",
        "colab_type": "code",
        "colab": {
          "base_uri": "https://localhost:8080/",
          "height": 575
        },
        "outputId": "09c2cad4-18cd-4eed-859e-1cb1b0dfc06c"
      },
      "cell_type": "code",
      "source": [
        "for epoch in range(total_epoch):\n",
        "  _, loss = sess.run([optimizer, cost],\n",
        "                    feed_dict={X:input_batch, Y:target_batch})\n",
        "  print('Epoch:', '%04d'% (epoch+1),'cost =', '{:.6f}'.format(loss))\n",
        "  #print(sess.run(outputs))\n",
        "print('최적화 완료')"
      ],
      "execution_count": 21,
      "outputs": [
        {
          "output_type": "stream",
          "text": [
            "Epoch: 0001 cost = 3.987795\n",
            "Epoch: 0002 cost = 3.095344\n",
            "Epoch: 0003 cost = 1.696384\n",
            "Epoch: 0004 cost = 1.450113\n",
            "Epoch: 0005 cost = 0.900348\n",
            "Epoch: 0006 cost = 1.202294\n",
            "Epoch: 0007 cost = 0.651282\n",
            "Epoch: 0008 cost = 0.445989\n",
            "Epoch: 0009 cost = 0.545697\n",
            "Epoch: 0010 cost = 0.483621\n",
            "Epoch: 0011 cost = 0.337010\n",
            "Epoch: 0012 cost = 0.207434\n",
            "Epoch: 0013 cost = 0.358402\n",
            "Epoch: 0014 cost = 0.437751\n",
            "Epoch: 0015 cost = 0.189798\n",
            "Epoch: 0016 cost = 0.062782\n",
            "Epoch: 0017 cost = 0.089701\n",
            "Epoch: 0018 cost = 0.316631\n",
            "Epoch: 0019 cost = 0.102637\n",
            "Epoch: 0020 cost = 0.153231\n",
            "Epoch: 0021 cost = 0.085638\n",
            "Epoch: 0022 cost = 0.024461\n",
            "Epoch: 0023 cost = 0.173081\n",
            "Epoch: 0024 cost = 0.088767\n",
            "Epoch: 0025 cost = 0.064352\n",
            "Epoch: 0026 cost = 0.043822\n",
            "Epoch: 0027 cost = 0.023276\n",
            "Epoch: 0028 cost = 0.227618\n",
            "Epoch: 0029 cost = 0.067253\n",
            "Epoch: 0030 cost = 0.024401\n",
            "최적화 완료\n"
          ],
          "name": "stdout"
        }
      ]
    },
    {
      "metadata": {
        "id": "sUlvTrWpCl3o",
        "colab_type": "code",
        "colab": {
          "base_uri": "https://localhost:8080/",
          "height": 485
        },
        "outputId": "db32ceda-d8d7-4123-f675-abeeee3f5f4c"
      },
      "cell_type": "code",
      "source": [
        "sess.run(outputs[0], feed_dict={X: input_batch, Y: target_batch})\n",
        "# sess.run(states[1], feed_dict={X: input_batch, Y: target_batch})\n"
      ],
      "execution_count": 25,
      "outputs": [
        {
          "output_type": "execute_result",
          "data": {
            "text/plain": [
              "array([ 0.02673897, -0.15832934,  0.03743213, -0.04144966,  0.24978817,\n",
              "       -0.2876715 ,  0.21274556, -0.25855398, -0.3265326 , -0.23456919,\n",
              "       -0.03790496, -0.17288154,  0.15795808,  0.11091242, -0.37911826,\n",
              "        0.46414173,  0.13307692,  0.3327922 , -0.02480455,  0.30198112,\n",
              "        0.2886491 ,  0.23800486, -0.3732837 , -0.11717228,  0.14842913,\n",
              "        0.304662  , -0.24621211,  0.25341344, -0.18444057, -0.16714987,\n",
              "        0.21552907, -0.0211653 ,  0.01985679, -0.03218716,  0.27688   ,\n",
              "        0.2934438 , -0.3689568 ,  0.25812522,  0.17060809, -0.04600568,\n",
              "        0.0584036 ,  0.16703029, -0.30099258,  0.14083838,  0.13083096,\n",
              "       -0.09376228, -0.08692893,  0.17533007,  0.04957275,  0.03365602,\n",
              "       -0.28174967, -0.231933  , -0.36497298,  0.18398014, -0.09110282,\n",
              "       -0.23196267, -0.142268  , -0.13962758, -0.09853227, -0.18688701,\n",
              "       -0.33317605, -0.25526878,  0.29426676, -0.22423495,  0.09197083,\n",
              "       -0.31563538, -0.47124776,  0.12475473, -0.15642011, -0.01826162,\n",
              "       -0.20083216, -0.30024174, -0.18344079,  0.14760341, -0.13921486,\n",
              "        0.12068605,  0.16036381, -0.15552554,  0.02012446, -0.41973895,\n",
              "        0.10674456, -0.1652127 , -0.25723055,  0.35407057, -0.18151765,\n",
              "        0.26531053, -0.0473324 , -0.27178204,  0.06678952, -0.12584643,\n",
              "       -0.37993824, -0.39312577, -0.28212154, -0.0922612 ,  0.22189738,\n",
              "       -0.3245756 , -0.19407864, -0.3765229 , -0.1108738 ,  0.08599824,\n",
              "        0.04412012, -0.05747632,  0.293132  ,  0.2725156 ,  0.06786778,\n",
              "        0.16502948, -0.06944367,  0.31324965, -0.4166037 ,  0.11919902,\n",
              "        0.07846868, -0.11880792,  0.22500284, -0.09758788,  0.06584726,\n",
              "       -0.26882088, -0.17293622,  0.1926974 , -0.20096418, -0.07775508,\n",
              "        0.2580539 , -0.22192831,  0.26150608,  0.3905507 ,  0.16783725,\n",
              "       -0.18122844,  0.19958113, -0.00698786], dtype=float32)"
            ]
          },
          "metadata": {
            "tags": []
          },
          "execution_count": 25
        }
      ]
    },
    {
      "metadata": {
        "id": "SuyiyFtjCnwF",
        "colab_type": "code",
        "colab": {}
      },
      "cell_type": "code",
      "source": [
        "#########\n",
        "# 결과 확인\n",
        "######\n",
        "# 레이블값이 정수이므로 예측값도 정수로 변경해줍니다.\n",
        "prediction = tf.cast(tf.argmax(model, 1), tf.int32)\n",
        "# one-hot 인코딩이 아니므로 입력값을 그대로 비교합니다.\n",
        "prediction_check = tf.equal(prediction, Y)\n",
        "accuracy = tf.reduce_mean(tf.cast(prediction_check, tf.float32))\n",
        "input_batch, target_batch = make_batch(seq_data)\n",
        "predict, accuracy_val = sess.run([prediction, accuracy],\n",
        " feed_dict={X: input_batch, Y: target_batch})"
      ],
      "execution_count": 0,
      "outputs": []
    },
    {
      "metadata": {
        "id": "rvNrFvt8CpqR",
        "colab_type": "code",
        "colab": {
          "base_uri": "https://localhost:8080/",
          "height": 107
        },
        "outputId": "fb08dd3f-f949-45fa-c234-2fbc3d596830"
      },
      "cell_type": "code",
      "source": [
        "predict_words = []\n",
        "for idx, val in enumerate(seq_data):\n",
        " last_char = char_arr[predict[idx]]\n",
        " predict_words.append(val[:3] + last_char)\n",
        "print('\\n=== 예측 결과 ===')\n",
        "print('입력값:', [w[:3] + ' ' for w in seq_data])\n",
        "print('예측값:', predict_words)\n",
        "print('정확도:', accuracy_val)\n"
      ],
      "execution_count": 24,
      "outputs": [
        {
          "output_type": "stream",
          "text": [
            "\n",
            "=== 예측 결과 ===\n",
            "입력값: ['wor ', 'woo ', 'dee ', 'div ', 'col ', 'coo ', 'loa ', 'lov ', 'kis ', 'kin ']\n",
            "예측값: ['word', 'wood', 'deep', 'dive', 'cold', 'cool', 'load', 'love', 'kiss', 'kind']\n",
            "정확도: 1.0\n"
          ],
          "name": "stdout"
        }
      ]
    },
    {
      "metadata": {
        "id": "ucWa2m-SCrlD",
        "colab_type": "code",
        "colab": {}
      },
      "cell_type": "code",
      "source": [
        ""
      ],
      "execution_count": 0,
      "outputs": []
    }
  ]
}