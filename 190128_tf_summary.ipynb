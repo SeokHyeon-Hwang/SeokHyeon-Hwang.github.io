{
  "nbformat": 4,
  "nbformat_minor": 0,
  "metadata": {
    "colab": {
      "name": "20190128_tf_summary.ipynb",
      "version": "0.3.2",
      "provenance": [],
      "collapsed_sections": []
    },
    "kernelspec": {
      "name": "python3",
      "display_name": "Python 3"
    }
  },
  "cells": [
    {
      "metadata": {
        "id": "mcJ_7ZLgznLM",
        "colab_type": "code",
        "colab": {}
      },
      "cell_type": "code",
      "source": [
        "##"
      ],
      "execution_count": 0,
      "outputs": []
    },
    {
      "metadata": {
        "id": "lFkoiytzzw9j",
        "colab_type": "text"
      },
      "cell_type": "markdown",
      "source": [
        "## 드롭아웃(DROPOUT)\n",
        "* mnist를 이용해서 신경망을 구성\n",
        "* 신경망이 과적합이 있다.\n",
        "* 학습시 전체 신경망 중에 일부만을 사용한다.\n",
        "* 일부 뉴런을 사용하지 않으므로, 일부 특징이 특정 뉴런에 고정되는 것을 막아 가중치 균형을 잡아준다.\n",
        "* 일부 뉴런을 학습 시키지 않기 때문에 시간이 걸린다."
      ]
    },
    {
      "metadata": {
        "id": "Dcsg1Q7K0Op0",
        "colab_type": "code",
        "colab": {}
      },
      "cell_type": "code",
      "source": [
        "import tensorflow as tf\n",
        "import numpy as np\n",
        "from tensorflow.examples.tutorials.mnist import input_data"
      ],
      "execution_count": 0,
      "outputs": []
    },
    {
      "metadata": {
        "id": "PlauDBEF04nQ",
        "colab_type": "code",
        "colab": {
          "base_uri": "https://localhost:8080/",
          "height": 559
        },
        "outputId": "13e91e1c-948a-41c0-cb6e-db2b9c07d99d"
      },
      "cell_type": "code",
      "source": [
        "mnist = input_data.read_data_sets('./mnist/data/', one_hot = True)"
      ],
      "execution_count": 3,
      "outputs": [
        {
          "output_type": "stream",
          "text": [
            "WARNING:tensorflow:From <ipython-input-3-48e8f405681e>:1: read_data_sets (from tensorflow.contrib.learn.python.learn.datasets.mnist) is deprecated and will be removed in a future version.\n",
            "Instructions for updating:\n",
            "Please use alternatives such as official/mnist/dataset.py from tensorflow/models.\n",
            "WARNING:tensorflow:From /usr/local/lib/python3.6/dist-packages/tensorflow/contrib/learn/python/learn/datasets/mnist.py:260: maybe_download (from tensorflow.contrib.learn.python.learn.datasets.base) is deprecated and will be removed in a future version.\n",
            "Instructions for updating:\n",
            "Please write your own downloading logic.\n",
            "WARNING:tensorflow:From /usr/local/lib/python3.6/dist-packages/tensorflow/contrib/learn/python/learn/datasets/base.py:252: _internal_retry.<locals>.wrap.<locals>.wrapped_fn (from tensorflow.contrib.learn.python.learn.datasets.base) is deprecated and will be removed in a future version.\n",
            "Instructions for updating:\n",
            "Please use urllib or similar directly.\n",
            "Successfully downloaded train-images-idx3-ubyte.gz 9912422 bytes.\n",
            "WARNING:tensorflow:From /usr/local/lib/python3.6/dist-packages/tensorflow/contrib/learn/python/learn/datasets/mnist.py:262: extract_images (from tensorflow.contrib.learn.python.learn.datasets.mnist) is deprecated and will be removed in a future version.\n",
            "Instructions for updating:\n",
            "Please use tf.data to implement this functionality.\n",
            "Extracting ./mnist/data/train-images-idx3-ubyte.gz\n",
            "Successfully downloaded train-labels-idx1-ubyte.gz 28881 bytes.\n",
            "WARNING:tensorflow:From /usr/local/lib/python3.6/dist-packages/tensorflow/contrib/learn/python/learn/datasets/mnist.py:267: extract_labels (from tensorflow.contrib.learn.python.learn.datasets.mnist) is deprecated and will be removed in a future version.\n",
            "Instructions for updating:\n",
            "Please use tf.data to implement this functionality.\n",
            "Extracting ./mnist/data/train-labels-idx1-ubyte.gz\n",
            "WARNING:tensorflow:From /usr/local/lib/python3.6/dist-packages/tensorflow/contrib/learn/python/learn/datasets/mnist.py:110: dense_to_one_hot (from tensorflow.contrib.learn.python.learn.datasets.mnist) is deprecated and will be removed in a future version.\n",
            "Instructions for updating:\n",
            "Please use tf.one_hot on tensors.\n",
            "Successfully downloaded t10k-images-idx3-ubyte.gz 1648877 bytes.\n",
            "Extracting ./mnist/data/t10k-images-idx3-ubyte.gz\n",
            "Successfully downloaded t10k-labels-idx1-ubyte.gz 4542 bytes.\n",
            "Extracting ./mnist/data/t10k-labels-idx1-ubyte.gz\n",
            "WARNING:tensorflow:From /usr/local/lib/python3.6/dist-packages/tensorflow/contrib/learn/python/learn/datasets/mnist.py:290: DataSet.__init__ (from tensorflow.contrib.learn.python.learn.datasets.mnist) is deprecated and will be removed in a future version.\n",
            "Instructions for updating:\n",
            "Please use alternatives such as official/mnist/dataset.py from tensorflow/models.\n"
          ],
          "name": "stdout"
        }
      ]
    },
    {
      "metadata": {
        "id": "qOm9RhPq1Zby",
        "colab_type": "text"
      },
      "cell_type": "markdown",
      "source": [
        "## 신경망 모델 구성"
      ]
    },
    {
      "metadata": {
        "id": "9epD1yMX1dZv",
        "colab_type": "code",
        "colab": {}
      },
      "cell_type": "code",
      "source": [
        "# 28*28 => 784개 특징\n",
        "# Label 0~9 까지의 10개 분류\n",
        "# 입력 X, 출력 Y"
      ],
      "execution_count": 0,
      "outputs": []
    },
    {
      "metadata": {
        "id": "5-Bxc_wj2lOc",
        "colab_type": "code",
        "colab": {}
      },
      "cell_type": "code",
      "source": [
        "X = tf.placeholder(tf.float32, [None, 784])\n",
        "Y = tf.placeholder(tf.float32, [None, 10])"
      ],
      "execution_count": 0,
      "outputs": []
    },
    {
      "metadata": {
        "id": "H5dU1z1S20ct",
        "colab_type": "text"
      },
      "cell_type": "markdown",
      "source": [
        "## 구성하고자 하는 신경망\n",
        "* 784개의 특징(28*28)\n",
        "* 256개의 은닉층의 뉴런 개수\n",
        "* 256개의 은닉층의 뉴런 개수\n",
        "* 10개의 결과 뉴런"
      ]
    },
    {
      "metadata": {
        "id": "WZ5NBJ1F3RXu",
        "colab_type": "text"
      },
      "cell_type": "markdown",
      "source": [
        "## 신경망 구성시에\n",
        "*(1) 임의의 w값을 설정한다.\n",
        "*(2) 신경망의 층을 쌓는다.\n",
        "*(3) cost함수를 지정, optimizer 함수 지정\n",
        "*(4) 신경망의 모델을 학습\n",
        "*(5) 좋은 모델을 가지고 예측을 수행"
      ]
    },
    {
      "metadata": {
        "id": "VzO2Tdz63ub6",
        "colab_type": "code",
        "colab": {}
      },
      "cell_type": "code",
      "source": [
        "keep_prob = tf.placeholder(tf.float32)\n",
        "\n",
        "W1 = tf.Variable(tf.random_normal([784, 256], stddev=0.01))\n",
        "\n",
        "L1 = tf.nn.relu(tf.matmul(X, W1))\n",
        "L1 = tf.nn.dropout(L1, keep_prob)\n",
        "\n",
        "W2 = tf.Variable(tf.random_normal([256, 256], stddev=0.01))\n",
        "\n",
        "L2 = tf.nn.relu(tf.matmul(L1, W2))\n",
        "L2 = tf.nn.dropout(L2, keep_prob)\n",
        "\n",
        "W3 = tf.Variable(tf.random_normal([256, 10], stddev=0.01))\n",
        "model = tf.matmul(L2, W3)"
      ],
      "execution_count": 0,
      "outputs": []
    },
    {
      "metadata": {
        "id": "6lu4DSsp4t3O",
        "colab_type": "code",
        "colab": {}
      },
      "cell_type": "code",
      "source": [
        "### cost, optimizer\n",
        "cost = tf.reduce_mean(tf.nn.softmax_cross_entropy_with_logits_v2(logits=model, labels=Y))\n",
        "optimizer= tf.train.AdamOptimizer(0.001).minimize(cost)"
      ],
      "execution_count": 0,
      "outputs": []
    },
    {
      "metadata": {
        "id": "qitX-1Md4udA",
        "colab_type": "code",
        "colab": {}
      },
      "cell_type": "code",
      "source": [
        "###  모델 학습\n",
        "init = tf.global_variables_initializer()\n",
        "sess = tf.Session()\n",
        "sess.run(init)"
      ],
      "execution_count": 0,
      "outputs": []
    },
    {
      "metadata": {
        "id": "A0TEJvWm5LJv",
        "colab_type": "code",
        "colab": {
          "base_uri": "https://localhost:8080/",
          "height": 557
        },
        "outputId": "1bcbcb4c-079d-4728-862d-1ed915d594ab"
      },
      "cell_type": "code",
      "source": [
        "batch_size = 100\n",
        "total_batch = int(mnist.train.num_examples/batch_size) # 500\n",
        "\n",
        "for epoch in range(30):\n",
        "  total_cost= 0\n",
        "  for i in range(total_batch):\n",
        "    batch_xs, batch_ys = mnist.train.next_batch(batch_size)\n",
        "    \n",
        "    _, cost_val = sess.run([optimizer,cost], feed_dict={X:batch_xs, Y:batch_ys, keep_prob:0.8}  )\n",
        "    total_cost += cost_val\n",
        "  print('Epoch {} Avg cost = {}'.format(epoch+1, total_cost/total_batch))"
      ],
      "execution_count": 9,
      "outputs": [
        {
          "output_type": "stream",
          "text": [
            "Epoch 1 Avg cost = 0.43626364384185184\n",
            "Epoch 2 Avg cost = 0.17074935452504592\n",
            "Epoch 3 Avg cost = 0.12052317041226408\n",
            "Epoch 4 Avg cost = 0.091358583080159\n",
            "Epoch 5 Avg cost = 0.07540127973326227\n",
            "Epoch 6 Avg cost = 0.0633755436497317\n",
            "Epoch 7 Avg cost = 0.05595775944604115\n",
            "Epoch 8 Avg cost = 0.047361809719269246\n",
            "Epoch 9 Avg cost = 0.04241089500359852\n",
            "Epoch 10 Avg cost = 0.036849872038953686\n",
            "Epoch 11 Avg cost = 0.033977262305667284\n",
            "Epoch 12 Avg cost = 0.030535056938374924\n",
            "Epoch 13 Avg cost = 0.029137484784481454\n",
            "Epoch 14 Avg cost = 0.029257638077463278\n",
            "Epoch 15 Avg cost = 0.024707649559660982\n",
            "Epoch 16 Avg cost = 0.025468069037835283\n",
            "Epoch 17 Avg cost = 0.021872652621929195\n",
            "Epoch 18 Avg cost = 0.020964095022434116\n",
            "Epoch 19 Avg cost = 0.021852407798737244\n",
            "Epoch 20 Avg cost = 0.021120944529538974\n",
            "Epoch 21 Avg cost = 0.020732053905720187\n",
            "Epoch 22 Avg cost = 0.01959932182055623\n",
            "Epoch 23 Avg cost = 0.018750622215527323\n",
            "Epoch 24 Avg cost = 0.01648267768181871\n",
            "Epoch 25 Avg cost = 0.016962922042108735\n",
            "Epoch 26 Avg cost = 0.017112761914904694\n",
            "Epoch 27 Avg cost = 0.017812577066215453\n",
            "Epoch 28 Avg cost = 0.014676565235448916\n",
            "Epoch 29 Avg cost = 0.015860418877876908\n",
            "Epoch 30 Avg cost = 0.01599960425469445\n"
          ],
          "name": "stdout"
        }
      ]
    },
    {
      "metadata": {
        "id": "Nx-YilxKLCxm",
        "colab_type": "code",
        "colab": {}
      },
      "cell_type": "code",
      "source": [
        "is_correct = tf.equal(tf.argmax(model,1), tf.argmax(Y,1))  # 예측값, 실제값\n",
        "accuracy = tf.reduce_mean(tf.cast(is_correct, tf.float32))\n",
        "accuracy"
      ],
      "execution_count": 0,
      "outputs": []
    },
    {
      "metadata": {
        "id": "japQl26VLEal",
        "colab_type": "code",
        "colab": {}
      },
      "cell_type": "code",
      "source": [
        "print('정확도', sess.run(accuracy, feed_dict={X:mnist.test.images,\n",
        "                 Y:mnist.test.labels,\n",
        "                 keep_prob:1}))"
      ],
      "execution_count": 0,
      "outputs": []
    },
    {
      "metadata": {
        "id": "y2I9c1pF6cZF",
        "colab_type": "text"
      },
      "cell_type": "markdown",
      "source": [
        "## 실습"
      ]
    },
    {
      "metadata": {
        "id": "fTvgOqWYJy5i",
        "colab_type": "code",
        "colab": {}
      },
      "cell_type": "code",
      "source": [
        "keep_prob = tf.placeholder(tf.float32)\n",
        "\n",
        "W1 = tf.Variable(tf.random_normal([784, 128], stddev=0.01))\n",
        "\n",
        "L1 = tf.nn.relu(tf.matmul(X, W1))\n",
        "L1 = tf.nn.dropout(L1, keep_prob)\n",
        "\n",
        "W2 = tf.Variable(tf.random_normal([128, 128], stddev=0.01))\n",
        "\n",
        "L2 = tf.nn.relu(tf.matmul(L1, W2))\n",
        "L2 = tf.nn.dropout(L2, keep_prob)\n",
        "\n",
        "W3 = tf.Variable(tf.random_normal([128, 10], stddev=0.01))\n",
        "model = tf.matmul(L2, W3)"
      ],
      "execution_count": 0,
      "outputs": []
    },
    {
      "metadata": {
        "id": "PXtEIQ5wJzb4",
        "colab_type": "code",
        "colab": {}
      },
      "cell_type": "code",
      "source": [
        "### cost, optimizer\n",
        "cost = tf.reduce_mean(tf.nn.softmax_cross_entropy_with_logits_v2(logits=model, labels=Y))\n",
        "optimizer= tf.train.AdamOptimizer(0.001).minimize(cost)"
      ],
      "execution_count": 0,
      "outputs": []
    },
    {
      "metadata": {
        "id": "O2gAFVHGKhgH",
        "colab_type": "code",
        "colab": {}
      },
      "cell_type": "code",
      "source": [
        "###  모델 학습\n",
        "init = tf.global_variables_initializer()\n",
        "sess = tf.Session()\n",
        "sess.run(init)"
      ],
      "execution_count": 0,
      "outputs": []
    },
    {
      "metadata": {
        "id": "W_1ov6sUOgfO",
        "colab_type": "code",
        "colab": {}
      },
      "cell_type": "code",
      "source": [
        "import time\n",
        "start_time = time.time() "
      ],
      "execution_count": 0,
      "outputs": []
    },
    {
      "metadata": {
        "id": "PTteFNapOtVf",
        "colab_type": "code",
        "colab": {}
      },
      "cell_type": "code",
      "source": [
        ""
      ],
      "execution_count": 0,
      "outputs": []
    },
    {
      "metadata": {
        "id": "_b-p3sj3Kj4H",
        "colab_type": "code",
        "colab": {
          "base_uri": "https://localhost:8080/",
          "height": 575
        },
        "outputId": "e82768a8-c423-4bdb-9897-f5ea3ffe0666"
      },
      "cell_type": "code",
      "source": [
        "batch_size = 100\n",
        "total_batch = int(mnist.train.num_examples/batch_size) # 500\n",
        "\n",
        "for epoch in range(30):\n",
        "  total_cost= 0\n",
        "  for i in range(total_batch):\n",
        "    batch_xs, batch_ys = mnist.train.next_batch(batch_size)\n",
        "    \n",
        "    _, cost_val = sess.run([optimizer,cost], feed_dict={X:batch_xs, Y:batch_ys, keep_prob:0.5}  )\n",
        "    total_cost += cost_val\n",
        "  print('Epoch {} Avg cost = {}'.format(epoch+1, total_cost/total_batch))\n",
        "  \n",
        "print(\"--- %s seconds ---\" %(time.time() - start_time))"
      ],
      "execution_count": 21,
      "outputs": [
        {
          "output_type": "stream",
          "text": [
            "Epoch 1 Avg cost = 0.0996976806782186\n",
            "Epoch 2 Avg cost = 0.10142958217893135\n",
            "Epoch 3 Avg cost = 0.09505524232814258\n",
            "Epoch 4 Avg cost = 0.09575271808288315\n",
            "Epoch 5 Avg cost = 0.09913058783520352\n",
            "Epoch 6 Avg cost = 0.0969959321855144\n",
            "Epoch 7 Avg cost = 0.09555252746594223\n",
            "Epoch 8 Avg cost = 0.09655674956230954\n",
            "Epoch 9 Avg cost = 0.09170704905113036\n",
            "Epoch 10 Avg cost = 0.09178491995077241\n",
            "Epoch 11 Avg cost = 0.08992576119405302\n",
            "Epoch 12 Avg cost = 0.092323302724822\n",
            "Epoch 13 Avg cost = 0.09415438020855865\n",
            "Epoch 14 Avg cost = 0.09003565661228177\n",
            "Epoch 15 Avg cost = 0.09104423665187576\n",
            "Epoch 16 Avg cost = 0.0905337751690637\n",
            "Epoch 17 Avg cost = 0.08817586435682394\n",
            "Epoch 18 Avg cost = 0.0909097780185667\n",
            "Epoch 19 Avg cost = 0.09062476671893488\n",
            "Epoch 20 Avg cost = 0.08994845089587299\n",
            "Epoch 21 Avg cost = 0.08614963803609664\n",
            "Epoch 22 Avg cost = 0.08757615997710011\n",
            "Epoch 23 Avg cost = 0.08790652465329252\n",
            "Epoch 24 Avg cost = 0.08684979717839848\n",
            "Epoch 25 Avg cost = 0.0840648727000437\n",
            "Epoch 26 Avg cost = 0.08783186367543584\n",
            "Epoch 27 Avg cost = 0.08456231997433034\n",
            "Epoch 28 Avg cost = 0.08580745388161053\n",
            "Epoch 29 Avg cost = 0.08546431278111413\n",
            "Epoch 30 Avg cost = 0.0875248829444701\n",
            "--- 133.38015937805176 seconds ---\n"
          ],
          "name": "stdout"
        }
      ]
    },
    {
      "metadata": {
        "id": "V-QFnwRJKl4J",
        "colab_type": "code",
        "colab": {
          "base_uri": "https://localhost:8080/",
          "height": 35
        },
        "outputId": "b4a78f00-0313-4f20-a923-64c1b4eced67"
      },
      "cell_type": "code",
      "source": [
        "is_correct = tf.equal(tf.argmax(model,1), tf.argmax(Y,1))  # 예측값, 실제값\n",
        "accuracy = tf.reduce_mean(tf.cast(is_correct, tf.float32))\n",
        "accuracy"
      ],
      "execution_count": 22,
      "outputs": [
        {
          "output_type": "execute_result",
          "data": {
            "text/plain": [
              "<tf.Tensor 'Mean_4:0' shape=() dtype=float32>"
            ]
          },
          "metadata": {
            "tags": []
          },
          "execution_count": 22
        }
      ]
    },
    {
      "metadata": {
        "id": "ysgxg98ELG-y",
        "colab_type": "code",
        "colab": {
          "base_uri": "https://localhost:8080/",
          "height": 35
        },
        "outputId": "e5097a2a-279a-4da3-8fe5-699e86502850"
      },
      "cell_type": "code",
      "source": [
        "print('정확도', sess.run(accuracy, feed_dict={X:mnist.test.images,\n",
        "                 Y:mnist.test.labels,\n",
        "                 keep_prob:1}))"
      ],
      "execution_count": 23,
      "outputs": [
        {
          "output_type": "stream",
          "text": [
            "정확도 0.9773\n"
          ],
          "name": "stdout"
        }
      ]
    },
    {
      "metadata": {
        "id": "xciEeOZWLJCR",
        "colab_type": "code",
        "colab": {}
      },
      "cell_type": "code",
      "source": [
        "# 2, 128, 0.8 = 정확도 0.9811\n",
        "# 2, 512, 0.7 = 정확도 0.9834\n",
        "# 2, 128, 0.5 = 정확도 0.9791, 0.9773, t=133\n",
        "# 2, 128, 0. = 정확도 "
      ],
      "execution_count": 0,
      "outputs": []
    }
  ]
}