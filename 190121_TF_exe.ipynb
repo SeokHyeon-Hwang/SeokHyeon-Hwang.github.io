{
  "nbformat": 4,
  "nbformat_minor": 0,
  "metadata": {
    "colab": {
      "name": "190121_TF.ipynb",
      "version": "0.3.2",
      "provenance": [],
      "collapsed_sections": []
    },
    "kernelspec": {
      "name": "python3",
      "display_name": "Python 3"
    }
  },
  "cells": [
    {
      "metadata": {
        "id": "8jrfs55a2aXk",
        "colab_type": "code",
        "colab": {}
      },
      "cell_type": "code",
      "source": [
        "import tensorflow as tf"
      ],
      "execution_count": 0,
      "outputs": []
    },
    {
      "metadata": {
        "id": "a725VetA2hty",
        "colab_type": "code",
        "colab": {}
      },
      "cell_type": "code",
      "source": [
        "# 값을 저장\n",
        "# tensor 라는 자료형\n",
        "# shape() 자료의 행, 열\n",
        "# dtype(자료형) 문자열"
      ],
      "execution_count": 0,
      "outputs": []
    },
    {
      "metadata": {
        "id": "JKI7OoR82sQI",
        "colab_type": "code",
        "colab": {
          "base_uri": "https://localhost:8080/",
          "height": 35
        },
        "outputId": "2d6831c3-8b2c-4f05-a2d5-24bedb9b162a"
      },
      "cell_type": "code",
      "source": [
        "hello = tf.constant('hello world')\n",
        "print(hello)"
      ],
      "execution_count": 3,
      "outputs": [
        {
          "output_type": "stream",
          "text": [
            "Tensor(\"Const:0\", shape=(), dtype=string)\n"
          ],
          "name": "stdout"
        }
      ]
    },
    {
      "metadata": {
        "id": "QmvFG4JF2wVv",
        "colab_type": "code",
        "colab": {}
      },
      "cell_type": "code",
      "source": [
        "# 텐서플로우 생성\n",
        "# 그래프 생성과 그래프의 실행\n",
        "# 그래프의 생성, 간단히 텐서와 텐서들의 연산 모음"
      ],
      "execution_count": 0,
      "outputs": []
    },
    {
      "metadata": {
        "id": "Bp86ZE9G24c9",
        "colab_type": "code",
        "colab": {
          "base_uri": "https://localhost:8080/",
          "height": 53
        },
        "outputId": "eebc90e1-2828-4b1b-9946-35bf4b3ff7df"
      },
      "cell_type": "code",
      "source": [
        "a = tf.constant(10)\n",
        "b = tf.constant(25)\n",
        "c = tf.add(a, b)\n",
        "print(c)\n",
        "print(type(c))"
      ],
      "execution_count": 5,
      "outputs": [
        {
          "output_type": "stream",
          "text": [
            "Tensor(\"Add:0\", shape=(), dtype=int32)\n",
            "<class 'tensorflow.python.framework.ops.Tensor'>\n"
          ],
          "name": "stdout"
        }
      ]
    },
    {
      "metadata": {
        "id": "Ayb2c7os3BRH",
        "colab_type": "code",
        "colab": {
          "base_uri": "https://localhost:8080/",
          "height": 53
        },
        "outputId": "6c984cca-3505-4e8f-9113-d48b4c3bc6da"
      },
      "cell_type": "code",
      "source": [
        "# 그래프의 실행\n",
        "sess = tf.Session()\n",
        "print(sess.run(hello))\n",
        "print(sess.run([a,b,c]))"
      ],
      "execution_count": 6,
      "outputs": [
        {
          "output_type": "stream",
          "text": [
            "b'hello world'\n",
            "[10, 25, 35]\n"
          ],
          "name": "stdout"
        }
      ]
    },
    {
      "metadata": {
        "id": "tFr0fyjR3Jz9",
        "colab_type": "code",
        "colab": {}
      },
      "cell_type": "code",
      "source": [
        "# 플레이스 홀더 : 나중에 값을 입력받기 위한 매개변수\n",
        "# shape(?, 3)은 두 번째 차원요소가 3임을 의미"
      ],
      "execution_count": 0,
      "outputs": []
    },
    {
      "metadata": {
        "id": "4Tg4DD1K3Uv5",
        "colab_type": "code",
        "colab": {
          "base_uri": "https://localhost:8080/",
          "height": 35
        },
        "outputId": "a8bd8012-4eda-45ee-d763-e658677c8240"
      },
      "cell_type": "code",
      "source": [
        "# None은 아직 정해지지 않았다는 뜻\n",
        "X=tf.placeholder(tf.float32, [None, 3])\n",
        "x_data = [[1,2,3], [4,5,6]]\n",
        "#print(X)\n",
        "\n",
        "W = tf.Variable(tf.random_normal([3,2]))\n",
        "b = tf.Variable(tf.random_normal([2,1]))\n",
        "\n",
        "expr = tf.matmul(X, W)+b\n",
        "expr"
      ],
      "execution_count": 9,
      "outputs": [
        {
          "output_type": "execute_result",
          "data": {
            "text/plain": [
              "<tf.Tensor 'add_1:0' shape=(2, 2) dtype=float32>"
            ]
          },
          "metadata": {
            "tags": []
          },
          "execution_count": 9
        }
      ]
    },
    {
      "metadata": {
        "id": "M77EfL4v3fgj",
        "colab_type": "code",
        "colab": {
          "base_uri": "https://localhost:8080/",
          "height": 35
        },
        "outputId": "feafc9dc-52bf-46fd-f803-7b3b776df5be"
      },
      "cell_type": "code",
      "source": [
        "# 값을 저장\n",
        "hello = tf.constant('hello world')\n",
        "print(hello)"
      ],
      "execution_count": 10,
      "outputs": [
        {
          "output_type": "stream",
          "text": [
            "Tensor(\"Const_3:0\", shape=(), dtype=string)\n"
          ],
          "name": "stdout"
        }
      ]
    },
    {
      "metadata": {
        "id": "dTlaeYtp4Gwx",
        "colab_type": "code",
        "colab": {
          "base_uri": "https://localhost:8080/",
          "height": 53
        },
        "outputId": "4bcab651-99a6-4706-9a2b-a1138cd20e0d"
      },
      "cell_type": "code",
      "source": [
        "# 텐서플로우 생성\n",
        "a=tf.constant(10)\n",
        "b=tf.constant(25)\n",
        "c=tf.add(a,b)\n",
        "print(c)\n",
        "print(type(c))"
      ],
      "execution_count": 11,
      "outputs": [
        {
          "output_type": "stream",
          "text": [
            "Tensor(\"Add_2:0\", shape=(), dtype=int32)\n",
            "<class 'tensorflow.python.framework.ops.Tensor'>\n"
          ],
          "name": "stdout"
        }
      ]
    },
    {
      "metadata": {
        "id": "2N6xUmvo4WNq",
        "colab_type": "code",
        "colab": {
          "base_uri": "https://localhost:8080/",
          "height": 53
        },
        "outputId": "501f2153-0ce5-4759-cecd-fe6533bea8c8"
      },
      "cell_type": "code",
      "source": [
        "# 그래프의 실행\n",
        "sess = tf.Session()\n",
        "print(sess.run(hello))\n",
        "print(sess.run([a,b,c]))"
      ],
      "execution_count": 12,
      "outputs": [
        {
          "output_type": "stream",
          "text": [
            "b'hello world'\n",
            "[10, 25, 35]\n"
          ],
          "name": "stdout"
        }
      ]
    },
    {
      "metadata": {
        "id": "4rEFXXevBBCE",
        "colab_type": "code",
        "colab": {}
      },
      "cell_type": "code",
      "source": [
        "# 플레이스 홀더 : 나중에 값을 입력받기 위한 매개변수\n",
        "# shape(?, 3) 은 두 번째 차원 요소가 3임을 의미"
      ],
      "execution_count": 0,
      "outputs": []
    },
    {
      "metadata": {
        "id": "pydrwSZcCkV0",
        "colab_type": "code",
        "colab": {
          "base_uri": "https://localhost:8080/",
          "height": 35
        },
        "outputId": "c3544b97-477e-4da6-ef61-60c9052d0064"
      },
      "cell_type": "code",
      "source": [
        "# None은 아직 정해지지 않았다는 뜻\n",
        "X = tf.placeholder(tf.float32, [None,3])\n",
        "x_data = [[1,2,3],[4,5,6]]\n",
        "# print(X)\n",
        "\n",
        "W = tf.Variable(tf.random_normal([3,2]))\n",
        "b = tf.Variable(tf.random_normal([2,1]))\n",
        "\n",
        "expr = tf.matmul(X, W) + b\n",
        "expr"
      ],
      "execution_count": 14,
      "outputs": [
        {
          "output_type": "execute_result",
          "data": {
            "text/plain": [
              "<tf.Tensor 'add_3:0' shape=(2, 2) dtype=float32>"
            ]
          },
          "metadata": {
            "tags": []
          },
          "execution_count": 14
        }
      ]
    },
    {
      "metadata": {
        "id": "WnKE-VOLDCPv",
        "colab_type": "code",
        "colab": {}
      },
      "cell_type": "code",
      "source": [
        "sess = tf.Session()\n",
        "sess. run(tf.global_variables_initializer())\n",
        "\n",
        "print('=== x_data ===')\n",
        "print(x_data)"
      ],
      "execution_count": 0,
      "outputs": []
    }
  ]
}