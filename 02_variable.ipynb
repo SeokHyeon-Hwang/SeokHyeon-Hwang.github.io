{
 "cells": [
  {
   "cell_type": "markdown",
   "metadata": {},
   "source": [
    "# 변수 사용하기"
   ]
  },
  {
   "cell_type": "markdown",
   "metadata": {},
   "source": [
    "프로그래밍 언어에서 변수란 다음에 사용하기 쉽도록 이름을 붙여두는 것."
   ]
  },
  {
   "cell_type": "code",
   "execution_count": 4,
   "metadata": {},
   "outputs": [
    {
     "name": "stdout",
     "output_type": "stream",
     "text": [
      "안녕! 나는 황석현 이야. 나는 다리가 2 개 있어.\n"
     ]
    }
   ],
   "source": [
    "print('안녕! 나는 황석현 이야. 나는 다리가 2 개 있어.')"
   ]
  },
  {
   "cell_type": "code",
   "execution_count": 2,
   "metadata": {},
   "outputs": [
    {
     "name": "stdout",
     "output_type": "stream",
     "text": [
      "안녕! 나는 황석현 이야. 나는 다리가 2 개 있어.\n"
     ]
    }
   ],
   "source": [
    "print('안녕! 나는','황석현','이야. 나는 다리가',2, '개 있어.')"
   ]
  },
  {
   "cell_type": "markdown",
   "metadata": {},
   "source": [
    "숫자 4에는 따옴표가 들어가지 않아도 된다. 사람과 컴퓨터가 모두 이해 가능하기 때문이다."
   ]
  },
  {
   "cell_type": "code",
   "execution_count": 5,
   "metadata": {},
   "outputs": [
    {
     "name": "stdout",
     "output_type": "stream",
     "text": [
      "안녕! 나는 황석현 이야. 나는 다리가 2 개 있어.\n"
     ]
    }
   ],
   "source": [
    "identity='황석현'\n",
    "number_of_legs=2\n",
    "print('안녕! 나는', identity, '이야. 나는 다리가', number_of_legs, '개 있어.')"
   ]
  },
  {
   "cell_type": "markdown",
   "metadata": {},
   "source": [
    "변수이름 = 변수에 넣을 내용\n",
    "\n",
    "앞으로 코드에서 변수이름을 쓸 때마다 그 내용을 넣는 것과 같은 효과를 가져온다."
   ]
  },
  {
   "cell_type": "markdown",
   "metadata": {},
   "source": [
    "# 주석"
   ]
  },
  {
   "cell_type": "markdown",
   "metadata": {},
   "source": [
    "코드는 대부분 컴퓨터를 위한 말이다.\n",
    "\n",
    "#과 '''으로 주석을 만들 수 있다."
   ]
  },
  {
   "cell_type": "markdown",
   "metadata": {},
   "source": [
    "# 숫자와 문자"
   ]
  },
  {
   "cell_type": "markdown",
   "metadata": {},
   "source": [
    "문자는 사람이 이해하기 위한 것. 항상 따옴표를 붙여서 표시한다.\n",
    "\n",
    "문자열 : 사람을 위한 텍스트를 부르는 방법.\n",
    "\n",
    "숫자는 수학 연산이 가능."
   ]
  },
  {
   "cell_type": "code",
   "execution_count": 6,
   "metadata": {},
   "outputs": [
    {
     "name": "stdout",
     "output_type": "stream",
     "text": [
      "hwang 은 이제 25 살\n"
     ]
    }
   ],
   "source": [
    "my_name = 'hwang'\n",
    "my_age = 25\n",
    "\n",
    "print(my_name, '은 이제', my_age, '살')"
   ]
  },
  {
   "cell_type": "code",
   "execution_count": 7,
   "metadata": {},
   "outputs": [
    {
     "name": "stdout",
     "output_type": "stream",
     "text": [
      "내년에는 26 살\n"
     ]
    }
   ],
   "source": [
    "#my_next_age=26\n",
    "#print('내년에는', my_next_age, '살')"
   ]
  },
  {
   "cell_type": "code",
   "execution_count": 8,
   "metadata": {},
   "outputs": [
    {
     "name": "stdout",
     "output_type": "stream",
     "text": [
      "내년에는 26 살\n"
     ]
    }
   ],
   "source": [
    "my_next_age=my_age +1\n",
    "print('내년에는',my_next_age, '살')"
   ]
  },
  {
   "cell_type": "markdown",
   "metadata": {},
   "source": [
    "### 수학 연산자\n",
    "\n",
    "multiply = 9 * 9    = 81\n",
    "\n",
    "divide = 30 / 5    = 6\n",
    "\n",
    "power = 2 ** 10     = 1024\n",
    "\n",
    "reminder = 15 % 4     = 3"
   ]
  },
  {
   "cell_type": "code",
   "execution_count": 9,
   "metadata": {},
   "outputs": [
    {
     "name": "stdout",
     "output_type": "stream",
     "text": [
      "81 6.0 1024 3\n"
     ]
    }
   ],
   "source": [
    "multiply = 9*9\n",
    "divide =30/5\n",
    "power =2**10\n",
    "reminder=15%4\n",
    "\n",
    "print(multiply, divide, power, reminder)"
   ]
  },
  {
   "cell_type": "markdown",
   "metadata": {},
   "source": [
    "### 텍스트를 다룰때도 수학연산자를 쓸 수 있다.\n",
    "\n",
    "문자열 2개를 이어붙여서 새문자를 만들 수 있다.\n",
    "\n",
    "나누거나 빼는 것은 올바른 기능이 아니다."
   ]
  },
  {
   "cell_type": "code",
   "execution_count": 10,
   "metadata": {},
   "outputs": [
    {
     "name": "stdout",
     "output_type": "stream",
     "text": [
      "20151991\n",
      "4006\n"
     ]
    }
   ],
   "source": [
    "text = '2015' + '1991'\n",
    "number = 2015 + 1991\n",
    "\n",
    "print(text)\n",
    "print(number)"
   ]
  },
  {
   "cell_type": "code",
   "execution_count": 13,
   "metadata": {},
   "outputs": [
    {
     "name": "stdout",
     "output_type": "stream",
     "text": [
      "20202020\n",
      "<class 'str'>\n"
     ]
    }
   ],
   "source": [
    "te='20'*4\n",
    "print(te)\n",
    "print(type(te))"
   ]
  },
  {
   "cell_type": "code",
   "execution_count": 15,
   "metadata": {},
   "outputs": [
    {
     "ename": "TypeError",
     "evalue": "unsupported operand type(s) for /: 'str' and 'int'",
     "output_type": "error",
     "traceback": [
      "\u001b[1;31m---------------------------------------------------------------------------\u001b[0m",
      "\u001b[1;31mTypeError\u001b[0m                                 Traceback (most recent call last)",
      "\u001b[1;32m<ipython-input-15-569424dfd5d6>\u001b[0m in \u001b[0;36m<module>\u001b[1;34m()\u001b[0m\n\u001b[1;32m----> 1\u001b[1;33m \u001b[0mtx\u001b[0m\u001b[1;33m=\u001b[0m\u001b[0mte\u001b[0m\u001b[1;33m/\u001b[0m\u001b[1;36m4\u001b[0m\u001b[1;33m\u001b[0m\u001b[0m\n\u001b[0m\u001b[0;32m      2\u001b[0m \u001b[0mprint\u001b[0m\u001b[1;33m(\u001b[0m\u001b[0mtx\u001b[0m\u001b[1;33m)\u001b[0m\u001b[1;33m\u001b[0m\u001b[0m\n",
      "\u001b[1;31mTypeError\u001b[0m: unsupported operand type(s) for /: 'str' and 'int'"
     ]
    }
   ],
   "source": [
    "tx=te/4\n",
    "print(tx)"
   ]
  },
  {
   "cell_type": "markdown",
   "metadata": {},
   "source": [
    "# REPL(Read-Eval-Print-Loop)"
   ]
  },
  {
   "cell_type": "markdown",
   "metadata": {},
   "source": [
    "powershell에서 파이썬 파일을 실행하려면 \n",
    "\n",
    "python file.py\n",
    "\n",
    "의 형식으로 했다. 그러면 file.py의 실행결과를 볼 수 있다.\n",
    "\n",
    "powershell 내에서\n",
    "\n",
    "python\n",
    "\n",
    "을 입력하면 입력창이 나타난다. 한 줄 씩 입력해 볼 수 있다.\n",
    "\n",
    "REPL에서 빠져나오려면\n",
    "\n",
    "exit()를 하면 된다."
   ]
  },
  {
   "cell_type": "markdown",
   "metadata": {},
   "source": [
    "# Shell 사용법"
   ]
  },
  {
   "cell_type": "markdown",
   "metadata": {},
   "source": [
    "shell 이란 운영체제가 사용자와 소통하는 방법.\n",
    "\n",
    "그래픽shell과 명령줄shell이 있다.\n",
    "\n",
    "pwd : Print Working Directory, 현재 작업 중인 디렉터리를 출력하라.\n",
    "\n",
    "ls : List Segments, 현재 폴더 내용물 출력\n",
    "\n",
    "cd .\\폴더명: Change Directory, 다른 폴더로 이동\n",
    "\n",
    "cd .. : 상위 폴더로 이동\n",
    "\n",
    "cp .\\test.py .\\test2.py : cp 원본파일 복사할파일\n",
    "\n",
    "rm : rm 삭제할파일이름 : rm .\\test.py\n",
    "\n",
    "파일이름 쉽게 띄우기 : 첫 두세 글자 입력 후 tab"
   ]
  },
  {
   "cell_type": "markdown",
   "metadata": {},
   "source": []
  }
 ],
 "metadata": {
  "kernelspec": {
   "display_name": "Python 3",
   "language": "python",
   "name": "python3"
  },
  "language_info": {
   "codemirror_mode": {
    "name": "ipython",
    "version": 3
   },
   "file_extension": ".py",
   "mimetype": "text/x-python",
   "name": "python",
   "nbconvert_exporter": "python",
   "pygments_lexer": "ipython3",
   "version": "3.6.5"
  }
 },
 "nbformat": 4,
 "nbformat_minor": 2
}
