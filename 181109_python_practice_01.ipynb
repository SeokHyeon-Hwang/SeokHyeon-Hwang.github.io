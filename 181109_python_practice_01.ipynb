{
 "cells": [
  {
   "cell_type": "markdown",
   "metadata": {},
   "source": [
    "## 문자열의 인덱싱과 슬라이싱\n",
    "* 인덱싱 : 번호를 붙여서 접근할 수 있게 하는 것\n",
    "* 슬라이싱 : 어떤 위치를 지정해서 일부 영역을 가져올 수 있게 한다."
   ]
  },
  {
   "cell_type": "code",
   "execution_count": 2,
   "metadata": {},
   "outputs": [
    {
     "data": {
      "text/plain": [
       "'good.'"
      ]
     },
     "execution_count": 2,
     "metadata": {},
     "output_type": "execute_result"
    }
   ],
   "source": [
    "a='today is good.'\n",
    "a[-5:]"
   ]
  },
  {
   "cell_type": "markdown",
   "metadata": {},
   "source": [
    "### 리스트 자료형\n",
    "* 인덱싱 : \n",
    "* 리스트 시작값 0, 끝값 -1,\n",
    "* 리스트 a라는 요소를 추가할 때, l.append(a)\n",
    "* 리스트 안에 a라는 요소를 삭제할 때, l.remove(a)\n",
    "* 리스트에 포함된 요소를 셀때 l.count(a)\n",
    "* 리스트에 3번째 값을 변경하려 할 때, l[2]=5\n",
    "* 리스트의 몇번째 값을 삭제하겠다.del l[2]\n",
    "* l.replace('', '') : ''을 ''으로 변경하겠다.\n",
    "\n",
    "### 튜플과 리스트의 차이는?\n",
    "* 튜플 : ()\n",
    "* 딕셔너리 : { K1:V1, ..}\n",
    "* 리스트 : []\n",
    "* 변경이 가능하면 리스트, 불가하면 튜플\n",
    "\n",
    "### 딕셔너리\n",
    "* {키1:값1, 키2:값2,...} "
   ]
  },
  {
   "cell_type": "code",
   "execution_count": 4,
   "metadata": {},
   "outputs": [
    {
     "data": {
      "text/plain": [
       "[1, 2, 3, 4, 5, 6, 8, 9]"
      ]
     },
     "execution_count": 4,
     "metadata": {},
     "output_type": "execute_result"
    }
   ],
   "source": [
    "a=[1,2,3,4,5,6,7,8,9]\n",
    "a.remove(7)\n",
    "a"
   ]
  },
  {
   "cell_type": "code",
   "execution_count": 5,
   "metadata": {},
   "outputs": [
    {
     "data": {
      "text/plain": [
       "3"
      ]
     },
     "execution_count": 5,
     "metadata": {},
     "output_type": "execute_result"
    }
   ],
   "source": [
    "a=[1,2,3,1,2,1,2,3,]\n",
    "a.count(1)"
   ]
  },
  {
   "cell_type": "code",
   "execution_count": 6,
   "metadata": {},
   "outputs": [],
   "source": [
    "a={'a':12, 'col2':[1,2,3], 'col3':(1,2,3), 'col4':{1:'val1', 2:'val2'}}"
   ]
  },
  {
   "cell_type": "code",
   "execution_count": 9,
   "metadata": {},
   "outputs": [
    {
     "data": {
      "text/plain": [
       "(1, 2, 3)"
      ]
     },
     "execution_count": 9,
     "metadata": {},
     "output_type": "execute_result"
    }
   ],
   "source": [
    "a['col3']"
   ]
  },
  {
   "cell_type": "code",
   "execution_count": 11,
   "metadata": {},
   "outputs": [
    {
     "data": {
      "text/plain": [
       "{1: 'val1', 2: 'val2'}"
      ]
     },
     "execution_count": 11,
     "metadata": {},
     "output_type": "execute_result"
    }
   ],
   "source": [
    "a['col4']"
   ]
  },
  {
   "cell_type": "code",
   "execution_count": 12,
   "metadata": {},
   "outputs": [
    {
     "data": {
      "text/plain": [
       "'val1'"
      ]
     },
     "execution_count": 12,
     "metadata": {},
     "output_type": "execute_result"
    }
   ],
   "source": [
    "a['col4'][1]"
   ]
  },
  {
   "cell_type": "code",
   "execution_count": 13,
   "metadata": {},
   "outputs": [
    {
     "data": {
      "text/plain": [
       "dict_items([(1, 'val1'), (2, 'val2')])"
      ]
     },
     "execution_count": 13,
     "metadata": {},
     "output_type": "execute_result"
    }
   ],
   "source": [
    "a['col4'].items()"
   ]
  },
  {
   "cell_type": "code",
   "execution_count": 14,
   "metadata": {},
   "outputs": [
    {
     "data": {
      "text/plain": [
       "dict_keys([1, 2])"
      ]
     },
     "execution_count": 14,
     "metadata": {},
     "output_type": "execute_result"
    }
   ],
   "source": [
    "a['col4'].keys()"
   ]
  },
  {
   "cell_type": "code",
   "execution_count": 15,
   "metadata": {},
   "outputs": [
    {
     "data": {
      "text/plain": [
       "dict_values(['val1', 'val2'])"
      ]
     },
     "execution_count": 15,
     "metadata": {},
     "output_type": "execute_result"
    }
   ],
   "source": [
    "a['col4'].values()"
   ]
  },
  {
   "cell_type": "code",
   "execution_count": 16,
   "metadata": {},
   "outputs": [
    {
     "name": "stdout",
     "output_type": "stream",
     "text": [
      "조건문이 참일 때\n"
     ]
    }
   ],
   "source": [
    "if True:\n",
    "    print('조건문이 참일 때')\n",
    "else:\n",
    "    print('조건문이 거짓일 때')"
   ]
  },
  {
   "cell_type": "code",
   "execution_count": 17,
   "metadata": {},
   "outputs": [
    {
     "name": "stdout",
     "output_type": "stream",
     "text": [
      "조건문이 거짓일 때\n"
     ]
    }
   ],
   "source": [
    "if False:\n",
    "    print('무조건 참일 때')\n",
    "else:\n",
    "    print('조건문이 거짓일 때')"
   ]
  },
  {
   "cell_type": "code",
   "execution_count": 21,
   "metadata": {},
   "outputs": [
    {
     "name": "stdout",
     "output_type": "stream",
     "text": [
      "숫자를 넣으세요3\n",
      "힝\n"
     ]
    }
   ],
   "source": [
    "a=int(input('숫자를 넣으세요'))\n",
    "if a==0:\n",
    "    print('a는 0이다.')\n",
    "elif a==1:\n",
    "    print('a는 1이다.')\n",
    "else:\n",
    "    print('힝')"
   ]
  },
  {
   "cell_type": "markdown",
   "metadata": {},
   "source": []
  }
 ],
 "metadata": {
  "kernelspec": {
   "display_name": "Python 3",
   "language": "python",
   "name": "python3"
  },
  "language_info": {
   "codemirror_mode": {
    "name": "ipython",
    "version": 3
   },
   "file_extension": ".py",
   "mimetype": "text/x-python",
   "name": "python",
   "nbconvert_exporter": "python",
   "pygments_lexer": "ipython3",
   "version": "3.6.5"
  }
 },
 "nbformat": 4,
 "nbformat_minor": 2
}
