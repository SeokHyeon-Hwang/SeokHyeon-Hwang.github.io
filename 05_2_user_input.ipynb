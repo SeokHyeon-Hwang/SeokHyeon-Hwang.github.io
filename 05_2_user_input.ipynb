{
 "cells": [
  {
   "cell_type": "markdown",
   "metadata": {},
   "source": [
    "# 사용자 입력 받기\n",
    "\n",
    "변수 = input() : 인풋 함수 실행\n",
    "\n",
    "input() 함수는 입력과 엔터를 기다리는 함수이다."
   ]
  },
  {
   "cell_type": "code",
   "execution_count": 1,
   "metadata": {},
   "outputs": [
    {
     "name": "stdout",
     "output_type": "stream",
     "text": [
      "mine: 가위\n"
     ]
    }
   ],
   "source": [
    "mine = '가위'\n",
    "print('mine:', mine)"
   ]
  },
  {
   "cell_type": "code",
   "execution_count": 2,
   "metadata": {},
   "outputs": [
    {
     "name": "stdout",
     "output_type": "stream",
     "text": [
      "바위\n",
      "yours: 바위\n"
     ]
    }
   ],
   "source": [
    "yours = input()\n",
    "print('yours:', yours)"
   ]
  },
  {
   "cell_type": "markdown",
   "metadata": {},
   "source": [
    "이 때 처음보는 바위는 내가 입력한 값이다.\n",
    "\n",
    "두 번째 바위는 print()함수가 출력한 값이다."
   ]
  },
  {
   "cell_type": "code",
   "execution_count": 3,
   "metadata": {},
   "outputs": [
    {
     "name": "stdout",
     "output_type": "stream",
     "text": [
      "가위, 바위, 보 중 하나를 입력하세요.>\n",
      "보\n",
      "yours: 보\n"
     ]
    }
   ],
   "source": [
    "print('가위, 바위, 보 중 하나를 입력하세요.>')\n",
    "yours = input()\n",
    "print('yours:', yours)"
   ]
  },
  {
   "cell_type": "code",
   "execution_count": 4,
   "metadata": {},
   "outputs": [
    {
     "name": "stdout",
     "output_type": "stream",
     "text": [
      "가위, 바위, 보 중 하나를 입력하세요.> 바위\n",
      "yours: 바위\n"
     ]
    }
   ],
   "source": [
    "print('가위, 바위, 보 중 하나를 입력하세요.>', end=' ')\n",
    "yours = input()\n",
    "print('yours:', yours)"
   ]
  },
  {
   "cell_type": "code",
   "execution_count": 5,
   "metadata": {},
   "outputs": [
    {
     "name": "stdout",
     "output_type": "stream",
     "text": [
      "가위, 바위, 보 중 하나를 입력하세요.>보\n",
      "mine: 보\n"
     ]
    }
   ],
   "source": [
    "mine = input('가위, 바위, 보 중 하나를 입력하세요.>')\n",
    "print('mine:', mine)"
   ]
  },
  {
   "cell_type": "markdown",
   "metadata": {},
   "source": [
    "input()은 간단한 print 기능을 내장한 함수이다.\n",
    "\n",
    "input()은 입력을 받을 때 까지 프로그램 실행을 중지시킨다.\n",
    "\n",
    "cmd, powershell 에서 프로그램을 즉시 종료하고자 할 때에는\n",
    "\n",
    "ctrl + c"
   ]
  }
 ],
 "metadata": {
  "kernelspec": {
   "display_name": "Python 3",
   "language": "python",
   "name": "python3"
  },
  "language_info": {
   "codemirror_mode": {
    "name": "ipython",
    "version": 3
   },
   "file_extension": ".py",
   "mimetype": "text/x-python",
   "name": "python",
   "nbconvert_exporter": "python",
   "pygments_lexer": "ipython3",
   "version": "3.6.5"
  }
 },
 "nbformat": 4,
 "nbformat_minor": 2
}
