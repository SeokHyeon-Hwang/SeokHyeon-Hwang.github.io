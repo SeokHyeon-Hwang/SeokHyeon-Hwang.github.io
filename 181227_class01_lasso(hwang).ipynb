{
  "nbformat": 4,
  "nbformat_minor": 0,
  "metadata": {
    "colab": {
      "name": "class01_lasso(hwang).ipynb",
      "version": "0.3.2",
      "provenance": [],
      "collapsed_sections": [],
      "include_colab_link": true
    },
    "kernelspec": {
      "name": "python3",
      "display_name": "Python 3"
    }
  },
  "cells": [
    {
      "cell_type": "markdown",
      "metadata": {
        "id": "view-in-github",
        "colab_type": "text"
      },
      "source": [
        "<a href=\"https://colab.research.google.com/github/SeokHyeon-Hwang/programmerspython/blob/master/class01_lasso(hwang).ipynb\" target=\"_parent\"><img src=\"https://colab.research.google.com/assets/colab-badge.svg\" alt=\"Open In Colab\"/></a>"
      ]
    },
    {
      "metadata": {
        "id": "93xQz3Q5EU4V",
        "colab_type": "code",
        "colab": {}
      },
      "cell_type": "code",
      "source": [
        "from sklearn.datasets import load_boston\n",
        "from sklearn.preprocessing import MinMaxScaler, PolynomialFeatures\n",
        "from sklearn.model_selection import train_test_split\n",
        "from sklearn.linear_model import LinearRegression"
      ],
      "execution_count": 0,
      "outputs": []
    },
    {
      "metadata": {
        "id": "HrCDY4GKF0jH",
        "colab_type": "code",
        "colab": {}
      },
      "cell_type": "code",
      "source": [
        "def load_extended_boston():\n",
        "   boston = load_boston() # 데이터 셋 불러오기\n",
        "   X = boston.data # 입력 데이터\n",
        "\n",
        "   X = MinMaxScaler().fit_transform(boston.data) # 입력 데이터 정규화\n",
        "   X = PolynomialFeatures(degree=2, include_bias=False).fit_transform(X)\n",
        "   return X, boston.target"
      ],
      "execution_count": 0,
      "outputs": []
    },
    {
      "metadata": {
        "id": "GbyWvrlSGH4f",
        "colab_type": "code",
        "outputId": "9c658cc7-e2df-47a1-a8ac-1c8508954bb6",
        "colab": {
          "base_uri": "https://localhost:8080/",
          "height": 35
        }
      },
      "cell_type": "code",
      "source": [
        "X, y = load_extended_boston()\n",
        "print(X.shape, y.shape)"
      ],
      "execution_count": 0,
      "outputs": [
        {
          "output_type": "stream",
          "text": [
            "(506, 104) (506,)\n"
          ],
          "name": "stdout"
        }
      ]
    },
    {
      "metadata": {
        "id": "0BVMLsHJGMru",
        "colab_type": "code",
        "outputId": "3b7d78c5-3a37-4f31-d9d0-a53948259fa1",
        "colab": {
          "base_uri": "https://localhost:8080/",
          "height": 53
        }
      },
      "cell_type": "code",
      "source": [
        "X_train, X_test, y_train, y_test = train_test_split(X, y, random_state=42)\n",
        "lr = LinearRegression().fit(X_train, y_train)\n",
        "print(\"훈련 데이터 세트 점수 : {:.2f}\".format(lr.score(X_train, y_train)))\n",
        "print(\"검증 데이터 세트 점수 : {:.2f}\".format(lr.score(X_test, y_test)))"
      ],
      "execution_count": 0,
      "outputs": [
        {
          "output_type": "stream",
          "text": [
            "훈련 데이터 세트 점수 : 0.94\n",
            "검증 데이터 세트 점수 : 0.78\n"
          ],
          "name": "stdout"
        }
      ]
    },
    {
      "metadata": {
        "id": "V8CoSlnAGk3y",
        "colab_type": "code",
        "outputId": "642648c6-77bd-4dbd-fb2b-5d6358180c4e",
        "colab": {
          "base_uri": "https://localhost:8080/",
          "height": 71
        }
      },
      "cell_type": "code",
      "source": [
        "from sklearn.linear_model import Lasso\n",
        "from sklearn.linear_model import Ridge\n",
        "import numpy as np\n",
        "\n",
        "lasso = Lasso().fit(X_train, y_train)\n",
        "print(\"훈련 데이터 세트 점수 : {:.2f}\".format(lasso.score(X_train, y_train)))\n",
        "print(\"검증 데이터 세트 점수 : {:.2f}\".format(lasso.score(X_test, y_test)))\n",
        "print(\"사용한 특성의 수 : {:.2f}\".format(np.sum(lasso.coef_ != 0)))"
      ],
      "execution_count": 0,
      "outputs": [
        {
          "output_type": "stream",
          "text": [
            "훈련 데이터 세트 점수 : 0.27\n",
            "검증 데이터 세트 점 : 0.26\n",
            "사용한 특성의 수 : 3.00\n"
          ],
          "name": "stdout"
        }
      ]
    },
    {
      "metadata": {
        "id": "TqFMIS_sIbVf",
        "colab_type": "code",
        "outputId": "b6f88e49-9c50-4aaf-827a-53ec0945f2c1",
        "colab": {
          "base_uri": "https://localhost:8080/",
          "height": 71
        }
      },
      "cell_type": "code",
      "source": [
        "lasso = Lasso(alpha=0.01, max_iter=100000).fit(X_train, y_train)\n",
        "print(\"훈련 데이터 세트 점수 : {:.2f}\".format(lasso.score(X_train, y_train)))\n",
        "print(\"검증 데이터 세트 점수 : {:.2f}\".format(lasso.score(X_test, y_test)))\n",
        "print(\"사용한 특성의 수 : {:.2f}\".format(np.sum(lasso.coef_ != 0)))"
      ],
      "execution_count": 0,
      "outputs": [
        {
          "output_type": "stream",
          "text": [
            "훈련 데이터 세트 점수 : 0.89\n",
            "검증 데이터 세트 점수 : 0.80\n",
            "사용한 특성의 수 : 34.00\n"
          ],
          "name": "stdout"
        }
      ]
    },
    {
      "metadata": {
        "id": "OqgBOUJBI3f6",
        "colab_type": "code",
        "outputId": "b922a8f3-9f67-4fd1-84b5-63e7c2a3ea5b",
        "colab": {
          "base_uri": "https://localhost:8080/",
          "height": 370
        }
      },
      "cell_type": "code",
      "source": [
        "import matplotlib.pyplot as plt\n",
        "\n",
        "# 한글\n",
        "import matplotlib\n",
        "from matplotlib import font_manager, rc\n",
        "font_loc = \"C:/Windows/Fonts/malgunbd.ttf\"\n",
        "font_name = font_manager.FontProperties(fname=font_loc).get_name()\n",
        "matplotlib.rc('font', family=font_name)\n",
        "%matplotlib inline"
      ],
      "execution_count": 0,
      "outputs": [
        {
          "output_type": "error",
          "ename": "FileNotFoundError",
          "evalue": "ignored",
          "traceback": [
            "\u001b[0;31m---------------------------------------------------------------------------\u001b[0m",
            "\u001b[0;31mFileNotFoundError\u001b[0m                         Traceback (most recent call last)",
            "\u001b[0;32m<ipython-input-7-8a6ede007759>\u001b[0m in \u001b[0;36m<module>\u001b[0;34m()\u001b[0m\n\u001b[1;32m      5\u001b[0m \u001b[0;32mfrom\u001b[0m \u001b[0mmatplotlib\u001b[0m \u001b[0;32mimport\u001b[0m \u001b[0mfont_manager\u001b[0m\u001b[0;34m,\u001b[0m \u001b[0mrc\u001b[0m\u001b[0;34m\u001b[0m\u001b[0;34m\u001b[0m\u001b[0m\n\u001b[1;32m      6\u001b[0m \u001b[0mfont_loc\u001b[0m \u001b[0;34m=\u001b[0m \u001b[0;34m\"C:/Windows/Fonts/malgunbd.ttf\"\u001b[0m\u001b[0;34m\u001b[0m\u001b[0;34m\u001b[0m\u001b[0m\n\u001b[0;32m----> 7\u001b[0;31m \u001b[0mfont_name\u001b[0m \u001b[0;34m=\u001b[0m \u001b[0mfont_manager\u001b[0m\u001b[0;34m.\u001b[0m\u001b[0mFontProperties\u001b[0m\u001b[0;34m(\u001b[0m\u001b[0mfname\u001b[0m\u001b[0;34m=\u001b[0m\u001b[0mfont_loc\u001b[0m\u001b[0;34m)\u001b[0m\u001b[0;34m.\u001b[0m\u001b[0mget_name\u001b[0m\u001b[0;34m(\u001b[0m\u001b[0;34m)\u001b[0m\u001b[0;34m\u001b[0m\u001b[0;34m\u001b[0m\u001b[0m\n\u001b[0m\u001b[1;32m      8\u001b[0m \u001b[0mmatplotlib\u001b[0m\u001b[0;34m.\u001b[0m\u001b[0mrc\u001b[0m\u001b[0;34m(\u001b[0m\u001b[0;34m'font'\u001b[0m\u001b[0;34m,\u001b[0m \u001b[0mfamily\u001b[0m\u001b[0;34m=\u001b[0m\u001b[0mfont_name\u001b[0m\u001b[0;34m)\u001b[0m\u001b[0;34m\u001b[0m\u001b[0;34m\u001b[0m\u001b[0m\n\u001b[1;32m      9\u001b[0m \u001b[0mget_ipython\u001b[0m\u001b[0;34m(\u001b[0m\u001b[0;34m)\u001b[0m\u001b[0;34m.\u001b[0m\u001b[0mmagic\u001b[0m\u001b[0;34m(\u001b[0m\u001b[0;34m'matplotlib inline'\u001b[0m\u001b[0;34m)\u001b[0m\u001b[0;34m\u001b[0m\u001b[0;34m\u001b[0m\u001b[0m\n",
            "\u001b[0;32m/usr/local/lib/python3.6/dist-packages/matplotlib/font_manager.py\u001b[0m in \u001b[0;36mget_name\u001b[0;34m(self)\u001b[0m\n\u001b[1;32m    735\u001b[0m         \u001b[0mproperties\u001b[0m\u001b[0;34m.\u001b[0m\u001b[0;34m\u001b[0m\u001b[0;34m\u001b[0m\u001b[0m\n\u001b[1;32m    736\u001b[0m         \"\"\"\n\u001b[0;32m--> 737\u001b[0;31m         \u001b[0;32mreturn\u001b[0m \u001b[0mget_font\u001b[0m\u001b[0;34m(\u001b[0m\u001b[0mfindfont\u001b[0m\u001b[0;34m(\u001b[0m\u001b[0mself\u001b[0m\u001b[0;34m)\u001b[0m\u001b[0;34m)\u001b[0m\u001b[0;34m.\u001b[0m\u001b[0mfamily_name\u001b[0m\u001b[0;34m\u001b[0m\u001b[0;34m\u001b[0m\u001b[0m\n\u001b[0m\u001b[1;32m    738\u001b[0m \u001b[0;34m\u001b[0m\u001b[0m\n\u001b[1;32m    739\u001b[0m     \u001b[0;32mdef\u001b[0m \u001b[0mget_style\u001b[0m\u001b[0;34m(\u001b[0m\u001b[0mself\u001b[0m\u001b[0;34m)\u001b[0m\u001b[0;34m:\u001b[0m\u001b[0;34m\u001b[0m\u001b[0;34m\u001b[0m\u001b[0m\n",
            "\u001b[0;31mFileNotFoundError\u001b[0m: [Errno 2] No such file or directory: 'C:/Windows/Fonts/malgunbd.ttf'"
          ]
        }
      ]
    },
    {
      "metadata": {
        "id": "5XVA2F6ZOh0l",
        "colab_type": "code",
        "outputId": "b1c78225-b67c-492a-c293-1540ecdebe16",
        "colab": {
          "base_uri": "https://localhost:8080/",
          "height": 438
        }
      },
      "cell_type": "code",
      "source": [
        "lasso = Lasso(alpha=1).fit(X_train, y_train)\n",
        "lasso001 = Lasso(alpha=0.01).fit(X_train, y_train)\n",
        "lasso00001 = Lasso(alpha=0.0001).fit(X_train, y_train)\n",
        "ridge01 = Ridge(alpha=0.1).fit(X_train, y_train)\n",
        "\n",
        "plt.plot(lasso.coef_, \"r^\", label=\"Lasso alpha=1\")\n",
        "plt.plot(lasso001.coef_, 'go', label=\"Lasso alpha=0.01\")\n",
        "plt.plot(lasso00001.coef_, \"bs\", label=\"Lasso alpha=0.0001\")\n"
      ],
      "execution_count": 0,
      "outputs": [
        {
          "output_type": "stream",
          "text": [
            "/usr/local/lib/python3.6/dist-packages/sklearn/linear_model/coordinate_descent.py:492: ConvergenceWarning: Objective did not converge. You might want to increase the number of iterations. Fitting data with very small alpha may cause precision problems.\n",
            "  ConvergenceWarning)\n",
            "/usr/local/lib/python3.6/dist-packages/sklearn/linear_model/coordinate_descent.py:492: ConvergenceWarning: Objective did not converge. You might want to increase the number of iterations. Fitting data with very small alpha may cause precision problems.\n",
            "  ConvergenceWarning)\n"
          ],
          "name": "stderr"
        },
        {
          "output_type": "execute_result",
          "data": {
            "text/plain": [
              "[<matplotlib.lines.Line2D at 0x7fcbea742080>]"
            ]
          },
          "metadata": {
            "tags": []
          },
          "execution_count": 10
        },
        {
          "output_type": "display_data",
          "data": {
            "image/png": "[encoded data removed]",
            "text/plain": [
              "<matplotlib.figure.Figure at 0x7fcbef90ba58>"
            ]
          },
          "metadata": {
            "tags": []
          }
        }
      ]
    },
    {
      "metadata": {
        "id": "K5BbbDDXPEoo",
        "colab_type": "code",
        "outputId": "06abfe8d-51ef-4b5b-d889-a5e421f5fc42",
        "colab": {
          "base_uri": "https://localhost:8080/",
          "height": 481
        }
      },
      "cell_type": "code",
      "source": [
        "lasso = Lasso(alpha=1).fit(X_train, y_train)\n",
        "lasso001 = Lasso(alpha=0.01).fit(X_train, y_train)\n",
        "lasso00001 = Lasso(alpha=0.0001).fit(X_train, y_train)\n",
        "ridge01 = Ridge(alpha=0.1).fit(X_train, y_train)\n",
        "\n",
        "plt.plot(lasso.coef_, \"r^\", label=\"Lasso alpha=1\")\n",
        "plt.plot(lasso001.coef_, 'go', label=\"Lasso alpha=0.01\")\n",
        "plt.plot(lasso00001.coef_, \"bs\", label=\"Lasso alpha=0.0001\")\n",
        "\n",
        "plt.plot(ridge01.coef_, \"v\", label=\"Ridge alpha=0.1\")\n",
        "\n",
        "plt.xlabel(\"계수 목록\")\n",
        "plt.ylabel(\"계수 크기\")\n",
        "plt.ylim(-25, 25)\n",
        "plt.legend(ncol=2, loc=(0,1.05))\n",
        "plt.show()\n"
      ],
      "execution_count": 0,
      "outputs": [
        {
          "output_type": "stream",
          "text": [
            "/usr/local/lib/python3.6/dist-packages/sklearn/linear_model/coordinate_descent.py:492: ConvergenceWarning: Objective did not converge. You might want to increase the number of iterations. Fitting data with very small alpha may cause precision problems.\n",
            "  ConvergenceWarning)\n",
            "/usr/local/lib/python3.6/dist-packages/sklearn/linear_model/coordinate_descent.py:492: ConvergenceWarning: Objective did not converge. You might want to increase the number of iterations. Fitting data with very small alpha may cause precision problems.\n",
            "  ConvergenceWarning)\n"
          ],
          "name": "stderr"
        },
        {
          "output_type": "display_data",
          "data": {
            "image/png": "[encoded data removed]",
            "text/plain": [
              "<matplotlib.figure.Figure at 0x7fcbf37e5940>"
            ]
          },
          "metadata": {
            "tags": []
          }
        }
      ]
    },
    {
      "metadata": {
        "id": "-wg9jAffPKRM",
        "colab_type": "code",
        "colab": {}
      },
      "cell_type": "code",
      "source": [
        ""
      ],
      "execution_count": 0,
      "outputs": []
    }
  ]
}
