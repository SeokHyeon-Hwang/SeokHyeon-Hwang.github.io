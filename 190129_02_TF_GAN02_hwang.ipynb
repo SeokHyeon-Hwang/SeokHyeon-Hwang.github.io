{
  "nbformat": 4,
  "nbformat_minor": 0,
  "metadata": {
    "colab": {
      "name": "TF03_GAN03_hwang.ipynb",
      "version": "0.3.2",
      "provenance": [],
      "collapsed_sections": []
    },
    "kernelspec": {
      "name": "python3",
      "display_name": "Python 3"
    }
  },
  "cells": [
    {
      "metadata": {
        "id": "ccw71TbuW6h-",
        "colab_type": "code",
        "colab": {}
      },
      "cell_type": "code",
      "source": [
        "import tensorflow as tf\n",
        "import matplotlib.pyplot as plt\n",
        "import numpy as np"
      ],
      "execution_count": 0,
      "outputs": []
    },
    {
      "metadata": {
        "id": "-S_DORgmW_C4",
        "colab_type": "code",
        "colab": {
          "base_uri": "https://localhost:8080/",
          "height": 559
        },
        "outputId": "80ebcd12-8ac6-4851-f6e4-11dedda10d33"
      },
      "cell_type": "code",
      "source": [
        "from tensorflow.examples.tutorials.mnist import input_data\n",
        "mnist = input_data.read_data_sets(\"./mnist/data/\", one_hot=True)"
      ],
      "execution_count": 2,
      "outputs": [
        {
          "output_type": "stream",
          "text": [
            "WARNING:tensorflow:From <ipython-input-2-4dcbd946c02b>:2: read_data_sets (from tensorflow.contrib.learn.python.learn.datasets.mnist) is deprecated and will be removed in a future version.\n",
            "Instructions for updating:\n",
            "Please use alternatives such as official/mnist/dataset.py from tensorflow/models.\n",
            "WARNING:tensorflow:From /usr/local/lib/python3.6/dist-packages/tensorflow/contrib/learn/python/learn/datasets/mnist.py:260: maybe_download (from tensorflow.contrib.learn.python.learn.datasets.base) is deprecated and will be removed in a future version.\n",
            "Instructions for updating:\n",
            "Please write your own downloading logic.\n",
            "WARNING:tensorflow:From /usr/local/lib/python3.6/dist-packages/tensorflow/contrib/learn/python/learn/datasets/base.py:252: _internal_retry.<locals>.wrap.<locals>.wrapped_fn (from tensorflow.contrib.learn.python.learn.datasets.base) is deprecated and will be removed in a future version.\n",
            "Instructions for updating:\n",
            "Please use urllib or similar directly.\n",
            "Successfully downloaded train-images-idx3-ubyte.gz 9912422 bytes.\n",
            "WARNING:tensorflow:From /usr/local/lib/python3.6/dist-packages/tensorflow/contrib/learn/python/learn/datasets/mnist.py:262: extract_images (from tensorflow.contrib.learn.python.learn.datasets.mnist) is deprecated and will be removed in a future version.\n",
            "Instructions for updating:\n",
            "Please use tf.data to implement this functionality.\n",
            "Extracting ./mnist/data/train-images-idx3-ubyte.gz\n",
            "Successfully downloaded train-labels-idx1-ubyte.gz 28881 bytes.\n",
            "WARNING:tensorflow:From /usr/local/lib/python3.6/dist-packages/tensorflow/contrib/learn/python/learn/datasets/mnist.py:267: extract_labels (from tensorflow.contrib.learn.python.learn.datasets.mnist) is deprecated and will be removed in a future version.\n",
            "Instructions for updating:\n",
            "Please use tf.data to implement this functionality.\n",
            "Extracting ./mnist/data/train-labels-idx1-ubyte.gz\n",
            "WARNING:tensorflow:From /usr/local/lib/python3.6/dist-packages/tensorflow/contrib/learn/python/learn/datasets/mnist.py:110: dense_to_one_hot (from tensorflow.contrib.learn.python.learn.datasets.mnist) is deprecated and will be removed in a future version.\n",
            "Instructions for updating:\n",
            "Please use tf.one_hot on tensors.\n",
            "Successfully downloaded t10k-images-idx3-ubyte.gz 1648877 bytes.\n",
            "Extracting ./mnist/data/t10k-images-idx3-ubyte.gz\n",
            "Successfully downloaded t10k-labels-idx1-ubyte.gz 4542 bytes.\n",
            "Extracting ./mnist/data/t10k-labels-idx1-ubyte.gz\n",
            "WARNING:tensorflow:From /usr/local/lib/python3.6/dist-packages/tensorflow/contrib/learn/python/learn/datasets/mnist.py:290: DataSet.__init__ (from tensorflow.contrib.learn.python.learn.datasets.mnist) is deprecated and will be removed in a future version.\n",
            "Instructions for updating:\n",
            "Please use alternatives such as official/mnist/dataset.py from tensorflow/models.\n"
          ],
          "name": "stdout"
        }
      ]
    },
    {
      "metadata": {
        "id": "C0ravxs-XAPd",
        "colab_type": "code",
        "colab": {}
      },
      "cell_type": "code",
      "source": [
        "#########\n",
        "# 옵션 설정\n",
        "######\n",
        "total_epoch = 100\n",
        "batch_size = 100  # 50000 / 100 = 500\n",
        "n_hidden = 256    # 은닉층의 노드수 \n",
        "n_input = 28 * 28 # 실제 이미지 \n",
        "n_noise = 128     # 랜덤한 정보 \n",
        "n_class = 10      # 클래스 구분 "
      ],
      "execution_count": 0,
      "outputs": []
    },
    {
      "metadata": {
        "id": "eayddgjvZBlz",
        "colab_type": "code",
        "colab": {}
      },
      "cell_type": "code",
      "source": [
        "#########\n",
        "# 신경망 모델 구성\n",
        "######\n",
        "X = tf.placeholder(tf.float32, [None, n_input])\n",
        "# 노이즈와 실제 이미지에, 그에 해당하는 숫자에 대한 정보를 넣어주기 위해 사용합니다.\n",
        "Y = tf.placeholder(tf.float32, [None, n_class])\n",
        "Z = tf.placeholder(tf.float32, [None, n_noise])\n"
      ],
      "execution_count": 0,
      "outputs": []
    },
    {
      "metadata": {
        "id": "pR0fzkFmZDv4",
        "colab_type": "code",
        "colab": {}
      },
      "cell_type": "code",
      "source": [
        "def generator(noise, labels):\n",
        "    with tf.variable_scope('generator'):\n",
        "        # noise 값에 labels 정보를 추가합니다.\n",
        "        inputs = tf.concat([noise, labels], 1)\n",
        "\n",
        "        # TensorFlow 에서 제공하는 유틸리티 함수를 이용해 신경망을 매우 간단하게 구성할 수 있습니다.\n",
        "        hidden = tf.layers.dense(inputs, n_hidden,\n",
        "                                 activation=tf.nn.relu)\n",
        "        output = tf.layers.dense(hidden, n_input,\n",
        "                                 activation=tf.nn.sigmoid)\n",
        "\n",
        "    return output"
      ],
      "execution_count": 0,
      "outputs": []
    },
    {
      "metadata": {
        "id": "sND1HMloZFyG",
        "colab_type": "code",
        "colab": {}
      },
      "cell_type": "code",
      "source": [
        "def discriminator(inputs, labels, reuse=None):\n",
        "    with tf.variable_scope('discriminator') as scope:\n",
        "        # 노이즈에서 생성한 이미지와 실제 이미지를 판별하는 모델의 변수를 동일하게 하기 위해,\n",
        "        # 이전에 사용되었던 변수를 재사용하도록 합니다.\n",
        "        if reuse:\n",
        "            scope.reuse_variables()\n",
        "\n",
        "        inputs = tf.concat([inputs, labels], 1)\n",
        "\n",
        "        hidden = tf.layers.dense(inputs, n_hidden,\n",
        "                                 activation=tf.nn.relu)\n",
        "        output = tf.layers.dense(hidden, 1,\n",
        "                                 activation=None)\n",
        "\n",
        "    return output"
      ],
      "execution_count": 0,
      "outputs": []
    },
    {
      "metadata": {
        "id": "5vFqLfcXZIfD",
        "colab_type": "code",
        "colab": {}
      },
      "cell_type": "code",
      "source": [
        "# batch_size = 100, n_noise = 128\n",
        "# noise = get_noise(batch_size, n_noise)\n",
        "def get_noise(batch_size, n_noise):\n",
        "    return np.random.uniform(-1., 1., size=[batch_size, n_noise])"
      ],
      "execution_count": 0,
      "outputs": []
    },
    {
      "metadata": {
        "id": "d1llmZ9dZLq1",
        "colab_type": "code",
        "colab": {}
      },
      "cell_type": "code",
      "source": [
        "# 생성 모델과 판별 모델에 Y 즉, labels 정보를 추가하여\n",
        "# labels 정보에 해당하는 이미지를 생성할 수 있도록 유도합니다.\n",
        "G = generator(Z, Y)\n",
        "D_real = discriminator(X, Y)\n",
        "D_gene = discriminator(G, Y, True)"
      ],
      "execution_count": 0,
      "outputs": []
    },
    {
      "metadata": {
        "id": "FWOl9nPpZOs6",
        "colab_type": "code",
        "colab": {}
      },
      "cell_type": "code",
      "source": [
        "# 손실함수는 다음을 참고하여 GAN 논문에 나온 방식과는 약간 다르게 작성하였습니다.\n",
        "# http://bamos.github.io/2016/08/09/deep-completion/\n",
        "# 진짜 이미지를 판별하는 D_real 값은 1에 가깝도록,\n",
        "# 가짜 이미지를 판별하는 D_gene 값은 0에 가깝도록 하는 손실 함수입니다.\n",
        "loss_D_real = tf.reduce_mean(\n",
        "                    tf.nn.sigmoid_cross_entropy_with_logits(\n",
        "                        logits=D_real, labels=tf.ones_like(D_real)))\n",
        "loss_D_gene = tf.reduce_mean(\n",
        "                    tf.nn.sigmoid_cross_entropy_with_logits(\n",
        "                        logits=D_gene, labels=tf.zeros_like(D_gene)))\n",
        "\n",
        "# loss_D_real 과 loss_D_gene 을 더한 뒤 이 값을 최소화 하도록 최적화합니다.\n",
        "loss_D = loss_D_real + loss_D_gene\n",
        "# 가짜 이미지를 진짜에 가깝게 만들도록 생성망을 학습시키기 위해, D_gene 을 최대한 1에 가깝도록 만드는 손실함수입니다.\n",
        "loss_G = tf.reduce_mean(\n",
        "                    tf.nn.sigmoid_cross_entropy_with_logits(\n",
        "                        logits=D_gene, labels=tf.ones_like(D_gene)))"
      ],
      "execution_count": 0,
      "outputs": []
    },
    {
      "metadata": {
        "id": "nV7xm7N6cYBp",
        "colab_type": "code",
        "colab": {}
      },
      "cell_type": "code",
      "source": [
        "# TensorFlow 에서 제공하는 유틸리티 함수를 이용해\n",
        "# discriminator 와 generator scope 에서 사용된 변수들을 쉽게 가져올 수 있습니다.\n",
        "vars_D = tf.get_collection(tf.GraphKeys.TRAINABLE_VARIABLES,\n",
        "                           scope='discriminator')\n",
        "vars_G = tf.get_collection(tf.GraphKeys.TRAINABLE_VARIABLES,\n",
        "                           scope='generator')\n",
        "\n",
        "train_D = tf.train.AdamOptimizer().minimize(loss_D,\n",
        "                                            var_list=vars_D)\n",
        "train_G = tf.train.AdamOptimizer().minimize(loss_G,\n",
        "                                            var_list=vars_G)"
      ],
      "execution_count": 0,
      "outputs": []
    },
    {
      "metadata": {
        "id": "rORNasSQcaPu",
        "colab_type": "code",
        "colab": {}
      },
      "cell_type": "code",
      "source": [
        "!mkdir samples2"
      ],
      "execution_count": 0,
      "outputs": []
    },
    {
      "metadata": {
        "id": "2dpYuHcEccEy",
        "colab_type": "code",
        "colab": {
          "base_uri": "https://localhost:8080/",
          "height": 1835
        },
        "outputId": "f6eb1535-4e05-450d-bfde-e9aeaa476a5b"
      },
      "cell_type": "code",
      "source": [
        "#########\n",
        "# 신경망 모델 학습\n",
        "######\n",
        "sess = tf.Session()\n",
        "sess.run(tf.global_variables_initializer())\n",
        "\n",
        "total_batch = int(mnist.train.num_examples/batch_size)\n",
        "loss_val_D, loss_val_G = 0, 0\n",
        "\n",
        "for epoch in range(total_epoch):\n",
        "    for i in range(total_batch):\n",
        "        batch_xs, batch_ys = mnist.train.next_batch(batch_size)\n",
        "        noise = get_noise(batch_size, n_noise)\n",
        "\n",
        "        _, loss_val_D = sess.run([train_D, loss_D],\n",
        "                                 feed_dict={X: batch_xs, Y: batch_ys, Z: noise})\n",
        "        _, loss_val_G = sess.run([train_G, loss_G],\n",
        "                                 feed_dict={Y: batch_ys, Z: noise})\n",
        "\n",
        "    print('Epoch:', '%04d' % epoch,\n",
        "          'D loss: {:.4}'.format(loss_val_D),\n",
        "          'G loss: {:.4}'.format(loss_val_G))\n",
        "\n",
        "    #########\n",
        "    # 학습이 되어가는 모습을 보기 위해 주기적으로 레이블에 따른 이미지를 생성하여 저장\n",
        "    ######\n",
        "    if epoch == 0 or (epoch + 1) % 10 == 0:\n",
        "        sample_size = 10\n",
        "        noise = get_noise(sample_size, n_noise)\n",
        "        samples = sess.run(G,\n",
        "                           feed_dict={Y: mnist.test.labels[:sample_size],\n",
        "                                      Z: noise})\n",
        "\n",
        "        fig, ax = plt.subplots(2, sample_size, figsize=(sample_size, 2))\n",
        "\n",
        "        for i in range(sample_size):\n",
        "            ax[0][i].set_axis_off()\n",
        "            ax[1][i].set_axis_off()\n",
        "\n",
        "            ax[0][i].imshow(np.reshape(mnist.test.images[i], (28, 28)))\n",
        "            ax[1][i].imshow(np.reshape(samples[i], (28, 28)))\n",
        "\n",
        "        plt.savefig('samples2/{}.png'.format(str(epoch).zfill(3)), bbox_inches='tight')\n",
        "        plt.close(fig)\n",
        "\n",
        "print('최적화 완료!')"
      ],
      "execution_count": 12,
      "outputs": [
        {
          "output_type": "stream",
          "text": [
            "Epoch: 0000 D loss: 0.007129 G loss: 7.834\n",
            "Epoch: 0001 D loss: 0.02236 G loss: 6.895\n",
            "Epoch: 0002 D loss: 0.007162 G loss: 7.141\n",
            "Epoch: 0003 D loss: 0.04095 G loss: 5.496\n",
            "Epoch: 0004 D loss: 0.02447 G loss: 8.506\n",
            "Epoch: 0005 D loss: 0.08308 G loss: 6.065\n",
            "Epoch: 0006 D loss: 0.07507 G loss: 7.34\n",
            "Epoch: 0007 D loss: 0.05143 G loss: 6.797\n",
            "Epoch: 0008 D loss: 0.207 G loss: 5.563\n",
            "Epoch: 0009 D loss: 0.2448 G loss: 4.748\n",
            "Epoch: 0010 D loss: 0.3129 G loss: 4.631\n",
            "Epoch: 0011 D loss: 0.2761 G loss: 4.461\n",
            "Epoch: 0012 D loss: 0.2932 G loss: 3.975\n",
            "Epoch: 0013 D loss: 0.3288 G loss: 4.416\n",
            "Epoch: 0014 D loss: 0.3442 G loss: 5.086\n",
            "Epoch: 0015 D loss: 0.5797 G loss: 3.718\n",
            "Epoch: 0016 D loss: 0.5594 G loss: 3.404\n",
            "Epoch: 0017 D loss: 0.3699 G loss: 3.93\n",
            "Epoch: 0018 D loss: 0.5714 G loss: 3.403\n",
            "Epoch: 0019 D loss: 0.5072 G loss: 3.438\n",
            "Epoch: 0020 D loss: 0.6285 G loss: 3.077\n",
            "Epoch: 0021 D loss: 0.8541 G loss: 2.683\n",
            "Epoch: 0022 D loss: 0.4589 G loss: 3.272\n",
            "Epoch: 0023 D loss: 0.6605 G loss: 2.813\n",
            "Epoch: 0024 D loss: 0.4672 G loss: 2.674\n",
            "Epoch: 0025 D loss: 0.5751 G loss: 2.902\n",
            "Epoch: 0026 D loss: 0.6393 G loss: 2.569\n",
            "Epoch: 0027 D loss: 0.6344 G loss: 2.419\n",
            "Epoch: 0028 D loss: 0.8063 G loss: 2.492\n",
            "Epoch: 0029 D loss: 0.7125 G loss: 2.388\n",
            "Epoch: 0030 D loss: 0.9229 G loss: 2.019\n",
            "Epoch: 0031 D loss: 0.5936 G loss: 2.593\n",
            "Epoch: 0032 D loss: 0.6364 G loss: 2.177\n",
            "Epoch: 0033 D loss: 0.672 G loss: 2.548\n",
            "Epoch: 0034 D loss: 0.7495 G loss: 2.027\n",
            "Epoch: 0035 D loss: 0.6026 G loss: 2.491\n",
            "Epoch: 0036 D loss: 0.6838 G loss: 2.179\n",
            "Epoch: 0037 D loss: 0.5057 G loss: 2.154\n",
            "Epoch: 0038 D loss: 0.7947 G loss: 2.249\n",
            "Epoch: 0039 D loss: 0.9131 G loss: 2.109\n",
            "Epoch: 0040 D loss: 0.7597 G loss: 2.185\n",
            "Epoch: 0041 D loss: 0.6811 G loss: 2.135\n",
            "Epoch: 0042 D loss: 0.5337 G loss: 2.502\n",
            "Epoch: 0043 D loss: 0.7737 G loss: 2.059\n",
            "Epoch: 0044 D loss: 0.7133 G loss: 2.053\n",
            "Epoch: 0045 D loss: 0.7226 G loss: 2.228\n",
            "Epoch: 0046 D loss: 0.8356 G loss: 2.328\n",
            "Epoch: 0047 D loss: 0.6725 G loss: 2.077\n",
            "Epoch: 0048 D loss: 0.7365 G loss: 1.992\n",
            "Epoch: 0049 D loss: 0.6906 G loss: 2.118\n",
            "Epoch: 0050 D loss: 0.6783 G loss: 2.327\n",
            "Epoch: 0051 D loss: 0.7298 G loss: 2.02\n",
            "Epoch: 0052 D loss: 0.7213 G loss: 2.109\n",
            "Epoch: 0053 D loss: 0.7738 G loss: 2.06\n",
            "Epoch: 0054 D loss: 0.6581 G loss: 1.947\n",
            "Epoch: 0055 D loss: 0.5326 G loss: 2.619\n",
            "Epoch: 0056 D loss: 0.6667 G loss: 2.291\n",
            "Epoch: 0057 D loss: 0.6788 G loss: 2.11\n",
            "Epoch: 0058 D loss: 0.937 G loss: 2.117\n",
            "Epoch: 0059 D loss: 0.8552 G loss: 1.945\n",
            "Epoch: 0060 D loss: 0.7032 G loss: 2.069\n",
            "Epoch: 0061 D loss: 0.7788 G loss: 2.202\n",
            "Epoch: 0062 D loss: 0.6795 G loss: 2.136\n",
            "Epoch: 0063 D loss: 0.8113 G loss: 2.056\n",
            "Epoch: 0064 D loss: 0.7703 G loss: 2.147\n",
            "Epoch: 0065 D loss: 0.6655 G loss: 2.257\n",
            "Epoch: 0066 D loss: 0.6723 G loss: 1.956\n",
            "Epoch: 0067 D loss: 0.7495 G loss: 2.066\n",
            "Epoch: 0068 D loss: 0.7896 G loss: 1.954\n",
            "Epoch: 0069 D loss: 0.8612 G loss: 2.018\n",
            "Epoch: 0070 D loss: 0.8289 G loss: 2.135\n",
            "Epoch: 0071 D loss: 0.774 G loss: 1.887\n",
            "Epoch: 0072 D loss: 0.5901 G loss: 2.637\n",
            "Epoch: 0073 D loss: 0.7939 G loss: 1.854\n",
            "Epoch: 0074 D loss: 0.773 G loss: 1.776\n",
            "Epoch: 0075 D loss: 0.9303 G loss: 1.778\n",
            "Epoch: 0076 D loss: 0.6284 G loss: 2.277\n",
            "Epoch: 0077 D loss: 0.8632 G loss: 1.506\n",
            "Epoch: 0078 D loss: 0.8172 G loss: 1.859\n",
            "Epoch: 0079 D loss: 0.7318 G loss: 2.12\n",
            "Epoch: 0080 D loss: 0.6982 G loss: 2.453\n",
            "Epoch: 0081 D loss: 0.7264 G loss: 2.039\n",
            "Epoch: 0082 D loss: 0.714 G loss: 1.819\n",
            "Epoch: 0083 D loss: 1.003 G loss: 1.938\n",
            "Epoch: 0084 D loss: 0.7275 G loss: 2.011\n",
            "Epoch: 0085 D loss: 0.8256 G loss: 2.159\n",
            "Epoch: 0086 D loss: 0.7325 G loss: 1.937\n",
            "Epoch: 0087 D loss: 0.7188 G loss: 2.427\n",
            "Epoch: 0088 D loss: 0.7751 G loss: 2.079\n",
            "Epoch: 0089 D loss: 0.6623 G loss: 1.893\n",
            "Epoch: 0090 D loss: 0.6973 G loss: 2.08\n",
            "Epoch: 0091 D loss: 0.7608 G loss: 2.192\n",
            "Epoch: 0092 D loss: 0.8227 G loss: 2.15\n",
            "Epoch: 0093 D loss: 0.6695 G loss: 2.145\n",
            "Epoch: 0094 D loss: 0.734 G loss: 1.951\n",
            "Epoch: 0095 D loss: 0.4909 G loss: 2.256\n",
            "Epoch: 0096 D loss: 0.9767 G loss: 1.492\n",
            "Epoch: 0097 D loss: 0.8233 G loss: 1.979\n",
            "Epoch: 0098 D loss: 0.763 G loss: 1.878\n",
            "Epoch: 0099 D loss: 0.8148 G loss: 2.076\n",
            "최적화 완료!\n"
          ],
          "name": "stdout"
        }
      ]
    },
    {
      "metadata": {
        "id": "PbyBtZNacftG",
        "colab_type": "code",
        "colab": {}
      },
      "cell_type": "code",
      "source": [
        ""
      ],
      "execution_count": 0,
      "outputs": []
    }
  ]
}