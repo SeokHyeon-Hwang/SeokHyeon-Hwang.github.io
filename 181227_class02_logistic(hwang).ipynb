{
  "nbformat": 4,
  "nbformat_minor": 0,
  "metadata": {
    "colab": {
      "name": "class02_logistic(hwang).ipynb",
      "version": "0.3.2",
      "provenance": [],
      "collapsed_sections": [],
      "include_colab_link": true
    },
    "kernelspec": {
      "name": "python3",
      "display_name": "Python 3"
    }
  },
  "cells": [
    {
      "cell_type": "markdown",
      "metadata": {
        "id": "view-in-github",
        "colab_type": "text"
      },
      "source": [
        "<a href=\"https://colab.research.google.com/github/SeokHyeon-Hwang/programmerspython/blob/master/181227_class02_logistic(hwang).ipynb\" target=\"_parent\"><img src=\"https://colab.research.google.com/assets/colab-badge.svg\" alt=\"Open In Colab\"/></a>"
      ]
    },
    {
      "metadata": {
        "id": "66BxhXs0RViQ",
        "colab_type": "code",
        "colab": {
          "base_uri": "https://localhost:8080/",
          "height": 413
        },
        "outputId": "4af006aa-6c53-4a9f-ea0c-2af5ed6a61de"
      },
      "cell_type": "code",
      "source": [
        "### Logistic\n",
        "#!pip install mglearn"
      ],
      "execution_count": 5,
      "outputs": [
        {
          "output_type": "stream",
          "text": [
            "Collecting mglearn\n",
            "\u001b[?25l  Downloading https://files.pythonhosted.org/packages/fb/01/8d3630ecc767c9de96a9c46e055f2a3a5f9e14a47d3d0348a36a5005fe67/mglearn-0.1.7.tar.gz (540kB)\n",
            "\r\u001b[K    1% |▋                               | 10kB 17.4MB/s eta 0:00:01\r\u001b[K    3% |█▏                              | 20kB 3.2MB/s eta 0:00:01\r\u001b[K    5% |█▉                              | 30kB 4.6MB/s eta 0:00:01\r\u001b[K    7% |██▍                             | 40kB 3.0MB/s eta 0:00:01\r\u001b[K    9% |███                             | 51kB 3.7MB/s eta 0:00:01\r\u001b[K    11% |███▋                            | 61kB 4.3MB/s eta 0:00:01\r\u001b[K    13% |████▎                           | 71kB 5.0MB/s eta 0:00:01\r\u001b[K    15% |████▉                           | 81kB 5.6MB/s eta 0:00:01\r\u001b[K    17% |█████▌                          | 92kB 6.2MB/s eta 0:00:01\r\u001b[K    18% |██████                          | 102kB 4.8MB/s eta 0:00:01\r\u001b[K    20% |██████▋                         | 112kB 4.9MB/s eta 0:00:01\r\u001b[K    22% |███████▎                        | 122kB 6.7MB/s eta 0:00:01\r\u001b[K    24% |███████▉                        | 133kB 6.6MB/s eta 0:00:01\r\u001b[K    26% |████████▌                       | 143kB 12.0MB/s eta 0:00:01\r\u001b[K    28% |█████████                       | 153kB 12.1MB/s eta 0:00:01\r\u001b[K    30% |█████████▊                      | 163kB 12.0MB/s eta 0:00:01\r\u001b[K    32% |██████████▎                     | 174kB 12.0MB/s eta 0:00:01\r\u001b[K    34% |███████████                     | 184kB 12.1MB/s eta 0:00:01\r\u001b[K    35% |███████████▌                    | 194kB 12.1MB/s eta 0:00:01\r\u001b[K    37% |████████████▏                   | 204kB 42.2MB/s eta 0:00:01\r\u001b[K    39% |████████████▊                   | 215kB 14.4MB/s eta 0:00:01\r\u001b[K    41% |█████████████▎                  | 225kB 14.4MB/s eta 0:00:01\r\u001b[K    43% |██████████████                  | 235kB 14.5MB/s eta 0:00:01\r\u001b[K    45% |██████████████▌                 | 245kB 14.3MB/s eta 0:00:01\r\u001b[K    47% |███████████████▏                | 256kB 14.2MB/s eta 0:00:01\r\u001b[K    49% |███████████████▊                | 266kB 13.3MB/s eta 0:00:01\r\u001b[K    51% |████████████████▍               | 276kB 13.6MB/s eta 0:00:01\r\u001b[K    52% |█████████████████               | 286kB 13.5MB/s eta 0:00:01\r\u001b[K    54% |█████████████████▋              | 296kB 13.5MB/s eta 0:00:01\r\u001b[K    56% |██████████████████▏             | 307kB 13.9MB/s eta 0:00:01\r\u001b[K    58% |██████████████████▊             | 317kB 41.5MB/s eta 0:00:01\r\u001b[K    60% |███████████████████▍            | 327kB 41.9MB/s eta 0:00:01\r\u001b[K    62% |████████████████████            | 337kB 46.1MB/s eta 0:00:01\r\u001b[K    64% |████████████████████▋           | 348kB 41.8MB/s eta 0:00:01\r\u001b[K    66% |█████████████████████▏          | 358kB 43.5MB/s eta 0:00:01\r\u001b[K    68% |█████████████████████▉          | 368kB 54.3MB/s eta 0:00:01\r\u001b[K    70% |██████████████████████▍         | 378kB 54.3MB/s eta 0:00:01\r\u001b[K    71% |███████████████████████         | 389kB 54.8MB/s eta 0:00:01\r\u001b[K    73% |███████████████████████▋        | 399kB 19.2MB/s eta 0:00:01\r\u001b[K    75% |████████████████████████▎       | 409kB 18.7MB/s eta 0:00:01\r\u001b[K    77% |████████████████████████▉       | 419kB 18.4MB/s eta 0:00:01\r\u001b[K    79% |█████████████████████████▍      | 430kB 18.4MB/s eta 0:00:01\r\u001b[K    81% |██████████████████████████      | 440kB 18.3MB/s eta 0:00:01\r\u001b[K    83% |██████████████████████████▋     | 450kB 18.8MB/s eta 0:00:01\r\u001b[K    85% |███████████████████████████▎    | 460kB 18.6MB/s eta 0:00:01\r\u001b[K    87% |███████████████████████████▉    | 471kB 18.7MB/s eta 0:00:01\r\u001b[K    88% |████████████████████████████▌   | 481kB 18.8MB/s eta 0:00:01\r\u001b[K    90% |█████████████████████████████   | 491kB 18.8MB/s eta 0:00:01\r\u001b[K    92% |█████████████████████████████▊  | 501kB 51.8MB/s eta 0:00:01\r\u001b[K    94% |██████████████████████████████▎ | 512kB 50.3MB/s eta 0:00:01\r\u001b[K    96% |███████████████████████████████ | 522kB 52.3MB/s eta 0:00:01\r\u001b[K    98% |███████████████████████████████▌| 532kB 53.7MB/s eta 0:00:01\r\u001b[K    100% |████████████████████████████████| 542kB 22.6MB/s \n",
            "\u001b[?25hRequirement already satisfied: numpy in /usr/local/lib/python3.6/dist-packages (from mglearn) (1.14.6)\n",
            "Requirement already satisfied: matplotlib in /usr/local/lib/python3.6/dist-packages (from mglearn) (2.1.2)\n",
            "Requirement already satisfied: scikit-learn in /usr/local/lib/python3.6/dist-packages (from mglearn) (0.20.1)\n",
            "Requirement already satisfied: pandas in /usr/local/lib/python3.6/dist-packages (from mglearn) (0.22.0)\n",
            "Requirement already satisfied: pillow in /usr/local/lib/python3.6/dist-packages (from mglearn) (4.0.0)\n",
            "Requirement already satisfied: cycler in /usr/local/lib/python3.6/dist-packages (from mglearn) (0.10.0)\n",
            "Requirement already satisfied: imageio in /usr/local/lib/python3.6/dist-packages (from mglearn) (2.4.1)\n",
            "Requirement already satisfied: pytz in /usr/local/lib/python3.6/dist-packages (from matplotlib->mglearn) (2018.7)\n",
            "Requirement already satisfied: six>=1.10 in /usr/local/lib/python3.6/dist-packages (from matplotlib->mglearn) (1.11.0)\n",
            "Requirement already satisfied: pyparsing!=2.0.4,!=2.1.2,!=2.1.6,>=2.0.1 in /usr/local/lib/python3.6/dist-packages (from matplotlib->mglearn) (2.3.0)\n",
            "Requirement already satisfied: python-dateutil>=2.1 in /usr/local/lib/python3.6/dist-packages (from matplotlib->mglearn) (2.5.3)\n",
            "Requirement already satisfied: scipy>=0.13.3 in /usr/local/lib/python3.6/dist-packages (from scikit-learn->mglearn) (1.1.0)\n",
            "Requirement already satisfied: olefile in /usr/local/lib/python3.6/dist-packages (from pillow->mglearn) (0.46)\n",
            "Building wheels for collected packages: mglearn\n",
            "  Running setup.py bdist_wheel for mglearn ... \u001b[?25l-\b \b\\\b \b|\b \bdone\n",
            "\u001b[?25h  Stored in directory: /root/.cache/pip/wheels/74/cf/8d/04f4932d15854a36726c6210763c7127e62de28f5c8ddfcf3b\n",
            "Successfully built mglearn\n",
            "Installing collected packages: mglearn\n",
            "Successfully installed mglearn-0.1.7\n"
          ],
          "name": "stdout"
        }
      ]
    },
    {
      "metadata": {
        "id": "_7xdto5PTSkI",
        "colab_type": "code",
        "colab": {}
      },
      "cell_type": "code",
      "source": [
        "from sklearn.linear_model import LogisticRegression\n",
        "from sklearn.svm import LinearSVC\n",
        "import mglearn"
      ],
      "execution_count": 0,
      "outputs": []
    },
    {
      "metadata": {
        "id": "wjnAeIYjTcSK",
        "colab_type": "code",
        "colab": {
          "base_uri": "https://localhost:8080/",
          "height": 53
        },
        "outputId": "ac2f2ee8-ec7c-4613-9384-6327aec33506"
      },
      "cell_type": "code",
      "source": [
        "X, y =mglearn.datasets.make_forge() # 데이터 만들기"
      ],
      "execution_count": 7,
      "outputs": [
        {
          "output_type": "stream",
          "text": [
            "/usr/local/lib/python3.6/dist-packages/sklearn/utils/deprecation.py:77: DeprecationWarning: Function make_blobs is deprecated; Please import make_blobs directly from scikit-learn\n",
            "  warnings.warn(msg, category=DeprecationWarning)\n"
          ],
          "name": "stderr"
        }
      ]
    },
    {
      "metadata": {
        "id": "QVV9kYElTzTX",
        "colab_type": "code",
        "colab": {
          "base_uri": "https://localhost:8080/",
          "height": 35
        },
        "outputId": "86a44678-fd89-4771-9109-97f318ababd2"
      },
      "cell_type": "code",
      "source": [
        "print(X.shape, y.shape)"
      ],
      "execution_count": 8,
      "outputs": [
        {
          "output_type": "stream",
          "text": [
            "(26, 2) (26,)\n"
          ],
          "name": "stdout"
        }
      ]
    },
    {
      "metadata": {
        "id": "JFWUDAb1T16b",
        "colab_type": "code",
        "colab": {
          "base_uri": "https://localhost:8080/",
          "height": 485
        },
        "outputId": "4f3a9195-5612-414c-d3f2-23eb2dd083b6"
      },
      "cell_type": "code",
      "source": [
        "import matplotlib.pyplot as plt\n",
        "X"
      ],
      "execution_count": 17,
      "outputs": [
        {
          "output_type": "execute_result",
          "data": {
            "text/plain": [
              "array([[ 9.96346605,  4.59676542],\n",
              "       [11.0329545 , -0.16816717],\n",
              "       [11.54155807,  5.21116083],\n",
              "       [ 8.69289001,  1.54322016],\n",
              "       [ 8.1062269 ,  4.28695977],\n",
              "       [ 8.30988863,  4.80623966],\n",
              "       [11.93027136,  4.64866327],\n",
              "       [ 9.67284681, -0.20283165],\n",
              "       [ 8.34810316,  5.13415623],\n",
              "       [ 8.67494727,  4.47573059],\n",
              "       [ 9.17748385,  5.09283177],\n",
              "       [10.24028948,  2.45544401],\n",
              "       [ 8.68937095,  1.48709629],\n",
              "       [ 8.92229526, -0.63993225],\n",
              "       [ 9.49123469,  4.33224792],\n",
              "       [ 9.25694192,  5.13284858],\n",
              "       [ 7.99815287,  4.8525051 ],\n",
              "       [ 8.18378052,  1.29564214],\n",
              "       [ 8.7337095 ,  2.49162431],\n",
              "       [ 9.32298256,  5.09840649],\n",
              "       [10.06393839,  0.99078055],\n",
              "       [ 9.50048972, -0.26430318],\n",
              "       [ 8.34468785,  1.63824349],\n",
              "       [ 9.50169345,  1.93824624],\n",
              "       [ 9.15072323,  5.49832246],\n",
              "       [11.563957  ,  1.3389402 ]])"
            ]
          },
          "metadata": {
            "tags": []
          },
          "execution_count": 17
        }
      ]
    },
    {
      "metadata": {
        "id": "vRTt88s4T7OJ",
        "colab_type": "code",
        "colab": {
          "base_uri": "https://localhost:8080/",
          "height": 284
        },
        "outputId": "7564bcfd-8307-4c1a-fe5e-c1a160e82041"
      },
      "cell_type": "code",
      "source": [
        "fig, axes = plt.subplots(1,2, figsize=(10,3)) # 1행 2열의 크기 10,3인 그래프\n",
        "\n",
        "models = [LinearSVC(), LogisticRegression()]\n",
        "for model, ax in zip(models, axes):\n",
        "  clf=model.fit(X,y)\n",
        "  mglearn.plots.plot_2d_separator(clf, X, fill=False, eps=0.5, ax=ax, alpha=0.7)\n",
        "  mglearn.discrete_scatter(X[:,0], X[:,1], y, ax=ax)\n",
        "  \n",
        "axes[0].legend()"
      ],
      "execution_count": 22,
      "outputs": [
        {
          "output_type": "stream",
          "text": [
            "/usr/local/lib/python3.6/dist-packages/sklearn/svm/base.py:922: ConvergenceWarning: Liblinear failed to converge, increase the number of iterations.\n",
            "  \"the number of iterations.\", ConvergenceWarning)\n",
            "/usr/local/lib/python3.6/dist-packages/sklearn/linear_model/logistic.py:433: FutureWarning: Default solver will be changed to 'lbfgs' in 0.22. Specify a solver to silence this warning.\n",
            "  FutureWarning)\n"
          ],
          "name": "stderr"
        },
        {
          "output_type": "execute_result",
          "data": {
            "text/plain": [
              "<matplotlib.legend.Legend at 0x7f89f68ed3c8>"
            ]
          },
          "metadata": {
            "tags": []
          },
          "execution_count": 22
        },
        {
          "output_type": "display_data",
          "data": {
            "image/png": "[encoded data removed]",
            "text/plain": [
              "<matplotlib.figure.Figure at 0x7f89f69738d0>"
            ]
          },
          "metadata": {
            "tags": []
          }
        }
      ]
    },
    {
      "metadata": {
        "id": "Y5lS6-CRUeKz",
        "colab_type": "code",
        "colab": {
          "base_uri": "https://localhost:8080/",
          "height": 125
        },
        "outputId": "56861c51-4ed9-4cdc-8982-ed1943d11e49"
      },
      "cell_type": "code",
      "source": [
        "X[:,0] # 첫번째 열 선택"
      ],
      "execution_count": 14,
      "outputs": [
        {
          "output_type": "execute_result",
          "data": {
            "text/plain": [
              "array([ 9.96346605, 11.0329545 , 11.54155807,  8.69289001,  8.1062269 ,\n",
              "        8.30988863, 11.93027136,  9.67284681,  8.34810316,  8.67494727,\n",
              "        9.17748385, 10.24028948,  8.68937095,  8.92229526,  9.49123469,\n",
              "        9.25694192,  7.99815287,  8.18378052,  8.7337095 ,  9.32298256,\n",
              "       10.06393839,  9.50048972,  8.34468785,  9.50169345,  9.15072323,\n",
              "       11.563957  ])"
            ]
          },
          "metadata": {
            "tags": []
          },
          "execution_count": 14
        }
      ]
    },
    {
      "metadata": {
        "id": "D37igGjPby_w",
        "colab_type": "code",
        "colab": {
          "base_uri": "https://localhost:8080/",
          "height": 263
        },
        "outputId": "e356fdac-3579-432b-ce26-aec368893afa"
      },
      "cell_type": "code",
      "source": [
        "mglearn.plots.plot_linear_svc_regularization()"
      ],
      "execution_count": 23,
      "outputs": [
        {
          "output_type": "display_data",
          "data": {
            "image/png": "[encoded data removed]",
            "text/plain": [
              "<matplotlib.figure.Figure at 0x7f8a17fbce10>"
            ]
          },
          "metadata": {
            "tags": []
          }
        }
      ]
    },
    {
      "metadata": {
        "id": "bpg0hLiyjDoz",
        "colab_type": "code",
        "colab": {}
      },
      "cell_type": "code",
      "source": [
        "# 유방암 데이터 셋을 이용한 확인"
      ],
      "execution_count": 0,
      "outputs": []
    },
    {
      "metadata": {
        "id": "gvnKe16zjFny",
        "colab_type": "code",
        "colab": {
          "base_uri": "https://localhost:8080/",
          "height": 827
        },
        "outputId": "8263da6b-04c8-432c-97dc-a6ca1373df06"
      },
      "cell_type": "code",
      "source": [
        "from sklearn.datasets import load_breast_cancer\n",
        "from sklearn.model_selection import train_test_split\n",
        "\n",
        "cancer = load_breast_cancer()\n",
        "print(cancer.data.size) # 데이터의 크기\n",
        "print(cancer.data.shape) # 데이터의 행과 열\n",
        "print(cancer.data.ndim) # 데이터 배열(1차원 2차원..)\n",
        "print(cancer.DESCR[:1500]) # 데이터 설명\n",
        "print(cancer.keys()) # 키값"
      ],
      "execution_count": 25,
      "outputs": [
        {
          "output_type": "stream",
          "text": [
            "17070\n",
            "(569, 30)\n",
            "2\n",
            ".. _breast_cancer_dataset:\n",
            "\n",
            "Breast cancer wisconsin (diagnostic) dataset\n",
            "--------------------------------------------\n",
            "\n",
            "**Data Set Characteristics:**\n",
            "\n",
            "    :Number of Instances: 569\n",
            "\n",
            "    :Number of Attributes: 30 numeric, predictive attributes and the class\n",
            "\n",
            "    :Attribute Information:\n",
            "        - radius (mean of distances from center to points on the perimeter)\n",
            "        - texture (standard deviation of gray-scale values)\n",
            "        - perimeter\n",
            "        - area\n",
            "        - smoothness (local variation in radius lengths)\n",
            "        - compactness (perimeter^2 / area - 1.0)\n",
            "        - concavity (severity of concave portions of the contour)\n",
            "        - concave points (number of concave portions of the contour)\n",
            "        - symmetry \n",
            "        - fractal dimension (\"coastline approximation\" - 1)\n",
            "\n",
            "        The mean, standard error, and \"worst\" or largest (mean of the three\n",
            "        largest values) of these features were computed for each image,\n",
            "        resulting in 30 features.  For instance, field 3 is Mean Radius, field\n",
            "        13 is Radius SE, field 23 is Worst Radius.\n",
            "\n",
            "        - class:\n",
            "                - WDBC-Malignant\n",
            "                - WDBC-Benign\n",
            "\n",
            "    :Summary Statistics:\n",
            "\n",
            "    ===================================== ====== ======\n",
            "                                           Min    Max\n",
            "    ===================================== ====== ======\n",
            "    radius (mean):                        6.981  28.11\n",
            "    texture (mean):                       9.71   39.28\n",
            "    perimeter (mean):                     43.79  188.5\n",
            "    a\n",
            "dict_keys(['data', 'target', 'target_names', 'DESCR', 'feature_names', 'filename'])\n"
          ],
          "name": "stdout"
        }
      ]
    },
    {
      "metadata": {
        "id": "YYZz9Zugeul1",
        "colab_type": "code",
        "colab": {
          "base_uri": "https://localhost:8080/",
          "height": 53
        },
        "outputId": "fae535e0-119d-4c29-c0f3-704ad81219b3"
      },
      "cell_type": "code",
      "source": [
        "X_train, X_test, y_train, y_test = train_test_split( cancer.data, \n",
        "                                                    cancer.target,\n",
        "                                                    stratify = cancer.target,\n",
        "                                                    random_state=42)\n",
        "print(X_train.shape)\n",
        "print(X_test.shape)"
      ],
      "execution_count": 26,
      "outputs": [
        {
          "output_type": "stream",
          "text": [
            "(426, 30)\n",
            "(143, 30)\n"
          ],
          "name": "stdout"
        }
      ]
    },
    {
      "metadata": {
        "id": "eybuCZrUlRQd",
        "colab_type": "code",
        "colab": {}
      },
      "cell_type": "code",
      "source": [
        "### 로지스틱 회귀 함수를 이용해서 훈련세트 점수와 테스트 세트 점수 구하기"
      ],
      "execution_count": 0,
      "outputs": []
    },
    {
      "metadata": {
        "id": "rZRBZLpElV56",
        "colab_type": "code",
        "colab": {
          "base_uri": "https://localhost:8080/",
          "height": 71
        },
        "outputId": "a31031d1-e427-456e-cd89-7e902f4ce4a7"
      },
      "cell_type": "code",
      "source": [
        "from sklearn.linear_model import Lasso\n",
        "from sklearn.linear_model import Ridge\n",
        "import numpy as np\n",
        "\n",
        "lasso = Lasso().fit(X_train, y_train)\n",
        "print(\"훈련 데이터 세트 점수 : {:.2f}\".format(lasso.score(X_train, y_train)))\n",
        "print(\"검증 데이터 세트 점수 : {:.2f}\".format(lasso.score(X_test, y_test)))\n",
        "print(\"사용한 특성의 수 : {:.2f}\".format(np.sum(lasso.coef_ != 0)))"
      ],
      "execution_count": 28,
      "outputs": [
        {
          "output_type": "stream",
          "text": [
            "훈련 데이터 세트 점수 : 0.54\n",
            "검증 데이터 세트 점수 : 0.53\n",
            "사용한 특성의 수 : 3.00\n"
          ],
          "name": "stdout"
        }
      ]
    },
    {
      "metadata": {
        "id": "T3jWrOcmmKqV",
        "colab_type": "code",
        "colab": {
          "base_uri": "https://localhost:8080/",
          "height": 89
        },
        "outputId": "3ac0f5c4-5a5f-4b24-c813-280d2222962d"
      },
      "cell_type": "code",
      "source": [
        "from sklearn.datasets import load_boston\n",
        "from sklearn.preprocessing import MinMaxScaler, PolynomialFeatures\n",
        "from sklearn.model_selection import train_test_split\n",
        "from sklearn.linear_model import LinearRegression\n",
        "\n",
        "X_train, X_test, y_train, y_test = train_test_split( cancer.data, \n",
        "                                                    cancer.target,\n",
        "                                                    stratify = cancer.target,\n",
        "                                                    random_state=42)\n",
        "print(X_train.shape)\n",
        "print(X_test.shape)\n",
        "\n",
        "lr = LinearRegression().fit(X_train, y_train)\n",
        "print(\"훈련 데이터 세트 점수 : {:.2f}\".format(lr.score(X_train, y_train)))\n",
        "print(\"검증 데이터 세트 점수 : {:.2f}\".format(lr.score(X_test, y_test)))"
      ],
      "execution_count": 38,
      "outputs": [
        {
          "output_type": "stream",
          "text": [
            "(426, 30)\n",
            "(143, 30)\n",
            "훈련 데이터 세트 점수 : 0.78\n",
            "검증 데이터 세트 점수 : 0.73\n"
          ],
          "name": "stdout"
        }
      ]
    },
    {
      "metadata": {
        "id": "v8L0p1uumSd2",
        "colab_type": "code",
        "colab": {
          "base_uri": "https://localhost:8080/",
          "height": 71
        },
        "outputId": "2af1ac2c-9844-4219-ae8f-7a57bca3c33b"
      },
      "cell_type": "code",
      "source": [
        "lasso = Lasso(alpha=0.01, max_iter=100000).fit(X_train, y_train)\n",
        "print(\"훈련 데이터 세트 점수 : {:.2f}\".format(lasso.score(X_train, y_train)))\n",
        "print(\"검증 데이터 세트 점수 : {:.2f}\".format(lasso.score(X_test, y_test)))\n",
        "print(\"사용한 특성의 수 : {:.2f}\".format(np.sum(lasso.coef_ != 0)))"
      ],
      "execution_count": 39,
      "outputs": [
        {
          "output_type": "stream",
          "text": [
            "훈련 데이터 세트 점수 : 0.69\n",
            "검증 데이터 세트 점수 : 0.70\n",
            "사용한 특성의 수 : 8.00\n"
          ],
          "name": "stdout"
        }
      ]
    },
    {
      "metadata": {
        "id": "hbIEb8BTmi3a",
        "colab_type": "code",
        "colab": {
          "base_uri": "https://localhost:8080/",
          "height": 365
        },
        "outputId": "3659f890-756d-48df-dabe-a83f10ef5c9d"
      },
      "cell_type": "code",
      "source": [
        "lasso = Lasso(alpha=1).fit(X_train, y_train)\n",
        "lasso001 = Lasso(alpha=0.01).fit(X_train, y_train)\n",
        "lasso00001 = Lasso(alpha=0.0001).fit(X_train, y_train)\n",
        "ridge01 = Ridge(alpha=0.1).fit(X_train, y_train)\n",
        "\n",
        "plt.plot(lasso.coef_, \"r^\", label=\"Lasso alpha=1\")\n",
        "plt.plot(lasso001.coef_, 'go', label=\"Lasso alpha=0.01\")\n",
        "plt.plot(lasso00001.coef_, \"bs\", label=\"Lasso alpha=0.0001\")\n"
      ],
      "execution_count": 32,
      "outputs": [
        {
          "output_type": "execute_result",
          "data": {
            "text/plain": [
              "[<matplotlib.lines.Line2D at 0x7f89f677b4e0>]"
            ]
          },
          "metadata": {
            "tags": []
          },
          "execution_count": 32
        },
        {
          "output_type": "display_data",
          "data": {
            "image/png": "[encoded data removed]",
            "text/plain": [
              "<matplotlib.figure.Figure at 0x7f89f679dc88>"
            ]
          },
          "metadata": {
            "tags": []
          }
        }
      ]
    },
    {
      "metadata": {
        "id": "qAt26yj0mmKY",
        "colab_type": "code",
        "colab": {
          "base_uri": "https://localhost:8080/",
          "height": 409
        },
        "outputId": "e49afdb0-bef6-45ea-c50b-8bedaf24f3f7"
      },
      "cell_type": "code",
      "source": [
        "lasso = Lasso(alpha=1).fit(X_train, y_train)\n",
        "lasso001 = Lasso(alpha=0.01).fit(X_train, y_train)\n",
        "lasso00001 = Lasso(alpha=0.0001).fit(X_train, y_train)\n",
        "ridge01 = Ridge(alpha=0.1).fit(X_train, y_train)\n",
        "\n",
        "plt.plot(lasso.coef_, \"r^\", label=\"Lasso alpha=1\")\n",
        "plt.plot(lasso001.coef_, 'go', label=\"Lasso alpha=0.01\")\n",
        "plt.plot(lasso00001.coef_, \"bs\", label=\"Lasso alpha=0.0001\")\n",
        "\n",
        "plt.plot(ridge01.coef_, \"v\", label=\"Ridge alpha=0.1\")\n",
        "\n",
        "plt.xlabel(\"계수 목록\")\n",
        "plt.ylabel(\"계수 크기\")\n",
        "plt.ylim(-25, 25)\n",
        "plt.legend(ncol=2, loc=(0,1.05))\n",
        "plt.show()"
      ],
      "execution_count": 33,
      "outputs": [
        {
          "output_type": "display_data",
          "data": {
            "image/png": "[encoded data removed]",
            "text/plain": [
              "<matplotlib.figure.Figure at 0x7f89f68545c0>"
            ]
          },
          "metadata": {
            "tags": []
          }
        }
      ]
    },
    {
      "metadata": {
        "id": "aV-y6K_vmolI",
        "colab_type": "code",
        "colab": {
          "base_uri": "https://localhost:8080/",
          "height": 604
        },
        "outputId": "7dd9c820-93c5-49d4-a3ec-4900fe72d760"
      },
      "cell_type": "code",
      "source": [
        "fig, axes = plt.subplots(1,2, figsize=(10,3))   # 1행 2열의 크기 10,3인 그래프 \n",
        "\n",
        "models = [LinearSVC(), LogisticRegression()]\n",
        "for model, ax in zip(models, axes):\n",
        "  clf = model.fit(X_train, y_train)    # 모델 학습(fit)\n",
        "  mglearn.plots.plot_2d_separator(clf, X_train, fill=False, eps=0.5,  ax=ax, alpha=0.7)\n",
        "  mglearn.discrete_scatter(X_train, X_test, y_train, ax=ax)\n",
        "  ax.set_title(\"{}\".format(clf.__class__.__name__))  # 모델명 \n",
        "  ax.set_xlabel(\"특성 0\")\n",
        "  ax.set_ylabel(\"특성 1\")\n",
        "axes[0].legend()\n",
        "  "
      ],
      "execution_count": 35,
      "outputs": [
        {
          "output_type": "stream",
          "text": [
            "/usr/local/lib/python3.6/dist-packages/sklearn/svm/base.py:922: ConvergenceWarning: Liblinear failed to converge, increase the number of iterations.\n",
            "  \"the number of iterations.\", ConvergenceWarning)\n"
          ],
          "name": "stderr"
        },
        {
          "output_type": "error",
          "ename": "IndexError",
          "evalue": "ignored",
          "traceback": [
            "\u001b[0;31m---------------------------------------------------------------------------\u001b[0m",
            "\u001b[0;31mIndexError\u001b[0m                                Traceback (most recent call last)",
            "\u001b[0;32m<ipython-input-35-da01bcd23005>\u001b[0m in \u001b[0;36m<module>\u001b[0;34m()\u001b[0m\n\u001b[1;32m      5\u001b[0m   \u001b[0mclf\u001b[0m \u001b[0;34m=\u001b[0m \u001b[0mmodel\u001b[0m\u001b[0;34m.\u001b[0m\u001b[0mfit\u001b[0m\u001b[0;34m(\u001b[0m\u001b[0mX_train\u001b[0m\u001b[0;34m,\u001b[0m \u001b[0my_train\u001b[0m\u001b[0;34m)\u001b[0m    \u001b[0;31m# 모델 학습(fit)\u001b[0m\u001b[0;34m\u001b[0m\u001b[0;34m\u001b[0m\u001b[0m\n\u001b[1;32m      6\u001b[0m   \u001b[0mmglearn\u001b[0m\u001b[0;34m.\u001b[0m\u001b[0mplots\u001b[0m\u001b[0;34m.\u001b[0m\u001b[0mplot_2d_separator\u001b[0m\u001b[0;34m(\u001b[0m\u001b[0mclf\u001b[0m\u001b[0;34m,\u001b[0m \u001b[0mX_train\u001b[0m\u001b[0;34m,\u001b[0m \u001b[0mfill\u001b[0m\u001b[0;34m=\u001b[0m\u001b[0;32mFalse\u001b[0m\u001b[0;34m,\u001b[0m \u001b[0meps\u001b[0m\u001b[0;34m=\u001b[0m\u001b[0;36m0.5\u001b[0m\u001b[0;34m,\u001b[0m  \u001b[0max\u001b[0m\u001b[0;34m=\u001b[0m\u001b[0max\u001b[0m\u001b[0;34m,\u001b[0m \u001b[0malpha\u001b[0m\u001b[0;34m=\u001b[0m\u001b[0;36m0.7\u001b[0m\u001b[0;34m)\u001b[0m\u001b[0;34m\u001b[0m\u001b[0;34m\u001b[0m\u001b[0m\n\u001b[0;32m----> 7\u001b[0;31m   \u001b[0mmglearn\u001b[0m\u001b[0;34m.\u001b[0m\u001b[0mdiscrete_scatter\u001b[0m\u001b[0;34m(\u001b[0m\u001b[0mX_train\u001b[0m\u001b[0;34m,\u001b[0m \u001b[0mX_test\u001b[0m\u001b[0;34m,\u001b[0m \u001b[0my_train\u001b[0m\u001b[0;34m,\u001b[0m \u001b[0max\u001b[0m\u001b[0;34m=\u001b[0m\u001b[0max\u001b[0m\u001b[0;34m)\u001b[0m\u001b[0;34m\u001b[0m\u001b[0;34m\u001b[0m\u001b[0m\n\u001b[0m\u001b[1;32m      8\u001b[0m   \u001b[0max\u001b[0m\u001b[0;34m.\u001b[0m\u001b[0mset_title\u001b[0m\u001b[0;34m(\u001b[0m\u001b[0;34m\"{}\"\u001b[0m\u001b[0;34m.\u001b[0m\u001b[0mformat\u001b[0m\u001b[0;34m(\u001b[0m\u001b[0mclf\u001b[0m\u001b[0;34m.\u001b[0m\u001b[0m__class__\u001b[0m\u001b[0;34m.\u001b[0m\u001b[0m__name__\u001b[0m\u001b[0;34m)\u001b[0m\u001b[0;34m)\u001b[0m  \u001b[0;31m# 모델명\u001b[0m\u001b[0;34m\u001b[0m\u001b[0;34m\u001b[0m\u001b[0m\n\u001b[1;32m      9\u001b[0m   \u001b[0max\u001b[0m\u001b[0;34m.\u001b[0m\u001b[0mset_xlabel\u001b[0m\u001b[0;34m(\u001b[0m\u001b[0;34m\"특성 0\"\u001b[0m\u001b[0;34m)\u001b[0m\u001b[0;34m\u001b[0m\u001b[0;34m\u001b[0m\u001b[0m\n",
            "\u001b[0;32m/usr/local/lib/python3.6/dist-packages/mglearn/plot_helpers.py\u001b[0m in \u001b[0;36mdiscrete_scatter\u001b[0;34m(x1, x2, y, markers, s, ax, labels, padding, alpha, c, markeredgewidth)\u001b[0m\n\u001b[1;32m     93\u001b[0m             \u001b[0mmarkeredgecolor\u001b[0m \u001b[0;34m=\u001b[0m \u001b[0;34m\"black\"\u001b[0m\u001b[0;34m\u001b[0m\u001b[0;34m\u001b[0m\u001b[0m\n\u001b[1;32m     94\u001b[0m \u001b[0;34m\u001b[0m\u001b[0m\n\u001b[0;32m---> 95\u001b[0;31m         lines.append(ax.plot(x1[mask], x2[mask], markers[i], markersize=s,\n\u001b[0m\u001b[1;32m     96\u001b[0m                              \u001b[0mlabel\u001b[0m\u001b[0;34m=\u001b[0m\u001b[0mlabels\u001b[0m\u001b[0;34m[\u001b[0m\u001b[0mi\u001b[0m\u001b[0;34m]\u001b[0m\u001b[0;34m,\u001b[0m \u001b[0malpha\u001b[0m\u001b[0;34m=\u001b[0m\u001b[0malpha\u001b[0m\u001b[0;34m,\u001b[0m \u001b[0mc\u001b[0m\u001b[0;34m=\u001b[0m\u001b[0mcolor\u001b[0m\u001b[0;34m,\u001b[0m\u001b[0;34m\u001b[0m\u001b[0;34m\u001b[0m\u001b[0m\n\u001b[1;32m     97\u001b[0m                              \u001b[0mmarkeredgewidth\u001b[0m\u001b[0;34m=\u001b[0m\u001b[0mmarkeredgewidth\u001b[0m\u001b[0;34m,\u001b[0m\u001b[0;34m\u001b[0m\u001b[0;34m\u001b[0m\u001b[0m\n",
            "\u001b[0;31mIndexError\u001b[0m: boolean index did not match indexed array along dimension 0; dimension is 7 but corresponding boolean dimension is 19"
          ]
        },
        {
          "output_type": "display_data",
          "data": {
            "image/png": "[encoded data removed]",
            "text/plain": [
              "<matplotlib.figure.Figure at 0x7f89f662c630>"
            ]
          },
          "metadata": {
            "tags": []
          }
        }
      ]
    },
    {
      "metadata": {
        "id": "iqWQ_0qTnCcg",
        "colab_type": "code",
        "colab": {
          "base_uri": "https://localhost:8080/",
          "height": 89
        },
        "outputId": "73a5aea9-5b2c-4253-b22d-e849a08e9914"
      },
      "cell_type": "code",
      "source": [
        "### 로지스틱 회귀 함수를 이용해서 훈련세트 점수와 테스트 세트 점수 구해주세요.\n",
        "logreg = LogisticRegression().fit(X_train, y_train)\n",
        "\n",
        "print(\"훈련 세트 점수: {:.3f}\".format(logreg.score(X_train, y_train)))\n",
        "print(\"테스트 세트 점수: {:.3f}\".format(\n",
        "    logreg.score(X_test, y_test)))"
      ],
      "execution_count": 40,
      "outputs": [
        {
          "output_type": "stream",
          "text": [
            "훈련 세트 점수: 0.955\n",
            "테스트 세트 점수: 0.958\n"
          ],
          "name": "stdout"
        },
        {
          "output_type": "stream",
          "text": [
            "/usr/local/lib/python3.6/dist-packages/sklearn/linear_model/logistic.py:433: FutureWarning: Default solver will be changed to 'lbfgs' in 0.22. Specify a solver to silence this warning.\n",
            "  FutureWarning)\n"
          ],
          "name": "stderr"
        }
      ]
    },
    {
      "metadata": {
        "id": "I-Fculvmu2P1",
        "colab_type": "code",
        "colab": {
          "base_uri": "https://localhost:8080/",
          "height": 89
        },
        "outputId": "3a069e93-6534-4ecd-d83b-fa3f70ac3e3b"
      },
      "cell_type": "code",
      "source": [
        "logreg100 = LogisticRegression(C=100).fit(X_train, y_train)\n",
        "print(\"훈련 세트 점수: {:.3f}\".format(logreg100.score(X_train, y_train)))\n",
        "print(\"테스트 세트 점수: {:.3f}\".format(logreg100.score(X_test, y_test)))"
      ],
      "execution_count": 41,
      "outputs": [
        {
          "output_type": "stream",
          "text": [
            "훈련 세트 점수: 0.972\n",
            "테스트 세트 점수: 0.965\n"
          ],
          "name": "stdout"
        },
        {
          "output_type": "stream",
          "text": [
            "/usr/local/lib/python3.6/dist-packages/sklearn/linear_model/logistic.py:433: FutureWarning: Default solver will be changed to 'lbfgs' in 0.22. Specify a solver to silence this warning.\n",
            "  FutureWarning)\n"
          ],
          "name": "stderr"
        }
      ]
    },
    {
      "metadata": {
        "id": "wbexRIRHv30c",
        "colab_type": "code",
        "colab": {
          "base_uri": "https://localhost:8080/",
          "height": 89
        },
        "outputId": "165e9057-40c5-480f-9e92-6d11eb026c30"
      },
      "cell_type": "code",
      "source": [
        "logreg001 = LogisticRegression(C=0.01).fit(X_train, y_train)\n",
        "print(\"훈련 세트 점수: {:.3f}\".format(logreg001.score(X_train, y_train)))\n",
        "print(\"테스트 세트 점수: {:.3f}\".format(logreg001.score(X_test, y_test)))"
      ],
      "execution_count": 43,
      "outputs": [
        {
          "output_type": "stream",
          "text": [
            "훈련 세트 점수: 0.934\n",
            "테스트 세트 점수: 0.930\n"
          ],
          "name": "stdout"
        },
        {
          "output_type": "stream",
          "text": [
            "/usr/local/lib/python3.6/dist-packages/sklearn/linear_model/logistic.py:433: FutureWarning: Default solver will be changed to 'lbfgs' in 0.22. Specify a solver to silence this warning.\n",
            "  FutureWarning)\n"
          ],
          "name": "stderr"
        }
      ]
    },
    {
      "metadata": {
        "id": "wt2_SwBJu44A",
        "colab_type": "code",
        "colab": {
          "base_uri": "https://localhost:8080/",
          "height": 472
        },
        "outputId": "0bd50181-7f65-48d9-8a46-050fa070a962"
      },
      "cell_type": "code",
      "source": [
        "plt.plot(logreg100.coef_.T, '^', label=\"C=100\")\n",
        "plt.plot(logreg.coef_.T, 'o', label=\"C=1\")\n",
        "plt.plot(logreg001.coef_.T, 'v', label=\"C=0.001\")\n",
        "plt.xticks(range(cancer.data.shape[1]), cancer.feature_names, rotation=90)\n",
        "xlims = plt.xlim()\n",
        "plt.hlines(0, xlims[0], xlims[1])\n",
        "plt.xlim(xlims)\n",
        "plt.ylim(-5, 5)\n",
        "plt.xlabel(\"특성\")\n",
        "plt.ylabel(\"계수 크기\")\n",
        "plt.legend()"
      ],
      "execution_count": 44,
      "outputs": [
        {
          "output_type": "execute_result",
          "data": {
            "text/plain": [
              "<matplotlib.legend.Legend at 0x7f89f3cc3240>"
            ]
          },
          "metadata": {
            "tags": []
          },
          "execution_count": 44
        },
        {
          "output_type": "display_data",
          "data": {
            "image/png": "[encoded data removed]",
            "text/plain": [
              "<matplotlib.figure.Figure at 0x7f89f3d2d780>"
            ]
          },
          "metadata": {
            "tags": []
          }
        }
      ]
    },
    {
      "metadata": {
        "id": "fzBp-WzMvq5Y",
        "colab_type": "code",
        "colab": {}
      },
      "cell_type": "code",
      "source": [
        ""
      ],
      "execution_count": 0,
      "outputs": []
    }
  ]
}