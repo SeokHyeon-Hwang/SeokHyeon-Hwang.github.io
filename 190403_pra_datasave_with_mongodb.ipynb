{
 "cells": [
  {
   "cell_type": "markdown",
   "metadata": {},
   "source": [
    "# 능력단위 평가 - 데이터 저장"
   ]
  },
  {
   "cell_type": "markdown",
   "metadata": {},
   "source": [
    "## [실습과제 1]\n",
    "### [기본항목 2-1,2-2,2-3] (20 점)\n",
    "아래의 요구사항은 다음과 같다.<br>\n",
    "games 라는 DB 를 만들고,<br>\n",
    "games:[게임명], heros:[영웅],<br>\n",
    "userNum:[사용유저수] 로 데이터를 추가한 후,<br>\n",
    "이 데이터를 Python 프로그램을 이용하여<br>\n",
    "저장 모델 설계와 데이터가 추가가 잘 이루어졌는지 확인해 보자.\n",
    "\n",
    "#### (가) DB 설계를 위한 데이터 파악\n",
    "#### (나) 데이터 저장 모델 설계\n",
    "#### (다) 저장 모델 및 데이터에 대한 Python 을 이용한 확인"
   ]
  },
  {
   "cell_type": "code",
   "execution_count": 1,
   "metadata": {},
   "outputs": [],
   "source": [
    "# PyMongo 활용 MongoDB 연결\n",
    "import pymongo"
   ]
  },
  {
   "cell_type": "code",
   "execution_count": 2,
   "metadata": {},
   "outputs": [],
   "source": [
    "# 연결\n",
    "client = pymongo.MongoClient('localhost', 27017)"
   ]
  },
  {
   "cell_type": "code",
   "execution_count": 3,
   "metadata": {},
   "outputs": [
    {
     "name": "stderr",
     "output_type": "stream",
     "text": [
      "C:\\ProgramData\\Anaconda3\\lib\\site-packages\\ipykernel_launcher.py:2: DeprecationWarning: database_names is deprecated. Use list_database_names instead.\n",
      "  \n"
     ]
    },
    {
     "data": {
      "text/plain": [
       "['admin', 'config', 'local', 'test']"
      ]
     },
     "execution_count": 3,
     "metadata": {},
     "output_type": "execute_result"
    }
   ],
   "source": [
    "# DB 확인\n",
    "client.database_names()"
   ]
  },
  {
   "cell_type": "code",
   "execution_count": 5,
   "metadata": {},
   "outputs": [],
   "source": [
    "# games 라는 db 생성\n",
    "db = client.games"
   ]
  },
  {
   "cell_type": "code",
   "execution_count": 7,
   "metadata": {},
   "outputs": [
    {
     "data": {
      "text/plain": [
       "Database(MongoClient(host=['localhost:27017'], document_class=dict, tz_aware=False, connect=True), 'games')"
      ]
     },
     "execution_count": 7,
     "metadata": {},
     "output_type": "execute_result"
    }
   ],
   "source": [
    "db"
   ]
  },
  {
   "cell_type": "code",
   "execution_count": 6,
   "metadata": {},
   "outputs": [
    {
     "data": {
      "text/plain": [
       "Collection(Database(MongoClient(host=['localhost:27017'], document_class=dict, tz_aware=False, connect=True), 'games'), 'league_of_legends')"
      ]
     },
     "execution_count": 6,
     "metadata": {},
     "output_type": "execute_result"
    }
   ],
   "source": [
    "# league_of_legends 라는 collection 생성\n",
    "db_col = db.league_of_legends\n",
    "db_col"
   ]
  },
  {
   "cell_type": "code",
   "execution_count": 8,
   "metadata": {},
   "outputs": [
    {
     "name": "stderr",
     "output_type": "stream",
     "text": [
      "C:\\ProgramData\\Anaconda3\\lib\\site-packages\\ipykernel_launcher.py:7: DeprecationWarning: insert is deprecated. Use insert_one or insert_many instead.\n",
      "  import sys\n"
     ]
    },
    {
     "data": {
      "text/plain": [
       "ObjectId('5ca41fe127243814900b8ed9')"
      ]
     },
     "execution_count": 8,
     "metadata": {},
     "output_type": "execute_result"
    }
   ],
   "source": [
    "# 데이터 삽입\n",
    "data = {\n",
    "    'games': 'league_of_legends',\n",
    "    'heros':'Darius',\n",
    "    'userNum':200000\n",
    "}\n",
    "db_col.insert(data)"
   ]
  },
  {
   "cell_type": "code",
   "execution_count": 10,
   "metadata": {},
   "outputs": [
    {
     "name": "stdout",
     "output_type": "stream",
     "text": [
      "['admin', 'config', 'games', 'local', 'test']\n"
     ]
    },
    {
     "name": "stderr",
     "output_type": "stream",
     "text": [
      "C:\\ProgramData\\Anaconda3\\lib\\site-packages\\ipykernel_launcher.py:2: DeprecationWarning: database_names is deprecated. Use list_database_names instead.\n",
      "  \n"
     ]
    }
   ],
   "source": [
    "# 데이터 확인\n",
    "print(client.database_names())"
   ]
  },
  {
   "cell_type": "code",
   "execution_count": 11,
   "metadata": {},
   "outputs": [
    {
     "name": "stdout",
     "output_type": "stream",
     "text": [
      "{'_id': ObjectId('5ca41fe127243814900b8ed9'), 'games': 'league_of_legends', 'heros': 'Darius', 'userNum': 200000}\n"
     ]
    }
   ],
   "source": [
    "cursor = db_col.find()\n",
    "for doc in cursor:\n",
    "    print(doc)"
   ]
  },
  {
   "cell_type": "markdown",
   "metadata": {},
   "source": [
    "## [실습과제 2]\n",
    "[기본항목 3-1,3-2,3-3]\n",
    "빅데이터 처리 시스템 구성\n",
    "\n",
    "대용량 처리 시스템을 구성하기 위한 DB 구성,<br> \n",
    "그리고 Python 을 이용한 빅데이터 처리 환경 구성해 보기<br>\n",
    "(1) Window 환경에서 MongoDB 를 설치를 진행해 보자. (5 점)<br>\n",
    "(2) 주어진 절차에 따라 MongoDB 가 설치되어있는지 확인해 보자. (5 점)<br>\n",
    "(3) 환경 설정 후, mongo db 서버를 시작해 보고 해당 버전을 확인해 주세요.(5 점)<br><br>\n",
    "\n",
    "그리고 아래 명령을 수행 한 후, 결과 내용을 확인해 주세요.<br>\n",
    "(가) 데이터 베이스 확인하기<br>\n",
    "(나) 데이터 베이스 사용하기<br>\n",
    "(다) collection 을 확인해 보기<br>\n",
    "(5 점)"
   ]
  },
  {
   "cell_type": "markdown",
   "metadata": {},
   "source": [
    "##### Mongodb 설치"
   ]
  },
  {
   "cell_type": "markdown",
   "metadata": {},
   "source": [
    "![image](https://user-images.githubusercontent.com/42320146/54733898-a0dae100-4bdf-11e9-9ac4-dc9d6427337f.png)"
   ]
  },
  {
   "cell_type": "markdown",
   "metadata": {},
   "source": [
    "##### 환경 변수 설정"
   ]
  },
  {
   "cell_type": "markdown",
   "metadata": {},
   "source": [
    "![image](https://user-images.githubusercontent.com/42320146/54734026-602f9780-4be0-11e9-9764-2a1e715f1298.png)\n"
   ]
  },
  {
   "cell_type": "markdown",
   "metadata": {},
   "source": [
    "##### cmd에서 mongod 실행"
   ]
  },
  {
   "cell_type": "markdown",
   "metadata": {},
   "source": [
    "![image](https://user-images.githubusercontent.com/42320146/54733920-be0faf80-4bdf-11e9-802e-9ea237922875.png)\n"
   ]
  },
  {
   "cell_type": "markdown",
   "metadata": {},
   "source": [
    "##### db 폴더 생성"
   ]
  },
  {
   "cell_type": "markdown",
   "metadata": {},
   "source": [
    "![image](https://user-images.githubusercontent.com/42320146/54733932-d2ec4300-4bdf-11e9-8ae0-42bbb82ed8b1.png)\n"
   ]
  },
  {
   "cell_type": "markdown",
   "metadata": {},
   "source": [
    "##### Mongod 띄어두기"
   ]
  },
  {
   "cell_type": "markdown",
   "metadata": {},
   "source": [
    "![image](https://user-images.githubusercontent.com/42320146/54733945-f0b9a800-4bdf-11e9-936d-3f77f4837d1f.png)\n"
   ]
  },
  {
   "cell_type": "markdown",
   "metadata": {},
   "source": [
    "##### Mongo 실행"
   ]
  },
  {
   "cell_type": "markdown",
   "metadata": {},
   "source": [
    "![image](https://user-images.githubusercontent.com/42320146/54733965-04fda500-4be0-11e9-896a-baf6062cc1da.png)\n"
   ]
  },
  {
   "cell_type": "markdown",
   "metadata": {},
   "source": [
    "##### db 확인"
   ]
  },
  {
   "cell_type": "markdown",
   "metadata": {},
   "source": [
    "![image](https://user-images.githubusercontent.com/42320146/55450541-768b1980-560a-11e9-8e7f-646b49ff5e95.png)\n"
   ]
  },
  {
   "cell_type": "markdown",
   "metadata": {},
   "source": [
    "##### db 사용"
   ]
  },
  {
   "cell_type": "markdown",
   "metadata": {},
   "source": [
    "![image](https://user-images.githubusercontent.com/42320146/55450650-d2ee3900-560a-11e9-9f02-fec5fd9a05ba.png)\n"
   ]
  },
  {
   "cell_type": "markdown",
   "metadata": {},
   "source": [
    "##### collection 확인"
   ]
  },
  {
   "cell_type": "markdown",
   "metadata": {},
   "source": [
    "![image](https://user-images.githubusercontent.com/42320146/55450700-f618e880-560a-11e9-8dd2-e4e79e7fa4ba.png)\n"
   ]
  },
  {
   "cell_type": "markdown",
   "metadata": {},
   "source": [
    "##### 데이터 확인"
   ]
  },
  {
   "cell_type": "markdown",
   "metadata": {},
   "source": [
    "![image](https://user-images.githubusercontent.com/42320146/55450726-10eb5d00-560b-11e9-995e-822c17806397.png)\n"
   ]
  },
  {
   "cell_type": "markdown",
   "metadata": {},
   "source": [
    "## [실습과제 3]\n",
    "[기본항목 4-1, 4-2, 4-3] 빅데이터 적재하기<br>\n",
    "MongoDB 는 Collection 이라는 것을 이용한다.<br>\n",
    "(1) 하나의 Collection 을 생성해 보자. 생성 후, 데이터를 해당 Collection 에 올려보자.(5 점)<br>\n",
    "(2) 반복적으로 데이터를 적재해야 할 상황이 발생할 수 있다. 반복문을 통한 해당 Collection 에 데이터를 주기적으로 적재하는 프로그램을 작성해 보자.(5 점)<br>\n",
    "(3) 위의 1,2 과정을 다른 데이터 셋을 이용하여 수행해 보자. (10 점)<br>"
   ]
  },
  {
   "cell_type": "markdown",
   "metadata": {},
   "source": [
    "##### games 라는 db 내에 Diablo2 라는 collection 만들고 Amazon 이라는 히어로 데이터 넣기"
   ]
  },
  {
   "cell_type": "markdown",
   "metadata": {},
   "source": [
    "![image](https://user-images.githubusercontent.com/42320146/55451619-ae945b80-560e-11e9-9b0e-25c2ac237fb4.png)\n"
   ]
  },
  {
   "cell_type": "markdown",
   "metadata": {},
   "source": [
    "##### Diablo2 콜렉션 내 데이터 확인"
   ]
  },
  {
   "cell_type": "markdown",
   "metadata": {},
   "source": [
    "![image](https://user-images.githubusercontent.com/42320146/55451639-bfdd6800-560e-11e9-9e1f-4b66454afa03.png)\n"
   ]
  },
  {
   "cell_type": "markdown",
   "metadata": {},
   "source": [
    "##### Harry_Potter 라는 콜렉션 만들고 for loop으로 데이터 넣기"
   ]
  },
  {
   "cell_type": "markdown",
   "metadata": {},
   "source": [
    "![image](https://user-images.githubusercontent.com/42320146/55451679-edc2ac80-560e-11e9-8d17-364235e78002.png)\n"
   ]
  }
 ],
 "metadata": {
  "kernelspec": {
   "display_name": "Python 3",
   "language": "python",
   "name": "python3"
  },
  "language_info": {
   "codemirror_mode": {
    "name": "ipython",
    "version": 3
   },
   "file_extension": ".py",
   "mimetype": "text/x-python",
   "name": "python",
   "nbconvert_exporter": "python",
   "pygments_lexer": "ipython3",
   "version": "3.6.5"
  }
 },
 "nbformat": 4,
 "nbformat_minor": 2
}
