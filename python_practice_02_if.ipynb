{
 "cells": [
  {
   "cell_type": "markdown",
   "metadata": {},
   "source": [
    "## if문"
   ]
  },
  {
   "cell_type": "markdown",
   "metadata": {},
   "source": [
    "#01."
   ]
  },
  {
   "cell_type": "code",
   "execution_count": 3,
   "metadata": {},
   "outputs": [
    {
     "name": "stdout",
     "output_type": "stream",
     "text": [
      "점수를 입력하세요.>79\n",
      "노력필요\n"
     ]
    }
   ],
   "source": [
    "a=int(input('점수를 입력하세요.>'))\n",
    "if a>=80:\n",
    "    print('잘함')\n",
    "else:\n",
    "    print('노력필요')"
   ]
  },
  {
   "cell_type": "markdown",
   "metadata": {},
   "source": [
    "#02"
   ]
  },
  {
   "cell_type": "code",
   "execution_count": 12,
   "metadata": {},
   "outputs": [
    {
     "name": "stdout",
     "output_type": "stream",
     "text": [
      "현재 가진 돈은 얼마입니까.0\n",
      "카드를 갖고 있습니까. 가지고 있으면 1, 없으면 0을 입력하세요.0\n",
      "걸어간다.\n"
     ]
    }
   ],
   "source": [
    "a=int(input('현재 가진 돈은 얼마입니까.'))\n",
    "b=int(input('카드를 갖고 있습니까. 가지고 있으면 1, 없으면 0을 입력하세요.'))\n",
    "if a<3000 and b==0:\n",
    "    print('걸어간다.')\n",
    "else :\n",
    "    print('택시를 타고 간다.')"
   ]
  },
  {
   "cell_type": "markdown",
   "metadata": {},
   "source": [
    "#03."
   ]
  },
  {
   "cell_type": "code",
   "execution_count": 16,
   "metadata": {},
   "outputs": [
    {
     "name": "stdout",
     "output_type": "stream",
     "text": [
      "coin=1, ticket=2, candy=3, 해당 숫자를 입력하세요.1\n",
      "버스를 타고 간다.\n"
     ]
    }
   ],
   "source": [
    "tuple=('coin', 'ticket', 'candy')\n",
    "\n",
    "mine=int(input('coin=1, ticket=2, candy=3, 해당 숫자를 입력하세요.'))\n",
    "if mine == 2 :\n",
    "    print('기차를 타고 간다.')\n",
    "elif mine == 1 :\n",
    "    print('버스를 타고 간다.')\n",
    "elif mine ==3 :\n",
    "    print('뛰어 간다.')\n",
    "else:\n",
    "    print('걸어간다.')"
   ]
  },
  {
   "cell_type": "markdown",
   "metadata": {},
   "source": [
    "#04."
   ]
  },
  {
   "cell_type": "code",
   "execution_count": 24,
   "metadata": {},
   "outputs": [
    {
     "name": "stdout",
     "output_type": "stream",
     "text": [
      "coin=1, ticket=2, candy=3, 해당되는 물건의 숫자를 입력하세요.3\n",
      "집에서 쉰다.\n"
     ]
    }
   ],
   "source": [
    "mypocket=[]\n",
    "mystuff=int(input('coin=1, ticket=2, candy=3, 해당되는 물건의 숫자를 입력하세요.'))\n",
    "mypocket.append(mystuff)\n",
    "if mypocket not in [1,2,3]:\n",
    "    print('집에서 쉰다.')\n",
    "else :\n",
    "    print('여행을 떠난다.')"
   ]
  },
  {
   "cell_type": "code",
   "execution_count": null,
   "metadata": {},
   "outputs": [],
   "source": []
  }
 ],
 "metadata": {
  "kernelspec": {
   "display_name": "Python 3",
   "language": "python",
   "name": "python3"
  },
  "language_info": {
   "codemirror_mode": {
    "name": "ipython",
    "version": 3
   },
   "file_extension": ".py",
   "mimetype": "text/x-python",
   "name": "python",
   "nbconvert_exporter": "python",
   "pygments_lexer": "ipython3",
   "version": "3.6.5"
  }
 },
 "nbformat": 4,
 "nbformat_minor": 2
}
