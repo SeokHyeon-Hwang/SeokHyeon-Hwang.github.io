{
 "cells": [
  {
   "cell_type": "markdown",
   "metadata": {},
   "source": [
    "# 함수 만들기"
   ]
  },
  {
   "cell_type": "markdown",
   "metadata": {},
   "source": [
    "함수란 특정 기능을 수행하도록 하는 명령"
   ]
  },
  {
   "cell_type": "code",
   "execution_count": 24,
   "metadata": {},
   "outputs": [
    {
     "name": "stdout",
     "output_type": "stream",
     "text": [
      "해는 2.0 또는 -4.0\n"
     ]
    }
   ],
   "source": [
    "a=1\n",
    "b=2\n",
    "c=-8\n",
    "\n",
    "r1=(-b+(b**2-4*a*c)**0.5)/(2*a)\n",
    "r2=(-b-(b**2-4*a*c)**0.5)/(2*a)\n",
    "\n",
    "print('해는 {} 또는 {}'.format(r1,r2))"
   ]
  },
  {
   "cell_type": "code",
   "execution_count": 25,
   "metadata": {},
   "outputs": [
    {
     "name": "stdout",
     "output_type": "stream",
     "text": [
      "해는 4.0 또는 -1.0\n"
     ]
    }
   ],
   "source": [
    "def print_sqrt():\n",
    "    r1=(-b+(b**2-4*a*c)**0.5)/(2*a)\n",
    "    r2=(-b-(b**2-4*a*c)**0.5)/(2*a)\n",
    "    print('해는 {} 또는 {}'.format(r1,r2))\n",
    "    \n",
    "a=2\n",
    "b=-6\n",
    "c=-8\n",
    "\n",
    "print_sqrt()"
   ]
  },
  {
   "cell_type": "code",
   "execution_count": 26,
   "metadata": {},
   "outputs": [],
   "source": [
    "def function():\n",
    "    print('안녕!')"
   ]
  },
  {
   "cell_type": "code",
   "execution_count": 27,
   "metadata": {},
   "outputs": [
    {
     "name": "stdout",
     "output_type": "stream",
     "text": [
      "안녕!\n"
     ]
    }
   ],
   "source": [
    "function()"
   ]
  },
  {
   "cell_type": "code",
   "execution_count": 28,
   "metadata": {},
   "outputs": [
    {
     "name": "stdout",
     "output_type": "stream",
     "text": [
      "\n",
      "\n",
      "\n"
     ]
    }
   ],
   "source": [
    "print()\n",
    "print()\n",
    "print()"
   ]
  },
  {
   "cell_type": "code",
   "execution_count": 29,
   "metadata": {},
   "outputs": [
    {
     "name": "stdout",
     "output_type": "stream",
     "text": [
      "12\n"
     ]
    }
   ],
   "source": [
    "a=5\n",
    "b=7\n",
    "\n",
    "def add():\n",
    "    result = a+b\n",
    "    print(result)\n",
    "\n",
    "add()"
   ]
  },
  {
   "cell_type": "markdown",
   "metadata": {},
   "source": [
    "위 add 함수는 a, b라는 변수를 지정해야만 정상 작동한다."
   ]
  },
  {
   "cell_type": "code",
   "execution_count": 30,
   "metadata": {},
   "outputs": [
    {
     "name": "stdout",
     "output_type": "stream",
     "text": [
      "해는 4.0 또는 -1.0\n"
     ]
    }
   ],
   "source": [
    "def print_sqrt(a,b,c):\n",
    "    r1=(-b+(b**2-4*a*c)**0.5)/(2*a)\n",
    "    r2=(-b-(b**2-4*a*c)**0.5)/(2*a)\n",
    "    print('해는 {} 또는 {}'.format(r1,r2))\n",
    "    \n",
    "x=2\n",
    "y=-6\n",
    "z=-8\n",
    "\n",
    "print_sqrt(x,y,z)"
   ]
  },
  {
   "cell_type": "markdown",
   "metadata": {},
   "source": [
    "함수를 실행할 때 '함수이름()'의 괄호 안에 쓰는 것을 실행인자(argument),\n",
    "\n",
    "함수를 정의할 때 '함수이름()'의 괄호 안에 쓰는 것을 매개변수(parameter)라 한다.\n",
    "\n",
    "함수 실행 시 실행인자를 매개변수와 대응시켜서 정의된 함수를 실행한다. "
   ]
  },
  {
   "cell_type": "code",
   "execution_count": 31,
   "metadata": {},
   "outputs": [
    {
     "name": "stdout",
     "output_type": "stream",
     "text": [
      "5\n",
      "2\n",
      "4\n"
     ]
    }
   ],
   "source": [
    "def print_round(number):\n",
    "    rounded = round(number)\n",
    "    print(rounded)\n",
    "    \n",
    "print_round(4.6)\n",
    "print_round(2.2)\n",
    "print_round(3.6)"
   ]
  },
  {
   "cell_type": "markdown",
   "metadata": {},
   "source": [
    "매개변수를 함수에 설정하고 나면 함수 안은 신경쓰지 않아도 된다.\n",
    "\n",
    "그리고 함수 사용 시 매개변수의 갯수 만큼의 값만 실행인자를 넣어주면 된다.\n",
    "\n",
    "실행인자로 꼭 변수를 넘겨줄 필요는 없다. 필요한 값을 바로 넘겨줘도 된다.\n",
    "\n",
    "함수 밖의 a,b,c를 매개변수로 씀으로써 함수가 독립적인 것이 되었다."
   ]
  },
  {
   "cell_type": "markdown",
   "metadata": {},
   "source": [
    "# 함수의 기능 - 값을 만들어 돌려주기"
   ]
  },
  {
   "cell_type": "code",
   "execution_count": 32,
   "metadata": {},
   "outputs": [],
   "source": [
    "def add_10(value):\n",
    "    '''value에 10을 더한 값을 돌려주는 함수'''\n",
    "    result=value+10\n",
    "    return result"
   ]
  },
  {
   "cell_type": "code",
   "execution_count": 33,
   "metadata": {},
   "outputs": [
    {
     "name": "stdout",
     "output_type": "stream",
     "text": [
      "52\n"
     ]
    }
   ],
   "source": [
    "n=add_10(42)\n",
    "print(n)"
   ]
  },
  {
   "cell_type": "markdown",
   "metadata": {},
   "source": [
    "return은 add_10 함수의 자리에 결과인 52를 써넣은 것과 같다.\n",
    "\n",
    "결과값을 호출한 곳에 넘겨준다."
   ]
  },
  {
   "cell_type": "code",
   "execution_count": 34,
   "metadata": {},
   "outputs": [
    {
     "name": "stdout",
     "output_type": "stream",
     "text": [
      "10\n",
      "52\n"
     ]
    }
   ],
   "source": [
    "def add_10(value):\n",
    "    '''value에 10을 더한 값을 돌려주는 함수'''\n",
    "    if value <10:\n",
    "        return 10 #즉시 종료\n",
    "    \n",
    "    result = value +10\n",
    "    return result\n",
    "    \n",
    "n=add_10(5)\n",
    "print(n)\n",
    "\n",
    "t=add_10(42)\n",
    "print(t)"
   ]
  },
  {
   "cell_type": "markdown",
   "metadata": {},
   "source": [
    "함수를 끝내는 용도로도 사용할 수 있다."
   ]
  },
  {
   "cell_type": "code",
   "execution_count": 35,
   "metadata": {},
   "outputs": [],
   "source": [
    "def root(a,b,c):\n",
    "    r1=(-b+(b**2-4*a*c)**0.5)/(2*a)\n",
    "    r2=(-b-(b**2-4*a*c)**0.5)/(2*a)\n",
    "    \n",
    "    return r1"
   ]
  },
  {
   "cell_type": "code",
   "execution_count": 36,
   "metadata": {},
   "outputs": [
    {
     "name": "stdout",
     "output_type": "stream",
     "text": [
      "근은 4.0\n"
     ]
    }
   ],
   "source": [
    "r=root(x,y,z)\n",
    "print('근은 {}'.format(r))"
   ]
  },
  {
   "cell_type": "code",
   "execution_count": 53,
   "metadata": {},
   "outputs": [],
   "source": [
    "def root2(a,b,c):\n",
    "    r1=(-b+(b**2-4*a*c)**0.5)/(2*a)\n",
    "    r2=(-b-(b**2-4*a*c)**0.5)/(2*a)\n",
    "    \n",
    "    return r1, r2"
   ]
  },
  {
   "cell_type": "code",
   "execution_count": 54,
   "metadata": {},
   "outputs": [
    {
     "name": "stdout",
     "output_type": "stream",
     "text": [
      "근은 4.0 -1.0\n"
     ]
    }
   ],
   "source": [
    "r1, r2 = root2(x,y,z)\n",
    "print('근은 {} {}'.format(r1, r2))"
   ]
  },
  {
   "cell_type": "code",
   "execution_count": 60,
   "metadata": {},
   "outputs": [
    {
     "data": {
      "text/plain": [
       "(4.0, -1.0)"
      ]
     },
     "execution_count": 60,
     "metadata": {},
     "output_type": "execute_result"
    }
   ],
   "source": [
    "r1, r2"
   ]
  },
  {
   "cell_type": "code",
   "execution_count": 62,
   "metadata": {},
   "outputs": [],
   "source": [
    "def add(a,b):\n",
    "    r=a+b\n",
    "    return r"
   ]
  },
  {
   "cell_type": "code",
   "execution_count": null,
   "metadata": {},
   "outputs": [],
   "source": []
  }
 ],
 "metadata": {
  "kernelspec": {
   "display_name": "Python 3",
   "language": "python",
   "name": "python3"
  },
  "language_info": {
   "codemirror_mode": {
    "name": "ipython",
    "version": 3
   },
   "file_extension": ".py",
   "mimetype": "text/x-python",
   "name": "python",
   "nbconvert_exporter": "python",
   "pygments_lexer": "ipython3",
   "version": "3.6.5"
  }
 },
 "nbformat": 4,
 "nbformat_minor": 2
}
