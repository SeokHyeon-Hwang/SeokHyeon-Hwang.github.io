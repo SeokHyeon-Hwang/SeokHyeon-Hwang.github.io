{
 "cells": [
  {
   "cell_type": "markdown",
   "metadata": {},
   "source": [
    "# format"
   ]
  },
  {
   "cell_type": "markdown",
   "metadata": {},
   "source": [
    "### 문자열을 쉽게 만드는 방법"
   ]
  },
  {
   "cell_type": "code",
   "execution_count": 2,
   "metadata": {},
   "outputs": [
    {
     "name": "stdout",
     "output_type": "stream",
     "text": [
      "20 번 손님 안녕하세요 . 문자열 포맷의 세계 에 오신 것을 환영합니다 !\n",
      "{}번 손님, {}. {}에 오신 것을 {}!\n",
      "20번 손님, 안녕하세요. 문자열 포맷의 세계에 오신 것을 환영합니다!\n"
     ]
    }
   ],
   "source": [
    "number = 20\n",
    "greeting = '안녕하세요'\n",
    "place = '문자열 포맷의 세계'\n",
    "welcome = '환영합니다'\n",
    "\n",
    "# old way\n",
    "print(number, '번 손님', greeting, '.', place,\n",
    "     '에 오신 것을', welcome, '!')\n",
    "\n",
    "base = '{}번 손님, {}. {}에 오신 것을 {}!'\n",
    "new_way = base.format(number, greeting, place, welcome)\n",
    "\n",
    "print(base)\n",
    "print(new_way)"
   ]
  },
  {
   "cell_type": "markdown",
   "metadata": {},
   "source": [
    "빈칸 조절이 번거롭고, 따옴표, 쉼표가 많이 나와 보기도 어려우므로 format을 쓰자.\n",
    "\n",
    "format을 쓸 때는 base뒤에 점을 찍고 사용했다. base에 속해있는 기능이라는 뜻이다.\n",
    "\n",
    "format의 역할은 중괄호{}가 쓰여진 곳에서 중괄호를 다른 값으로 바꿔주는 것이다.\n",
    "\n",
    "base는 따옴표로 둘러쌓여 있고 텍스트가 들어가 있는 변수이다. base는 문자열이다.\n",
    "\n",
    "format은 단독적으로 쓰일 수는 없고 문자열뒤에 점을 찍어 사용이 가능하다.\n",
    "\n",
    "print()의 결과도 변수에 담지 않고 format으로 출력할 수 있다."
   ]
  },
  {
   "cell_type": "code",
   "execution_count": 4,
   "metadata": {},
   "outputs": [
    {
     "name": "stdout",
     "output_type": "stream",
     "text": [
      "안녕하세요. 제 이름은 Seokhyeon이고, 좋아하는 색깔은 blue입니다.\n"
     ]
    }
   ],
   "source": [
    "name = 'Seokhyeon'\n",
    "color = 'blue'\n",
    "print('안녕하세요. 제 이름은 {}이고, 좋아하는 색깔은 {}입니다.'.format(name,color))"
   ]
  },
  {
   "cell_type": "markdown",
   "metadata": {},
   "source": [
    "# 따옴표와 문자열"
   ]
  },
  {
   "cell_type": "markdown",
   "metadata": {},
   "source": [
    "따옴표의 역할 : 문자열(string)이라는 자료형을 만드는 것.\n",
    "\n",
    "추상적으로 다룰 때는 텍스트, 코드로 다룰 때는 문자열이라 칭함.\n",
    "\n",
    "### 문자열의 종류\n",
    "\n",
    "따옴표 안 텍스트 \n",
    "\n",
    "format을 써서 만들어 낸 값\n",
    "\n",
    "### 따옴표 3개를 이용하면 줄이 넘어가는 긴 문자열에도 사용 가능하다.\n",
    "\n",
    "따옴표 3개는 문장의 가장 첫 줄에 오면 주석 기능을 한다.\n",
    "\n",
    "print()의 파라미터 부분에 들어가면 문자열 처리하는 구분자 기능을 한다."
   ]
  },
  {
   "cell_type": "code",
   "execution_count": 5,
   "metadata": {},
   "outputs": [
    {
     "name": "stdout",
     "output_type": "stream",
     "text": [
      "첫째 줄,\n",
      "둘째 줄\n"
     ]
    }
   ],
   "source": [
    "long_string = '''첫째 줄,\n",
    "둘째 줄'''\n",
    "\n",
    "print(long_string)"
   ]
  },
  {
   "cell_type": "code",
   "execution_count": 13,
   "metadata": {},
   "outputs": [
    {
     "name": "stdout",
     "output_type": "stream",
     "text": [
      "다스베이더가 말했다.\n",
      "\"내가 니 애비다!\" \n",
      "그 말을 들은 루크는 '깜짝' 놀랐다. \n",
      "<class 'str'>\n"
     ]
    }
   ],
   "source": [
    "string1 = \"\"\"다스베이더가 말했다.\n",
    "\"내가 니 애비다!\" \n",
    "그 말을 들은 루크는 '깜짝' 놀랐다. \"\"\"\n",
    "\n",
    "print(string1)\n",
    "\n",
    "print(type(string1))"
   ]
  },
  {
   "cell_type": "markdown",
   "metadata": {},
   "source": [
    "# 정수와 실수"
   ]
  },
  {
   "cell_type": "markdown",
   "metadata": {},
   "source": [
    "수 가운데는 정수만 표현할 수 있는 수와\n",
    "\n",
    "소수도 표현할 수 있는 수가 따로 있다고 생각하자.\n",
    "\n",
    "### 정수와 부동소수점은 파이썬에서 숫자를 표현하는 방법"
   ]
  },
  {
   "cell_type": "code",
   "execution_count": 14,
   "metadata": {},
   "outputs": [
    {
     "name": "stdout",
     "output_type": "stream",
     "text": [
      "True\n"
     ]
    }
   ],
   "source": [
    "a=6\n",
    "b=5\n",
    "print(a == b * (a // b) + (a % b))"
   ]
  },
  {
   "cell_type": "markdown",
   "metadata": {},
   "source": [
    "정수는 정수영역만 다루는 대신 완벽한 정확도를 가진다.\n",
    "\n",
    "실수는 실수영역을 갖기만 완벽한 정확도를 갖지 않는다."
   ]
  },
  {
   "cell_type": "code",
   "execution_count": 15,
   "metadata": {},
   "outputs": [
    {
     "name": "stdout",
     "output_type": "stream",
     "text": [
      "True\n",
      "False\n",
      "5\n",
      "5.0\n",
      "5.0\n"
     ]
    }
   ],
   "source": [
    "print(0.1 + 0.1 == 0.2)\n",
    "print(0.1 + 0.1 + 0.1 == 0.3)\n",
    "\n",
    "print(int(5.0))  # 정수로\n",
    "print(float(5))  # 부동소수점으로\n",
    "print(5 * 1.0)"
   ]
  },
  {
   "cell_type": "markdown",
   "metadata": {},
   "source": [
    "실수를 정수로 바꾸려면 int를 이용\n",
    "\n",
    "a=int(5.4) = 5\n",
    "\n",
    "정수를 실수로 바꾸려면 float를 사용.\n",
    "\n",
    "a=float(5) = 5.0"
   ]
  }
 ],
 "metadata": {
  "kernelspec": {
   "display_name": "Python 3",
   "language": "python",
   "name": "python3"
  },
  "language_info": {
   "codemirror_mode": {
    "name": "ipython",
    "version": 3
   },
   "file_extension": ".py",
   "mimetype": "text/x-python",
   "name": "python",
   "nbconvert_exporter": "python",
   "pygments_lexer": "ipython3",
   "version": "3.6.5"
  }
 },
 "nbformat": 4,
 "nbformat_minor": 2
}
