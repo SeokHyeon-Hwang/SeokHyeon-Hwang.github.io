{
  "nbformat": 4,
  "nbformat_minor": 0,
  "metadata": {
    "colab": {
      "name": "RNN01_hwang.ipynb",
      "version": "0.3.2",
      "provenance": [],
      "collapsed_sections": []
    },
    "kernelspec": {
      "name": "python3",
      "display_name": "Python 3"
    }
  },
  "cells": [
    {
      "metadata": {
        "id": "dkRAZzKTEh4j",
        "colab_type": "text"
      },
      "cell_type": "markdown",
      "source": [
        "## RNN 이해"
      ]
    },
    {
      "metadata": {
        "id": "fdc3DvpzFuhF",
        "colab_type": "text"
      },
      "cell_type": "markdown",
      "source": [
        "### RNN의 약자?\n",
        "* 순환 신경망(Recurrent Neural Network)이다.\n"
      ]
    },
    {
      "metadata": {
        "id": "NxUBZtqDGBc4",
        "colab_type": "text"
      },
      "cell_type": "markdown",
      "source": [
        "### 어떤 경우에 쓰일까?\n",
        "* 앞의 정보로 다음에 나오는 정보 추측. RNN을쓰면 좋은 프로그램을 만들 수 있다."
      ]
    },
    {
      "metadata": {
        "id": "SGN-n7sFGScM",
        "colab_type": "text"
      },
      "cell_type": "markdown",
      "source": [
        "### 대표적인 서비스\n",
        "* 2016년 구글의 신경망 기반 기계 번역이 RNN을 이용해서 만들었다."
      ]
    },
    {
      "metadata": {
        "id": "P0cELKeGGjeK",
        "colab_type": "text"
      },
      "cell_type": "markdown",
      "source": [
        "### 기존의 신경망과 다른 점이 있다면"
      ]
    },
    {
      "metadata": {
        "id": "SSwpSHDLGoYE",
        "colab_type": "code",
        "outputId": "4a4a54ec-47c0-4991-d5a0-89862d95cd04",
        "colab": {
          "base_uri": "https://localhost:8080/",
          "height": 422
        }
      },
      "cell_type": "code",
      "source": [
        "import tensorflow as tf\n",
        "\n",
        "from tensorflow.examples.tutorials.mnist import input_data\n",
        "mnist = input_data.read_data_sets('./mnist/data/', one_hot=True)"
      ],
      "execution_count": 0,
      "outputs": [
        {
          "output_type": "stream",
          "text": [
            "WARNING:tensorflow:From <ipython-input-1-bb894b61467d>:4: read_data_sets (from tensorflow.contrib.learn.python.learn.datasets.mnist) is deprecated and will be removed in a future version.\n",
            "Instructions for updating:\n",
            "Please use alternatives such as official/mnist/dataset.py from tensorflow/models.\n",
            "WARNING:tensorflow:From /usr/local/lib/python3.6/dist-packages/tensorflow/contrib/learn/python/learn/datasets/mnist.py:260: maybe_download (from tensorflow.contrib.learn.python.learn.datasets.base) is deprecated and will be removed in a future version.\n",
            "Instructions for updating:\n",
            "Please write your own downloading logic.\n",
            "WARNING:tensorflow:From /usr/local/lib/python3.6/dist-packages/tensorflow/contrib/learn/python/learn/datasets/mnist.py:262: extract_images (from tensorflow.contrib.learn.python.learn.datasets.mnist) is deprecated and will be removed in a future version.\n",
            "Instructions for updating:\n",
            "Please use tf.data to implement this functionality.\n",
            "Extracting ./mnist/data/train-images-idx3-ubyte.gz\n",
            "WARNING:tensorflow:From /usr/local/lib/python3.6/dist-packages/tensorflow/contrib/learn/python/learn/datasets/mnist.py:267: extract_labels (from tensorflow.contrib.learn.python.learn.datasets.mnist) is deprecated and will be removed in a future version.\n",
            "Instructions for updating:\n",
            "Please use tf.data to implement this functionality.\n",
            "Extracting ./mnist/data/train-labels-idx1-ubyte.gz\n",
            "WARNING:tensorflow:From /usr/local/lib/python3.6/dist-packages/tensorflow/contrib/learn/python/learn/datasets/mnist.py:110: dense_to_one_hot (from tensorflow.contrib.learn.python.learn.datasets.mnist) is deprecated and will be removed in a future version.\n",
            "Instructions for updating:\n",
            "Please use tf.one_hot on tensors.\n",
            "Extracting ./mnist/data/t10k-images-idx3-ubyte.gz\n",
            "Extracting ./mnist/data/t10k-labels-idx1-ubyte.gz\n",
            "WARNING:tensorflow:From /usr/local/lib/python3.6/dist-packages/tensorflow/contrib/learn/python/learn/datasets/mnist.py:290: DataSet.__init__ (from tensorflow.contrib.learn.python.learn.datasets.mnist) is deprecated and will be removed in a future version.\n",
            "Instructions for updating:\n",
            "Please use alternatives such as official/mnist/dataset.py from tensorflow/models.\n"
          ],
          "name": "stdout"
        }
      ]
    },
    {
      "metadata": {
        "id": "1JjHOZ14IyC9",
        "colab_type": "code",
        "colab": {}
      },
      "cell_type": "code",
      "source": [
        "### 옵션 설정\n",
        "# learning_rate = 0.001\n",
        "learning_rate = 0.01\n",
        "total_epoch = 10\n",
        "batch_size = 256\n",
        "\n",
        "n_input = 28  # 입력\n",
        "n_step = 28   # 28단계( 28 X 28 )\n",
        "n_hidden = 256 # 은닉층 노드 수 \n",
        "n_class = 10   # 클래스 10\n",
        "\n",
        "## 실습\n",
        "## 학습률 : 0.1, 0.01, 0.001\n",
        "## total_epoch = 30, 50, 100\n",
        "## batch_size = 64, 128, 256\n",
        "## 은닉층 노드 수 : 128, 256"
      ],
      "execution_count": 0,
      "outputs": []
    },
    {
      "metadata": {
        "id": "ismnDKxWJKGK",
        "colab_type": "text"
      },
      "cell_type": "markdown",
      "source": [
        "### Tensorflow 에서 함수 제공하여 RNN 셀 생성\n",
        "* RNN 기본 신경망 다양한 셀을 사용할 수 있도록 함수를 제공\n",
        "* RNN 단점 : 각 단계의 데이터를 학습할 때, 맨뒤에서는 맨 앞의 정보를 잘 기억할 수 없다.\n",
        "* LSTM(Long Short-Term Memory)의 신경망\n",
        "* GRU(Gated Recurrent Units) 약간 간단한 신경망"
      ]
    },
    {
      "metadata": {
        "id": "9bV2e0DhL2I0",
        "colab_type": "code",
        "colab": {}
      },
      "cell_type": "code",
      "source": [
        "X = tf.placeholder(tf.float32, [None, n_step, n_input])\n",
        "Y = tf.placeholder(tf.float32, [None, n_class])\n",
        "\n",
        "W = tf.Variable(tf.random_normal([n_hidden, n_class]))\n",
        "b = tf.Variable(tf.random_normal([n_class]))"
      ],
      "execution_count": 0,
      "outputs": []
    },
    {
      "metadata": {
        "id": "EHPREDdVKVXM",
        "colab_type": "code",
        "outputId": "e49d2946-ae87-4092-fea2-cab386758956",
        "colab": {
          "base_uri": "https://localhost:8080/",
          "height": 107
        }
      },
      "cell_type": "code",
      "source": [
        "# BasicRNNCell, BasicLSTMCell, GRUCell\n",
        "# tf.keras.layers.SimpleRNNCell 대체 예정 \n",
        "cell = tf.nn.rnn_cell.BasicRNNCell(n_hidden)\n",
        "cell"
      ],
      "execution_count": 0,
      "outputs": [
        {
          "output_type": "stream",
          "text": [
            "WARNING:tensorflow:From <ipython-input-4-26d0f601160a>:1: BasicRNNCell.__init__ (from tensorflow.python.ops.rnn_cell_impl) is deprecated and will be removed in a future version.\n",
            "Instructions for updating:\n",
            "This class is equivalent as tf.keras.layers.SimpleRNNCell, and will be replaced by that in Tensorflow 2.0.\n"
          ],
          "name": "stdout"
        },
        {
          "output_type": "execute_result",
          "data": {
            "text/plain": [
              "<tensorflow.python.ops.rnn_cell_impl.BasicRNNCell at 0x7fc248c48080>"
            ]
          },
          "metadata": {
            "tags": []
          },
          "execution_count": 4
        }
      ]
    },
    {
      "metadata": {
        "id": "VuzoHNUILFcC",
        "colab_type": "code",
        "colab": {}
      },
      "cell_type": "code",
      "source": [
        "## 원래 \n",
        "## states = tf.zeros(batch_size)\n",
        "## for i in range(n_step):\n",
        "##     output, states = cell(X[[:, i]], states)\n",
        "outputs, states = tf.nn.dynamic_rnn(cell, X, dtype=tf.float32)"
      ],
      "execution_count": 0,
      "outputs": []
    },
    {
      "metadata": {
        "id": "EEh10J9GLwik",
        "colab_type": "code",
        "colab": {}
      },
      "cell_type": "code",
      "source": [
        "# 결과를 Y의 다음 형식과 바꿔야 하기 때문에\n",
        "# Y : [batch_size, n_class]\n",
        "# outputs 의 형태를 이에 맞춰 변경해야합니다.\n",
        "# outputs : [batch_size, n_step, n_hidden]\n",
        "# -> [n_step, batch_size, n_hidden]\n",
        "# tf.transpose 함수를 이용하여 n_step과 batch_size의 차원의 순서를 바꾸고,\n",
        "# n_step 차원을 제거하여 마지막 단계의 결과값을 취함.\n",
        "outputs = tf.transpose(outputs, [1, 0, 2])\n",
        "# -> [batch_size, n_hidden]\n",
        "outputs = outputs[-1]\n",
        "# y = x * W + b를 이용하여 최종 결과값.\n",
        "model = tf.matmul(outputs, W) + b\n"
      ],
      "execution_count": 0,
      "outputs": []
    },
    {
      "metadata": {
        "id": "LVo_BnAsMRGI",
        "colab_type": "code",
        "colab": {}
      },
      "cell_type": "code",
      "source": [
        "cost = tf.reduce_mean(tf.nn.softmax_cross_entropy_with_logits_v2(logits=model, labels=Y))\n",
        "optimizer = tf.train.AdamOptimizer(learning_rate).minimize(cost)"
      ],
      "execution_count": 0,
      "outputs": []
    },
    {
      "metadata": {
        "id": "tWCrZRB4TdkU",
        "colab_type": "code",
        "colab": {}
      },
      "cell_type": "code",
      "source": [
        "#########\n",
        "# 신경망 모델 학습\n",
        "######\n",
        "sess = tf.Session()\n",
        "sess.run(tf.global_variables_initializer())\n",
        "total_batch = int(mnist.train.num_examples/batch_size)"
      ],
      "execution_count": 0,
      "outputs": []
    },
    {
      "metadata": {
        "id": "TBkGuhI2TfiS",
        "colab_type": "code",
        "outputId": "451ee729-4251-4674-e3f5-974b5548c8db",
        "colab": {
          "base_uri": "https://localhost:8080/",
          "height": 244
        }
      },
      "cell_type": "code",
      "source": [
        "%%time\n",
        "\n",
        "# total_epoch : 30\n",
        "# batch_size : 128\n",
        "# n_step : 28\n",
        "# n_input : 28\n",
        "for epoch in range(total_epoch):\n",
        "  total_cost = 0\n",
        "  for i in range(total_batch):\n",
        "    batch_xs, batch_ys = mnist.train.next_batch(batch_size)\n",
        "    # X 데이터를 RNN 입력 데이터에 맞게 [batch_size, n_step, n_input] 형태로 변환합니다.\n",
        "    batch_xs = batch_xs.reshape((batch_size, n_step, n_input))\n",
        "    _, cost_val = sess.run([optimizer, cost],\n",
        "    feed_dict={X: batch_xs, Y: batch_ys})\n",
        "    total_cost += cost_val\n",
        "  print('Epoch:', '%04d' % (epoch + 1),\n",
        "        'Avg. cost =', '{:.3f}'.format(total_cost / total_batch))\n",
        "print('최적화 완료!')\n"
      ],
      "execution_count": 0,
      "outputs": [
        {
          "output_type": "stream",
          "text": [
            "Epoch: 0001 Avg. cost = 3.906\n",
            "Epoch: 0002 Avg. cost = 2.360\n",
            "Epoch: 0003 Avg. cost = 2.356\n",
            "Epoch: 0004 Avg. cost = 2.295\n",
            "Epoch: 0005 Avg. cost = 2.162\n",
            "Epoch: 0006 Avg. cost = 2.366\n",
            "Epoch: 0007 Avg. cost = 2.364\n",
            "Epoch: 0008 Avg. cost = 2.375\n",
            "Epoch: 0009 Avg. cost = 2.368\n",
            "Epoch: 0010 Avg. cost = 2.355\n",
            "최적화 완료!\n",
            "CPU times: user 6min 2s, sys: 14.9 s, total: 6min 17s\n",
            "Wall time: 3min 21s\n"
          ],
          "name": "stdout"
        }
      ]
    },
    {
      "metadata": {
        "id": "FBAkyAWRjYV6",
        "colab_type": "text"
      },
      "cell_type": "markdown",
      "source": [
        ""
      ]
    },
    {
      "metadata": {
        "id": "twXypzBZTiDi",
        "colab_type": "code",
        "outputId": "859125c9-2e83-4634-a3b0-43808d1f3f2a",
        "colab": {
          "base_uri": "https://localhost:8080/",
          "height": 52
        }
      },
      "cell_type": "code",
      "source": [
        "#########\n",
        "# 결과 확인\n",
        "######\n",
        "is_correct = tf.equal(tf.argmax(model, 1), tf.argmax(Y, 1))\n",
        "accuracy = tf.reduce_mean(tf.cast(is_correct, tf.float32))\n",
        "print(is_correct)\n",
        "print(accuracy)\n"
      ],
      "execution_count": 0,
      "outputs": [
        {
          "output_type": "stream",
          "text": [
            "Tensor(\"Equal:0\", shape=(?,), dtype=bool)\n",
            "Tensor(\"Mean_1:0\", shape=(), dtype=float32)\n"
          ],
          "name": "stdout"
        }
      ]
    },
    {
      "metadata": {
        "id": "zyLC7q-_e5F1",
        "colab_type": "code",
        "colab": {}
      },
      "cell_type": "code",
      "source": [
        "# test_batch_size : 10000, n_step : 28, n_input : 28\n",
        "test_batch_size = len(mnist.test.images)\n",
        "test_xs = mnist.test.images.reshape(test_batch_size, n_step, n_input)\n",
        "test_ys = mnist.test.labels"
      ],
      "execution_count": 0,
      "outputs": []
    },
    {
      "metadata": {
        "id": "yhJd_SjZTrkM",
        "colab_type": "code",
        "outputId": "1b2d99c3-e061-4de6-bdcd-6d620e5b8c14",
        "colab": {
          "base_uri": "https://localhost:8080/",
          "height": 34
        }
      },
      "cell_type": "code",
      "source": [
        "print('정확도:', sess.run(accuracy,\n",
        " feed_dict={X: test_xs, Y: test_ys}))"
      ],
      "execution_count": 0,
      "outputs": [
        {
          "output_type": "stream",
          "text": [
            "정확도: 0.0959\n"
          ],
          "name": "stdout"
        }
      ]
    },
    {
      "metadata": {
        "id": "qod_b72JTut7",
        "colab_type": "code",
        "colab": {}
      },
      "cell_type": "code",
      "source": [
        ""
      ],
      "execution_count": 0,
      "outputs": []
    }
  ]
}