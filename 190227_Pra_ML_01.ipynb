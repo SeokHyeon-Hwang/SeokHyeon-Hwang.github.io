{
  "nbformat": 4,
  "nbformat_minor": 0,
  "metadata": {
    "colab": {
      "name": "190227_Pra_ML 01.ipynb",
      "version": "0.3.2",
      "provenance": [],
      "collapsed_sections": [],
      "include_colab_link": true
    },
    "kernelspec": {
      "name": "python3",
      "display_name": "Python 3"
    }
  },
  "cells": [
    {
      "cell_type": "markdown",
      "metadata": {
        "id": "view-in-github",
        "colab_type": "text"
      },
      "source": [
        "<a href=\"https://colab.research.google.com/github/SeokHyeon-Hwang/programmerspython/blob/master/190227_Pra_ML_01.ipynb\" target=\"_parent\"><img src=\"https://colab.research.google.com/assets/colab-badge.svg\" alt=\"Open In Colab\"/></a>"
      ]
    },
    {
      "metadata": {
        "id": "swS-eXITDY-G",
        "colab_type": "text"
      },
      "cell_type": "markdown",
      "source": [
        "# [기본항목 1-1, 1-3] 각 5점\n",
        "캐글 또는 기본 데이터 셋을 이용하여 머신 러닝 기반 데이터 분석을 수행하고 해당 결과를 정리해서 제출해 주세요.\n",
        "\n",
        "제출 내용 : ppt 또는 워드 문서, 소스코드 또는 github 주소 Iris 의 데이터 셋의 경우, 예측 변수는 꽃의 종류입니다.\n"
      ]
    },
    {
      "metadata": {
        "id": "VoLcv93pNqwT",
        "colab_type": "text"
      },
      "cell_type": "markdown",
      "source": [
        "## [머신러닝 기법 적용]\n",
        "### [기본항목 2-4, 3-2] 각 5점\n",
        "(가) 적절하게 데이터 셋을 나누어 머신러닝 모델에 적용시켜 주세요.\n"
      ]
    },
    {
      "metadata": {
        "id": "AQU-atw3EQDD",
        "colab_type": "text"
      },
      "cell_type": "markdown",
      "source": [
        "01. 데이터 불러오기"
      ]
    },
    {
      "metadata": {
        "id": "7c0TpXnoDPgQ",
        "colab_type": "code",
        "colab": {}
      },
      "cell_type": "code",
      "source": [
        "from sklearn.datasets import load_iris\n",
        "iris = load_iris()"
      ],
      "execution_count": 0,
      "outputs": []
    },
    {
      "metadata": {
        "id": "ZlSaFrH6EbPS",
        "colab_type": "text"
      },
      "cell_type": "markdown",
      "source": [
        "02. 데이터 나누기"
      ]
    },
    {
      "metadata": {
        "id": "Rd0tAtPUD8kD",
        "colab_type": "code",
        "colab": {}
      },
      "cell_type": "code",
      "source": [
        "\n",
        "from sklearn.model_selection import train_test_split\n",
        "X_train, X_test, y_train, y_test = train_test_split(\n",
        "    iris['data'], iris['target'], random_state=0\n",
        ")"
      ],
      "execution_count": 0,
      "outputs": []
    },
    {
      "metadata": {
        "id": "CrqRkpKiEkTD",
        "colab_type": "text"
      },
      "cell_type": "markdown",
      "source": [
        "03. 데이터 확인하기"
      ]
    },
    {
      "metadata": {
        "id": "pB6Jf-HDEENI",
        "colab_type": "code",
        "outputId": "7b5d11cb-0b5d-47f7-ff75-2da1f2dfb233",
        "colab": {
          "base_uri": "https://localhost:8080/",
          "height": 53
        }
      },
      "cell_type": "code",
      "source": [
        "print('X_train의 크기: {}'.format(X_train.shape))\n",
        "print('y_train의 크기: {}'.format(y_train.shape))"
      ],
      "execution_count": 0,
      "outputs": [
        {
          "output_type": "stream",
          "text": [
            "X_train의 크기: (112, 4)\n",
            "y_train의 크기: (112,)\n"
          ],
          "name": "stdout"
        }
      ]
    },
    {
      "metadata": {
        "id": "KHBZMvVmEIdD",
        "colab_type": "code",
        "outputId": "326db442-54d7-4da4-8b24-392c5ff93158",
        "colab": {
          "base_uri": "https://localhost:8080/",
          "height": 53
        }
      },
      "cell_type": "code",
      "source": [
        "print('X_test 크기: {}'.format(X_test.shape))\n",
        "print('y_test 크기: {}'.format(y_test.shape))"
      ],
      "execution_count": 0,
      "outputs": [
        {
          "output_type": "stream",
          "text": [
            "X_test 크기: (38, 4)\n",
            "y_test 크기: (38,)\n"
          ],
          "name": "stdout"
        }
      ]
    },
    {
      "metadata": {
        "id": "QSFp_oCNEJbE",
        "colab_type": "text"
      },
      "cell_type": "markdown",
      "source": [
        "04. 머신러닝 모델 만들기 : KNN 분류"
      ]
    },
    {
      "metadata": {
        "id": "NACMY9rQEtUd",
        "colab_type": "code",
        "colab": {}
      },
      "cell_type": "code",
      "source": [
        "from sklearn.neighbors import KNeighborsClassifier\n",
        "# k=1인 모델 만들기\n",
        "knn = KNeighborsClassifier(n_neighbors=1)"
      ],
      "execution_count": 0,
      "outputs": []
    },
    {
      "metadata": {
        "id": "Q1zR2pr4E3Lr",
        "colab_type": "code",
        "outputId": "34c03bbd-fdd4-48ab-d52f-78798af9e758",
        "colab": {
          "base_uri": "https://localhost:8080/",
          "height": 71
        }
      },
      "cell_type": "code",
      "source": [
        "# 만들어진 모델을 데이터에 적용\n",
        "knn.fit(X_train, y_train)"
      ],
      "execution_count": 0,
      "outputs": [
        {
          "output_type": "execute_result",
          "data": {
            "text/plain": [
              "KNeighborsClassifier(algorithm='auto', leaf_size=30, metric='minkowski',\n",
              "           metric_params=None, n_jobs=None, n_neighbors=1, p=2,\n",
              "           weights='uniform')"
            ]
          },
          "metadata": {
            "tags": []
          },
          "execution_count": 7
        }
      ]
    },
    {
      "metadata": {
        "id": "dJ3vcnPpFMUU",
        "colab_type": "text"
      },
      "cell_type": "markdown",
      "source": [
        "05. 예측하기"
      ]
    },
    {
      "metadata": {
        "id": "XWnkCDIgFd5m",
        "colab_type": "code",
        "colab": {}
      },
      "cell_type": "code",
      "source": [
        "import numpy as np"
      ],
      "execution_count": 0,
      "outputs": []
    },
    {
      "metadata": {
        "id": "b-XKgFa-FROR",
        "colab_type": "code",
        "outputId": "33e58bbb-2732-4074-cff2-586e1e0d0691",
        "colab": {
          "base_uri": "https://localhost:8080/",
          "height": 35
        }
      },
      "cell_type": "code",
      "source": [
        "# 모델에 넣어볼 간단한 데이터 만들기\n",
        "X_new = np.array([[5, 2.9, 1, 0.2]])\n",
        "print('X_new.shape: {}'.format(X_new.shape))"
      ],
      "execution_count": 0,
      "outputs": [
        {
          "output_type": "stream",
          "text": [
            "X_new.shape: (1, 4)\n"
          ],
          "name": "stdout"
        }
      ]
    },
    {
      "metadata": {
        "id": "KHRnc98HFbem",
        "colab_type": "code",
        "outputId": "8ac66bed-7ed7-46f4-dc95-3bcd245b5a37",
        "colab": {
          "base_uri": "https://localhost:8080/",
          "height": 53
        }
      },
      "cell_type": "code",
      "source": [
        "prediction = knn.predict(X_new)\n",
        "print('예측: {}'.format(prediction))\n",
        "print('예측한 타깃의 이름: {}'.format(\n",
        "    iris['target_names'][prediction]\n",
        "))"
      ],
      "execution_count": 0,
      "outputs": [
        {
          "output_type": "stream",
          "text": [
            "예측: [0]\n",
            "예측한 타깃의 이름: ['setosa']\n"
          ],
          "name": "stdout"
        }
      ]
    },
    {
      "metadata": {
        "id": "vkghDBDKFptb",
        "colab_type": "text"
      },
      "cell_type": "markdown",
      "source": [
        "06. 모델 평가"
      ]
    },
    {
      "metadata": {
        "id": "C5kOrMCIFvq3",
        "colab_type": "code",
        "outputId": "0cc09090-5853-473a-8349-6fba54bf666b",
        "colab": {
          "base_uri": "https://localhost:8080/",
          "height": 71
        }
      },
      "cell_type": "code",
      "source": [
        "# 모델에 실제 데이터를 넣어서 예측하기\n",
        "y_pred = knn.predict(X_test)\n",
        "print('테스트 세트에 대한 예측값:\\n {}'.format(y_pred))"
      ],
      "execution_count": 0,
      "outputs": [
        {
          "output_type": "stream",
          "text": [
            "테스트 세트에 대한 예측값:\n",
            " [2 1 0 2 0 2 0 1 1 1 2 1 1 1 1 0 1 1 0 0 2 1 0 0 2 0 0 1 1 0 2 1 0 2 2 1 0\n",
            " 2]\n"
          ],
          "name": "stdout"
        }
      ]
    },
    {
      "metadata": {
        "id": "DfrxQorUF-bg",
        "colab_type": "code",
        "outputId": "1dd550ed-4856-4317-fecc-996e977e7df9",
        "colab": {
          "base_uri": "https://localhost:8080/",
          "height": 35
        }
      },
      "cell_type": "code",
      "source": [
        "print('테스트 세트의 정확도: {:.3f}'.format(np.mean(y_pred == y_test)))"
      ],
      "execution_count": 0,
      "outputs": [
        {
          "output_type": "stream",
          "text": [
            "테스트 세트의 정확도: 0.974\n"
          ],
          "name": "stdout"
        }
      ]
    },
    {
      "metadata": {
        "id": "e_IccwuCGAx4",
        "colab_type": "code",
        "outputId": "c9233283-b9ba-4df7-8608-e826e227c127",
        "colab": {
          "base_uri": "https://localhost:8080/",
          "height": 35
        }
      },
      "cell_type": "code",
      "source": [
        "\n",
        "# knn 라이브러리 내 score함수 함수로 정확도 찍어보기\n",
        "print('테스트 세트의 정확도: {:.2f}'.format(knn.score(X_test, y_test)))"
      ],
      "execution_count": 0,
      "outputs": [
        {
          "output_type": "stream",
          "text": [
            "테스트 세트의 정확도: 0.97\n"
          ],
          "name": "stdout"
        }
      ]
    },
    {
      "metadata": {
        "id": "A-v6T98hGDXk",
        "colab_type": "text"
      },
      "cell_type": "markdown",
      "source": [
        "7. 요약"
      ]
    },
    {
      "metadata": {
        "id": "x-A0lxkZGmLZ",
        "colab_type": "code",
        "outputId": "5484ce93-691e-4af5-d80f-ac5b8184f094",
        "colab": {
          "base_uri": "https://localhost:8080/",
          "height": 35
        }
      },
      "cell_type": "code",
      "source": [
        "\n",
        "X_train, X_test, y_train, y_test = train_test_split(\n",
        "    iris['data'], iris['target'], random_state=0\n",
        ")\n",
        "\n",
        "knn = KNeighborsClassifier(n_neighbors=1)\n",
        "knn.fit(X_train, y_train)\n",
        "\n",
        "print('테스트 세트의 정확도: {:.2f}'.format(knn.score(X_test, y_test)))"
      ],
      "execution_count": 0,
      "outputs": [
        {
          "output_type": "stream",
          "text": [
            "테스트 세트의 정확도: 0.97\n"
          ],
          "name": "stdout"
        }
      ]
    },
    {
      "metadata": {
        "id": "zUa4ujCqGnlp",
        "colab_type": "text"
      },
      "cell_type": "markdown",
      "source": [
        ""
      ]
    },
    {
      "metadata": {
        "id": "-tbuCKN7G0TX",
        "colab_type": "text"
      },
      "cell_type": "markdown",
      "source": [
        "### [기본항목 4-1, 4-2] 각 5점\n",
        "데이터 셋 : Iris 또는 Kaggle 데이터 셋<br>\n",
        "(나) 데이터 셋을 이용하여 K-means를 이용한 Clustering를 수행해 보자.<br>\n",
        "(다) 이에 대한 최적의 K를 찾고 그래프로 이를 시각화를 수행해 보자.\n"
      ]
    },
    {
      "metadata": {
        "id": "bzGiKlMYN7M8",
        "colab_type": "text"
      },
      "cell_type": "markdown",
      "source": [
        "01. 라이브러리 불러오기"
      ]
    },
    {
      "metadata": {
        "id": "wqcqi29RSaL0",
        "colab_type": "code",
        "outputId": "336b73c9-1bba-4c43-b382-73321ee2f2ea",
        "colab": {
          "base_uri": "https://localhost:8080/",
          "height": 469
        }
      },
      "cell_type": "code",
      "source": [
        "#!pip install mglearn"
      ],
      "execution_count": 0,
      "outputs": [
        {
          "output_type": "stream",
          "text": [
            "Collecting mglearn\n",
            "\u001b[?25l  Downloading https://files.pythonhosted.org/packages/fb/01/8d3630ecc767c9de96a9c46e055f2a3a5f9e14a47d3d0348a36a5005fe67/mglearn-0.1.7.tar.gz (540kB)\n",
            "\u001b[K    100% |████████████████████████████████| 542kB 19.8MB/s \n",
            "\u001b[?25hRequirement already satisfied: numpy in /usr/local/lib/python3.6/dist-packages (from mglearn) (1.14.6)\n",
            "Requirement already satisfied: matplotlib in /usr/local/lib/python3.6/dist-packages (from mglearn) (3.0.2)\n",
            "Requirement already satisfied: scikit-learn in /usr/local/lib/python3.6/dist-packages (from mglearn) (0.20.2)\n",
            "Requirement already satisfied: pandas in /usr/local/lib/python3.6/dist-packages (from mglearn) (0.22.0)\n",
            "Requirement already satisfied: pillow in /usr/local/lib/python3.6/dist-packages (from mglearn) (4.0.0)\n",
            "Requirement already satisfied: cycler in /usr/local/lib/python3.6/dist-packages (from mglearn) (0.10.0)\n",
            "Requirement already satisfied: imageio in /usr/local/lib/python3.6/dist-packages (from mglearn) (2.4.1)\n",
            "Requirement already satisfied: python-dateutil>=2.1 in /usr/local/lib/python3.6/dist-packages (from matplotlib->mglearn) (2.5.3)\n",
            "Requirement already satisfied: kiwisolver>=1.0.1 in /usr/local/lib/python3.6/dist-packages (from matplotlib->mglearn) (1.0.1)\n",
            "Requirement already satisfied: pyparsing!=2.0.4,!=2.1.2,!=2.1.6,>=2.0.1 in /usr/local/lib/python3.6/dist-packages (from matplotlib->mglearn) (2.3.1)\n",
            "Requirement already satisfied: scipy>=0.13.3 in /usr/local/lib/python3.6/dist-packages (from scikit-learn->mglearn) (1.1.0)\n",
            "Requirement already satisfied: pytz>=2011k in /usr/local/lib/python3.6/dist-packages (from pandas->mglearn) (2018.9)\n",
            "Requirement already satisfied: olefile in /usr/local/lib/python3.6/dist-packages (from pillow->mglearn) (0.46)\n",
            "Requirement already satisfied: six in /usr/local/lib/python3.6/dist-packages (from cycler->mglearn) (1.11.0)\n",
            "Requirement already satisfied: setuptools in /usr/local/lib/python3.6/dist-packages (from kiwisolver>=1.0.1->matplotlib->mglearn) (40.8.0)\n",
            "Building wheels for collected packages: mglearn\n",
            "  Building wheel for mglearn (setup.py) ... \u001b[?25ldone\n",
            "\u001b[?25h  Stored in directory: /root/.cache/pip/wheels/74/cf/8d/04f4932d15854a36726c6210763c7127e62de28f5c8ddfcf3b\n",
            "Successfully built mglearn\n",
            "Installing collected packages: mglearn\n",
            "Successfully installed mglearn-0.1.7\n"
          ],
          "name": "stdout"
        }
      ]
    },
    {
      "metadata": {
        "id": "tv4gv0tRRxXh",
        "colab_type": "code",
        "colab": {}
      },
      "cell_type": "code",
      "source": [
        "import mglearn\n",
        "import matplotlib\n",
        "import matplotlib.pyplot as plt\n",
        "\n",
        "%matplotlib inline"
      ],
      "execution_count": 0,
      "outputs": []
    },
    {
      "metadata": {
        "id": "naU4MvSmSXH0",
        "colab_type": "text"
      },
      "cell_type": "markdown",
      "source": [
        "02. 클러스터링"
      ]
    },
    {
      "metadata": {
        "id": "o5-usJIsSsHj",
        "colab_type": "code",
        "colab": {}
      },
      "cell_type": "code",
      "source": [
        "from sklearn.cluster import KMeans"
      ],
      "execution_count": 0,
      "outputs": []
    },
    {
      "metadata": {
        "id": "zK72P5Cqovgd",
        "colab_type": "code",
        "outputId": "f2e0d63d-e6f8-4735-a415-d5f3e8cbbb8f",
        "colab": {
          "base_uri": "https://localhost:8080/",
          "height": 279
        }
      },
      "cell_type": "code",
      "source": [
        "# 군집 모델 만들기 01\n",
        "\n",
        "ks = range(1, 10)\n",
        "inertias =[]\n",
        "\n",
        "for k in ks:\n",
        "  model = KMeans(n_clusters=k)\n",
        "  model.fit(X_train)\n",
        "  inertias.append(model.inertia_)\n",
        "  \n",
        "# Plot ks vs inertia\n",
        "plt.plot(ks, inertias, '-o')\n",
        "plt.xlabel('number of clusters, k')\n",
        "plt.ylabel('inertia')\n",
        "plt.xticks(ks)\n",
        "plt.show()"
      ],
      "execution_count": 0,
      "outputs": [
        {
          "output_type": "display_data",
          "data": {
            "image/png": "[encoded data removed]",
            "text/plain": [
              "<Figure size 432x288 with 1 Axes>"
            ]
          },
          "metadata": {
            "tags": []
          }
        }
      ]
    },
    {
      "metadata": {
        "id": "2XijppH5qIb9",
        "colab_type": "text"
      },
      "cell_type": "markdown",
      "source": [
        "* Inertia value는 군집화 후 각 중심점에서 군집 데이터간의 거리를 합산한 것. 이 값이 작을 수록 응집도가 높다.<br>\n",
        "* 위 그래프에서 inertia value의 기울기가 급격하다가 완만하게 변하는 지점인 k=3이 우리가 이미 알고 있듯 가장 좋은 결과를 보여준다."
      ]
    },
    {
      "metadata": {
        "id": "hiHLqDwNhU3R",
        "colab_type": "code",
        "outputId": "fcb8a88a-f565-4415-e97f-3cc3363f02c1",
        "colab": {
          "base_uri": "https://localhost:8080/",
          "height": 71
        }
      },
      "cell_type": "code",
      "source": [
        "# 군집 모델 만들기 02\n",
        "kmeans = KMeans(n_clusters=3)\n",
        "kmeans.fit(X_train)"
      ],
      "execution_count": 0,
      "outputs": [
        {
          "output_type": "execute_result",
          "data": {
            "text/plain": [
              "KMeans(algorithm='auto', copy_x=True, init='k-means++', max_iter=300,\n",
              "    n_clusters=3, n_init=10, n_jobs=None, precompute_distances='auto',\n",
              "    random_state=None, tol=0.0001, verbose=0)"
            ]
          },
          "metadata": {
            "tags": []
          },
          "execution_count": 27
        }
      ]
    },
    {
      "metadata": {
        "id": "j3VHl88jhpGd",
        "colab_type": "code",
        "outputId": "e6887686-5304-4adc-e82d-82b214179560",
        "colab": {
          "base_uri": "https://localhost:8080/",
          "height": 107
        }
      },
      "cell_type": "code",
      "source": [
        "# 레이블 확인\n",
        "print('클러스터 레이블:\\n{}'.format(kmeans.labels_))"
      ],
      "execution_count": 0,
      "outputs": [
        {
          "output_type": "stream",
          "text": [
            "클러스터 레이블:\n",
            "[2 2 1 0 1 0 0 2 1 1 2 1 2 1 2 2 2 2 2 2 1 1 2 0 2 2 2 2 2 1 0 0 1 2 0 0 1\n",
            " 0 2 2 0 2 1 2 0 1 1 1 1 0 0 1 1 0 1 0 2 1 0 0 1 0 0 0 2 1 1 0 0 0 2 2 0 0\n",
            " 2 0 1 2 1 2 0 2 0 1 0 0 1 0 1 2 2 2 1 1 2 1 0 2 1 2 0 2 2 2 2 0 0 0 1 2 1\n",
            " 0]\n"
          ],
          "name": "stdout"
        }
      ]
    },
    {
      "metadata": {
        "id": "FFWgWMpwh8ub",
        "colab_type": "code",
        "outputId": "52652dc7-55d1-44b7-c1ab-5234cf24f535",
        "colab": {
          "base_uri": "https://localhost:8080/",
          "height": 53
        }
      },
      "cell_type": "code",
      "source": [
        "# 예측\n",
        "print(kmeans.predict(X_test))"
      ],
      "execution_count": 0,
      "outputs": [
        {
          "output_type": "stream",
          "text": [
            "[2 2 0 1 0 1 0 2 2 2 1 2 2 2 2 0 2 2 0 0 2 2 0 0 2 0 0 2 2 0 1 2 0 2 1 2 0\n",
            " 2]\n"
          ],
          "name": "stdout"
        }
      ]
    },
    {
      "metadata": {
        "id": "yQmnFzVHiNr4",
        "colab_type": "code",
        "outputId": "0660f5f6-a5e0-4c0f-ec74-8f7f199906ce",
        "colab": {
          "base_uri": "https://localhost:8080/",
          "height": 322
        }
      },
      "cell_type": "code",
      "source": [
        "# 각 점 표시\n",
        "mglearn.discrete_scatter(X_train[:,0], X_train[:,1], kmeans.labels_, markers='o')\n",
        "\n",
        "# 클러스터의 중심을 삼각형으로 표시\n",
        "mglearn.discrete_scatter(\n",
        "    kmeans.cluster_centers_[:,0],\n",
        "    kmeans.cluster_centers_[:,1],\n",
        "    [0, 1, 2],\n",
        "    markers = '^',\n",
        "    markeredgewidth=2\n",
        ")"
      ],
      "execution_count": 0,
      "outputs": [
        {
          "output_type": "execute_result",
          "data": {
            "text/plain": [
              "[<matplotlib.lines.Line2D at 0x7f66b9386518>,\n",
              " <matplotlib.lines.Line2D at 0x7f66b9386630>,\n",
              " <matplotlib.lines.Line2D at 0x7f66b93869b0>]"
            ]
          },
          "metadata": {
            "tags": []
          },
          "execution_count": 36
        },
        {
          "output_type": "display_data",
          "data": {
            "image/png": "[encoded data removed]",
            "text/plain": [
              "<Figure size 432x288 with 1 Axes>"
            ]
          },
          "metadata": {
            "tags": []
          }
        }
      ]
    },
    {
      "metadata": {
        "id": "ynwyyAiBiorX",
        "colab_type": "text"
      },
      "cell_type": "markdown",
      "source": [
        "# [결과 정리]\n",
        "\n",
        "* knn 알고리즘으로 데이터를 학습시켜 테스트 데이터를 분류해본 결과 97% 정확도로 데이터를 예측해 줌을 확인 할 수 있었다.<br>\n",
        "\n",
        "* k-means 알고리즘을 통해 군집화해보고 이를 시각화 해봄으로써 이미 알고 있듯 inertia value의 기울기가 급격하다가 완만해지는 지점은 k=3에서 군집화가 잘 됨을 확인 할 수 있었다."
      ]
    },
    {
      "metadata": {
        "id": "BjqyxC4yjgkG",
        "colab_type": "code",
        "colab": {}
      },
      "cell_type": "code",
      "source": [
        ""
      ],
      "execution_count": 0,
      "outputs": []
    }
  ]
}