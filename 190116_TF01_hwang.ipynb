{
  "nbformat": 4,
  "nbformat_minor": 0,
  "metadata": {
    "colab": {
      "name": "TF01_hwang.ipynb",
      "version": "0.3.2",
      "provenance": [],
      "collapsed_sections": []
    },
    "kernelspec": {
      "name": "python3",
      "display_name": "Python 3"
    }
  },
  "cells": [
    {
      "metadata": {
        "id": "lzgHcn9P_m-L",
        "colab_type": "text"
      },
      "cell_type": "markdown",
      "source": [
        "## 01.  Tensorflow 시작하기"
      ]
    },
    {
      "metadata": {
        "id": "Ghm1C8tpACEq",
        "colab_type": "text"
      },
      "cell_type": "markdown",
      "source": [
        "### 1-1 라이브러리 불러오기"
      ]
    },
    {
      "metadata": {
        "id": "yR2b7xVE-KhC",
        "colab_type": "code",
        "colab": {}
      },
      "cell_type": "code",
      "source": [
        "import tensorflow as tf"
      ],
      "execution_count": 0,
      "outputs": []
    },
    {
      "metadata": {
        "id": "PRi6PfXn_ir2",
        "colab_type": "code",
        "outputId": "98524a7b-468a-4d45-a2d1-932d6a1bc522",
        "colab": {
          "base_uri": "https://localhost:8080/",
          "height": 35
        }
      },
      "cell_type": "code",
      "source": [
        "tf.__version__"
      ],
      "execution_count": 0,
      "outputs": [
        {
          "output_type": "execute_result",
          "data": {
            "text/plain": [
              "'1.12.0'"
            ]
          },
          "metadata": {
            "tags": []
          },
          "execution_count": 3
        }
      ]
    },
    {
      "metadata": {
        "id": "1o4uLjTk_0aI",
        "colab_type": "code",
        "colab": {}
      },
      "cell_type": "code",
      "source": [
        "### 값을 저장"
      ],
      "execution_count": 0,
      "outputs": []
    },
    {
      "metadata": {
        "id": "lsG-YgpuBXKa",
        "colab_type": "code",
        "outputId": "fa491b37-b68c-473b-c92a-830dfbc5de48",
        "colab": {
          "base_uri": "https://localhost:8080/",
          "height": 35
        }
      },
      "cell_type": "code",
      "source": [
        "strA = tf.constant(\"Hello, Tensorflow!\")\n",
        "print(strA)"
      ],
      "execution_count": 0,
      "outputs": [
        {
          "output_type": "stream",
          "text": [
            "Tensor(\"Const_1:0\", shape=(), dtype=string)\n"
          ],
          "name": "stdout"
        }
      ]
    },
    {
      "metadata": {
        "id": "JXUT7YEYBi1t",
        "colab_type": "code",
        "outputId": "b839fb66-d801-4671-add9-139b9cb59a44",
        "colab": {
          "base_uri": "https://localhost:8080/",
          "height": 35
        }
      },
      "cell_type": "code",
      "source": [
        "## 실행\n",
        "sess= tf.Session()\n",
        "sess.run(strA)"
      ],
      "execution_count": 0,
      "outputs": [
        {
          "output_type": "execute_result",
          "data": {
            "text/plain": [
              "b'Hello, Tensorflow!'"
            ]
          },
          "metadata": {
            "tags": []
          },
          "execution_count": 8
        }
      ]
    },
    {
      "metadata": {
        "id": "gkiQM1-dByVo",
        "colab_type": "code",
        "outputId": "e71b99a6-3ded-4464-d5fc-33bd7cc81366",
        "colab": {
          "base_uri": "https://localhost:8080/",
          "height": 53
        }
      },
      "cell_type": "code",
      "source": [
        "## 텐서플로워 연산 (+)\n",
        "## 그래프의 구성 \n",
        "a = tf.constant(10)\n",
        "b = tf.constant(25)\n",
        "c = tf.add(a,b)\n",
        "\n",
        "print(c)\n",
        "print(type(c))"
      ],
      "execution_count": 0,
      "outputs": [
        {
          "output_type": "stream",
          "text": [
            "Tensor(\"Add_1:0\", shape=(), dtype=int32)\n",
            "<class 'tensorflow.python.framework.ops.Tensor'>\n"
          ],
          "name": "stdout"
        }
      ]
    },
    {
      "metadata": {
        "id": "_JSkfXVDDZeb",
        "colab_type": "text"
      },
      "cell_type": "markdown",
      "source": [
        "## 3-2 그래프의 실행\n",
        " * 실제 연산 부분은 C++로 구현하였다.\n",
        " * 모델 구성과 실행을 분리해서 프로그램을 깔끔하게 작성.\n"
      ]
    },
    {
      "metadata": {
        "id": "TT_nT4rgEGC8",
        "colab_type": "code",
        "outputId": "7ba3a871-df88-4bef-bee0-170829afdd79",
        "colab": {
          "base_uri": "https://localhost:8080/",
          "height": 35
        }
      },
      "cell_type": "code",
      "source": [
        "sess = tf.Session()\n",
        "print(sess.run([a,b,c]))\n",
        "\n",
        "sess.close()"
      ],
      "execution_count": 0,
      "outputs": [
        {
          "output_type": "stream",
          "text": [
            "[10, 25, 35]\n"
          ],
          "name": "stdout"
        }
      ]
    },
    {
      "metadata": {
        "id": "6kXIbm5EEXLD",
        "colab_type": "code",
        "outputId": "a7be62ea-1e21-4488-cb4c-bf71097235d2",
        "colab": {
          "base_uri": "https://localhost:8080/",
          "height": 36
        }
      },
      "cell_type": "code",
      "source": [
        "## 플레이스 홀더 선언\n",
        "X = tf.placeholder(tf.float32, [None,3])\n",
        "print(X)"
      ],
      "execution_count": 0,
      "outputs": [
        {
          "output_type": "stream",
          "text": [
            "Tensor(\"Placeholder:0\", shape=(?, 3), dtype=float32)\n"
          ],
          "name": "stdout"
        }
      ]
    },
    {
      "metadata": {
        "id": "YR8AgMHmFXBT",
        "colab_type": "code",
        "colab": {}
      },
      "cell_type": "code",
      "source": [
        "### 실행시에 넣을 데이터 x\n",
        "x_data = [ [1,2,3], \n",
        "           [4,5,6] ]    # 2 X 3"
      ],
      "execution_count": 0,
      "outputs": []
    },
    {
      "metadata": {
        "id": "RcYDIjboFwwU",
        "colab_type": "code",
        "outputId": "2f2f6bb0-c6a6-4144-b6df-acdd4c496979",
        "colab": {
          "base_uri": "https://localhost:8080/",
          "height": 55
        }
      },
      "cell_type": "code",
      "source": [
        "# y = xw + b   -> (3 x 3) x (3 x 2) + (? x 1)\n",
        "# 2 2 + \n",
        "# 2 1 \n",
        "W = tf.Variable(tf.random_normal([3,2]))\n",
        "b = tf.Variable(tf.random_normal([2,1]))\n",
        "print(W)\n",
        "print(b)"
      ],
      "execution_count": 0,
      "outputs": [
        {
          "output_type": "stream",
          "text": [
            "<tf.Variable 'Variable:0' shape=(3, 2) dtype=float32_ref>\n",
            "<tf.Variable 'Variable_1:0' shape=(2, 1) dtype=float32_ref>\n"
          ],
          "name": "stdout"
        }
      ]
    },
    {
      "metadata": {
        "id": "k-RxK_G7GOF5",
        "colab_type": "code",
        "outputId": "7d136180-2047-4bc7-c9c8-4f57d3ebf095",
        "colab": {
          "base_uri": "https://localhost:8080/",
          "height": 36
        }
      },
      "cell_type": "code",
      "source": [
        "### 수식계산 matrix multiplication\n",
        "expr = tf.matmul(X, W) + b\n",
        "expr"
      ],
      "execution_count": 0,
      "outputs": [
        {
          "output_type": "execute_result",
          "data": {
            "text/plain": [
              "<tf.Tensor 'add:0' shape=(2, 2) dtype=float32>"
            ]
          },
          "metadata": {
            "tags": []
          },
          "execution_count": 5
        }
      ]
    },
    {
      "metadata": {
        "id": "oHG5AVPPH_Lj",
        "colab_type": "text"
      },
      "cell_type": "markdown",
      "source": [
        "### 연산 실행 및 결과 출력"
      ]
    },
    {
      "metadata": {
        "id": "Rcmssn6CIDQ2",
        "colab_type": "code",
        "outputId": "d9302e6a-a70e-4651-d15c-7fdb3793c13a",
        "colab": {
          "base_uri": "https://localhost:8080/",
          "height": 223
        }
      },
      "cell_type": "code",
      "source": [
        "sess = tf.Session()\n",
        "sess.run(tf.global_variables_initializer())\n",
        "\n",
        "print(x_data) # python 문법 \n",
        "print(\"===== W matrix =====\")\n",
        "print(sess.run(W))\n",
        "print(\"===== b =====\")\n",
        "print(sess.run(b))\n",
        "print(\"=== expr ====\")\n",
        "print(sess.run(expr, feed_dict={X:x_data}))\n",
        "\n",
        "sess.close()"
      ],
      "execution_count": 0,
      "outputs": [
        {
          "output_type": "stream",
          "text": [
            "[[1, 2, 3], [4, 5, 6]]\n",
            "===== W matrix =====\n",
            "[[ 0.04773103  0.59383506]\n",
            " [ 0.6350212  -1.0228595 ]\n",
            " [-1.4559773   0.98496073]]\n",
            "===== b =====\n",
            "[[-0.94644004]\n",
            " [ 0.6420741 ]]\n",
            "=== expr ====\n",
            "[[-3.9965985  0.5565583]\n",
            " [-4.72776    3.8128815]]\n"
          ],
          "name": "stdout"
        }
      ]
    },
    {
      "metadata": {
        "id": "ok7no1tlISKw",
        "colab_type": "code",
        "colab": {}
      },
      "cell_type": "code",
      "source": [
        "##"
      ],
      "execution_count": 0,
      "outputs": []
    },
    {
      "metadata": {
        "id": "zBv7KGhuZDXT",
        "colab_type": "code",
        "colab": {}
      },
      "cell_type": "code",
      "source": [
        "import tensorflow as tf"
      ],
      "execution_count": 0,
      "outputs": []
    },
    {
      "metadata": {
        "id": "J_K0p3lQZGAg",
        "colab_type": "code",
        "colab": {
          "base_uri": "https://localhost:8080/",
          "height": 35
        },
        "outputId": "57012e8d-fe70-4253-967e-a61725014af0"
      },
      "cell_type": "code",
      "source": [
        "tf.__version__"
      ],
      "execution_count": 3,
      "outputs": [
        {
          "output_type": "execute_result",
          "data": {
            "text/plain": [
              "'1.12.0'"
            ]
          },
          "metadata": {
            "tags": []
          },
          "execution_count": 3
        }
      ]
    },
    {
      "metadata": {
        "id": "GxeoVApKZHaF",
        "colab_type": "code",
        "colab": {}
      },
      "cell_type": "code",
      "source": [
        "## 값을 저장"
      ],
      "execution_count": 0,
      "outputs": []
    },
    {
      "metadata": {
        "id": "pq9k_fnOZIRd",
        "colab_type": "code",
        "colab": {
          "base_uri": "https://localhost:8080/",
          "height": 35
        },
        "outputId": "1ee341f9-fea3-44fc-b438-1793f3427af5"
      },
      "cell_type": "code",
      "source": [
        "strA = tf.constant('Hello, Tensorflow!')\n",
        "print(strA)"
      ],
      "execution_count": 5,
      "outputs": [
        {
          "output_type": "stream",
          "text": [
            "Tensor(\"Const:0\", shape=(), dtype=string)\n"
          ],
          "name": "stdout"
        }
      ]
    },
    {
      "metadata": {
        "id": "oSijzefOZOhY",
        "colab_type": "code",
        "colab": {
          "base_uri": "https://localhost:8080/",
          "height": 35
        },
        "outputId": "8b67a4ab-f2bc-4e7f-d424-cab8ad657876"
      },
      "cell_type": "code",
      "source": [
        "## 실행\n",
        "sess = tf.Session()\n",
        "sess.run(strA)"
      ],
      "execution_count": 6,
      "outputs": [
        {
          "output_type": "execute_result",
          "data": {
            "text/plain": [
              "b'Hello, Tensorflow!'"
            ]
          },
          "metadata": {
            "tags": []
          },
          "execution_count": 6
        }
      ]
    },
    {
      "metadata": {
        "id": "ap7ArOG5ZTc6",
        "colab_type": "code",
        "colab": {
          "base_uri": "https://localhost:8080/",
          "height": 35
        },
        "outputId": "087fd3c7-4185-4ade-f925-bec00502ec53"
      },
      "cell_type": "code",
      "source": [
        "## 텐서플로우 연산 (+)\n",
        "## 그래프의 구성\n",
        "a = tf.constant(10)\n",
        "print(a)"
      ],
      "execution_count": 7,
      "outputs": [
        {
          "output_type": "stream",
          "text": [
            "Tensor(\"Const_1:0\", shape=(), dtype=int32)\n"
          ],
          "name": "stdout"
        }
      ]
    },
    {
      "metadata": {
        "id": "AXon-MLBZaW3",
        "colab_type": "code",
        "colab": {
          "base_uri": "https://localhost:8080/",
          "height": 35
        },
        "outputId": "66d54bbb-dc3c-4015-d824-688c5033ed23"
      },
      "cell_type": "code",
      "source": [
        "b= tf.constant(25)\n",
        "print(b)"
      ],
      "execution_count": 8,
      "outputs": [
        {
          "output_type": "stream",
          "text": [
            "Tensor(\"Const_2:0\", shape=(), dtype=int32)\n"
          ],
          "name": "stdout"
        }
      ]
    },
    {
      "metadata": {
        "id": "OObJoSkEZekf",
        "colab_type": "code",
        "colab": {
          "base_uri": "https://localhost:8080/",
          "height": 53
        },
        "outputId": "23616754-1c25-4208-880e-9195d75d16e0"
      },
      "cell_type": "code",
      "source": [
        "c = tf.add(a,b)\n",
        "print(c)\n",
        "print(type(c))"
      ],
      "execution_count": 9,
      "outputs": [
        {
          "output_type": "stream",
          "text": [
            "Tensor(\"Add:0\", shape=(), dtype=int32)\n",
            "<class 'tensorflow.python.framework.ops.Tensor'>\n"
          ],
          "name": "stdout"
        }
      ]
    },
    {
      "metadata": {
        "id": "NnYOssXyZmCh",
        "colab_type": "code",
        "colab": {
          "base_uri": "https://localhost:8080/",
          "height": 35
        },
        "outputId": "0d6befd2-a69d-444b-efd0-9b241ab37a27"
      },
      "cell_type": "code",
      "source": [
        "sess = tf.Session()\n",
        "print(sess.run([a,b,c]))\n",
        "\n",
        "sess.close()"
      ],
      "execution_count": 17,
      "outputs": [
        {
          "output_type": "stream",
          "text": [
            "[10, 25, 35]\n"
          ],
          "name": "stdout"
        }
      ]
    },
    {
      "metadata": {
        "id": "sRd8_FtyZwuX",
        "colab_type": "code",
        "colab": {
          "base_uri": "https://localhost:8080/",
          "height": 35
        },
        "outputId": "d99818cf-258f-4cea-d9fd-da3a9a966f14"
      },
      "cell_type": "code",
      "source": [
        "## 플레이스 홀더 선언\n",
        "X = tf.placeholder(tf.float32, [None, 3])\n",
        "print(X)"
      ],
      "execution_count": 18,
      "outputs": [
        {
          "output_type": "stream",
          "text": [
            "Tensor(\"Placeholder:0\", shape=(?, 3), dtype=float32)\n"
          ],
          "name": "stdout"
        }
      ]
    },
    {
      "metadata": {
        "id": "d842HKwSaFMf",
        "colab_type": "code",
        "colab": {}
      },
      "cell_type": "code",
      "source": [
        "### 실행시에 넣을 테이터 x\n",
        "x_data = [[1,2,3],\n",
        "         [4,5,6]]"
      ],
      "execution_count": 0,
      "outputs": []
    },
    {
      "metadata": {
        "id": "aq2vDFA-aLbf",
        "colab_type": "code",
        "colab": {
          "base_uri": "https://localhost:8080/",
          "height": 35
        },
        "outputId": "e8af9114-b2be-4e7c-8c88-dba91abfb7ba"
      },
      "cell_type": "code",
      "source": [
        "x_data"
      ],
      "execution_count": 20,
      "outputs": [
        {
          "output_type": "execute_result",
          "data": {
            "text/plain": [
              "[[1, 2, 3], [4, 5, 6]]"
            ]
          },
          "metadata": {
            "tags": []
          },
          "execution_count": 20
        }
      ]
    },
    {
      "metadata": {
        "id": "BuHMPl34aMqS",
        "colab_type": "code",
        "colab": {
          "base_uri": "https://localhost:8080/",
          "height": 35
        },
        "outputId": "dfc4f90f-59e1-434b-be56-bb2f1a7769df"
      },
      "cell_type": "code",
      "source": [
        "W = tf.Variable(tf.random_normal([3,2]))\n",
        "b = tf.Variable(tf.random_normal([2,1]))\n",
        "print(W)"
      ],
      "execution_count": 21,
      "outputs": [
        {
          "output_type": "stream",
          "text": [
            "<tf.Variable 'Variable:0' shape=(3, 2) dtype=float32_ref>\n"
          ],
          "name": "stdout"
        }
      ]
    },
    {
      "metadata": {
        "id": "Uf4EdZOAaeEn",
        "colab_type": "code",
        "colab": {
          "base_uri": "https://localhost:8080/",
          "height": 35
        },
        "outputId": "46312802-99fc-4b9e-a37f-82e8333b0118"
      },
      "cell_type": "code",
      "source": [
        "print(b)"
      ],
      "execution_count": 22,
      "outputs": [
        {
          "output_type": "stream",
          "text": [
            "<tf.Variable 'Variable_1:0' shape=(2, 1) dtype=float32_ref>\n"
          ],
          "name": "stdout"
        }
      ]
    },
    {
      "metadata": {
        "id": "NlToIFzqae_5",
        "colab_type": "code",
        "colab": {
          "base_uri": "https://localhost:8080/",
          "height": 35
        },
        "outputId": "c9edc737-b54c-4d33-b686-4a726d0ce4b5"
      },
      "cell_type": "code",
      "source": [
        "### 수식계산 matrix multiplication\n",
        "expr = tf.matmul(X, W) +b\n",
        "expr"
      ],
      "execution_count": 23,
      "outputs": [
        {
          "output_type": "execute_result",
          "data": {
            "text/plain": [
              "<tf.Tensor 'add_1:0' shape=(2, 2) dtype=float32>"
            ]
          },
          "metadata": {
            "tags": []
          },
          "execution_count": 23
        }
      ]
    },
    {
      "metadata": {
        "id": "pK48q6q-dT5y",
        "colab_type": "code",
        "colab": {
          "base_uri": "https://localhost:8080/",
          "height": 215
        },
        "outputId": "9e546628-5300-459c-a399-9ae0fa4af8f1"
      },
      "cell_type": "code",
      "source": [
        "sess = tf.Session()\n",
        "sess.run(tf.global_variables_initializer())\n",
        "\n",
        "print(x_data) # 파이썬 문법\n",
        "print('=== W matrix ===')\n",
        "print(sess.run(W))\n",
        "print('=== b ===')\n",
        "print(sess.run(b))\n",
        "print('=== expr ===')\n",
        "print(sess.run(expr, feed_dict={X:x_data}))\n",
        "\n",
        "sess.close()"
      ],
      "execution_count": 31,
      "outputs": [
        {
          "output_type": "stream",
          "text": [
            "[[1, 2, 3], [4, 5, 6]]\n",
            "=== W matrix ===\n",
            "[[-0.34295613  1.8190753 ]\n",
            " [-0.38536116 -0.8717073 ]\n",
            " [-1.4469494   1.314598  ]]\n",
            "=== b ===\n",
            "[[-0.6652114 ]\n",
            " [ 0.09643319]]\n",
            "=== expr ===\n",
            "[[ -6.1197376   3.354243 ]\n",
            " [-11.883893   10.901786 ]]\n"
          ],
          "name": "stdout"
        }
      ]
    },
    {
      "metadata": {
        "id": "rYLWOlEwdc_q",
        "colab_type": "code",
        "colab": {}
      },
      "cell_type": "code",
      "source": [
        "##"
      ],
      "execution_count": 0,
      "outputs": []
    },
    {
      "metadata": {
        "id": "_9tYJHY8eRAF",
        "colab_type": "code",
        "colab": {}
      },
      "cell_type": "code",
      "source": [
        "import tensorflow as tf"
      ],
      "execution_count": 0,
      "outputs": []
    },
    {
      "metadata": {
        "id": "VLCYqALCeSYG",
        "colab_type": "code",
        "colab": {}
      },
      "cell_type": "code",
      "source": [
        "x_data = [1, 2 ,3]\n",
        "y_data = [1, 2, 3]"
      ],
      "execution_count": 0,
      "outputs": []
    },
    {
      "metadata": {
        "id": "PHqUMhmxeXrh",
        "colab_type": "code",
        "colab": {}
      },
      "cell_type": "code",
      "source": [
        "# w와 b를 각각 -1~1 사이의 균등분포를 갖는 무작위 값으로 초기화 수행"
      ],
      "execution_count": 0,
      "outputs": []
    },
    {
      "metadata": {
        "id": "bPG7yVgqec9g",
        "colab_type": "code",
        "colab": {
          "base_uri": "https://localhost:8080/",
          "height": 35
        },
        "outputId": "00e660fc-02ce-47c1-fea6-bb86bf3a3537"
      },
      "cell_type": "code",
      "source": [
        "W =tf.Variable(tf.random_uniform([1], -1.0, 1.0))\n",
        "b = tf.Variable(tf.random_uniform([1], -1.0, 1.0))\n",
        "print(W)"
      ],
      "execution_count": 36,
      "outputs": [
        {
          "output_type": "stream",
          "text": [
            "<tf.Variable 'Variable_2:0' shape=(1,) dtype=float32_ref>\n"
          ],
          "name": "stdout"
        }
      ]
    },
    {
      "metadata": {
        "id": "zT20huixesuT",
        "colab_type": "code",
        "colab": {
          "base_uri": "https://localhost:8080/",
          "height": 35
        },
        "outputId": "531efc69-c11a-4985-f16c-c612f566a05c"
      },
      "cell_type": "code",
      "source": [
        "print(b)"
      ],
      "execution_count": 37,
      "outputs": [
        {
          "output_type": "stream",
          "text": [
            "<tf.Variable 'Variable_3:0' shape=(1,) dtype=float32_ref>\n"
          ],
          "name": "stdout"
        }
      ]
    },
    {
      "metadata": {
        "id": "bwlHf5gjeuJc",
        "colab_type": "code",
        "colab": {}
      },
      "cell_type": "code",
      "source": [
        "## 2-3 플레이스 홀더 설정"
      ],
      "execution_count": 0,
      "outputs": []
    },
    {
      "metadata": {
        "id": "RSKzmMkKex31",
        "colab_type": "code",
        "colab": {
          "base_uri": "https://localhost:8080/",
          "height": 35
        },
        "outputId": "e46bd0d1-11a7-42de-93f8-8d7020a7c3f1"
      },
      "cell_type": "code",
      "source": [
        "T = tf.placeholder(tf.float32)\n",
        "print(T)"
      ],
      "execution_count": 39,
      "outputs": [
        {
          "output_type": "stream",
          "text": [
            "Tensor(\"Placeholder_1:0\", dtype=float32)\n"
          ],
          "name": "stdout"
        }
      ]
    },
    {
      "metadata": {
        "id": "uE1lKZoUe2FO",
        "colab_type": "code",
        "colab": {
          "base_uri": "https://localhost:8080/",
          "height": 53
        },
        "outputId": "d2dd08b4-5f53-461e-d1b4-dd16b557485c"
      },
      "cell_type": "code",
      "source": [
        "X1 = tf.placeholder(tf.float32, name='X')\n",
        "Y1 = tf.placeholder(tf.float32, name='Y')\n",
        "print(X1)\n",
        "print(Y1)"
      ],
      "execution_count": 40,
      "outputs": [
        {
          "output_type": "stream",
          "text": [
            "Tensor(\"X:0\", dtype=float32)\n",
            "Tensor(\"Y:0\", dtype=float32)\n"
          ],
          "name": "stdout"
        }
      ]
    },
    {
      "metadata": {
        "id": "4_xN21RQfAZX",
        "colab_type": "code",
        "colab": {}
      },
      "cell_type": "code",
      "source": [
        "sess = tf.Session()\n",
        "sess.run(tf.global_variables_initializer())\n",
        "sess.close()"
      ],
      "execution_count": 0,
      "outputs": []
    },
    {
      "metadata": {
        "id": "Ahu8SIeAfIPB",
        "colab_type": "code",
        "colab": {}
      },
      "cell_type": "code",
      "source": [
        "### hypothesis = W*X +b\n",
        "hypothesis = W*X1 +b"
      ],
      "execution_count": 0,
      "outputs": []
    },
    {
      "metadata": {
        "id": "q1M0VzH0fNs3",
        "colab_type": "code",
        "colab": {}
      },
      "cell_type": "code",
      "source": [
        "# 손실함수(loss function)\n",
        "## 데이터에 대한 손실값을 계산하는 함수\n",
        "## 경사하강법은 최적화 방법 중 가장 기본적인 알고리즘\n",
        "## 경사하강법 : 함수의 기울기를 구하고, 기울기가 낮은 쪽으로 이동시켜가며 최적 값을 찾아간다."
      ],
      "execution_count": 0,
      "outputs": []
    },
    {
      "metadata": {
        "id": "h5sls4o-faPn",
        "colab_type": "code",
        "colab": {
          "base_uri": "https://localhost:8080/",
          "height": 34
        },
        "outputId": "7e71e494-49d3-4282-b35f-dfd9c96cb436"
      },
      "cell_type": "code",
      "source": [
        "cost = tf.reduce_mean(tf.square(hypothesis - Y1))\n",
        "\n",
        "optimizer = tf.train.GradientDescentOptimizer(learning_rate=0.1)\n",
        "train_op = optimizer.minimize(cost)\n",
        "train_op"
      ],
      "execution_count": 45,
      "outputs": [
        {
          "output_type": "execute_result",
          "data": {
            "text/plain": [
              "<tf.Operation 'GradientDescent' type=NoOp>"
            ]
          },
          "metadata": {
            "tags": []
          },
          "execution_count": 45
        }
      ]
    },
    {
      "metadata": {
        "id": "X3tms9mTfoRD",
        "colab_type": "code",
        "colab": {}
      },
      "cell_type": "code",
      "source": [
        "# learning_rate는 학습을 얼마나 급하게 할 것인가를 설정함\n",
        "# 학습을 진행하는 과정 중에 영햐을 주는 변수를 하이퍼파라미터라고 한다.\n",
        "# 하이퍼 파라미터를 어떻게 찾는가에 따라 학습속도와 신경망 성능이 달라질 수 있다."
      ],
      "execution_count": 0,
      "outputs": []
    },
    {
      "metadata": {
        "id": "VBI1Cipzgf0J",
        "colab_type": "code",
        "colab": {}
      },
      "cell_type": "code",
      "source": [
        "# hypothesis = W*X1+b # name:X1\n",
        "# cost = tf.reduce_mean(tf.square(hypothesis - Y1)) # name:Y1\n",
        "# x_data = [1,2,3]\n",
        "# y_data = [1,2,3]\n",
        "# optimizer = tf.train.GradientDescentOptimizer(learning_rate=0.1)\n",
        "# train_op = optimizer.minimize(cost)"
      ],
      "execution_count": 0,
      "outputs": []
    },
    {
      "metadata": {
        "id": "ISgh48kQhQTs",
        "colab_type": "code",
        "colab": {}
      },
      "cell_type": "code",
      "source": [
        "sess = tf.Session()\n",
        "sess.run(tf.global_variables_initializer())"
      ],
      "execution_count": 0,
      "outputs": []
    },
    {
      "metadata": {
        "id": "2Njvd0DBhVzq",
        "colab_type": "code",
        "colab": {
          "base_uri": "https://localhost:8080/",
          "height": 212
        },
        "outputId": "6666486c-5778-4403-833f-7d5d66f0712b"
      },
      "cell_type": "code",
      "source": [
        "for step in range(100):\n",
        "  _, cost_val= sess.run([train_op, cost], feed_dict={X1:x_data, Y1:y_data})\n",
        "  if step%10==0:\n",
        "    print(step, cost_val, sess.run(W), sess.run(b))\n",
        "    \n",
        "print('X1:5, Y1:', sess.run(hypothesis, feed_dict={X1:5}))"
      ],
      "execution_count": 49,
      "outputs": [
        {
          "output_type": "stream",
          "text": [
            "0 7.685257 [0.65259874] [1.1057279]\n",
            "10 0.10294083 [0.6363177] [0.8267353]\n",
            "20 0.0632753 [0.7148684] [0.6481711]\n",
            "30 0.038893834 [0.77645314] [0.50817454]\n",
            "40 0.023907112 [0.82473636] [0.39841542]\n",
            "50 0.0146951275 [0.8625911] [0.31236282]\n",
            "60 0.00903274 [0.8922696] [0.24489647]\n",
            "70 0.005552213 [0.91553795] [0.192002]\n",
            "80 0.0034128132 [0.9337807] [0.15053208]\n",
            "90 0.0020977769 [0.9480832] [0.11801907]\n",
            "X1:5, Y1: [4.8862777]\n"
          ],
          "name": "stdout"
        }
      ]
    },
    {
      "metadata": {
        "id": "7fSwg7_Zhybl",
        "colab_type": "code",
        "colab": {}
      },
      "cell_type": "code",
      "source": [
        "# 기본 신경망 구현\n",
        "# y = sigmoid(X*W + b)\n",
        "# y : 출력\n",
        "# sigmoid : Activation function(활성화 함수)\n",
        "# X : 입력\n",
        "# W : 가중치(weight)\n",
        "# b : 편향(bias)"
      ],
      "execution_count": 0,
      "outputs": []
    },
    {
      "metadata": {
        "id": "9NWh2nB8iOx7",
        "colab_type": "code",
        "colab": {}
      },
      "cell_type": "code",
      "source": [
        "# 학습이란 W, b 값을 찾아내는 것\n",
        "# 최적화 알고리즘 : GradientDescent(경사하강법)"
      ],
      "execution_count": 0,
      "outputs": []
    },
    {
      "metadata": {
        "id": "dI-9TjXRiVp7",
        "colab_type": "code",
        "colab": {}
      },
      "cell_type": "code",
      "source": [
        "## 활성화 함수(Activation function)\n",
        "# 활성화 함수(activation function)는 인공 신경망을 통해 들어온 값을 최종적으로 어떤 값으로 만들지 결정한다.\n",
        "# 종류 : Sigmoid(시그모이드), ReLu(렐루), tanh(쌍곡탄젠트), Softmax(소프트맥스)"
      ],
      "execution_count": 0,
      "outputs": []
    },
    {
      "metadata": {
        "id": "PsuO6YyZioE6",
        "colab_type": "code",
        "colab": {}
      },
      "cell_type": "code",
      "source": [
        "import tensorflow as tf"
      ],
      "execution_count": 0,
      "outputs": []
    },
    {
      "metadata": {
        "id": "iNwhGEOziqcC",
        "colab_type": "code",
        "colab": {
          "base_uri": "https://localhost:8080/",
          "height": 34
        },
        "outputId": "7aebe2c4-0685-4c6b-cb8f-8e57d61e8357"
      },
      "cell_type": "code",
      "source": [
        "tf.__version__"
      ],
      "execution_count": 54,
      "outputs": [
        {
          "output_type": "execute_result",
          "data": {
            "text/plain": [
              "'1.12.0'"
            ]
          },
          "metadata": {
            "tags": []
          },
          "execution_count": 54
        }
      ]
    },
    {
      "metadata": {
        "id": "bA_DeNrgirfB",
        "colab_type": "code",
        "colab": {}
      },
      "cell_type": "code",
      "source": [
        "## 값을 저장"
      ],
      "execution_count": 0,
      "outputs": []
    },
    {
      "metadata": {
        "id": "e-m8q8jeisTm",
        "colab_type": "code",
        "colab": {
          "base_uri": "https://localhost:8080/",
          "height": 34
        },
        "outputId": "11f36188-a8be-4414-f64a-8b570e67458e"
      },
      "cell_type": "code",
      "source": [
        "strA=tf.constant('Hello, Tensorflow!')\n",
        "print(strA)"
      ],
      "execution_count": 56,
      "outputs": [
        {
          "output_type": "stream",
          "text": [
            "Tensor(\"Const_3:0\", shape=(), dtype=string)\n"
          ],
          "name": "stdout"
        }
      ]
    },
    {
      "metadata": {
        "id": "XCwd78YDixCs",
        "colab_type": "code",
        "colab": {
          "base_uri": "https://localhost:8080/",
          "height": 34
        },
        "outputId": "f95223d0-4564-405f-a160-ef1a90f293fa"
      },
      "cell_type": "code",
      "source": [
        "## 실행\n",
        "sess = tf.Session()\n",
        "sess.run(strA)"
      ],
      "execution_count": 57,
      "outputs": [
        {
          "output_type": "execute_result",
          "data": {
            "text/plain": [
              "b'Hello, Tensorflow!'"
            ]
          },
          "metadata": {
            "tags": []
          },
          "execution_count": 57
        }
      ]
    },
    {
      "metadata": {
        "id": "VMJ4gpRQi1Gj",
        "colab_type": "code",
        "colab": {
          "base_uri": "https://localhost:8080/",
          "height": 52
        },
        "outputId": "e7f5e1ce-4556-496d-9d30-a5f93b3ffe22"
      },
      "cell_type": "code",
      "source": [
        "## 텐서플로우 연산 (+)\n",
        "## 그래프의 구성\n",
        "a=tf.constant(10)\n",
        "b=tf.constant(25)\n",
        "c=tf.add(a,b)\n",
        "\n",
        "print(c)\n",
        "print(type(c))"
      ],
      "execution_count": 58,
      "outputs": [
        {
          "output_type": "stream",
          "text": [
            "Tensor(\"Add_3:0\", shape=(), dtype=int32)\n",
            "<class 'tensorflow.python.framework.ops.Tensor'>\n"
          ],
          "name": "stdout"
        }
      ]
    },
    {
      "metadata": {
        "id": "DBcFL78YjBRq",
        "colab_type": "code",
        "colab": {}
      },
      "cell_type": "code",
      "source": [
        "## 그래프 실행\n",
        "# 실제 연산 부분은 C++로 구현하였다.\n",
        "# 모델 구성과 실행을 분리해서 프로그램을 깔끔하게 작성."
      ],
      "execution_count": 0,
      "outputs": []
    },
    {
      "metadata": {
        "id": "2y_tUrPMjJNB",
        "colab_type": "code",
        "colab": {
          "base_uri": "https://localhost:8080/",
          "height": 34
        },
        "outputId": "3ca385c2-6340-43ce-c948-efa5feaa474c"
      },
      "cell_type": "code",
      "source": [
        "sess = tf.Session()\n",
        "print(sess.run([a,b,c]))\n",
        "sess.close()"
      ],
      "execution_count": 60,
      "outputs": [
        {
          "output_type": "stream",
          "text": [
            "[10, 25, 35]\n"
          ],
          "name": "stdout"
        }
      ]
    },
    {
      "metadata": {
        "id": "SOrR5ZCIjVGZ",
        "colab_type": "code",
        "colab": {
          "base_uri": "https://localhost:8080/",
          "height": 34
        },
        "outputId": "900ed287-a0c6-4257-bcda-6844f8e9b541"
      },
      "cell_type": "code",
      "source": [
        "## 플레이스 홀더 선언\n",
        "X = tf.placeholder(tf.float32, [None, 3])\n",
        "print(X)"
      ],
      "execution_count": 61,
      "outputs": [
        {
          "output_type": "stream",
          "text": [
            "Tensor(\"Placeholder_2:0\", shape=(?, 3), dtype=float32)\n"
          ],
          "name": "stdout"
        }
      ]
    },
    {
      "metadata": {
        "id": "vVYCw9I5jein",
        "colab_type": "code",
        "colab": {}
      },
      "cell_type": "code",
      "source": [
        "## 실행시에 넣을 데이터 x\n",
        "x_data = [[1,2,3], [4,5,6]]"
      ],
      "execution_count": 0,
      "outputs": []
    },
    {
      "metadata": {
        "id": "JWCmCW0ljlMF",
        "colab_type": "code",
        "colab": {
          "base_uri": "https://localhost:8080/",
          "height": 52
        },
        "outputId": "bc2166be-356c-4e17-f2ae-36983080d590"
      },
      "cell_type": "code",
      "source": [
        "# y = xw + b -> (3*3) * (3*3) + (?*1)\n",
        "# 2 2 +\n",
        "# 2 1\n",
        "W = tf.Variable(tf.random_normal([3,2]))\n",
        "b=tf.Variable(tf.random_normal([2,1]))\n",
        "print(W)\n",
        "print(b)"
      ],
      "execution_count": 63,
      "outputs": [
        {
          "output_type": "stream",
          "text": [
            "<tf.Variable 'Variable_4:0' shape=(3, 2) dtype=float32_ref>\n",
            "<tf.Variable 'Variable_5:0' shape=(2, 1) dtype=float32_ref>\n"
          ],
          "name": "stdout"
        }
      ]
    },
    {
      "metadata": {
        "id": "bEkWDYwGkyTo",
        "colab_type": "code",
        "colab": {
          "base_uri": "https://localhost:8080/",
          "height": 52
        },
        "outputId": "ea1bae9f-30b0-4c67-dfd4-b8422dbfded5"
      },
      "cell_type": "code",
      "source": [
        "W = tf.Variable(tf.random_normal([3,2]))\n",
        "b = tf.Variable(tf.random_normal([2,1]))\n",
        "print(W)\n",
        "print(b)"
      ],
      "execution_count": 64,
      "outputs": [
        {
          "output_type": "stream",
          "text": [
            "<tf.Variable 'Variable_6:0' shape=(3, 2) dtype=float32_ref>\n",
            "<tf.Variable 'Variable_7:0' shape=(2, 1) dtype=float32_ref>\n"
          ],
          "name": "stdout"
        }
      ]
    },
    {
      "metadata": {
        "id": "iPhYSGlAnlYW",
        "colab_type": "code",
        "colab": {
          "base_uri": "https://localhost:8080/",
          "height": 34
        },
        "outputId": "f3111231-b8c8-4248-d1d1-6be786df70cd"
      },
      "cell_type": "code",
      "source": [
        "## 수식 계산 matrix multiplication\n",
        "expr = tf.matmul(X, W) + b\n",
        "expr"
      ],
      "execution_count": 65,
      "outputs": [
        {
          "output_type": "execute_result",
          "data": {
            "text/plain": [
              "<tf.Tensor 'add_4:0' shape=(2, 2) dtype=float32>"
            ]
          },
          "metadata": {
            "tags": []
          },
          "execution_count": 65
        }
      ]
    },
    {
      "metadata": {
        "id": "43s4Nz3YnsM2",
        "colab_type": "code",
        "colab": {
          "base_uri": "https://localhost:8080/",
          "height": 212
        },
        "outputId": "22a1986c-3602-4c14-94ea-ebf0c7d05ba3"
      },
      "cell_type": "code",
      "source": [
        "sess = tf.Session()\n",
        "sess.run(tf.global_variables_initializer())\n",
        "\n",
        "print(x_data) # 파이썬 문법\n",
        "print('=== W matrix ===')\n",
        "print(sess.run(W))\n",
        "print('=== b ===')\n",
        "print(sess.run(b))\n",
        "print('=== expr ===')\n",
        "print(sess.run(expr, feed_dict={X:x_data}))\n",
        "\n",
        "sess.close()"
      ],
      "execution_count": 73,
      "outputs": [
        {
          "output_type": "stream",
          "text": [
            "[[1, 2, 3], [4, 5, 6]]\n",
            "=== W matrix ===\n",
            "[[-0.2142382   0.15353583]\n",
            " [-0.30554494  1.1878252 ]\n",
            " [ 0.5264364  -0.34624597]]\n",
            "=== b ===\n",
            "[[0.5229467]\n",
            " [0.6862877]]\n",
            "=== expr ===\n",
            "[[1.2769277 2.013395 ]\n",
            " [1.4602287 5.1620812]]\n"
          ],
          "name": "stdout"
        }
      ]
    },
    {
      "metadata": {
        "id": "jqNWwdQVpAxZ",
        "colab_type": "code",
        "colab": {}
      },
      "cell_type": "code",
      "source": [
        "import tensorflow as tf"
      ],
      "execution_count": 0,
      "outputs": []
    },
    {
      "metadata": {
        "id": "oS9EdyhBp0pA",
        "colab_type": "code",
        "colab": {
          "base_uri": "https://localhost:8080/",
          "height": 34
        },
        "outputId": "7310df0b-1c85-434c-b527-28c441911826"
      },
      "cell_type": "code",
      "source": [
        "tf.__version__"
      ],
      "execution_count": 75,
      "outputs": [
        {
          "output_type": "execute_result",
          "data": {
            "text/plain": [
              "'1.12.0'"
            ]
          },
          "metadata": {
            "tags": []
          },
          "execution_count": 75
        }
      ]
    },
    {
      "metadata": {
        "id": "78hY5wZxp2Ik",
        "colab_type": "code",
        "colab": {}
      },
      "cell_type": "code",
      "source": [
        "## 값을 저장"
      ],
      "execution_count": 0,
      "outputs": []
    },
    {
      "metadata": {
        "id": "WXbH6xy5p3a6",
        "colab_type": "code",
        "colab": {
          "base_uri": "https://localhost:8080/",
          "height": 34
        },
        "outputId": "0ac2bd1e-42c2-447f-8b17-cfab290ee9fe"
      },
      "cell_type": "code",
      "source": [
        "strA = tf.constant('Hello Tensorflow')\n",
        "print(strA)"
      ],
      "execution_count": 77,
      "outputs": [
        {
          "output_type": "stream",
          "text": [
            "Tensor(\"Const_6:0\", shape=(), dtype=string)\n"
          ],
          "name": "stdout"
        }
      ]
    },
    {
      "metadata": {
        "id": "Hy7suGRnp83P",
        "colab_type": "code",
        "colab": {
          "base_uri": "https://localhost:8080/",
          "height": 52
        },
        "outputId": "01ca2788-2915-403b-883b-a094ecc45d72"
      },
      "cell_type": "code",
      "source": [
        "# 텐서플로우 연산 (+)\n",
        "# 그래프 구성\n",
        "a = tf.constant(10)\n",
        "b = tf.constant(25)\n",
        "c = tf.add(a,b)\n",
        "\n",
        "print(c)\n",
        "print(type(c))"
      ],
      "execution_count": 78,
      "outputs": [
        {
          "output_type": "stream",
          "text": [
            "Tensor(\"Add_5:0\", shape=(), dtype=int32)\n",
            "<class 'tensorflow.python.framework.ops.Tensor'>\n"
          ],
          "name": "stdout"
        }
      ]
    },
    {
      "metadata": {
        "id": "oo-HrEOZq08V",
        "colab_type": "code",
        "colab": {}
      },
      "cell_type": "code",
      "source": [
        "# 그래프의 실행\n",
        "## 실제 연산 부분은 C++로 구현\n",
        "## 모델 구성과 실행을 분리해서 프로그램 작성"
      ],
      "execution_count": 0,
      "outputs": []
    },
    {
      "metadata": {
        "id": "37lDYSGZq95K",
        "colab_type": "code",
        "colab": {
          "base_uri": "https://localhost:8080/",
          "height": 34
        },
        "outputId": "59c4bd54-9fd7-4134-b2f3-6395acf8b3ef"
      },
      "cell_type": "code",
      "source": [
        "sess = tf.Session()\n",
        "print(sess.run([a,b,c]))"
      ],
      "execution_count": 80,
      "outputs": [
        {
          "output_type": "stream",
          "text": [
            "[10, 25, 35]\n"
          ],
          "name": "stdout"
        }
      ]
    },
    {
      "metadata": {
        "id": "iQf8PPrLrB1H",
        "colab_type": "code",
        "colab": {
          "base_uri": "https://localhost:8080/",
          "height": 34
        },
        "outputId": "7ecbea55-5f43-40b8-d978-6a352815951f"
      },
      "cell_type": "code",
      "source": [
        "# 플레이스 홀더 선언\n",
        "X = tf.placeholder(tf.float32, [None, 3])\n",
        "print(X)"
      ],
      "execution_count": 81,
      "outputs": [
        {
          "output_type": "stream",
          "text": [
            "Tensor(\"Placeholder_3:0\", shape=(?, 3), dtype=float32)\n"
          ],
          "name": "stdout"
        }
      ]
    },
    {
      "metadata": {
        "id": "Otr5fDtdrKm9",
        "colab_type": "code",
        "colab": {}
      },
      "cell_type": "code",
      "source": [
        "# 실행시 넣을 데이터 x\n",
        "x_data = [[1,2,3], [4,5,6]]"
      ],
      "execution_count": 0,
      "outputs": []
    },
    {
      "metadata": {
        "id": "flvFnm0qrRbi",
        "colab_type": "code",
        "colab": {
          "base_uri": "https://localhost:8080/",
          "height": 52
        },
        "outputId": "8e92bab7-4a18-4571-9e18-e1d7bfcecdd6"
      },
      "cell_type": "code",
      "source": [
        "# y=xw + b -> (3*3)*(3*2)+(?*1)\n",
        "# 2 2 +\n",
        "# 2 1\n",
        "W =tf.Variable(tf.random_normal([3,2]))\n",
        "b = tf.Variable(tf.random_normal([2,1]))\n",
        "print(W)\n",
        "print(b)"
      ],
      "execution_count": 84,
      "outputs": [
        {
          "output_type": "stream",
          "text": [
            "<tf.Variable 'Variable_10:0' shape=(3, 2) dtype=float32_ref>\n",
            "<tf.Variable 'Variable_11:0' shape=(2, 1) dtype=float32_ref>\n"
          ],
          "name": "stdout"
        }
      ]
    },
    {
      "metadata": {
        "id": "-JOhe-20rm9q",
        "colab_type": "code",
        "colab": {
          "base_uri": "https://localhost:8080/",
          "height": 34
        },
        "outputId": "3ab7dc20-04a3-45d9-dbd2-6977b7cc1243"
      },
      "cell_type": "code",
      "source": [
        "# 수식 계산 matrix multiplication\n",
        "expr = tf.matmul(X, W)+b\n",
        "expr"
      ],
      "execution_count": 86,
      "outputs": [
        {
          "output_type": "execute_result",
          "data": {
            "text/plain": [
              "<tf.Tensor 'add_7:0' shape=(2, 2) dtype=float32>"
            ]
          },
          "metadata": {
            "tags": []
          },
          "execution_count": 86
        }
      ]
    },
    {
      "metadata": {
        "id": "Yl9a3v3PrxD-",
        "colab_type": "code",
        "colab": {
          "base_uri": "https://localhost:8080/",
          "height": 34
        },
        "outputId": "7560bb05-4796-44f8-f2fe-12b2641c9866"
      },
      "cell_type": "code",
      "source": [
        "# 연산 실행 및 결과 출력\n",
        "sess = tf.Session()\n",
        "sess.run(tf.global_variables_initializer())\n",
        "\n",
        "print(x_data)"
      ],
      "execution_count": 87,
      "outputs": [
        {
          "output_type": "stream",
          "text": [
            "[[1, 2, 3], [4, 5, 6]]\n"
          ],
          "name": "stdout"
        }
      ]
    },
    {
      "metadata": {
        "id": "u-oWF8KKr_Id",
        "colab_type": "code",
        "colab": {
          "base_uri": "https://localhost:8080/",
          "height": 70
        },
        "outputId": "d5b99b4d-b302-4b56-e9a6-56587076c98d"
      },
      "cell_type": "code",
      "source": [
        "print(sess.run(W))"
      ],
      "execution_count": 88,
      "outputs": [
        {
          "output_type": "stream",
          "text": [
            "[[ 0.15645334  0.1032697 ]\n",
            " [ 0.435112   -1.5176002 ]\n",
            " [-0.4267376  -0.9012546 ]]\n"
          ],
          "name": "stdout"
        }
      ]
    },
    {
      "metadata": {
        "id": "ZGABbF2ssA3w",
        "colab_type": "code",
        "colab": {
          "base_uri": "https://localhost:8080/",
          "height": 52
        },
        "outputId": "5644cfdc-55e9-4562-a4f6-f623425a7fec"
      },
      "cell_type": "code",
      "source": [
        "print(sess.run(b))"
      ],
      "execution_count": 89,
      "outputs": [
        {
          "output_type": "stream",
          "text": [
            "[[0.8991574]\n",
            " [0.5936832]]\n"
          ],
          "name": "stdout"
        }
      ]
    },
    {
      "metadata": {
        "id": "YZPAVx_AsCtx",
        "colab_type": "code",
        "colab": {
          "base_uri": "https://localhost:8080/",
          "height": 52
        },
        "outputId": "fae37e56-9a77-485c-8239-ff40d43e20cf"
      },
      "cell_type": "code",
      "source": [
        "print(sess.run(expr, feed_dict={X:x_data}))"
      ],
      "execution_count": 90,
      "outputs": [
        {
          "output_type": "stream",
          "text": [
            "[[  0.64562196  -4.736537  ]\n",
            " [  0.834631   -11.988767  ]]\n"
          ],
          "name": "stdout"
        }
      ]
    },
    {
      "metadata": {
        "id": "BdQHfrhEsG8W",
        "colab_type": "code",
        "colab": {}
      },
      "cell_type": "code",
      "source": [
        "import tensorflow as tf"
      ],
      "execution_count": 0,
      "outputs": []
    },
    {
      "metadata": {
        "id": "l3akitd7sKfd",
        "colab_type": "code",
        "colab": {
          "base_uri": "https://localhost:8080/",
          "height": 34
        },
        "outputId": "4e49f955-7f6d-4121-dba5-345ca0f9259a"
      },
      "cell_type": "code",
      "source": [
        "tf.__version__"
      ],
      "execution_count": 92,
      "outputs": [
        {
          "output_type": "execute_result",
          "data": {
            "text/plain": [
              "'1.12.0'"
            ]
          },
          "metadata": {
            "tags": []
          },
          "execution_count": 92
        }
      ]
    },
    {
      "metadata": {
        "id": "BBzk1HxqsL2j",
        "colab_type": "code",
        "colab": {
          "base_uri": "https://localhost:8080/",
          "height": 34
        },
        "outputId": "cede0433-f859-4899-ae11-2416bfa16780"
      },
      "cell_type": "code",
      "source": [
        "## 값을 저장\n",
        "strA = tf.constant('Hello, Tensorflow')\n",
        "print(strA)"
      ],
      "execution_count": 93,
      "outputs": [
        {
          "output_type": "stream",
          "text": [
            "Tensor(\"Const_9:0\", shape=(), dtype=string)\n"
          ],
          "name": "stdout"
        }
      ]
    },
    {
      "metadata": {
        "id": "PUQJbniKsTzp",
        "colab_type": "code",
        "colab": {
          "base_uri": "https://localhost:8080/",
          "height": 34
        },
        "outputId": "4f61def8-13a7-49fd-9523-5c9231efb126"
      },
      "cell_type": "code",
      "source": [
        "# 실행\n",
        "sess = tf.Session()\n",
        "sess.run(strA)"
      ],
      "execution_count": 94,
      "outputs": [
        {
          "output_type": "execute_result",
          "data": {
            "text/plain": [
              "b'Hello, Tensorflow'"
            ]
          },
          "metadata": {
            "tags": []
          },
          "execution_count": 94
        }
      ]
    },
    {
      "metadata": {
        "id": "qczlSz3usZHC",
        "colab_type": "code",
        "colab": {
          "base_uri": "https://localhost:8080/",
          "height": 52
        },
        "outputId": "3d965b5c-56a6-42e2-e64f-4b9d26bafaf9"
      },
      "cell_type": "code",
      "source": [
        "# 텐서플로우 연산 (+)\n",
        "## 그래프의 구성\n",
        "a = tf.constant(10)\n",
        "b = tf.constant(25)\n",
        "c = tf.add(a,b)\n",
        "\n",
        "print(c)\n",
        "print(type(c))"
      ],
      "execution_count": 95,
      "outputs": [
        {
          "output_type": "stream",
          "text": [
            "Tensor(\"Add_8:0\", shape=(), dtype=int32)\n",
            "<class 'tensorflow.python.framework.ops.Tensor'>\n"
          ],
          "name": "stdout"
        }
      ]
    },
    {
      "metadata": {
        "id": "TYnsq4w1sp2T",
        "colab_type": "code",
        "colab": {}
      },
      "cell_type": "code",
      "source": [
        "# 그래프의 실행\n",
        "## 실제 연산 부분은 C++로 구현\n",
        "## 모델 구성과 실행을 분리해서 프로그램을 깔끔하게 작성"
      ],
      "execution_count": 0,
      "outputs": []
    },
    {
      "metadata": {
        "id": "naiYPlzqsxN3",
        "colab_type": "code",
        "colab": {
          "base_uri": "https://localhost:8080/",
          "height": 34
        },
        "outputId": "89f25535-5052-4390-d367-63e2f1be5ce2"
      },
      "cell_type": "code",
      "source": [
        "sess = tf.Session()\n",
        "print(sess.run([a,b,c]))\n",
        "\n",
        "sess.close()"
      ],
      "execution_count": 97,
      "outputs": [
        {
          "output_type": "stream",
          "text": [
            "[10, 25, 35]\n"
          ],
          "name": "stdout"
        }
      ]
    },
    {
      "metadata": {
        "id": "p7U-DYnRs1c5",
        "colab_type": "code",
        "colab": {}
      },
      "cell_type": "code",
      "source": [
        "# 실행시에 넣을 데이터 x\n",
        "x_data = [[1,2,3], [4,5,6]]"
      ],
      "execution_count": 0,
      "outputs": []
    },
    {
      "metadata": {
        "id": "WPYZu-6Ss65m",
        "colab_type": "code",
        "colab": {
          "base_uri": "https://localhost:8080/",
          "height": 52
        },
        "outputId": "ce0fe21c-dce7-4de7-8ebd-e568c2124891"
      },
      "cell_type": "code",
      "source": [
        "# y=xw + b -> (3 x 3) x (3 x 2) + (? x 1)\n",
        "# 2 2 +\n",
        "# 2 1\n",
        "W = tf.Variable(tf.random_normal([3,2]))\n",
        "b = tf.Variable(tf.random_normal([2,1]))\n",
        "print(W)\n",
        "print(b)"
      ],
      "execution_count": 99,
      "outputs": [
        {
          "output_type": "stream",
          "text": [
            "<tf.Variable 'Variable_12:0' shape=(3, 2) dtype=float32_ref>\n",
            "<tf.Variable 'Variable_13:0' shape=(2, 1) dtype=float32_ref>\n"
          ],
          "name": "stdout"
        }
      ]
    },
    {
      "metadata": {
        "id": "KcED10JwtOG7",
        "colab_type": "code",
        "colab": {
          "base_uri": "https://localhost:8080/",
          "height": 34
        },
        "outputId": "1893bf15-a66e-403f-a534-7668bec43f4a"
      },
      "cell_type": "code",
      "source": [
        "# 수식 계산 matrix multiplication\n",
        "expr = tf.matmul(X, W)+b\n",
        "expr"
      ],
      "execution_count": 100,
      "outputs": [
        {
          "output_type": "execute_result",
          "data": {
            "text/plain": [
              "<tf.Tensor 'add_9:0' shape=(2, 2) dtype=float32>"
            ]
          },
          "metadata": {
            "tags": []
          },
          "execution_count": 100
        }
      ]
    },
    {
      "metadata": {
        "id": "-zRdpG5RtVlB",
        "colab_type": "code",
        "colab": {
          "base_uri": "https://localhost:8080/",
          "height": 34
        },
        "outputId": "2df0a9aa-02e1-46d6-c21a-52880a23bc6a"
      },
      "cell_type": "code",
      "source": [
        "# 연산 실행 및 결과 출력\n",
        "sess = tf.Session()\n",
        "sess.run(tf.global_variables_initializer())\n",
        "\n",
        "print(x_data)"
      ],
      "execution_count": 101,
      "outputs": [
        {
          "output_type": "stream",
          "text": [
            "[[1, 2, 3], [4, 5, 6]]\n"
          ],
          "name": "stdout"
        }
      ]
    },
    {
      "metadata": {
        "id": "wqSkuYG1tfMh",
        "colab_type": "code",
        "colab": {
          "base_uri": "https://localhost:8080/",
          "height": 70
        },
        "outputId": "7e661fd1-a955-40bb-959f-223c057f27bd"
      },
      "cell_type": "code",
      "source": [
        "print(sess.run(W))"
      ],
      "execution_count": 102,
      "outputs": [
        {
          "output_type": "stream",
          "text": [
            "[[-0.53459907 -0.47492844]\n",
            " [-0.8497459  -0.45109686]\n",
            " [ 1.2394621  -0.91072094]]\n"
          ],
          "name": "stdout"
        }
      ]
    },
    {
      "metadata": {
        "id": "RaJpalXztiTh",
        "colab_type": "code",
        "colab": {
          "base_uri": "https://localhost:8080/",
          "height": 52
        },
        "outputId": "78fda1af-c375-4d12-c007-b945380ab627"
      },
      "cell_type": "code",
      "source": [
        "print(sess.run(b))"
      ],
      "execution_count": 103,
      "outputs": [
        {
          "output_type": "stream",
          "text": [
            "[[1.252672 ]\n",
            " [1.5756165]]\n"
          ],
          "name": "stdout"
        }
      ]
    },
    {
      "metadata": {
        "id": "kAoPtnC8tkKv",
        "colab_type": "code",
        "colab": {
          "base_uri": "https://localhost:8080/",
          "height": 52
        },
        "outputId": "9403bb5c-f7d0-4b0b-853a-47500f09c713"
      },
      "cell_type": "code",
      "source": [
        "print(sess.run(expr, feed_dict={X:x_data}))"
      ],
      "execution_count": 104,
      "outputs": [
        {
          "output_type": "stream",
          "text": [
            "[[ 2.7369676 -2.856613 ]\n",
            " [ 2.6252632 -8.043907 ]]\n"
          ],
          "name": "stdout"
        }
      ]
    },
    {
      "metadata": {
        "id": "OvYC88iFtoqJ",
        "colab_type": "code",
        "colab": {}
      },
      "cell_type": "code",
      "source": [
        "sess.close()"
      ],
      "execution_count": 0,
      "outputs": []
    },
    {
      "metadata": {
        "id": "J1m26Zt4tqZ-",
        "colab_type": "code",
        "colab": {}
      },
      "cell_type": "code",
      "source": [
        "# 선형 회귀 모델 구현"
      ],
      "execution_count": 0,
      "outputs": []
    },
    {
      "metadata": {
        "id": "fPFQYGXltxKJ",
        "colab_type": "code",
        "colab": {}
      },
      "cell_type": "code",
      "source": [
        "import tensorflow as tf"
      ],
      "execution_count": 0,
      "outputs": []
    },
    {
      "metadata": {
        "id": "l5iZmh5ItzTt",
        "colab_type": "code",
        "colab": {}
      },
      "cell_type": "code",
      "source": [
        "x_data = [1,2,3]\n",
        "y_data = [1,2,3]"
      ],
      "execution_count": 0,
      "outputs": []
    },
    {
      "metadata": {
        "id": "rChgEsRtt4uR",
        "colab_type": "code",
        "colab": {}
      },
      "cell_type": "code",
      "source": [
        "# w와 b를 각각 -1~1 사이의 균등분포를 갖는 무작위 값으로 초기화 수행"
      ],
      "execution_count": 0,
      "outputs": []
    },
    {
      "metadata": {
        "id": "14XuN-TGuA0K",
        "colab_type": "code",
        "colab": {
          "base_uri": "https://localhost:8080/",
          "height": 52
        },
        "outputId": "6b0c6854-a4c0-436c-a1d2-22c5bb714717"
      },
      "cell_type": "code",
      "source": [
        "W = tf.Variable(tf.random_uniform([1], -1.0, 1.0))\n",
        "b = tf.Variable(tf.random_uniform([1], -1.0, 1.0))\n",
        "print(W)\n",
        "print(b)"
      ],
      "execution_count": 111,
      "outputs": [
        {
          "output_type": "stream",
          "text": [
            "<tf.Variable 'Variable_14:0' shape=(1,) dtype=float32_ref>\n",
            "<tf.Variable 'Variable_15:0' shape=(1,) dtype=float32_ref>\n"
          ],
          "name": "stdout"
        }
      ]
    },
    {
      "metadata": {
        "id": "uHfhuCZ3u8Rc",
        "colab_type": "code",
        "colab": {}
      },
      "cell_type": "code",
      "source": [
        "# 플레이스 홀더 설정"
      ],
      "execution_count": 0,
      "outputs": []
    },
    {
      "metadata": {
        "id": "DkdDotZvvBa8",
        "colab_type": "code",
        "colab": {
          "base_uri": "https://localhost:8080/",
          "height": 34
        },
        "outputId": "b1734d2d-2258-44ab-cb56-f2c1c86e40f8"
      },
      "cell_type": "code",
      "source": [
        "T = tf.placeholder(tf.float32)\n",
        "print(T)"
      ],
      "execution_count": 113,
      "outputs": [
        {
          "output_type": "stream",
          "text": [
            "Tensor(\"Placeholder_4:0\", dtype=float32)\n"
          ],
          "name": "stdout"
        }
      ]
    },
    {
      "metadata": {
        "id": "Mn7gBWW5vFHp",
        "colab_type": "code",
        "colab": {
          "base_uri": "https://localhost:8080/",
          "height": 52
        },
        "outputId": "2cd40df4-56f6-4d58-dd1b-e9d9dd25b3d5"
      },
      "cell_type": "code",
      "source": [
        "X1 = tf.placeholder(tf.float32, name='X')\n",
        "Y1 = tf.placeholder(tf.float32, name='Y')\n",
        "print(X1)\n",
        "print(Y1)"
      ],
      "execution_count": 114,
      "outputs": [
        {
          "output_type": "stream",
          "text": [
            "Tensor(\"X_1:0\", dtype=float32)\n",
            "Tensor(\"Y_1:0\", dtype=float32)\n"
          ],
          "name": "stdout"
        }
      ]
    },
    {
      "metadata": {
        "id": "fJduv2oxvQnO",
        "colab_type": "code",
        "colab": {}
      },
      "cell_type": "code",
      "source": [
        "sess = tf.Session()\n",
        "sess.run(tf.global_variables_initializer())\n",
        "sess.close()"
      ],
      "execution_count": 0,
      "outputs": []
    },
    {
      "metadata": {
        "id": "_35Y2edgvXY1",
        "colab_type": "code",
        "colab": {}
      },
      "cell_type": "code",
      "source": [
        "# hypothesis = W*X +b\n",
        "hypothesis = W*X1+b"
      ],
      "execution_count": 0,
      "outputs": []
    },
    {
      "metadata": {
        "id": "ofRIw_Zzvxbx",
        "colab_type": "code",
        "colab": {}
      },
      "cell_type": "code",
      "source": [
        "# 손실함수(loss function)\n",
        "## 데이터에 대한 손실값을 계산하는 함수\n",
        "## 경사하강법(Gradient Descent)는 최적화 방법 중 가장 기본적인 알고리즘\n",
        "## 경사하강법: 함수의 기울기를 구하고, 기울기가 낮은 쪽으로 이동시켜가며 최적의 값을 찾는다/"
      ],
      "execution_count": 0,
      "outputs": []
    },
    {
      "metadata": {
        "id": "iioxFwyxwDTd",
        "colab_type": "code",
        "colab": {
          "base_uri": "https://localhost:8080/",
          "height": 34
        },
        "outputId": "cd1c9188-d40c-4ae3-fe6e-fa35d319baef"
      },
      "cell_type": "code",
      "source": [
        "cost = tf.reduce_mean(tf.square(hypothesis - Y1))\n",
        "\n",
        "optimizer = tf.train.GradientDescentOptimizer(learning_rate=0.1)\n",
        "train_op = optimizer.minimize(cost)\n",
        "train_op"
      ],
      "execution_count": 119,
      "outputs": [
        {
          "output_type": "execute_result",
          "data": {
            "text/plain": [
              "<tf.Operation 'GradientDescent_1' type=NoOp>"
            ]
          },
          "metadata": {
            "tags": []
          },
          "execution_count": 119
        }
      ]
    },
    {
      "metadata": {
        "id": "714CnH0ewQAu",
        "colab_type": "code",
        "colab": {}
      },
      "cell_type": "code",
      "source": [
        "# learning_rate 는 학습을 얼마나 급하게 할 것인가 설정\n",
        "# 학습을 진행하는 과정 중에 영향을 주는 변수를 하이퍼파라미터라 한다.\n",
        "# 하이퍼 파라미터를 어떻게 찾는가에 따라 학습속도와 신경망 성능이 달라질 수 있다."
      ],
      "execution_count": 0,
      "outputs": []
    },
    {
      "metadata": {
        "id": "i93dBiUewmzK",
        "colab_type": "code",
        "colab": {}
      },
      "cell_type": "code",
      "source": [
        "# hypothesis = W*X1+b # name : X\n",
        "# cost = tf.reduce_mean(tf.square(hypothesis - Y1)) # name: Y\n",
        "# x_data = [1,2,3]\n",
        "# y_data = [1,2,3]\n",
        "# optimizer = tf.train.GradientDescentOptimizer(leanring_rate=0.1)\n",
        "# train_op = optimizer.minimizer(cost)"
      ],
      "execution_count": 0,
      "outputs": []
    },
    {
      "metadata": {
        "id": "pYzDWLTYxGM0",
        "colab_type": "code",
        "colab": {
          "base_uri": "https://localhost:8080/",
          "height": 212
        },
        "outputId": "4305b9a6-36f8-4d65-8fd8-94cb381ed61b"
      },
      "cell_type": "code",
      "source": [
        "sess = tf.Session()\n",
        "sess.run(tf.global_variables_initializer())\n",
        "\n",
        "for step in range(100):\n",
        "  _, cost_val = sess.run([train_op, cost], feed_dict={X1:x_data, Y1:y_data})\n",
        "  if step%10 ==0:\n",
        "    print(step, cost_val, sess.run(W), sess.run(b))\n",
        "    \n",
        "print('X1:5, Y1:', sess.run(hypothesis, feed_dict={X1:5}))\n"
      ],
      "execution_count": 122,
      "outputs": [
        {
          "output_type": "stream",
          "text": [
            "0 14.092304 [0.9356985] [0.5782253]\n",
            "10 0.023906967 [0.82473683] [0.3984144]\n",
            "20 0.014695068 [0.8625914] [0.31236202]\n",
            "30 0.009032713 [0.8922699] [0.24489588]\n",
            "40 0.0055521857 [0.9155382] [0.19200154]\n",
            "50 0.0034128062 [0.9337809] [0.15053172]\n",
            "60 0.002097769 [0.94808334] [0.11801881]\n",
            "70 0.0012894458 [0.9592967] [0.09252826]\n",
            "80 0.00079259387 [0.9680881] [0.07254334]\n",
            "90 0.0004871868 [0.9749806] [0.0568749]\n",
            "X1:5, Y1: [4.9451957]\n"
          ],
          "name": "stdout"
        }
      ]
    },
    {
      "metadata": {
        "id": "TVVrJvFkxmwU",
        "colab_type": "code",
        "colab": {}
      },
      "cell_type": "code",
      "source": [
        "# 선형 회귀 모델 구현하기\n",
        "import tensorflow as tf"
      ],
      "execution_count": 0,
      "outputs": []
    },
    {
      "metadata": {
        "id": "hrG805b1yS0D",
        "colab_type": "code",
        "colab": {}
      },
      "cell_type": "code",
      "source": [
        "x_data = [1,2,3]\n",
        "y_data = [1,2,3]"
      ],
      "execution_count": 0,
      "outputs": []
    },
    {
      "metadata": {
        "id": "uXnD4ygyyVtj",
        "colab_type": "code",
        "colab": {}
      },
      "cell_type": "code",
      "source": [
        "# W와 b를 각각 -1~1 사이의 균등분포를 갖는 무작위 값으로 초기화 수행"
      ],
      "execution_count": 0,
      "outputs": []
    },
    {
      "metadata": {
        "id": "gkgyht3Nyb2w",
        "colab_type": "code",
        "colab": {}
      },
      "cell_type": "code",
      "source": [
        "W = tf.Variable(tf.random_uniform([1], -1.0, 1.0))\n",
        "b = tf.Variable(tf.random_uniform([1], -1.0, 1.0))"
      ],
      "execution_count": 0,
      "outputs": []
    },
    {
      "metadata": {
        "id": "SC2KeYWvym7c",
        "colab_type": "code",
        "colab": {
          "base_uri": "https://localhost:8080/",
          "height": 52
        },
        "outputId": "6ceb1542-0c4b-42d7-d272-2afc10c24813"
      },
      "cell_type": "code",
      "source": [
        "print(W)\n",
        "print(b)"
      ],
      "execution_count": 127,
      "outputs": [
        {
          "output_type": "stream",
          "text": [
            "<tf.Variable 'Variable_16:0' shape=(1,) dtype=float32_ref>\n",
            "<tf.Variable 'Variable_17:0' shape=(1,) dtype=float32_ref>\n"
          ],
          "name": "stdout"
        }
      ]
    },
    {
      "metadata": {
        "id": "iBNK09ALypDt",
        "colab_type": "code",
        "colab": {
          "base_uri": "https://localhost:8080/",
          "height": 34
        },
        "outputId": "852356d2-b2f2-45f8-8456-021c63f46098"
      },
      "cell_type": "code",
      "source": [
        "T=tf.placeholder(tf.float32)\n",
        "print(T)"
      ],
      "execution_count": 128,
      "outputs": [
        {
          "output_type": "stream",
          "text": [
            "Tensor(\"Placeholder_5:0\", dtype=float32)\n"
          ],
          "name": "stdout"
        }
      ]
    },
    {
      "metadata": {
        "id": "TA_4fX821S5N",
        "colab_type": "code",
        "colab": {
          "base_uri": "https://localhost:8080/",
          "height": 52
        },
        "outputId": "3f847f2b-1a9b-4afd-d50b-7256d59415d7"
      },
      "cell_type": "code",
      "source": [
        "X1 = tf.placeholder(tf.float32, name='X')\n",
        "Y1 = tf.placeholder(tf.float32, name='Y')\n",
        "print(X1)\n",
        "print(Y1)"
      ],
      "execution_count": 129,
      "outputs": [
        {
          "output_type": "stream",
          "text": [
            "Tensor(\"X_2:0\", dtype=float32)\n",
            "Tensor(\"Y_2:0\", dtype=float32)\n"
          ],
          "name": "stdout"
        }
      ]
    },
    {
      "metadata": {
        "id": "K9wmBOUR1hPV",
        "colab_type": "code",
        "colab": {}
      },
      "cell_type": "code",
      "source": [
        "sess = tf.Session()\n",
        "sess.run(tf.global_variables_initializer())\n",
        "sess.close()"
      ],
      "execution_count": 0,
      "outputs": []
    },
    {
      "metadata": {
        "id": "62qtpczi1p4w",
        "colab_type": "code",
        "colab": {}
      },
      "cell_type": "code",
      "source": [
        "# hypothesis = W*X + b\n",
        "hypothesis = W*X1 + b"
      ],
      "execution_count": 0,
      "outputs": []
    },
    {
      "metadata": {
        "id": "ss5M65BI1yKk",
        "colab_type": "code",
        "colab": {}
      },
      "cell_type": "code",
      "source": [
        "# 손실함수(loss function)\n",
        "## 데이터에 대한 손실값을 계산하는 함수\n",
        "## 경사하강법(gradient descent)는 최적화 방법 중 가장 기본적인 알고리즘\n",
        "## 경사하강법: 함수의 기울기를 구하고, 기울기가 낮은 쪽으로 이동시켜가면서 최적의 값을 찾아 나간다."
      ],
      "execution_count": 0,
      "outputs": []
    },
    {
      "metadata": {
        "id": "64TCUWAj2C4f",
        "colab_type": "code",
        "colab": {
          "base_uri": "https://localhost:8080/",
          "height": 34
        },
        "outputId": "909c79d0-41b6-4d11-ad36-ace4b36ebc01"
      },
      "cell_type": "code",
      "source": [
        "cost = tf.reduce_mean(tf.square(hypothesis - Y1))\n",
        "\n",
        "optimizer = tf.train.GradientDescentOptimizer(learning_rate=0.1)\n",
        "train_op = optimizer.minimize(cost)\n",
        "train_op"
      ],
      "execution_count": 133,
      "outputs": [
        {
          "output_type": "execute_result",
          "data": {
            "text/plain": [
              "<tf.Operation 'GradientDescent_2' type=NoOp>"
            ]
          },
          "metadata": {
            "tags": []
          },
          "execution_count": 133
        }
      ]
    },
    {
      "metadata": {
        "id": "kFc7ESRS2YTu",
        "colab_type": "code",
        "colab": {}
      },
      "cell_type": "code",
      "source": [
        "# learning_rate는 학습을 ㅓㄹ마나 급하게 할 것인가를 설정\n",
        "# 학습을 진행하는 과정 중에 영향을 주는 변수를  하이퍼파라미터라 한다.\n",
        "# 하이퍼 파라미터를 어떻게 찾는가에 따라 학습속도와 신경망 성능이 달라질 수 있다."
      ],
      "execution_count": 0,
      "outputs": []
    },
    {
      "metadata": {
        "id": "fvW7lL882pd8",
        "colab_type": "code",
        "colab": {}
      },
      "cell_type": "code",
      "source": [
        "# hypothesis = W*X1+ b # name :X\n",
        "# cost = tf.reduce_mean(th.square(hypothesis - Y1)) # name:Y\n",
        "# x_data = [1,2,3]\n",
        "# y_data = [1,2,3]\n",
        "# optimizer = tf.train.GradientDescentOptimizer(learning_rate=0.1)\n",
        "# train_op = optimizer.minimize(cost)"
      ],
      "execution_count": 0,
      "outputs": []
    },
    {
      "metadata": {
        "id": "mFnTuLWq2-ck",
        "colab_type": "code",
        "colab": {
          "base_uri": "https://localhost:8080/",
          "height": 212
        },
        "outputId": "0bd00500-d821-4ec1-fe51-4d6845f83830"
      },
      "cell_type": "code",
      "source": [
        "sess = tf.Session()\n",
        "sess.run(tf.global_variables_initializer())\n",
        "\n",
        "for step in range(100):\n",
        "  _, cost_val = sess.run([train_op, cost], feed_dict={X1:x_data, Y1:y_data})\n",
        "  if step%10==0:\n",
        "    print(step, cost_val, sess.run(W), sess.run(b))\n",
        "    \n",
        "print('X1:5, Y1:', sess.run(hypothesis, feed_dict={X1:5}))"
      ],
      "execution_count": 137,
      "outputs": [
        {
          "output_type": "stream",
          "text": [
            "0 0.66305554 [1.0421648] [-0.00200652]\n",
            "10 2.745895e-05 [1.0059397] [-0.01350246]\n",
            "20 1.6878002e-05 [1.0046569] [-0.01058612]\n",
            "30 1.03748725e-05 [1.003651] [-0.0082997]\n",
            "40 6.377213e-06 [1.0028625] [-0.00650711]\n",
            "50 3.9200218e-06 [1.0022442] [-0.00510167]\n",
            "60 2.4093845e-06 [1.0017595] [-0.00399971]\n",
            "70 1.480887e-06 [1.0013795] [-0.0031358]\n",
            "80 9.102958e-07 [1.0010815] [-0.00245851]\n",
            "90 5.5958895e-07 [1.0008478] [-0.00192746]\n",
            "X1:5, Y1: [5.0018573]\n"
          ],
          "name": "stdout"
        }
      ]
    },
    {
      "metadata": {
        "id": "cRVn-bXY3eUV",
        "colab_type": "code",
        "colab": {}
      },
      "cell_type": "code",
      "source": [
        "# 선형 회귀 모델 구현하기\n",
        "import tensorflow as tf"
      ],
      "execution_count": 0,
      "outputs": []
    },
    {
      "metadata": {
        "id": "J-Sesk4_3pq0",
        "colab_type": "code",
        "colab": {}
      },
      "cell_type": "code",
      "source": [
        "x_data = [1,2,3]\n",
        "y_data = [1,2,3]"
      ],
      "execution_count": 0,
      "outputs": []
    },
    {
      "metadata": {
        "id": "NzuocyW13si8",
        "colab_type": "code",
        "colab": {}
      },
      "cell_type": "code",
      "source": [
        "# W와 b를 각각 -1~1사이의 균등분포를 갖는 무작위 값으로 초기화 수행"
      ],
      "execution_count": 0,
      "outputs": []
    },
    {
      "metadata": {
        "id": "etT7CfZn3yn9",
        "colab_type": "code",
        "colab": {
          "base_uri": "https://localhost:8080/",
          "height": 34
        },
        "outputId": "5b42bee1-0c67-4440-8ea0-acf3cd70fc63"
      },
      "cell_type": "code",
      "source": [
        "strA = tf.constant('Hello, Tensorflow')\n",
        "print(strA)"
      ],
      "execution_count": 141,
      "outputs": [
        {
          "output_type": "stream",
          "text": [
            "Tensor(\"Const_12:0\", shape=(), dtype=string)\n"
          ],
          "name": "stdout"
        }
      ]
    },
    {
      "metadata": {
        "id": "CSO4O8Vw5bR-",
        "colab_type": "code",
        "colab": {
          "base_uri": "https://localhost:8080/",
          "height": 34
        },
        "outputId": "fd035a9d-74f7-46ce-aba6-8a7c869492e1"
      },
      "cell_type": "code",
      "source": [
        "# 실행\n",
        "sess = tf.Session()\n",
        "sess.run(strA)"
      ],
      "execution_count": 142,
      "outputs": [
        {
          "output_type": "execute_result",
          "data": {
            "text/plain": [
              "b'Hello, Tensorflow'"
            ]
          },
          "metadata": {
            "tags": []
          },
          "execution_count": 142
        }
      ]
    },
    {
      "metadata": {
        "id": "FOv5Mn9r50Tn",
        "colab_type": "code",
        "colab": {
          "base_uri": "https://localhost:8080/",
          "height": 52
        },
        "outputId": "fe6b30b2-9798-452b-e650-70695b6bf4f0"
      },
      "cell_type": "code",
      "source": [
        "## 텐서플로우 연산 (+)\n",
        "## 그래프의 구성\n",
        "a=tf.constant(10)\n",
        "b=tf.constant(25)\n",
        "c=tf.add(a,b)\n",
        "\n",
        "print(c)\n",
        "print(type(c))"
      ],
      "execution_count": 143,
      "outputs": [
        {
          "output_type": "stream",
          "text": [
            "Tensor(\"Add_12:0\", shape=(), dtype=int32)\n",
            "<class 'tensorflow.python.framework.ops.Tensor'>\n"
          ],
          "name": "stdout"
        }
      ]
    },
    {
      "metadata": {
        "id": "XW4GZ2vt9Ffk",
        "colab_type": "code",
        "colab": {}
      },
      "cell_type": "code",
      "source": [
        "# 그래프의 실행\n",
        "## 실제 연산 부분은 C++로 구현\n",
        "## 모델 구성과 실행을 분리해서 프로그램을 깔끔하게 작성"
      ],
      "execution_count": 0,
      "outputs": []
    },
    {
      "metadata": {
        "id": "8mSFVnCM9PMm",
        "colab_type": "code",
        "colab": {
          "base_uri": "https://localhost:8080/",
          "height": 34
        },
        "outputId": "c6963746-d988-4299-b9e8-f60790b19473"
      },
      "cell_type": "code",
      "source": [
        "sess = tf.Session()\n",
        "print(sess.run([a,b,c]))\n",
        "\n",
        "sess.close()"
      ],
      "execution_count": 145,
      "outputs": [
        {
          "output_type": "stream",
          "text": [
            "[10, 25, 35]\n"
          ],
          "name": "stdout"
        }
      ]
    },
    {
      "metadata": {
        "id": "2jVnY1ZX9UPh",
        "colab_type": "code",
        "colab": {}
      },
      "cell_type": "code",
      "source": [
        "# 실행시에 넣을 데이터 x\n",
        "x_data = [[1,2,3], [4,5,6]]"
      ],
      "execution_count": 0,
      "outputs": []
    },
    {
      "metadata": {
        "id": "3DKjavVi9aWp",
        "colab_type": "code",
        "colab": {}
      },
      "cell_type": "code",
      "source": [
        ""
      ],
      "execution_count": 0,
      "outputs": []
    }
  ]
}