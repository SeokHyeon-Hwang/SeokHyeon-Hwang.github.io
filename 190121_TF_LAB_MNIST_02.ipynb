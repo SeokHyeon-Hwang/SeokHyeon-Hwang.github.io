{
  "nbformat": 4,
  "nbformat_minor": 0,
  "metadata": {
    "colab": {
      "name": "TF_LAB_MNIST_hwang.ipynb",
      "version": "0.3.2",
      "provenance": [],
      "collapsed_sections": []
    },
    "kernelspec": {
      "name": "python3",
      "display_name": "Python 3"
    }
  },
  "cells": [
    {
      "metadata": {
        "id": "cvNZdkq5DrRq",
        "colab_type": "text"
      },
      "cell_type": "markdown",
      "source": [
        "## MNIST 데이터를 이용한 신경망 문제 풀이"
      ]
    },
    {
      "metadata": {
        "id": "gwpYI5YLEZDl",
        "colab_type": "code",
        "colab": {}
      },
      "cell_type": "code",
      "source": [
        "import tensorflow as tf\n",
        "from tensorflow.examples.tutorials.mnist import input_data"
      ],
      "execution_count": 0,
      "outputs": []
    },
    {
      "metadata": {
        "id": "Gz8eIXwxEgZP",
        "colab_type": "code",
        "colab": {
          "base_uri": "https://localhost:8080/",
          "height": 89
        },
        "outputId": "0ef09107-e940-4b4f-88ca-b05c2b6d36ba"
      },
      "cell_type": "code",
      "source": [
        "mnist = input_data.read_data_sets('./mnist/data', one_hot=True)"
      ],
      "execution_count": 17,
      "outputs": [
        {
          "output_type": "stream",
          "text": [
            "Extracting ./mnist/data/train-images-idx3-ubyte.gz\n",
            "Extracting ./mnist/data/train-labels-idx1-ubyte.gz\n",
            "Extracting ./mnist/data/t10k-images-idx3-ubyte.gz\n",
            "Extracting ./mnist/data/t10k-labels-idx1-ubyte.gz\n"
          ],
          "name": "stdout"
        }
      ]
    },
    {
      "metadata": {
        "id": "RkKQyWG3EqDJ",
        "colab_type": "code",
        "colab": {
          "base_uri": "https://localhost:8080/",
          "height": 107
        },
        "outputId": "f7491747-033d-46d0-ffd6-d05026426fd9"
      },
      "cell_type": "code",
      "source": [
        "mnist = input_data.read_data_sets('./mnist/data', one_hot=True)\n",
        "print(mnist.train.labels[1])"
      ],
      "execution_count": 18,
      "outputs": [
        {
          "output_type": "stream",
          "text": [
            "Extracting ./mnist/data/train-images-idx3-ubyte.gz\n",
            "Extracting ./mnist/data/train-labels-idx1-ubyte.gz\n",
            "Extracting ./mnist/data/t10k-images-idx3-ubyte.gz\n",
            "Extracting ./mnist/data/t10k-labels-idx1-ubyte.gz\n",
            "[0. 0. 0. 1. 0. 0. 0. 0. 0. 0.]\n"
          ],
          "name": "stdout"
        }
      ]
    },
    {
      "metadata": {
        "id": "HieVshqYFeaA",
        "colab_type": "text"
      },
      "cell_type": "markdown",
      "source": [
        "## 02. 신경망 모델 구성\n",
        "* 28*28 픽셀 -> 784개의 특징\n",
        "* Label은 0~9까지 10개의 분류\n",
        "* 입력 X, 출력 Y\n",
        "* None에는 이미지의 개수를 지정하는 값이 들어간다."
      ]
    },
    {
      "metadata": {
        "id": "chqskNmrLmUs",
        "colab_type": "code",
        "colab": {}
      },
      "cell_type": "code",
      "source": [
        "X = tf.placeholder(tf.float32, [None, 784]) # 입력\n",
        "Y = tf.placeholder(tf.float32, [None, 10]) # 범주의 수"
      ],
      "execution_count": 0,
      "outputs": []
    },
    {
      "metadata": {
        "id": "jxTzphOFMDwX",
        "colab_type": "text"
      },
      "cell_type": "markdown",
      "source": [
        "## 우리가 만들 신경망\n",
        "* 784개의 특징(입력)\n",
        "* 256(첫 번째 은닉킁의 뉴런 개수)\n",
        "* 256(두 번째 은닉층의 뉴런 개수)\n",
        "* 10(결과값 0-9 분류의 개수)"
      ]
    },
    {
      "metadata": {
        "id": "kHrrj8CwMiRB",
        "colab_type": "code",
        "colab": {}
      },
      "cell_type": "code",
      "source": [
        "## 784개의 입력, 256개의 뉴런\n",
        "## 표준편차가 0.01인 정규분포를 가지는 임의의 뉴런을 초기화 시킨다.\n",
        "W1 = tf.Variable(tf.random_normal([784, 256], stddev=0.01))\n",
        "\n",
        "## X(입력값)에 가중치를 곱하고, 이후 ReLU 함수를 이용하여 레이어를 만든다.\n",
        "L1 = tf.nn.relu(tf.matmul(X, W1)) # 데이터수?*784 X 784*256 => 데이터수 *256\n",
        "\n",
        "##\n",
        "W2 = tf.Variable(tf.random_normal([256, 256], stddev=0.01))\n",
        "# L1(입력값)에 가중치를 곱하고, 이후 ReLU함수를 이용해서 레이어를 만든다.\n",
        "L2 = tf.nn.relu(tf.matmul(L1, W2)) # 데이터수*256(L1) X 256*256 => 데이터수*256)\n",
        "                \n",
        "W3 = tf.Variable(tf.random_normal([256, 10], stddev=0.01))\n",
        "model = tf.matmul(L2, W3) #데이터 수*256(L2)x256*10 => 데이터수*10\n"
      ],
      "execution_count": 0,
      "outputs": []
    },
    {
      "metadata": {
        "id": "4RJKUFu3PCTO",
        "colab_type": "text"
      },
      "cell_type": "markdown",
      "source": [
        "## cost 함수와 최적화 알고리즘을 정한다."
      ]
    },
    {
      "metadata": {
        "id": "Ot-TdNsQPmy8",
        "colab_type": "code",
        "colab": {}
      },
      "cell_type": "code",
      "source": [
        "cost = tf.reduce_mean(tf.reduce_mean(tf.nn.softmax_cross_entropy_with_logits_v2(logits=model, labels=Y)))\n",
        "optimizer = tf.train.AdamOptimizer(0.001).minimize(cost)"
      ],
      "execution_count": 0,
      "outputs": []
    },
    {
      "metadata": {
        "id": "-txh3OTKP4nA",
        "colab_type": "code",
        "colab": {}
      },
      "cell_type": "code",
      "source": [
        "init = tf.global_variables_initializer()\n",
        "sess = tf.Session()\n",
        "sess.run(init)"
      ],
      "execution_count": 0,
      "outputs": []
    },
    {
      "metadata": {
        "id": "3ilcL13rSQPn",
        "colab_type": "code",
        "colab": {}
      },
      "cell_type": "code",
      "source": [
        "batch_size =100\n",
        "total_batch=int(mnist.train.num_examples/batch_size)"
      ],
      "execution_count": 0,
      "outputs": []
    },
    {
      "metadata": {
        "id": "It23lb6ISqMM",
        "colab_type": "code",
        "colab": {
          "base_uri": "https://localhost:8080/",
          "height": 557
        },
        "outputId": "85e22b14-2183-410a-eadc-25192d12fb47"
      },
      "cell_type": "code",
      "source": [
        "for epoch in range(15):\n",
        "  total_cost = 0\n",
        "  for i in range(total_batch):\n",
        "    batch_xs, batch_ys = mnist.train.next_batch(batch_size) # 학습할 데이터를 가져온다.\n",
        "    \n",
        "    # 입력 X, 출력 Y에 각각의 데이터 넣고 실행\n",
        "    _, cost_val = sess.run([optimizer,cost],\n",
        "                          feed_dict={X:batch_xs, Y:batch_ys})\n",
        "    total_cost += cost_val\n",
        "  print(batch_xs.shape, batch_ys.shape)\n",
        "  print('Epoch {}, Avg. cost = {}'.format(epoch+1, total_cost/total_batch))"
      ],
      "execution_count": 25,
      "outputs": [
        {
          "output_type": "stream",
          "text": [
            "(100, 784) (100, 10)\n",
            "Epoch 1, Avg. cost = 0.4096947777271271\n",
            "(100, 784) (100, 10)\n",
            "Epoch 2, Avg. cost = 0.15325447208163412\n",
            "(100, 784) (100, 10)\n",
            "Epoch 3, Avg. cost = 0.09593705082481557\n",
            "(100, 784) (100, 10)\n",
            "Epoch 4, Avg. cost = 0.07038132255896926\n",
            "(100, 784) (100, 10)\n",
            "Epoch 5, Avg. cost = 0.05424531623551791\n",
            "(100, 784) (100, 10)\n",
            "Epoch 6, Avg. cost = 0.04015786610797725\n",
            "(100, 784) (100, 10)\n",
            "Epoch 7, Avg. cost = 0.03036132561847229\n",
            "(100, 784) (100, 10)\n",
            "Epoch 8, Avg. cost = 0.025817822343775665\n",
            "(100, 784) (100, 10)\n",
            "Epoch 9, Avg. cost = 0.018677901674368926\n",
            "(100, 784) (100, 10)\n",
            "Epoch 10, Avg. cost = 0.01733220429773527\n",
            "(100, 784) (100, 10)\n",
            "Epoch 11, Avg. cost = 0.013861975048679266\n",
            "(100, 784) (100, 10)\n",
            "Epoch 12, Avg. cost = 0.013688170096508905\n",
            "(100, 784) (100, 10)\n",
            "Epoch 13, Avg. cost = 0.011962682794573166\n",
            "(100, 784) (100, 10)\n",
            "Epoch 14, Avg. cost = 0.013346888999453355\n",
            "(100, 784) (100, 10)\n",
            "Epoch 15, Avg. cost = 0.008776299235634558\n"
          ],
          "name": "stdout"
        }
      ]
    },
    {
      "metadata": {
        "id": "GmFav6yYub5i",
        "colab_type": "code",
        "colab": {
          "base_uri": "https://localhost:8080/",
          "height": 35
        },
        "outputId": "d2142459-8c15-46e8-a99f-dead3441c735"
      },
      "cell_type": "code",
      "source": [
        "model"
      ],
      "execution_count": 26,
      "outputs": [
        {
          "output_type": "execute_result",
          "data": {
            "text/plain": [
              "<tf.Tensor 'MatMul_8:0' shape=(?, 10) dtype=float32>"
            ]
          },
          "metadata": {
            "tags": []
          },
          "execution_count": 26
        }
      ]
    },
    {
      "metadata": {
        "id": "l0T0VNeEudg6",
        "colab_type": "code",
        "colab": {
          "base_uri": "https://localhost:8080/",
          "height": 35
        },
        "outputId": "091018ec-6cdb-4b36-f695-92a38e6cd277"
      },
      "cell_type": "code",
      "source": [
        "Y"
      ],
      "execution_count": 27,
      "outputs": [
        {
          "output_type": "execute_result",
          "data": {
            "text/plain": [
              "<tf.Tensor 'Placeholder_3:0' shape=(?, 10) dtype=float32>"
            ]
          },
          "metadata": {
            "tags": []
          },
          "execution_count": 27
        }
      ]
    },
    {
      "metadata": {
        "id": "_rrvv2LVueL7",
        "colab_type": "code",
        "colab": {
          "base_uri": "https://localhost:8080/",
          "height": 107
        },
        "outputId": "e3c62b44-e806-4c47-dbc5-c7e807e26cba"
      },
      "cell_type": "code",
      "source": [
        "# tf.argmax(model, 1)는  최대값을 뽑기\n",
        "# tf.argmax(Y,1)는  최대값 뽑기\n",
        "# 결과는 10개 레이블중에 확률이 가장 높은 값이 된다.\n",
        "print(mnist.test.images.shape)\n",
        "print(mnist.test.labels.shape)\n",
        "is_correct = tf.equal(tf.argmax(model, 1), tf.argmax(Y,1)) \n",
        "is_correct\n",
        "accuracy = tf.reduce_mean(tf.cast(is_correct, tf.float32))\n",
        "accuracy\n",
        "print(model)\n",
        "print(is_correct)\n",
        "print(accuracy)"
      ],
      "execution_count": 28,
      "outputs": [
        {
          "output_type": "stream",
          "text": [
            "(10000, 784)\n",
            "(10000, 10)\n",
            "Tensor(\"MatMul_8:0\", shape=(?, 10), dtype=float32)\n",
            "Tensor(\"Equal:0\", shape=(?,), dtype=bool)\n",
            "Tensor(\"Mean_4:0\", shape=(), dtype=float32)\n"
          ],
          "name": "stdout"
        }
      ]
    },
    {
      "metadata": {
        "id": "QCEzAnw-ufry",
        "colab_type": "code",
        "colab": {
          "base_uri": "https://localhost:8080/",
          "height": 71
        },
        "outputId": "2f2fe9aa-4866-4baa-b17a-fed211b8ae52"
      },
      "cell_type": "code",
      "source": [
        "print(mnist.test.images.shape)\n",
        "print(mnist.test.labels.shape)\n",
        "print('정확도', sess.run(accuracy, feed_dict={X:mnist.test.images,\n",
        "                                              Y:mnist.test.labels}))"
      ],
      "execution_count": 29,
      "outputs": [
        {
          "output_type": "stream",
          "text": [
            "(10000, 784)\n",
            "(10000, 10)\n",
            "정확도 0.9812\n"
          ],
          "name": "stdout"
        }
      ]
    },
    {
      "metadata": {
        "id": "rPoLaej7uhH7",
        "colab_type": "code",
        "colab": {
          "base_uri": "https://localhost:8080/",
          "height": 143
        },
        "outputId": "71611fe3-b81b-431e-d30f-c082ad837a00"
      },
      "cell_type": "code",
      "source": [
        "import numpy as np\n",
        "#a = np.[    ]\n",
        "\n",
        "a = np.arange(100000).reshape(10000,10)\n",
        "a\n"
      ],
      "execution_count": 31,
      "outputs": [
        {
          "output_type": "execute_result",
          "data": {
            "text/plain": [
              "array([[    0,     1,     2, ...,     7,     8,     9],\n",
              "       [   10,    11,    12, ...,    17,    18,    19],\n",
              "       [   20,    21,    22, ...,    27,    28,    29],\n",
              "       ...,\n",
              "       [99970, 99971, 99972, ..., 99977, 99978, 99979],\n",
              "       [99980, 99981, 99982, ..., 99987, 99988, 99989],\n",
              "       [99990, 99991, 99992, ..., 99997, 99998, 99999]])"
            ]
          },
          "metadata": {
            "tags": []
          },
          "execution_count": 31
        }
      ]
    },
    {
      "metadata": {
        "id": "Yj6SuJM3ujoL",
        "colab_type": "code",
        "colab": {
          "base_uri": "https://localhost:8080/",
          "height": 35
        },
        "outputId": "27a23b9f-ffbc-44f9-f7f9-540e2c94e462"
      },
      "cell_type": "code",
      "source": [
        "np.argmax(a,1)"
      ],
      "execution_count": 32,
      "outputs": [
        {
          "output_type": "execute_result",
          "data": {
            "text/plain": [
              "array([9, 9, 9, ..., 9, 9, 9])"
            ]
          },
          "metadata": {
            "tags": []
          },
          "execution_count": 32
        }
      ]
    },
    {
      "metadata": {
        "id": "N-1xm_aVulXC",
        "colab_type": "code",
        "colab": {}
      },
      "cell_type": "code",
      "source": [
        "np.argmax(a,1)"
      ],
      "execution_count": 0,
      "outputs": []
    }
  ]
}