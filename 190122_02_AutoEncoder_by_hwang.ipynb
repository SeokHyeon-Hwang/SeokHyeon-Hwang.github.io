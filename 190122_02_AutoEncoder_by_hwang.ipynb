{
  "nbformat": 4,
  "nbformat_minor": 0,
  "metadata": {
    "colab": {
      "name": "AutoEncoder_by_hwang.ipynb",
      "version": "0.3.2",
      "provenance": [],
      "collapsed_sections": []
    },
    "kernelspec": {
      "name": "python3",
      "display_name": "Python 3"
    }
  },
  "cells": [
    {
      "metadata": {
        "id": "LYq559S0mTy5",
        "colab_type": "code",
        "colab": {}
      },
      "cell_type": "code",
      "source": [
        "import tensorflow as tf\n",
        "import numpy as np\n",
        "import matplotlib.pyplot as plt"
      ],
      "execution_count": 0,
      "outputs": []
    },
    {
      "metadata": {
        "id": "QDi-hkA0mcL9",
        "colab_type": "code",
        "colab": {
          "base_uri": "https://localhost:8080/",
          "height": 559
        },
        "outputId": "38d98fd0-f0b4-4d91-f3fa-7249b4a63a3c"
      },
      "cell_type": "code",
      "source": [
        "from tensorflow.examples.tutorials.mnist import input_data\n",
        "mnist = input_data.read_data_sets(\"./mnist/data/\", one_hot=True)"
      ],
      "execution_count": 2,
      "outputs": [
        {
          "output_type": "stream",
          "text": [
            "WARNING:tensorflow:From <ipython-input-2-4dcbd946c02b>:2: read_data_sets (from tensorflow.contrib.learn.python.learn.datasets.mnist) is deprecated and will be removed in a future version.\n",
            "Instructions for updating:\n",
            "Please use alternatives such as official/mnist/dataset.py from tensorflow/models.\n",
            "WARNING:tensorflow:From /usr/local/lib/python3.6/dist-packages/tensorflow/contrib/learn/python/learn/datasets/mnist.py:260: maybe_download (from tensorflow.contrib.learn.python.learn.datasets.base) is deprecated and will be removed in a future version.\n",
            "Instructions for updating:\n",
            "Please write your own downloading logic.\n",
            "WARNING:tensorflow:From /usr/local/lib/python3.6/dist-packages/tensorflow/contrib/learn/python/learn/datasets/base.py:252: _internal_retry.<locals>.wrap.<locals>.wrapped_fn (from tensorflow.contrib.learn.python.learn.datasets.base) is deprecated and will be removed in a future version.\n",
            "Instructions for updating:\n",
            "Please use urllib or similar directly.\n",
            "Successfully downloaded train-images-idx3-ubyte.gz 9912422 bytes.\n",
            "WARNING:tensorflow:From /usr/local/lib/python3.6/dist-packages/tensorflow/contrib/learn/python/learn/datasets/mnist.py:262: extract_images (from tensorflow.contrib.learn.python.learn.datasets.mnist) is deprecated and will be removed in a future version.\n",
            "Instructions for updating:\n",
            "Please use tf.data to implement this functionality.\n",
            "Extracting ./mnist/data/train-images-idx3-ubyte.gz\n",
            "Successfully downloaded train-labels-idx1-ubyte.gz 28881 bytes.\n",
            "WARNING:tensorflow:From /usr/local/lib/python3.6/dist-packages/tensorflow/contrib/learn/python/learn/datasets/mnist.py:267: extract_labels (from tensorflow.contrib.learn.python.learn.datasets.mnist) is deprecated and will be removed in a future version.\n",
            "Instructions for updating:\n",
            "Please use tf.data to implement this functionality.\n",
            "Extracting ./mnist/data/train-labels-idx1-ubyte.gz\n",
            "WARNING:tensorflow:From /usr/local/lib/python3.6/dist-packages/tensorflow/contrib/learn/python/learn/datasets/mnist.py:110: dense_to_one_hot (from tensorflow.contrib.learn.python.learn.datasets.mnist) is deprecated and will be removed in a future version.\n",
            "Instructions for updating:\n",
            "Please use tf.one_hot on tensors.\n",
            "Successfully downloaded t10k-images-idx3-ubyte.gz 1648877 bytes.\n",
            "Extracting ./mnist/data/t10k-images-idx3-ubyte.gz\n",
            "Successfully downloaded t10k-labels-idx1-ubyte.gz 4542 bytes.\n",
            "Extracting ./mnist/data/t10k-labels-idx1-ubyte.gz\n",
            "WARNING:tensorflow:From /usr/local/lib/python3.6/dist-packages/tensorflow/contrib/learn/python/learn/datasets/mnist.py:290: DataSet.__init__ (from tensorflow.contrib.learn.python.learn.datasets.mnist) is deprecated and will be removed in a future version.\n",
            "Instructions for updating:\n",
            "Please use alternatives such as official/mnist/dataset.py from tensorflow/models.\n"
          ],
          "name": "stdout"
        }
      ]
    },
    {
      "metadata": {
        "id": "fJpWK14snQlV",
        "colab_type": "code",
        "colab": {}
      },
      "cell_type": "code",
      "source": [
        "learning_rate = 0.01 # 학습률 0.01\n",
        "training_epoch = 20  # 횟수 20\n",
        "batch_size = 100     # 배치 사이즈 100\n",
        "n_hidden = 256       # 은닉층의 개수 256\n",
        "n_input = 28 * 28    # 784개(입력층)"
      ],
      "execution_count": 0,
      "outputs": []
    },
    {
      "metadata": {
        "id": "F-YK5r4TnUHB",
        "colab_type": "code",
        "colab": {}
      },
      "cell_type": "code",
      "source": [
        "# 인코더 만들기\n",
        "X = tf.placeholder(tf.float32, [None, n_input])      # 비지도학습은 Y가 없다.\n",
        "\n",
        "## W, b\n",
        "W_encode = tf.Variable(tf.random_normal([n_input, n_hidden])) # 입력층 노드, 은닉층 노드\n",
        "b_encode = tf.Variable(tf.random_normal([n_hidden]))\n",
        "\n",
        "## X*W + B\n",
        "encoder = tf.nn.sigmoid(tf.add(tf.matmul(X, W_encode), b_encode))"
      ],
      "execution_count": 0,
      "outputs": []
    },
    {
      "metadata": {
        "id": "thG7OT2coDy7",
        "colab_type": "code",
        "colab": {}
      },
      "cell_type": "code",
      "source": [
        "# 디코더 만들기\n",
        "W_decode = tf.Variable(tf.random_normal([n_hidden, n_input]))\n",
        "b_decode = tf.Variable(tf.random_normal([n_input]))\n",
        "# encode * W + b\n",
        "decoder = tf.nn.sigmoid(tf.add(tf.matmul(encoder, W_decode), b_decode))"
      ],
      "execution_count": 0,
      "outputs": []
    },
    {
      "metadata": {
        "id": "Br5C3lqDop-j",
        "colab_type": "code",
        "colab": {}
      },
      "cell_type": "code",
      "source": [
        "cost = tf.reduce_mean(tf.pow(X-decoder,2))\n",
        "optimizer = tf.train.RMSPropOptimizer(learning_rate).minimize(cost)"
      ],
      "execution_count": 0,
      "outputs": []
    },
    {
      "metadata": {
        "id": "Pz-AkOHIpMj4",
        "colab_type": "code",
        "colab": {}
      },
      "cell_type": "code",
      "source": [
        "# 학습하기"
      ],
      "execution_count": 0,
      "outputs": []
    },
    {
      "metadata": {
        "id": "EJvEhdlppPqq",
        "colab_type": "code",
        "colab": {
          "base_uri": "https://localhost:8080/",
          "height": 53
        },
        "outputId": "1b462ed7-bc16-40da-a2e1-4ddd3f1fde7d"
      },
      "cell_type": "code",
      "source": [
        "print(mnist.train.num_examples)\n",
        "print(int(mnist.train.num_examples/batch_size))"
      ],
      "execution_count": 8,
      "outputs": [
        {
          "output_type": "stream",
          "text": [
            "55000\n",
            "550\n"
          ],
          "name": "stdout"
        }
      ]
    },
    {
      "metadata": {
        "id": "AHVsgOAzqowL",
        "colab_type": "code",
        "colab": {
          "base_uri": "https://localhost:8080/",
          "height": 53
        },
        "outputId": "d809384d-c205-42a7-caef-9dc0551880e4"
      },
      "cell_type": "code",
      "source": [
        "batch_xs, batch_ys = mnist.train.next_batch(batch_size)\n",
        "print(batch_xs.shape)\n",
        "print(batch_ys.shape)\n"
      ],
      "execution_count": 9,
      "outputs": [
        {
          "output_type": "stream",
          "text": [
            "(100, 784)\n",
            "(100, 10)\n"
          ],
          "name": "stdout"
        }
      ]
    },
    {
      "metadata": {
        "id": "GSAzWDkkqq-j",
        "colab_type": "code",
        "colab": {
          "base_uri": "https://localhost:8080/",
          "height": 395
        },
        "outputId": "e0b5745f-28c1-41ce-ea4b-295a71802b3c"
      },
      "cell_type": "code",
      "source": [
        "init = tf.global_variables_initializer()\n",
        "sess = tf.Session()\n",
        "sess.run(init)   # 변수 초기화 \n",
        "\n",
        "total_batch = int(mnist.train.num_examples/batch_size)\n",
        "\n",
        "for epoch in range(training_epoch):\n",
        "  total_cost = 0\n",
        "  \n",
        "  for i in range(total_batch):   # 550번 cost구하고 가중치 수정하고\n",
        "    batch_xs, batch_ys = mnist.train.next_batch(batch_size) # batch_xs:입력, batch_ys:출력\n",
        "    _, cost_val = sess.run([optimizer, cost], feed_dict={X:batch_xs})\n",
        "    total_cost += cost_val\n",
        "    \n",
        "  print(\"Epoch : {}, Avg cost :{}\".format(epoch + 1, total_cost/total_batch))\n",
        "print('최적화 완료')"
      ],
      "execution_count": 10,
      "outputs": [
        {
          "output_type": "stream",
          "text": [
            "Epoch : 1, Avg cost :0.18906763672828675\n",
            "Epoch : 2, Avg cost :0.05863990454511209\n",
            "Epoch : 3, Avg cost :0.04806380487301133\n",
            "Epoch : 4, Avg cost :0.043483278439803555\n",
            "Epoch : 5, Avg cost :0.0405195781046694\n",
            "Epoch : 6, Avg cost :0.03847404924306003\n",
            "Epoch : 7, Avg cost :0.03719862186773257\n",
            "Epoch : 8, Avg cost :0.036015450541268694\n",
            "Epoch : 9, Avg cost :0.035314272046089175\n",
            "Epoch : 10, Avg cost :0.03476785984228958\n",
            "Epoch : 11, Avg cost :0.0343146813897924\n",
            "Epoch : 12, Avg cost :0.03314709317277778\n",
            "Epoch : 13, Avg cost :0.03242446358230981\n",
            "Epoch : 14, Avg cost :0.03198914965106683\n",
            "Epoch : 15, Avg cost :0.031404456997459584\n",
            "Epoch : 16, Avg cost :0.030540620166469704\n",
            "Epoch : 17, Avg cost :0.030102520703592085\n",
            "Epoch : 18, Avg cost :0.02991660968146541\n",
            "Epoch : 19, Avg cost :0.029729654189537873\n",
            "Epoch : 20, Avg cost :0.029521621066060932\n",
            "최적화 완료\n"
          ],
          "name": "stdout"
        }
      ]
    },
    {
      "metadata": {
        "id": "qeFBSlPiua9y",
        "colab_type": "code",
        "colab": {}
      },
      "cell_type": "code",
      "source": [
        "sample_size = 10\n",
        "samples = sess.run(decoder,\n",
        " feed_dict = {X:mnist.test.images[:sample_size]})"
      ],
      "execution_count": 0,
      "outputs": []
    },
    {
      "metadata": {
        "id": "Q6WAXXbftufJ",
        "colab_type": "code",
        "colab": {
          "base_uri": "https://localhost:8080/",
          "height": 158
        },
        "outputId": "0ba2cb91-85bd-4f08-a68b-09b792cf22ea"
      },
      "cell_type": "code",
      "source": [
        "fig, ax = plt.subplots(2, sample_size, figsize=(sample_size, 2))\n",
        "for i in range(sample_size):\n",
        " ax[0][i].set_axis_off()\n",
        " ax[1][i].set_axis_off()\n",
        " ax[0][i].imshow(np.reshape(mnist.test.images[i], (28,28)))\n",
        " ax[1][i].imshow(np.reshape(samples[i], (28,28)))\n",
        "\n",
        "plt.show()\n"
      ],
      "execution_count": 13,
      "outputs": [
        {
          "output_type": "display_data",
          "data": {
            "image/png": "[encoded data removed]",
            "text/plain": [
              "<Figure size 720x144 with 20 Axes>"
            ]
          },
          "metadata": {
            "tags": []
          }
        }
      ]
    },
    {
      "metadata": {
        "id": "zm75mS70uTsO",
        "colab_type": "code",
        "colab": {}
      },
      "cell_type": "code",
      "source": [
        ""
      ],
      "execution_count": 0,
      "outputs": []
    }
  ]
}