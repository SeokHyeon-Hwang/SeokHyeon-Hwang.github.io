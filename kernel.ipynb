{
  "cells": [
    {
      "metadata": {
        "_uuid": "8f2839f25d086af736a60e9eeb907d3b93b6e0e5",
        "_cell_guid": "b1076dfc-b9ad-4769-8c92-a6c4dae69d19",
        "trusted": true
      },
      "cell_type": "code",
      "source": "# This Python 3 environment comes with many helpful analytics libraries installed\n# It is defined by the kaggle/python docker image: https://github.com/kaggle/docker-python\n# For example, here's several helpful packages to load in \n\nimport numpy as np # linear algebra\nimport pandas as pd # data processing, CSV file I/O (e.g. pd.read_csv)\n\n# Input data files are available in the \"../input/\" directory.\n# For example, running this (by clicking run or pressing Shift+Enter) will list the files in the input directory\n\nimport os\nprint(os.listdir(\"../input\"))\n\n# Any results you write to the current directory are saved as output.\n\n",
      "execution_count": null,
      "outputs": []
    },
    {
      "metadata": {
        "_cell_guid": "79c7e3d0-c299-4dcb-8224-4455121ee9b0",
        "_uuid": "d629ff2d2480ee46fbb7e2d37f6b5fab8052498a",
        "trusted": true
      },
      "cell_type": "code",
      "source": "df_train = pd.read_csv('../input/train.csv')\ndf_test = pd.read_csv('../input/test.csv')",
      "execution_count": null,
      "outputs": []
    },
    {
      "metadata": {
        "trusted": true,
        "_uuid": "c4d536f1c2892cea686b684b563ae3dca30a3d5e"
      },
      "cell_type": "code",
      "source": "print(df_train.columns)\nprint(df_test.columns)\nprint(df_train.shape, df_test.shape)\nprint(df_train.isnull().sum())",
      "execution_count": null,
      "outputs": []
    },
    {
      "metadata": {
        "trusted": true,
        "_uuid": "6e363557f039eb4f1db9c34edeb5750e8cf07e72"
      },
      "cell_type": "code",
      "source": "for df in [df_train,df_test]:\n    df['total_rooms'] = df['bedrooms'] + df['bathrooms']    # 침실과 욕실의 총합.\n    df['sqft_ratio'] = df['sqft_living'] / df['sqft_lot']   # 실제 주거 공간 + 토지 전체 공간\n    df['sqft_total_size'] = df['sqft_living'] + df['sqft_lot'] + df['sqft_above'] + df['sqft_basement']  # 지하실 제외 집의 평방 피트, 집 지하실 포함.\n    df['sqft_total15'] = df['sqft_living15'] + df['sqft_lot15']  # 2015년 거실, 2015년 lotSize영역 \n    df['is_renovated'] = df['yr_renovated'] - df['yr_built']\n    df['sqft_total_by_lot'] = (df['sqft_living'] + df['sqft_above'] + df['sqft_basement'])/df['sqft_lot']\n    \n    #qcut_count = 10\n    #df['qcut_long'] = pd.qcut(df['long'], qcut_count, labels=range(qcut_count))\n    #df['qcut_lat'] = pd.qcut(df['lat'], qcut_count, labels=range(qcut_count))",
      "execution_count": null,
      "outputs": []
    },
    {
      "metadata": {
        "_uuid": "30bfa55dd703a331bef4fa1a00af3c2da4ef534a"
      },
      "cell_type": "markdown",
      "source": "### 모델 만들기"
    },
    {
      "metadata": {
        "trusted": true,
        "_uuid": "ea14b97f76bfb0b120db2fed1538c2d6e4f360d2"
      },
      "cell_type": "code",
      "source": "from sklearn import linear_model\nfrom sklearn.metrics import mean_squared_error\nfrom sklearn.model_selection import train_test_split",
      "execution_count": null,
      "outputs": []
    },
    {
      "metadata": {
        "_uuid": "54b21f589a458f248dfe84f78559cedaf166ee8d"
      },
      "cell_type": "markdown",
      "source": "## 새로운 변수 생성\n* total_rooms = bedrooms(침실)+bathrooms(욕실)\n* sqft_ration = sqft_living(실제 주거공간)/sqft_lot(토지 전체 공간)\n* "
    },
    {
      "metadata": {
        "trusted": true,
        "_uuid": "b045fa8fcdf637fe1c00ce9799a1b6b639ceaf94"
      },
      "cell_type": "code",
      "source": "y=df_train['price'] # 타깃\nX=df_train.drop('price', axis=1)\n\nX_train, X_valid, y_train, y_valid = train_test_split(X, y, \n                                                      test_size=0.2, #default = 75:25\n                                                      random_state=123 ) ",
      "execution_count": null,
      "outputs": []
    },
    {
      "metadata": {
        "trusted": true,
        "_uuid": "e19a10844ca5dbe855de40bb2cfa7d5e6cb11c32"
      },
      "cell_type": "code",
      "source": "import matplotlib.pyplot as plt",
      "execution_count": null,
      "outputs": []
    },
    {
      "metadata": {
        "trusted": true,
        "_uuid": "79681ccc91211a423d161895319af5942e5b642d"
      },
      "cell_type": "code",
      "source": "X_train.corr()",
      "execution_count": null,
      "outputs": []
    },
    {
      "metadata": {
        "trusted": true,
        "_uuid": "7d1331fc47e2593f3ed14721f22254aebbd46d18"
      },
      "cell_type": "code",
      "source": "import seaborn as sns\ncorr=df_train.corr()\nplt.subplots(figsize=(15,10))\nsns.heatmap(corr, annot=True, fmt='.3f')",
      "execution_count": null,
      "outputs": []
    },
    {
      "metadata": {
        "trusted": true,
        "_uuid": "ab63fff36a59d285020c883bc878e71d4883e48a"
      },
      "cell_type": "code",
      "source": "X_train.columns",
      "execution_count": null,
      "outputs": []
    },
    {
      "metadata": {
        "_uuid": "8123c16f15669b34f59d3832f24e695d4c5cdd5f"
      },
      "cell_type": "markdown",
      "source": "#### 데이터 변수 선택"
    },
    {
      "metadata": {
        "trusted": true,
        "_uuid": "03699d2e9e470a55c948549dd5f7de819c5e2582"
      },
      "cell_type": "code",
      "source": "#sel = ['bedrooms', 'floors']\n#sel = ['bedrooms', 'floors', 'grade', 'sqft_living'] # 2\n#sel2 = ['bedrooms', 'bathrooms', 'sqft_living', 'floors', 'waterfront', 'view', 'grade', 'sqft_above',\n#       'sqft_basement', 'yr_renovated','lat', 'sqft_living15'] #3\n'''\nX_train_sel = X_train[sel]\nX_valid_sel = X_valid[sel]\nX_test_sel = df_test[sel]\n'''\n#sel3\nX_train_sel = X_train.drop('date', axis=1)\nX_valid_sel = X_valid.drop('date' , axis=1)\nX_test_sel=df_test.drop('date', axis=1)\n",
      "execution_count": null,
      "outputs": []
    },
    {
      "metadata": {
        "trusted": true,
        "_uuid": "5d99d63dece7bb1da5e5d8237aad3ca567aa5540"
      },
      "cell_type": "code",
      "source": "## 01. 모델 생성, 02. 모델 훈련, 03. 예측\nmodel = linear_model.LinearRegression() # 생성\nmodel.fit(X_train_sel, y_train) # 훈련\nval_pred1 = model.predict(X_valid_sel) # 예측\nprint(val_pred1.shape)",
      "execution_count": null,
      "outputs": []
    },
    {
      "metadata": {
        "trusted": true,
        "_uuid": "26d96d055242208c4f1e722c2a726fab5d6e7363"
      },
      "cell_type": "code",
      "source": "import lightgbm as lgb\nfrom xgboost import XGBRegressor",
      "execution_count": null,
      "outputs": []
    },
    {
      "metadata": {
        "trusted": true,
        "_uuid": "de1dbd26f6a4fac913320daeb574781cca3e4a09"
      },
      "cell_type": "code",
      "source": "## 01. 모델2. lgbm\nlightgbm = lgb.LGBMRegressor(random_state=123)\nlightgbm.fit(X_train_sel, y_train)\ny_pred_lgbm = lightgbm.predict(X_valid_sel)\n\n## 01. 모델3. xgbm\nxgbm_model = XGBRegressor()\nxgbm_model.fit(X_train_sel, y_train)\ny_pred_xgbm = xgbm_model.predict(X_valid_sel)\n",
      "execution_count": null,
      "outputs": []
    },
    {
      "metadata": {
        "trusted": true,
        "_uuid": "c412b7de429592a0dff77b2cd43881b6238c4059"
      },
      "cell_type": "code",
      "source": "## 모델 평가1\nfrom math import sqrt\nprint('RMSE : ', sqrt(mean_squared_error(val_pred1, y_valid)))",
      "execution_count": null,
      "outputs": []
    },
    {
      "metadata": {
        "trusted": true,
        "_uuid": "0e4a9eb4456dadd8e91f336e1147750fd9ca10d8"
      },
      "cell_type": "code",
      "source": "## 모델 평가2\nfrom math import sqrt\nprint('RMSE : ', sqrt(mean_squared_error(val_pred1, y_valid)))",
      "execution_count": null,
      "outputs": []
    },
    {
      "metadata": {
        "trusted": true,
        "_uuid": "8a51c6b8f5799ab9058aa02ea33129ef27dd93c6"
      },
      "cell_type": "code",
      "source": "\nprint('RMSE : ', sqrt(mean_squared_error(val_pred1, y_valid)))",
      "execution_count": null,
      "outputs": []
    },
    {
      "metadata": {
        "trusted": true,
        "_uuid": "f4fc01e4ed6ded812a3a7f60a66a436f87f29ef6"
      },
      "cell_type": "code",
      "source": "## 모델 평가4\nfrom math import sqrt\n\nprint('RMSE : ', sqrt(mean_squared_error(val_pred1, y_valid)))\nprint('RMSE(lgbm) : ', sqrt(mean_squared_error(y_pred_lgbm, y_valid)))\nprint('TMSE(xgbm) : ', sqrt(mean_squared_error(y_pred_xgbm, y_valid)))",
      "execution_count": null,
      "outputs": []
    },
    {
      "metadata": {
        "trusted": true,
        "_uuid": "ddfb04d8ade92ee125c265ffa185fc99d083a5b8"
      },
      "cell_type": "code",
      "source": "print(y_pred_xgbm.shape)",
      "execution_count": null,
      "outputs": []
    },
    {
      "metadata": {
        "trusted": true,
        "_uuid": "d27d2d11c952adea56de6b0f252501a0ef5cc9fb"
      },
      "cell_type": "code",
      "source": "print(sum.shape)",
      "execution_count": null,
      "outputs": []
    },
    {
      "metadata": {
        "trusted": true,
        "_uuid": "8ef156a268dd0f0709a0f1fe6b45d51f62985928"
      },
      "cell_type": "code",
      "source": "## 01. 모델2. lgbm\nlightgbm = lgb.LGBMRegressor(random_state=123)\nlightgbm.fit(X_train_sel, y_train)\ny_pred_lgbm = lightgbm.predict(X_test_sel)\n\n## 01. 모델3. xgbm\nxgbm_model = XGBRegressor()\nxgbm_model.fit(X_train_sel, y_train)\ny_pred_xgbm = xgbm_model.predict(X_test_sel)",
      "execution_count": null,
      "outputs": []
    },
    {
      "metadata": {
        "trusted": true,
        "_uuid": "8641b6c281da47f90dd900f77f3f267d73dc14b4"
      },
      "cell_type": "code",
      "source": "sum = pd.read_csv('../input/sample_submission.csv')\nsum.head()\nsum['price']=y_pred_xgbm\nsum.head()",
      "execution_count": null,
      "outputs": []
    },
    {
      "metadata": {
        "trusted": true,
        "_uuid": "dd61eeb509d8ca6e45875e9f3d102921119a043e"
      },
      "cell_type": "code",
      "source": "sum.to_csv('1stSub.csv', index=False)",
      "execution_count": null,
      "outputs": []
    },
    {
      "metadata": {
        "trusted": true,
        "_uuid": "fb51617913d0519c76a2c5d7a5c25df6b0eafa7c"
      },
      "cell_type": "markdown",
      "source": "## EDA"
    },
    {
      "metadata": {
        "trusted": true,
        "_uuid": "41c87687705fa73ab9deea9a2a55253fd18ad1aa"
      },
      "cell_type": "code",
      "source": "df_train.head(30)",
      "execution_count": null,
      "outputs": []
    },
    {
      "metadata": {
        "trusted": true,
        "_uuid": "a92d2f6a59f273a59b75e8d12bdb379bb87ebf7e"
      },
      "cell_type": "code",
      "source": "sns.distplot(df_train['price'])",
      "execution_count": null,
      "outputs": []
    },
    {
      "metadata": {
        "trusted": true,
        "_uuid": "a42bd1b73cbd7480a73c9d21e079d0aa992abd31"
      },
      "cell_type": "code",
      "source": "plt.figure(figsize=(15,10))\nplt.subplot(3,2,1)\nsns.boxplot(x='')",
      "execution_count": null,
      "outputs": []
    },
    {
      "metadata": {
        "trusted": true,
        "_uuid": "261cbbb8b9a7fa3b1fd9ae2c1de3d737c52f4433"
      },
      "cell_type": "code",
      "source": "",
      "execution_count": null,
      "outputs": []
    }
  ],
  "metadata": {
    "kernelspec": {
      "display_name": "Python 3",
      "language": "python",
      "name": "python3"
    },
    "language_info": {
      "name": "python",
      "version": "3.6.6",
      "mimetype": "text/x-python",
      "codemirror_mode": {
        "name": "ipython",
        "version": 3
      },
      "pygments_lexer": "ipython3",
      "nbconvert_exporter": "python",
      "file_extension": ".py"
    }
  },
  "nbformat": 4,
  "nbformat_minor": 1
}