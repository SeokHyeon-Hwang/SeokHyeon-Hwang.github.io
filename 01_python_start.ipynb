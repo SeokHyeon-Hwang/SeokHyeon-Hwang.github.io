{
 "cells": [
  {
   "cell_type": "markdown",
   "metadata": {},
   "source": [
    "# 파이썬 시작"
   ]
  },
  {
   "cell_type": "markdown",
   "metadata": {},
   "source": [
    "설치 시 Add Python 3.7 to PATH를 체크하자.\n",
    "\n",
    "설치 여부 확인 방법 : \n",
    "\n",
    "윈도우+r 에서 powershell 입력 후 powershell 창에 python을 입력.\n",
    "\n",
    "입력 후 오류가 뜨지 않으면 정상 설치 된것."
   ]
  },
  {
   "cell_type": "markdown",
   "metadata": {},
   "source": [
    "# 텍스트 편집기(에디터) 시작"
   ]
  },
  {
   "cell_type": "markdown",
   "metadata": {},
   "source": [
    "notepad++ 설치\n",
    "\n",
    "notepad++ 사용 시 새파일을 열고 먼저 다른이름으로 저장하여 new1.py 형식으로 저장한다."
   ]
  }
 ],
 "metadata": {
  "kernelspec": {
   "display_name": "Python 3",
   "language": "python",
   "name": "python3"
  },
  "language_info": {
   "codemirror_mode": {
    "name": "ipython",
    "version": 3
   },
   "file_extension": ".py",
   "mimetype": "text/x-python",
   "name": "python",
   "nbconvert_exporter": "python",
   "pygments_lexer": "ipython3",
   "version": "3.6.5"
  }
 },
 "nbformat": 4,
 "nbformat_minor": 2
}
