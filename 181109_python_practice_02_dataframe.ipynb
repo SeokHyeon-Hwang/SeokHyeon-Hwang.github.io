{
 "cells": [
  {
   "cell_type": "code",
   "execution_count": 22,
   "metadata": {},
   "outputs": [],
   "source": [
    "from pandas import Series, DataFrame\n",
    "import numpy as np"
   ]
  },
  {
   "cell_type": "code",
   "execution_count": 85,
   "metadata": {},
   "outputs": [
    {
     "data": {
      "text/html": [
       "<div>\n",
       "<style scoped>\n",
       "    .dataframe tbody tr th:only-of-type {\n",
       "        vertical-align: middle;\n",
       "    }\n",
       "\n",
       "    .dataframe tbody tr th {\n",
       "        vertical-align: top;\n",
       "    }\n",
       "\n",
       "    .dataframe thead th {\n",
       "        text-align: right;\n",
       "    }\n",
       "</style>\n",
       "<table border=\"1\" class=\"dataframe\">\n",
       "  <thead>\n",
       "    <tr style=\"text-align: right;\">\n",
       "      <th></th>\n",
       "      <th>price</th>\n",
       "      <th>quantity</th>\n",
       "      <th>normal_rate</th>\n",
       "    </tr>\n",
       "  </thead>\n",
       "  <tbody>\n",
       "    <tr>\n",
       "      <th>SK하이닉스</th>\n",
       "      <td>30406</td>\n",
       "      <td>335</td>\n",
       "      <td>0.11</td>\n",
       "    </tr>\n",
       "    <tr>\n",
       "      <th>삼성전기</th>\n",
       "      <td>14179</td>\n",
       "      <td>142</td>\n",
       "      <td>1.74</td>\n",
       "    </tr>\n",
       "    <tr>\n",
       "      <th>셀트리온</th>\n",
       "      <td>13275</td>\n",
       "      <td>41</td>\n",
       "      <td>-1.54</td>\n",
       "    </tr>\n",
       "    <tr>\n",
       "      <th>삼성SDI</th>\n",
       "      <td>10121</td>\n",
       "      <td>48</td>\n",
       "      <td>-4.41</td>\n",
       "    </tr>\n",
       "    <tr>\n",
       "      <th>POSCO</th>\n",
       "      <td>9558</td>\n",
       "      <td>27</td>\n",
       "      <td>0.29</td>\n",
       "    </tr>\n",
       "  </tbody>\n",
       "</table>\n",
       "</div>"
      ],
      "text/plain": [
       "        price  quantity  normal_rate\n",
       "SK하이닉스  30406       335         0.11\n",
       "삼성전기    14179       142         1.74\n",
       "셀트리온    13275        41        -1.54\n",
       "삼성SDI   10121        48        -4.41\n",
       "POSCO    9558        27         0.29"
      ]
     },
     "execution_count": 85,
     "metadata": {},
     "output_type": "execute_result"
    }
   ],
   "source": [
    "name=['SK하이닉스', '삼성전기', '셀트리온', '삼성SDI', 'POSCO']\n",
    "data=DataFrame({'price': [30406, 14179, 13275, 10121, 9558],\n",
    "              'quantity':[335, 142, 41, 48,27],\n",
    "              'normal_rate':[0.11, 1.74, -1.54, -4.41, 0.29]},\n",
    "              columns=['price', 'quantity', 'normal_rate'],\n",
    "              index=name)\n",
    "data"
   ]
  },
  {
   "cell_type": "code",
   "execution_count": 84,
   "metadata": {},
   "outputs": [
    {
     "data": {
      "text/html": [
       "<div>\n",
       "<style scoped>\n",
       "    .dataframe tbody tr th:only-of-type {\n",
       "        vertical-align: middle;\n",
       "    }\n",
       "\n",
       "    .dataframe tbody tr th {\n",
       "        vertical-align: top;\n",
       "    }\n",
       "\n",
       "    .dataframe thead th {\n",
       "        text-align: right;\n",
       "    }\n",
       "</style>\n",
       "<table border=\"1\" class=\"dataframe\">\n",
       "  <thead>\n",
       "    <tr style=\"text-align: right;\">\n",
       "      <th></th>\n",
       "      <th>price</th>\n",
       "      <th>quantity</th>\n",
       "      <th>normal_rate</th>\n",
       "      <th>total_price</th>\n",
       "    </tr>\n",
       "  </thead>\n",
       "  <tbody>\n",
       "    <tr>\n",
       "      <th>SK하이닉스</th>\n",
       "      <td>30406</td>\n",
       "      <td>335</td>\n",
       "      <td>0.11</td>\n",
       "      <td>10186010</td>\n",
       "    </tr>\n",
       "    <tr>\n",
       "      <th>삼성전기</th>\n",
       "      <td>14179</td>\n",
       "      <td>142</td>\n",
       "      <td>1.74</td>\n",
       "      <td>2013418</td>\n",
       "    </tr>\n",
       "    <tr>\n",
       "      <th>셀트리온</th>\n",
       "      <td>13275</td>\n",
       "      <td>41</td>\n",
       "      <td>-1.54</td>\n",
       "      <td>544275</td>\n",
       "    </tr>\n",
       "    <tr>\n",
       "      <th>삼성SDI</th>\n",
       "      <td>10121</td>\n",
       "      <td>48</td>\n",
       "      <td>-4.41</td>\n",
       "      <td>485808</td>\n",
       "    </tr>\n",
       "    <tr>\n",
       "      <th>POSCO</th>\n",
       "      <td>9558</td>\n",
       "      <td>27</td>\n",
       "      <td>0.29</td>\n",
       "      <td>258066</td>\n",
       "    </tr>\n",
       "  </tbody>\n",
       "</table>\n",
       "</div>"
      ],
      "text/plain": [
       "        price  quantity  normal_rate  total_price\n",
       "SK하이닉스  30406       335         0.11     10186010\n",
       "삼성전기    14179       142         1.74      2013418\n",
       "셀트리온    13275        41        -1.54       544275\n",
       "삼성SDI   10121        48        -4.41       485808\n",
       "POSCO    9558        27         0.29       258066"
      ]
     },
     "execution_count": 84,
     "metadata": {},
     "output_type": "execute_result"
    }
   ],
   "source": [
    "tp=np.array(data['price'].values*data['quantity'].values).tolist()\n",
    "tp\n",
    "#tp2={'total_price':tp}\n",
    "#tp2\n",
    "#datatp2=DataFrame(tp2, index=name)\n",
    "#datatp2\n",
    "#data2=data+datatp2\n",
    "#data2\n",
    "data\n",
    "data['total_price']=tp\n",
    "data"
   ]
  },
  {
   "cell_type": "code",
   "execution_count": 86,
   "metadata": {},
   "outputs": [
    {
     "data": {
      "text/plain": [
       "array([10186010,  2013418,   544275,   485808,   258066], dtype=int64)"
      ]
     },
     "execution_count": 86,
     "metadata": {},
     "output_type": "execute_result"
    }
   ],
   "source": [
    "data['price'].values*data['quantity'].values"
   ]
  },
  {
   "cell_type": "code",
   "execution_count": 87,
   "metadata": {},
   "outputs": [
    {
     "data": {
      "text/plain": [
       "[10186010, 2013418, 544275, 485808, 258066]"
      ]
     },
     "execution_count": 87,
     "metadata": {},
     "output_type": "execute_result"
    }
   ],
   "source": [
    "np.array(data['price'].values*data['quantity'].values).tolist()"
   ]
  },
  {
   "cell_type": "code",
   "execution_count": 89,
   "metadata": {},
   "outputs": [
    {
     "data": {
      "text/plain": [
       "pandas.core.series.Series"
      ]
     },
     "execution_count": 89,
     "metadata": {},
     "output_type": "execute_result"
    }
   ],
   "source": [
    "type(data['price'])"
   ]
  },
  {
   "cell_type": "code",
   "execution_count": 90,
   "metadata": {},
   "outputs": [
    {
     "data": {
      "text/plain": [
       "SK하이닉스    10186010\n",
       "삼성전기       2013418\n",
       "셀트리온        544275\n",
       "삼성SDI       485808\n",
       "POSCO       258066\n",
       "dtype: int64"
      ]
     },
     "execution_count": 90,
     "metadata": {},
     "output_type": "execute_result"
    }
   ],
   "source": [
    "data['price']*data['quantity']"
   ]
  },
  {
   "cell_type": "code",
   "execution_count": 91,
   "metadata": {},
   "outputs": [
    {
     "data": {
      "text/plain": [
       "pandas.core.series.Series"
      ]
     },
     "execution_count": 91,
     "metadata": {},
     "output_type": "execute_result"
    }
   ],
   "source": [
    "type(data['price']*data['quantity'])"
   ]
  },
  {
   "cell_type": "code",
   "execution_count": null,
   "metadata": {},
   "outputs": [],
   "source": []
  }
 ],
 "metadata": {
  "kernelspec": {
   "display_name": "Python 3",
   "language": "python",
   "name": "python3"
  },
  "language_info": {
   "codemirror_mode": {
    "name": "ipython",
    "version": 3
   },
   "file_extension": ".py",
   "mimetype": "text/x-python",
   "name": "python",
   "nbconvert_exporter": "python",
   "pygments_lexer": "ipython3",
   "version": "3.6.5"
  }
 },
 "nbformat": 4,
 "nbformat_minor": 2
}
