{
 "cells": [
  {
   "cell_type": "code",
   "execution_count": 1,
   "metadata": {},
   "outputs": [],
   "source": [
    "import tensorflow as tf"
   ]
  },
  {
   "cell_type": "code",
   "execution_count": 2,
   "metadata": {},
   "outputs": [],
   "source": [
    "a = tf.constant(20, name='a')\n",
    "b = tf.constant(30, name='b')\n",
    "\n",
    "mul_op = a*b\n",
    "sub_op = a-b\n",
    "plus_op = a+b"
   ]
  },
  {
   "cell_type": "code",
   "execution_count": 7,
   "metadata": {},
   "outputs": [],
   "source": [
    "# 세션 생성하기\n",
    "sess = tf.Session()\n",
    "\n",
    "# TensorBoard\n",
    "#tw = tf.train.SummaryWriter('',) 이전 버전\n",
    "tw = tf.summary.FileWriter('log_dir', graph=sess.graph)"
   ]
  },
  {
   "cell_type": "code",
   "execution_count": 6,
   "metadata": {},
   "outputs": [
    {
     "name": "stdout",
     "output_type": "stream",
     "text": [
      "600\n",
      "-10\n",
      "50\n"
     ]
    }
   ],
   "source": [
    "# 세션 실행\n",
    "print(sess.run(mul_op))\n",
    "print(sess.run(sub_op))\n",
    "print(sess.run(plus_op))"
   ]
  },
  {
   "cell_type": "markdown",
   "metadata": {},
   "source": [
    "## 이슈\n",
    "### 텐서보드에서 로그 실행이 안되는 이유는\n",
    "### anaconda frompt 에서 \n",
    "### tensorboard --logdir='log_dir' 했기 때문\n",
    "### \"log_dir\" 쌍따옴표 사용해야 함"
   ]
  },
  {
   "cell_type": "markdown",
   "metadata": {},
   "source": [
    "![image](https://user-images.githubusercontent.com/42320146/51583677-0333a000-1f15-11e9-99d6-2326152dcd17.png)\n"
   ]
  },
  {
   "cell_type": "markdown",
   "metadata": {},
   "source": [
    "![image](https://user-images.githubusercontent.com/42320146/51583619-cff11100-1f14-11e9-8917-cf10eace9898.png)\n"
   ]
  },
  {
   "cell_type": "markdown",
   "metadata": {},
   "source": [
    "![image](https://user-images.githubusercontent.com/42320146/51583752-50177680-1f15-11e9-974c-03806efedaf1.png)\n"
   ]
  },
  {
   "cell_type": "markdown",
   "metadata": {},
   "source": [
    "![image](https://user-images.githubusercontent.com/42320146/51583780-75a48000-1f15-11e9-8131-34544d862597.png)\n"
   ]
  },
  {
   "cell_type": "markdown",
   "metadata": {},
   "source": [
    "![image](https://user-images.githubusercontent.com/42320146/51583794-8d7c0400-1f15-11e9-8e8b-38ba10b63405.png)\n"
   ]
  },
  {
   "cell_type": "code",
   "execution_count": null,
   "metadata": {},
   "outputs": [],
   "source": []
  }
 ],
 "metadata": {
  "kernelspec": {
   "display_name": "Python 3",
   "language": "python",
   "name": "python3"
  },
  "language_info": {
   "codemirror_mode": {
    "name": "ipython",
    "version": 3
   },
   "file_extension": ".py",
   "mimetype": "text/x-python",
   "name": "python",
   "nbconvert_exporter": "python",
   "pygments_lexer": "ipython3",
   "version": "3.6.5"
  }
 },
 "nbformat": 4,
 "nbformat_minor": 2
}
