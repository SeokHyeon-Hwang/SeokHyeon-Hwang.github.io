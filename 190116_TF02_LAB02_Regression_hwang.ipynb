{
  "nbformat": 4,
  "nbformat_minor": 0,
  "metadata": {
    "colab": {
      "name": "TF02_LAB02_Regression_hwang.ipynb",
      "version": "0.3.2",
      "provenance": [],
      "collapsed_sections": []
    },
    "kernelspec": {
      "name": "python3",
      "display_name": "Python 3"
    }
  },
  "cells": [
    {
      "metadata": {
        "id": "Aytr-0VWRXl7",
        "colab_type": "text"
      },
      "cell_type": "markdown",
      "source": [
        "### 선형 회귀 모델 구현하기"
      ]
    },
    {
      "metadata": {
        "id": "I0kjTrbHRhWR",
        "colab_type": "code",
        "colab": {}
      },
      "cell_type": "code",
      "source": [
        "import tensorflow as tf"
      ],
      "execution_count": 0,
      "outputs": []
    },
    {
      "metadata": {
        "id": "DAHd0g3rRi6B",
        "colab_type": "code",
        "colab": {}
      },
      "cell_type": "code",
      "source": [
        "x_data = [1,2,3]\n",
        "y_data = [1,2,3]"
      ],
      "execution_count": 0,
      "outputs": []
    },
    {
      "metadata": {
        "id": "Va0WbV64RwhO",
        "colab_type": "text"
      },
      "cell_type": "markdown",
      "source": [
        "### 2-2 W와 b를 각각 -1~1사이의 균등분포를 갖는 무작위값으로 초기화 수행"
      ]
    },
    {
      "metadata": {
        "id": "8bmkae3lRnD7",
        "colab_type": "code",
        "outputId": "7d74c069-e6cb-4972-eec1-1fe55601676d",
        "colab": {
          "base_uri": "https://localhost:8080/",
          "height": 53
        }
      },
      "cell_type": "code",
      "source": [
        "W = tf.Variable(tf.random_uniform( [1], -1.0, 1.0) )\n",
        "b = tf.Variable(tf.random_uniform( [1], -1.0, 1.0) )\n",
        "print(W)\n",
        "print(b)"
      ],
      "execution_count": 3,
      "outputs": [
        {
          "output_type": "stream",
          "text": [
            "<tf.Variable 'Variable:0' shape=(1,) dtype=float32_ref>\n",
            "<tf.Variable 'Variable_1:0' shape=(1,) dtype=float32_ref>\n"
          ],
          "name": "stdout"
        }
      ]
    },
    {
      "metadata": {
        "id": "1M4go_e9RrK3",
        "colab_type": "code",
        "colab": {}
      },
      "cell_type": "code",
      "source": [
        "### 2-3 플레이스 홀더(placeholder) 설정"
      ],
      "execution_count": 0,
      "outputs": []
    },
    {
      "metadata": {
        "id": "iTaiqSXbSFYu",
        "colab_type": "code",
        "outputId": "45732a3f-a3a6-4856-a7b3-46683d852818",
        "colab": {
          "base_uri": "https://localhost:8080/",
          "height": 35
        }
      },
      "cell_type": "code",
      "source": [
        "T = tf.placeholder(tf.float32)\n",
        "print(T)"
      ],
      "execution_count": 5,
      "outputs": [
        {
          "output_type": "stream",
          "text": [
            "Tensor(\"Placeholder:0\", dtype=float32)\n"
          ],
          "name": "stdout"
        }
      ]
    },
    {
      "metadata": {
        "id": "T4uAPZf9SJVG",
        "colab_type": "code",
        "outputId": "50386567-adee-4067-ca75-38704de7c42a",
        "colab": {
          "base_uri": "https://localhost:8080/",
          "height": 53
        }
      },
      "cell_type": "code",
      "source": [
        "X1 = tf.placeholder(tf.float32, name='X')\n",
        "Y1 = tf.placeholder(tf.float32, name='Y')\n",
        "print(X1)\n",
        "print(Y1)"
      ],
      "execution_count": 6,
      "outputs": [
        {
          "output_type": "stream",
          "text": [
            "Tensor(\"X:0\", dtype=float32)\n",
            "Tensor(\"Y:0\", dtype=float32)\n"
          ],
          "name": "stdout"
        }
      ]
    },
    {
      "metadata": {
        "id": "As5AYdK0STpH",
        "colab_type": "code",
        "colab": {}
      },
      "cell_type": "code",
      "source": [
        "sess = tf.Session()\n",
        "sess.run(tf.global_variables_initializer())\n",
        "sess.close()"
      ],
      "execution_count": 0,
      "outputs": []
    },
    {
      "metadata": {
        "id": "i7CCYa4zTCD5",
        "colab_type": "code",
        "colab": {}
      },
      "cell_type": "code",
      "source": [
        "hypothesis = W*X1+b"
      ],
      "execution_count": 0,
      "outputs": []
    },
    {
      "metadata": {
        "id": "5ZLc2GlmT5Uu",
        "colab_type": "code",
        "colab": {}
      },
      "cell_type": "code",
      "source": [
        "### 2-4 손실함수(loss function)\n",
        "# 데이터에 대한 손실값을 계산하는 함수\n",
        "# 경사하강법*gradient descent)는 최적화 방법 중 가장 기본적인 알고리즘\n",
        "# 경사하강법 : 함수의 기울기를 구하고, 기울기가 낮은 쪽으로 이동시켜 가면서 최적의 값을 찾는다."
      ],
      "execution_count": 0,
      "outputs": []
    },
    {
      "metadata": {
        "id": "ObMsuS54WQP7",
        "colab_type": "code",
        "colab": {}
      },
      "cell_type": "code",
      "source": [
        "cost = tf.reduce_mean(tf.square(hypothesis-Y1))\n",
        "\n",
        "optimizer = tf.train.GradientDescentOptimizer(learning_rate=0.1) # 얼마나 급하게 내려가게 할건가"
      ],
      "execution_count": 0,
      "outputs": []
    },
    {
      "metadata": {
        "id": "Y0Rzbr9UWGGN",
        "colab_type": "code",
        "colab": {}
      },
      "cell_type": "code",
      "source": [
        "train_op = optimizer.minimize(cost)"
      ],
      "execution_count": 0,
      "outputs": []
    },
    {
      "metadata": {
        "id": "WOSr_bkVXJyH",
        "colab_type": "code",
        "colab": {
          "base_uri": "https://localhost:8080/",
          "height": 35
        },
        "outputId": "d0db8c90-0326-44e0-df28-215ddd115b55"
      },
      "cell_type": "code",
      "source": [
        "train_op"
      ],
      "execution_count": 16,
      "outputs": [
        {
          "output_type": "execute_result",
          "data": {
            "text/plain": [
              "<tf.Operation 'GradientDescent' type=NoOp>"
            ]
          },
          "metadata": {
            "tags": []
          },
          "execution_count": 16
        }
      ]
    },
    {
      "metadata": {
        "id": "x6kmB6vjatXU",
        "colab_type": "code",
        "colab": {}
      },
      "cell_type": "code",
      "source": [
        "# 러닝레이트는 학습을 얼마나 급하게 할 것인가\n",
        "# 학습 과정 중 영향을 주는 변수를 하이퍼 파라미터라 한다"
      ],
      "execution_count": 0,
      "outputs": []
    },
    {
      "metadata": {
        "id": "b5rRVWEsbkvL",
        "colab_type": "code",
        "colab": {}
      },
      "cell_type": "code",
      "source": [
        "# hypothesis = W*X +b # name:X\n",
        "# cost = tf.reduce_mean(tf.square(hypothesis - Y1)) # name:Y\n",
        "#x_data = [1,2,3]\n",
        "#y_data = [1,2,3]\n",
        "# optimizer = tf.train.GradientDescentOptimizer(learning_rate=0.1)\n",
        "# train_op = optimizer.minimize(cost)\n"
      ],
      "execution_count": 0,
      "outputs": []
    },
    {
      "metadata": {
        "id": "xtq5hyJaa4if",
        "colab_type": "code",
        "colab": {
          "base_uri": "https://localhost:8080/",
          "height": 1794
        },
        "outputId": "d6372d41-abfc-4863-c451-0c769311b103"
      },
      "cell_type": "code",
      "source": [
        "sess = tf.Session()\n",
        "sess.run(tf.global_variables_initializer())\n",
        "\n",
        "for step in range(100):\n",
        "  _, cost_val = sess.run([train_op, cost], feed_dict={X1:x_data, Y1:y_data})\n",
        "  print(step, cost_val, sess.run(W), sess.run(b))"
      ],
      "execution_count": 20,
      "outputs": [
        {
          "output_type": "stream",
          "text": [
            "0 0.03370587 [0.79271466] [0.47245282]\n",
            "1 0.031995136 [0.79719985] [0.46087638]\n",
            "2 0.030474022 [0.8021294] [0.44982114]\n",
            "3 0.029026471 [0.8068801] [0.43900514]\n",
            "4 0.027647698 [0.81152326] [0.42845204]\n",
            "5 0.02633443 [0.81605405] [0.41815233]\n",
            "6 0.02508354 [0.820476] [0.40810025]\n",
            "7 0.02389202 [0.8247916] [0.3982898]\n",
            "8 0.022757152 [0.8290036] [0.3887152]\n",
            "9 0.021676168 [0.83311415] [0.37937072]\n",
            "10 0.020646526 [0.837126] [0.3702509]\n",
            "11 0.019665804 [0.8410414] [0.36135033]\n",
            "12 0.018731667 [0.8448626] [0.3526637]\n",
            "13 0.017841874 [0.848592] [0.34418592]\n",
            "14 0.0169944 [0.8522318] [0.33591196]\n",
            "15 0.016187133 [0.855784] [0.32783684]\n",
            "16 0.015418243 [0.85925084] [0.3199559]\n",
            "17 0.01468587 [0.86263436] [0.31226435]\n",
            "18 0.013988278 [0.8659365] [0.30475774]\n",
            "19 0.013323818 [0.8691593] [0.2974316]\n",
            "20 0.012690931 [0.8723046] [0.29028153]\n",
            "21 0.012088113 [0.8753744] [0.28330338]\n",
            "22 0.011513907 [0.8783702] [0.27649292]\n",
            "23 0.0109669985 [0.8812942] [0.26984626]\n",
            "24 0.01044606 [0.88414776] [0.26335934]\n",
            "25 0.009949849 [0.8869328] [0.25702837]\n",
            "26 0.009477242 [0.8896508] [0.25084957]\n",
            "27 0.009027062 [0.8923036] [0.24481934]\n",
            "28 0.008598251 [0.89489245] [0.23893403]\n",
            "29 0.008189842 [0.8974192] [0.23319024]\n",
            "30 0.0078008217 [0.8998852] [0.2275845]\n",
            "31 0.0074302685 [0.90229183] [0.22211352]\n",
            "32 0.007077325 [0.9046407] [0.21677408]\n",
            "33 0.0067411573 [0.9069331] [0.211563]\n",
            "34 0.0064209383 [0.9091703] [0.20647714]\n",
            "35 0.0061159395 [0.9113538] [0.20151359]\n",
            "36 0.0058254283 [0.9134849] [0.19666936]\n",
            "37 0.0055487216 [0.91556454] [0.19194151]\n",
            "38 0.00528515 [0.9175944] [0.1873274]\n",
            "39 0.005034109 [0.91957533] [0.18282416]\n",
            "40 0.0047949716 [0.92150867] [0.1784292]\n",
            "41 0.0045672227 [0.92339563] [0.1741399]\n",
            "42 0.004350262 [0.92523706] [0.16995366]\n",
            "43 0.0041436343 [0.9270344] [0.16586812]\n",
            "44 0.003946805 [0.9287884] [0.16188075]\n",
            "45 0.0037593234 [0.93050027] [0.15798923]\n",
            "46 0.0035807544 [0.932171] [0.15419127]\n",
            "47 0.00341066 [0.93380153] [0.15048462]\n",
            "48 0.0032486643 [0.935393] [0.1468671]\n",
            "49 0.0030943425 [0.93694603] [0.14333649]\n",
            "50 0.0029473563 [0.9384618] [0.13989076]\n",
            "51 0.0028073594 [0.93994117] [0.13652791]\n",
            "52 0.0026740024 [0.94138485] [0.13324586]\n",
            "53 0.0025469854 [0.94279397] [0.13004273]\n",
            "54 0.0024259973 [0.9441691] [0.12691659]\n",
            "55 0.0023107643 [0.9455113] [0.12386563]\n",
            "56 0.0022010102 [0.94682115] [0.12088799]\n",
            "57 0.002096454 [0.94809955] [0.11798194]\n",
            "58 0.0019968774 [0.9493472] [0.11514573]\n",
            "59 0.0019020238 [0.95056486] [0.1123777]\n",
            "60 0.0018116707 [0.95175326] [0.10967623]\n",
            "61 0.001725616 [0.95291305] [0.10703968]\n",
            "62 0.0016436492 [0.954045] [0.10446653]\n",
            "63 0.0015655769 [0.95514977] [0.10195524]\n",
            "64 0.0014912087 [0.9562279] [0.09950428]\n",
            "65 0.0014203711 [0.95728016] [0.09711226]\n",
            "66 0.0013529081 [0.95830715] [0.09477776]\n",
            "67 0.0012886411 [0.9593094] [0.09249935]\n",
            "68 0.0012274295 [0.9602876] [0.09027572]\n",
            "69 0.0011691268 [0.9612422] [0.08810554]\n",
            "70 0.0011135935 [0.96217394] [0.08598756]\n",
            "71 0.0010606955 [0.9630832] [0.08392047]\n",
            "72 0.0010103103 [0.9639707] [0.08190311]\n",
            "73 0.0009623197 [0.9648368] [0.07993418]\n",
            "74 0.0009166125 [0.96568215] [0.07801264]\n",
            "75 0.00087306596 [0.966507] [0.07613724]\n",
            "76 0.00083159684 [0.9673122] [0.07430698]\n",
            "77 0.00079209916 [0.96809804] [0.07252071]\n",
            "78 0.00075447466 [0.9688649] [0.07077736]\n",
            "79 0.00071863557 [0.9696134] [0.0690759]\n",
            "80 0.00068449875 [0.9703439] [0.06741537]\n",
            "81 0.000651983 [0.97105676] [0.06579473]\n",
            "82 0.0006210154 [0.9717525] [0.06421307]\n",
            "83 0.0005915171 [0.97243166] [0.06266946]\n",
            "84 0.0005634192 [0.9730943] [0.06116289]\n",
            "85 0.00053665374 [0.9737411] [0.0596926]\n",
            "86 0.0005111619 [0.9743724] [0.05825763]\n",
            "87 0.00048688267 [0.97498846] [0.05685716]\n",
            "88 0.00046375536 [0.9755897] [0.05549036]\n",
            "89 0.00044172863 [0.97617656] [0.05415642]\n",
            "90 0.0004207445 [0.97674924] [0.05285452]\n",
            "91 0.00040075704 [0.97730815] [0.05158392]\n",
            "92 0.0003817228 [0.97785366] [0.05034387]\n",
            "93 0.000363591 [0.978386] [0.04913363]\n",
            "94 0.00034631975 [0.9789056] [0.04795251]\n",
            "95 0.0003298704 [0.97941273] [0.04679977]\n",
            "96 0.00031420114 [0.97990763] [0.04567474]\n",
            "97 0.00029927312 [0.98039055] [0.04457672]\n",
            "98 0.0002850611 [0.980862] [0.04350517]\n",
            "99 0.00027152084 [0.9813221] [0.04245933]\n"
          ],
          "name": "stdout"
        }
      ]
    },
    {
      "metadata": {
        "id": "bHJ6jHQ2cLI6",
        "colab_type": "code",
        "colab": {
          "base_uri": "https://localhost:8080/",
          "height": 34
        },
        "outputId": "24db882a-4494-48b5-ccb9-7992eb2db221"
      },
      "cell_type": "code",
      "source": [
        "print('X1:5, Y1:', sess.run(hypothesis, feed_dict={X1:5}))"
      ],
      "execution_count": 21,
      "outputs": [
        {
          "output_type": "stream",
          "text": [
            "X1:5, Y1: [4.94907]\n"
          ],
          "name": "stdout"
        }
      ]
    },
    {
      "metadata": {
        "id": "7wCbffylcrw0",
        "colab_type": "code",
        "colab": {}
      },
      "cell_type": "code",
      "source": [
        ""
      ],
      "execution_count": 0,
      "outputs": []
    }
  ]
}