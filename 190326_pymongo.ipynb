{
 "cells": [
  {
   "cell_type": "markdown",
   "metadata": {},
   "source": [
    "![image](https://user-images.githubusercontent.com/42320146/54971010-df99de00-4fc7-11e9-9b57-8e553be05df2.png)\n"
   ]
  },
  {
   "cell_type": "markdown",
   "metadata": {},
   "source": [
    "## 02. PyMongo 활용 MongoDB 연결"
   ]
  },
  {
   "cell_type": "code",
   "execution_count": 2,
   "metadata": {},
   "outputs": [],
   "source": [
    "import pymongo # 불러오기"
   ]
  },
  {
   "cell_type": "code",
   "execution_count": 3,
   "metadata": {},
   "outputs": [],
   "source": [
    "client = pymongo.MongoClient(\"localhost\", 27017) # 연결하기"
   ]
  },
  {
   "cell_type": "markdown",
   "metadata": {},
   "source": [
    "## 03. DB 생성 및 확인"
   ]
  },
  {
   "cell_type": "code",
   "execution_count": 12,
   "metadata": {},
   "outputs": [
    {
     "name": "stderr",
     "output_type": "stream",
     "text": [
      "C:\\ProgramData\\Anaconda3\\lib\\site-packages\\ipykernel_launcher.py:1: DeprecationWarning: database_names is deprecated. Use list_database_names instead.\n",
      "  \"\"\"Entry point for launching an IPython kernel.\n"
     ]
    },
    {
     "data": {
      "text/plain": [
       "['admin', 'config', 'local', 'test']"
      ]
     },
     "execution_count": 12,
     "metadata": {},
     "output_type": "execute_result"
    }
   ],
   "source": [
    "client.database_names() # DB 확인"
   ]
  },
  {
   "cell_type": "code",
   "execution_count": 5,
   "metadata": {},
   "outputs": [],
   "source": [
    "db = client.test # test 라는 db 생성 있으면 실행"
   ]
  },
  {
   "cell_type": "code",
   "execution_count": 6,
   "metadata": {},
   "outputs": [
    {
     "data": {
      "text/plain": [
       "Collection(Database(MongoClient(host=['localhost:27017'], document_class=dict, tz_aware=False, connect=True), 'test'), 'items')"
      ]
     },
     "execution_count": 6,
     "metadata": {},
     "output_type": "execute_result"
    }
   ],
   "source": [
    "db_col = db.items # items 라는 collection 생성\n",
    "db_col"
   ]
  },
  {
   "cell_type": "code",
   "execution_count": 8,
   "metadata": {},
   "outputs": [
    {
     "name": "stderr",
     "output_type": "stream",
     "text": [
      "C:\\ProgramData\\Anaconda3\\lib\\site-packages\\ipykernel_launcher.py:7: DeprecationWarning: insert is deprecated. Use insert_one or insert_many instead.\n",
      "  import sys\n"
     ]
    },
    {
     "data": {
      "text/plain": [
       "ObjectId('5c99a681272438091828aad4')"
      ]
     },
     "execution_count": 8,
     "metadata": {},
     "output_type": "execute_result"
    }
   ],
   "source": [
    "### 데이터 삽입(data insert)\n",
    "data ={\n",
    "    \"name\":'cola',\n",
    "    'pty':5,\n",
    "    'price':500\n",
    "}\n",
    "db_col.insert(data) # items에 데이터 넣기"
   ]
  },
  {
   "cell_type": "markdown",
   "metadata": {},
   "source": [
    "## 04. 데이터 확인"
   ]
  },
  {
   "cell_type": "code",
   "execution_count": 9,
   "metadata": {},
   "outputs": [
    {
     "name": "stdout",
     "output_type": "stream",
     "text": [
      "['admin', 'config', 'local', 'test']\n"
     ]
    },
    {
     "name": "stderr",
     "output_type": "stream",
     "text": [
      "C:\\ProgramData\\Anaconda3\\lib\\site-packages\\ipykernel_launcher.py:1: DeprecationWarning: database_names is deprecated. Use list_database_names instead.\n",
      "  \"\"\"Entry point for launching an IPython kernel.\n"
     ]
    }
   ],
   "source": [
    "print(client.database_names()) # DB 확인"
   ]
  },
  {
   "cell_type": "code",
   "execution_count": 10,
   "metadata": {},
   "outputs": [
    {
     "name": "stdout",
     "output_type": "stream",
     "text": [
      "{'_id': ObjectId('5c99a681272438091828aad4'), 'name': 'cola', 'pty': 5, 'price': 500}\n"
     ]
    }
   ],
   "source": [
    "cursor = db_col.find()\n",
    "for doc in cursor:\n",
    "    print(doc)"
   ]
  },
  {
   "cell_type": "markdown",
   "metadata": {},
   "source": [
    "## practice"
   ]
  },
  {
   "cell_type": "code",
   "execution_count": 11,
   "metadata": {},
   "outputs": [],
   "source": [
    "# games라는 db 생성\n",
    "# 콜렉션명은 diablo\n",
    "# game:[게임명] heros:[영웅] userNum:[사용유저수] 데이터 3개\n",
    "# 데이터 확인하는 py프로그램 작성"
   ]
  },
  {
   "cell_type": "code",
   "execution_count": 13,
   "metadata": {},
   "outputs": [
    {
     "data": {
      "text/plain": [
       "Database(MongoClient(host=['localhost:27017'], document_class=dict, tz_aware=False, connect=True), 'games')"
      ]
     },
     "execution_count": 13,
     "metadata": {},
     "output_type": "execute_result"
    }
   ],
   "source": [
    "db = client.games # games 라는 db\n",
    "db"
   ]
  },
  {
   "cell_type": "code",
   "execution_count": 15,
   "metadata": {},
   "outputs": [
    {
     "data": {
      "text/plain": [
       "Collection(Database(MongoClient(host=['localhost:27017'], document_class=dict, tz_aware=False, connect=True), 'games'), 'blizard')"
      ]
     },
     "execution_count": 15,
     "metadata": {},
     "output_type": "execute_result"
    }
   ],
   "source": [
    "db_col = db.blizard # blizard 라는 콜렉션\n",
    "db_col"
   ]
  },
  {
   "cell_type": "code",
   "execution_count": 16,
   "metadata": {},
   "outputs": [
    {
     "name": "stderr",
     "output_type": "stream",
     "text": [
      "C:\\ProgramData\\Anaconda3\\lib\\site-packages\\ipykernel_launcher.py:19: DeprecationWarning: insert is deprecated. Use insert_one or insert_many instead.\n",
      "C:\\ProgramData\\Anaconda3\\lib\\site-packages\\ipykernel_launcher.py:20: DeprecationWarning: insert is deprecated. Use insert_one or insert_many instead.\n",
      "C:\\ProgramData\\Anaconda3\\lib\\site-packages\\ipykernel_launcher.py:21: DeprecationWarning: insert is deprecated. Use insert_one or insert_many instead.\n"
     ]
    },
    {
     "data": {
      "text/plain": [
       "ObjectId('5c99aa04272438091828aad7')"
      ]
     },
     "execution_count": 16,
     "metadata": {},
     "output_type": "execute_result"
    }
   ],
   "source": [
    "### 데이터 삽입\n",
    "data1 = {\n",
    "    'games': 'diablo',\n",
    "    'heros' : 'amazon, babarian',\n",
    "    'userNum' : '3000000'\n",
    "}\n",
    "\n",
    "data2 = {\n",
    "    'games': 'hios',\n",
    "    'heros' : 'guldan',\n",
    "    'userNum' : '1000000'\n",
    "}\n",
    "\n",
    "data3 = {\n",
    "    'games': 'star',\n",
    "    'heros' : 'marin',\n",
    "    'userNum' : '2000000'\n",
    "}\n",
    "db_col.insert(data1)\n",
    "db_col.insert(data2)\n",
    "db_col.insert(data3)"
   ]
  },
  {
   "cell_type": "code",
   "execution_count": 18,
   "metadata": {},
   "outputs": [
    {
     "name": "stdout",
     "output_type": "stream",
     "text": [
      "['admin', 'config', 'games', 'local', 'test']\n"
     ]
    },
    {
     "name": "stderr",
     "output_type": "stream",
     "text": [
      "C:\\ProgramData\\Anaconda3\\lib\\site-packages\\ipykernel_launcher.py:1: DeprecationWarning: database_names is deprecated. Use list_database_names instead.\n",
      "  \"\"\"Entry point for launching an IPython kernel.\n"
     ]
    }
   ],
   "source": [
    "print(client.database_names())"
   ]
  },
  {
   "cell_type": "code",
   "execution_count": 19,
   "metadata": {},
   "outputs": [],
   "source": [
    "# DB > collections > doctuments > key & value"
   ]
  },
  {
   "cell_type": "code",
   "execution_count": 20,
   "metadata": {},
   "outputs": [
    {
     "name": "stdout",
     "output_type": "stream",
     "text": [
      "{'_id': ObjectId('5c99aa04272438091828aad5'), 'games': 'diablo', 'heros': 'amazon, babarian', 'userNum': '3000000'}\n",
      "{'_id': ObjectId('5c99aa04272438091828aad6'), 'games': 'hios', 'heros': 'guldan', 'userNum': '1000000'}\n",
      "{'_id': ObjectId('5c99aa04272438091828aad7'), 'games': 'star', 'heros': 'marin', 'userNum': '2000000'}\n"
     ]
    }
   ],
   "source": [
    "cursor = db_col.find()\n",
    "for doc in cursor:\n",
    "    print(doc)"
   ]
  },
  {
   "cell_type": "markdown",
   "metadata": {},
   "source": [
    "## REF "
   ]
  },
  {
   "cell_type": "markdown",
   "metadata": {},
   "source": [
    "### for문을 활용한 insert"
   ]
  },
  {
   "cell_type": "code",
   "execution_count": 23,
   "metadata": {},
   "outputs": [
    {
     "name": "stdout",
     "output_type": "stream",
     "text": [
      "{'_id': ObjectId('5c99a681272438091828aad4'), 'name': 'cola', 'pty': 5, 'price': 500}\n",
      "{'_id': ObjectId('5c99ac14272438091828aad8'), 'name': 'cola0', 'num': 5, 'price': 0}\n",
      "{'_id': ObjectId('5c99ac14272438091828aad9'), 'name': 'cola1', 'num': 5, 'price': 500}\n",
      "{'_id': ObjectId('5c99ac14272438091828aada'), 'name': 'cola2', 'num': 5, 'price': 1000}\n",
      "{'_id': ObjectId('5c99ac14272438091828aadb'), 'name': 'cola3', 'num': 5, 'price': 1500}\n",
      "{'_id': ObjectId('5c99ac14272438091828aadc'), 'name': 'cola4', 'num': 5, 'price': 2000}\n",
      "{'_id': ObjectId('5c99ac2e272438091828aadd'), 'name': 'cola0', 'num': 5, 'price': 0}\n",
      "{'_id': ObjectId('5c99ac2e272438091828aade'), 'name': 'cola1', 'num': 5, 'price': 500}\n",
      "{'_id': ObjectId('5c99ac2e272438091828aadf'), 'name': 'cola2', 'num': 5, 'price': 1000}\n",
      "{'_id': ObjectId('5c99ac2e272438091828aae0'), 'name': 'cola3', 'num': 5, 'price': 1500}\n",
      "{'_id': ObjectId('5c99ac2e272438091828aae1'), 'name': 'cola4', 'num': 5, 'price': 2000}\n"
     ]
    },
    {
     "name": "stderr",
     "output_type": "stream",
     "text": [
      "C:\\ProgramData\\Anaconda3\\lib\\site-packages\\ipykernel_launcher.py:11: DeprecationWarning: insert is deprecated. Use insert_one or insert_many instead.\n",
      "  # This is added back by InteractiveShellApp.init_path()\n"
     ]
    }
   ],
   "source": [
    "db = client.test # test라는 db\n",
    "db_col = db.items # items 라는 collection\n",
    "\n",
    "# 데이터 삽입\n",
    "for i in range(5):\n",
    "    data = {\n",
    "        'name':'cola' + str(i),\n",
    "        'num':5,\n",
    "        'price':500*i\n",
    "    }\n",
    "    db_col.insert(data)\n",
    "    \n",
    "# 데이터 확인\n",
    "cursor = db_col.find()\n",
    "for doc in cursor:\n",
    "    print(doc)"
   ]
  },
  {
   "cell_type": "code",
   "execution_count": 24,
   "metadata": {},
   "outputs": [
    {
     "name": "stderr",
     "output_type": "stream",
     "text": [
      "C:\\ProgramData\\Anaconda3\\lib\\site-packages\\ipykernel_launcher.py:1: DeprecationWarning: count is deprecated. Use estimated_document_count or count_documents instead. Please note that $where must be replaced by $expr, $near must be replaced by $geoWithin with $center, and $nearSphere must be replaced by $geoWithin with $centerSphere\n",
      "  \"\"\"Entry point for launching an IPython kernel.\n"
     ]
    },
    {
     "data": {
      "text/plain": [
       "11"
      ]
     },
     "execution_count": 24,
     "metadata": {},
     "output_type": "execute_result"
    }
   ],
   "source": [
    "db_col.count()"
   ]
  },
  {
   "cell_type": "markdown",
   "metadata": {},
   "source": [
    "### 조건절"
   ]
  },
  {
   "cell_type": "code",
   "execution_count": 25,
   "metadata": {},
   "outputs": [
    {
     "name": "stdout",
     "output_type": "stream",
     "text": [
      "{'_id': ObjectId('5c99ac14272438091828aadb'), 'name': 'cola3', 'num': 5, 'price': 1500}\n",
      "{'_id': ObjectId('5c99ac2e272438091828aae0'), 'name': 'cola3', 'num': 5, 'price': 1500}\n"
     ]
    }
   ],
   "source": [
    "for post in db_col.find({'name':'cola3'}):\n",
    "    print(post)"
   ]
  },
  {
   "cell_type": "markdown",
   "metadata": {},
   "source": [
    "#### price 가 150보다 큰 데이터"
   ]
  },
  {
   "cell_type": "code",
   "execution_count": 36,
   "metadata": {},
   "outputs": [
    {
     "name": "stdout",
     "output_type": "stream",
     "text": [
      "{'_id': ObjectId('5c99a681272438091828aad4'), 'name': 'cola', 'pty': 5, 'price': 500}\n",
      "{'_id': ObjectId('5c99ac14272438091828aad9'), 'name': 'cola1', 'num': 5, 'price': 500}\n",
      "{'_id': ObjectId('5c99ac14272438091828aada'), 'name': 'cola2', 'num': 5, 'price': 1000}\n",
      "{'_id': ObjectId('5c99ac14272438091828aadb'), 'name': 'cola3', 'num': 5, 'price': 1500}\n",
      "{'_id': ObjectId('5c99ac14272438091828aadc'), 'name': 'cola4', 'num': 5, 'price': 2000}\n",
      "{'_id': ObjectId('5c99ac2e272438091828aade'), 'name': 'cola1', 'num': 5, 'price': 500}\n",
      "{'_id': ObjectId('5c99ac2e272438091828aadf'), 'name': 'cola2', 'num': 5, 'price': 1000}\n",
      "{'_id': ObjectId('5c99ac2e272438091828aae0'), 'name': 'cola3', 'num': 5, 'price': 1500}\n",
      "{'_id': ObjectId('5c99ac2e272438091828aae1'), 'name': 'cola4', 'num': 5, 'price': 2000}\n",
      "{'_id': 1, 'name': 'cola1', 'num': 5, 'price': 500}\n",
      "{'_id': 2, 'name': 'cola2', 'num': 5, 'price': 1000}\n",
      "{'_id': 3, 'name': 'cola3', 'num': 5, 'price': 1500}\n",
      "{'_id': 4, 'name': 'cola4', 'num': 5, 'price': 2000}\n"
     ]
    }
   ],
   "source": [
    "for post in db_col.find({'price':{'$gt':150}}):\n",
    "    print(post)"
   ]
  },
  {
   "cell_type": "code",
   "execution_count": 41,
   "metadata": {},
   "outputs": [],
   "source": [
    "cursor = db_col.find({\"price\":{'$gt':50, '$lt':250}})\n",
    "for post in cursor:\n",
    "    print(post)"
   ]
  },
  {
   "cell_type": "markdown",
   "metadata": {},
   "source": [
    "# 정렬"
   ]
  },
  {
   "cell_type": "code",
   "execution_count": 29,
   "metadata": {},
   "outputs": [
    {
     "name": "stdout",
     "output_type": "stream",
     "text": [
      "{'_id': ObjectId('5c99a681272438091828aad4'), 'name': 'cola', 'pty': 5, 'price': 500}\n",
      "{'_id': ObjectId('5c99ac14272438091828aad8'), 'name': 'cola0', 'num': 5, 'price': 0}\n",
      "{'_id': ObjectId('5c99ac2e272438091828aadd'), 'name': 'cola0', 'num': 5, 'price': 0}\n",
      "{'_id': ObjectId('5c99ac14272438091828aad9'), 'name': 'cola1', 'num': 5, 'price': 500}\n",
      "{'_id': ObjectId('5c99ac2e272438091828aade'), 'name': 'cola1', 'num': 5, 'price': 500}\n",
      "{'_id': ObjectId('5c99ac14272438091828aada'), 'name': 'cola2', 'num': 5, 'price': 1000}\n",
      "{'_id': ObjectId('5c99ac2e272438091828aadf'), 'name': 'cola2', 'num': 5, 'price': 1000}\n",
      "{'_id': ObjectId('5c99ac14272438091828aadb'), 'name': 'cola3', 'num': 5, 'price': 1500}\n",
      "{'_id': ObjectId('5c99ac2e272438091828aae0'), 'name': 'cola3', 'num': 5, 'price': 1500}\n",
      "{'_id': ObjectId('5c99ac14272438091828aadc'), 'name': 'cola4', 'num': 5, 'price': 2000}\n",
      "{'_id': ObjectId('5c99ac2e272438091828aae1'), 'name': 'cola4', 'num': 5, 'price': 2000}\n"
     ]
    }
   ],
   "source": [
    "cursor = db_col.find().sort('name')\n",
    "for post in cursor:\n",
    "    print(post)"
   ]
  },
  {
   "cell_type": "code",
   "execution_count": 31,
   "metadata": {},
   "outputs": [
    {
     "name": "stdout",
     "output_type": "stream",
     "text": [
      "{'_id': ObjectId('5c99a681272438091828aad4'), 'name': 'cola', 'pty': 5, 'price': 500}\n",
      "{'_id': ObjectId('5c99ac14272438091828aad8'), 'name': 'cola0', 'num': 5, 'price': 0}\n",
      "{'_id': ObjectId('5c99ac2e272438091828aadd'), 'name': 'cola0', 'num': 5, 'price': 0}\n",
      "{'_id': ObjectId('5c99ac14272438091828aad9'), 'name': 'cola1', 'num': 5, 'price': 500}\n",
      "{'_id': ObjectId('5c99ac2e272438091828aade'), 'name': 'cola1', 'num': 5, 'price': 500}\n"
     ]
    }
   ],
   "source": [
    "cursor = db_col.find().sort('name').limit(5)\n",
    "for post in cursor:\n",
    "    print(post)"
   ]
  },
  {
   "cell_type": "code",
   "execution_count": 33,
   "metadata": {},
   "outputs": [
    {
     "name": "stdout",
     "output_type": "stream",
     "text": [
      "{'_id': ObjectId('5c99a681272438091828aad4'), 'name': 'cola', 'pty': 5, 'price': 500}\n",
      "{'_id': ObjectId('5c99ac14272438091828aad8'), 'name': 'cola0', 'num': 5, 'price': 0}\n",
      "{'_id': ObjectId('5c99ac14272438091828aad9'), 'name': 'cola1', 'num': 5, 'price': 500}\n",
      "{'_id': ObjectId('5c99ac14272438091828aada'), 'name': 'cola2', 'num': 5, 'price': 1000}\n",
      "{'_id': ObjectId('5c99ac14272438091828aadb'), 'name': 'cola3', 'num': 5, 'price': 1500}\n",
      "{'_id': ObjectId('5c99ac14272438091828aadc'), 'name': 'cola4', 'num': 5, 'price': 2000}\n",
      "{'_id': ObjectId('5c99ac2e272438091828aadd'), 'name': 'cola0', 'num': 5, 'price': 0}\n",
      "{'_id': ObjectId('5c99ac2e272438091828aade'), 'name': 'cola1', 'num': 5, 'price': 500}\n",
      "{'_id': ObjectId('5c99ac2e272438091828aadf'), 'name': 'cola2', 'num': 5, 'price': 1000}\n",
      "{'_id': ObjectId('5c99ac2e272438091828aae0'), 'name': 'cola3', 'num': 5, 'price': 1500}\n",
      "{'_id': ObjectId('5c99ac2e272438091828aae1'), 'name': 'cola4', 'num': 5, 'price': 2000}\n",
      "{'_id': 0, 'name': 'cola0', 'num': 5, 'price': 0}\n",
      "{'_id': 1, 'name': 'cola1', 'num': 5, 'price': 500}\n",
      "{'_id': 2, 'name': 'cola2', 'num': 5, 'price': 1000}\n",
      "{'_id': 3, 'name': 'cola3', 'num': 5, 'price': 1500}\n",
      "{'_id': 4, 'name': 'cola4', 'num': 5, 'price': 2000}\n"
     ]
    },
    {
     "name": "stderr",
     "output_type": "stream",
     "text": [
      "C:\\ProgramData\\Anaconda3\\lib\\site-packages\\ipykernel_launcher.py:12: DeprecationWarning: insert is deprecated. Use insert_one or insert_many instead.\n",
      "  if sys.path[0] == '':\n"
     ]
    }
   ],
   "source": [
    "db = client.test # test라는 db\n",
    "db_col = db.items # items 라는 collection\n",
    "\n",
    "# 데이터 삽입\n",
    "for i in range(5):\n",
    "    data = {\n",
    "        '_id':i,\n",
    "        'name':'cola' + str(i),\n",
    "        'num':5,\n",
    "        'price':500*i\n",
    "    }\n",
    "    db_col.insert(data)\n",
    "    \n",
    "# 데이터 확인\n",
    "cursor = db_col.find()\n",
    "for doc in cursor:\n",
    "    print(doc)"
   ]
  },
  {
   "cell_type": "code",
   "execution_count": 35,
   "metadata": {},
   "outputs": [],
   "source": [
    "# id는 중복되면 안됨."
   ]
  },
  {
   "cell_type": "code",
   "execution_count": 34,
   "metadata": {},
   "outputs": [
    {
     "name": "stderr",
     "output_type": "stream",
     "text": [
      "C:\\ProgramData\\Anaconda3\\lib\\site-packages\\ipykernel_launcher.py:12: DeprecationWarning: insert is deprecated. Use insert_one or insert_many instead.\n",
      "  if sys.path[0] == '':\n"
     ]
    },
    {
     "ename": "DuplicateKeyError",
     "evalue": "E11000 duplicate key error collection: test.items index: _id_ dup key: { : 0 }",
     "output_type": "error",
     "traceback": [
      "\u001b[1;31m---------------------------------------------------------------------------\u001b[0m",
      "\u001b[1;31mDuplicateKeyError\u001b[0m                         Traceback (most recent call last)",
      "\u001b[1;32m<ipython-input-34-53429fbd88ed>\u001b[0m in \u001b[0;36m<module>\u001b[1;34m()\u001b[0m\n\u001b[0;32m     10\u001b[0m         \u001b[1;34m'price'\u001b[0m\u001b[1;33m:\u001b[0m\u001b[1;36m500\u001b[0m\u001b[1;33m*\u001b[0m\u001b[0mi\u001b[0m\u001b[1;33m\u001b[0m\u001b[0m\n\u001b[0;32m     11\u001b[0m     }\n\u001b[1;32m---> 12\u001b[1;33m     \u001b[0mdb_col\u001b[0m\u001b[1;33m.\u001b[0m\u001b[0minsert\u001b[0m\u001b[1;33m(\u001b[0m\u001b[0mdata\u001b[0m\u001b[1;33m)\u001b[0m\u001b[1;33m\u001b[0m\u001b[0m\n\u001b[0m\u001b[0;32m     13\u001b[0m \u001b[1;33m\u001b[0m\u001b[0m\n\u001b[0;32m     14\u001b[0m \u001b[1;31m# 데이터 확인\u001b[0m\u001b[1;33m\u001b[0m\u001b[1;33m\u001b[0m\u001b[0m\n",
      "\u001b[1;32mC:\\ProgramData\\Anaconda3\\lib\\site-packages\\pymongo\\collection.py\u001b[0m in \u001b[0;36minsert\u001b[1;34m(self, doc_or_docs, manipulate, check_keys, continue_on_error, **kwargs)\u001b[0m\n\u001b[0;32m   3159\u001b[0m             \u001b[0mwrite_concern\u001b[0m \u001b[1;33m=\u001b[0m \u001b[0mWriteConcern\u001b[0m\u001b[1;33m(\u001b[0m\u001b[1;33m**\u001b[0m\u001b[0mkwargs\u001b[0m\u001b[1;33m)\u001b[0m\u001b[1;33m\u001b[0m\u001b[0m\n\u001b[0;32m   3160\u001b[0m         return self._insert(doc_or_docs, not continue_on_error,\n\u001b[1;32m-> 3161\u001b[1;33m                             check_keys, manipulate, write_concern)\n\u001b[0m\u001b[0;32m   3162\u001b[0m \u001b[1;33m\u001b[0m\u001b[0m\n\u001b[0;32m   3163\u001b[0m     def update(self, spec, document, upsert=False, manipulate=False,\n",
      "\u001b[1;32mC:\\ProgramData\\Anaconda3\\lib\\site-packages\\pymongo\\collection.py\u001b[0m in \u001b[0;36m_insert\u001b[1;34m(self, docs, ordered, check_keys, manipulate, write_concern, op_id, bypass_doc_val, session)\u001b[0m\n\u001b[0;32m    605\u001b[0m             return self._insert_one(\n\u001b[0;32m    606\u001b[0m                 \u001b[0mdocs\u001b[0m\u001b[1;33m,\u001b[0m \u001b[0mordered\u001b[0m\u001b[1;33m,\u001b[0m \u001b[0mcheck_keys\u001b[0m\u001b[1;33m,\u001b[0m \u001b[0mmanipulate\u001b[0m\u001b[1;33m,\u001b[0m \u001b[0mwrite_concern\u001b[0m\u001b[1;33m,\u001b[0m \u001b[0mop_id\u001b[0m\u001b[1;33m,\u001b[0m\u001b[1;33m\u001b[0m\u001b[0m\n\u001b[1;32m--> 607\u001b[1;33m                 bypass_doc_val, session)\n\u001b[0m\u001b[0;32m    608\u001b[0m \u001b[1;33m\u001b[0m\u001b[0m\n\u001b[0;32m    609\u001b[0m         \u001b[0mids\u001b[0m \u001b[1;33m=\u001b[0m \u001b[1;33m[\u001b[0m\u001b[1;33m]\u001b[0m\u001b[1;33m\u001b[0m\u001b[0m\n",
      "\u001b[1;32mC:\\ProgramData\\Anaconda3\\lib\\site-packages\\pymongo\\collection.py\u001b[0m in \u001b[0;36m_insert_one\u001b[1;34m(self, doc, ordered, check_keys, manipulate, write_concern, op_id, bypass_doc_val, session)\u001b[0m\n\u001b[0;32m    593\u001b[0m \u001b[1;33m\u001b[0m\u001b[0m\n\u001b[0;32m    594\u001b[0m         self.__database.client._retryable_write(\n\u001b[1;32m--> 595\u001b[1;33m             acknowledged, _insert_command, session)\n\u001b[0m\u001b[0;32m    596\u001b[0m \u001b[1;33m\u001b[0m\u001b[0m\n\u001b[0;32m    597\u001b[0m         \u001b[1;32mif\u001b[0m \u001b[1;32mnot\u001b[0m \u001b[0misinstance\u001b[0m\u001b[1;33m(\u001b[0m\u001b[0mdoc\u001b[0m\u001b[1;33m,\u001b[0m \u001b[0mRawBSONDocument\u001b[0m\u001b[1;33m)\u001b[0m\u001b[1;33m:\u001b[0m\u001b[1;33m\u001b[0m\u001b[0m\n",
      "\u001b[1;32mC:\\ProgramData\\Anaconda3\\lib\\site-packages\\pymongo\\mongo_client.py\u001b[0m in \u001b[0;36m_retryable_write\u001b[1;34m(self, retryable, func, session)\u001b[0m\n\u001b[0;32m   1246\u001b[0m         \u001b[1;34m\"\"\"Internal retryable write helper.\"\"\"\u001b[0m\u001b[1;33m\u001b[0m\u001b[0m\n\u001b[0;32m   1247\u001b[0m         \u001b[1;32mwith\u001b[0m \u001b[0mself\u001b[0m\u001b[1;33m.\u001b[0m\u001b[0m_tmp_session\u001b[0m\u001b[1;33m(\u001b[0m\u001b[0msession\u001b[0m\u001b[1;33m)\u001b[0m \u001b[1;32mas\u001b[0m \u001b[0ms\u001b[0m\u001b[1;33m:\u001b[0m\u001b[1;33m\u001b[0m\u001b[0m\n\u001b[1;32m-> 1248\u001b[1;33m             \u001b[1;32mreturn\u001b[0m \u001b[0mself\u001b[0m\u001b[1;33m.\u001b[0m\u001b[0m_retry_with_session\u001b[0m\u001b[1;33m(\u001b[0m\u001b[0mretryable\u001b[0m\u001b[1;33m,\u001b[0m \u001b[0mfunc\u001b[0m\u001b[1;33m,\u001b[0m \u001b[0ms\u001b[0m\u001b[1;33m,\u001b[0m \u001b[1;32mNone\u001b[0m\u001b[1;33m)\u001b[0m\u001b[1;33m\u001b[0m\u001b[0m\n\u001b[0m\u001b[0;32m   1249\u001b[0m \u001b[1;33m\u001b[0m\u001b[0m\n\u001b[0;32m   1250\u001b[0m     \u001b[1;32mdef\u001b[0m \u001b[0m__reset_server\u001b[0m\u001b[1;33m(\u001b[0m\u001b[0mself\u001b[0m\u001b[1;33m,\u001b[0m \u001b[0maddress\u001b[0m\u001b[1;33m)\u001b[0m\u001b[1;33m:\u001b[0m\u001b[1;33m\u001b[0m\u001b[0m\n",
      "\u001b[1;32mC:\\ProgramData\\Anaconda3\\lib\\site-packages\\pymongo\\mongo_client.py\u001b[0m in \u001b[0;36m_retry_with_session\u001b[1;34m(self, retryable, func, session, bulk)\u001b[0m\n\u001b[0;32m   1199\u001b[0m                             \u001b[1;32mraise\u001b[0m \u001b[0mlast_error\u001b[0m\u001b[1;33m\u001b[0m\u001b[0m\n\u001b[0;32m   1200\u001b[0m                         \u001b[0mretryable\u001b[0m \u001b[1;33m=\u001b[0m \u001b[1;32mFalse\u001b[0m\u001b[1;33m\u001b[0m\u001b[0m\n\u001b[1;32m-> 1201\u001b[1;33m                     \u001b[1;32mreturn\u001b[0m \u001b[0mfunc\u001b[0m\u001b[1;33m(\u001b[0m\u001b[0msession\u001b[0m\u001b[1;33m,\u001b[0m \u001b[0msock_info\u001b[0m\u001b[1;33m,\u001b[0m \u001b[0mretryable\u001b[0m\u001b[1;33m)\u001b[0m\u001b[1;33m\u001b[0m\u001b[0m\n\u001b[0m\u001b[0;32m   1202\u001b[0m             \u001b[1;32mexcept\u001b[0m \u001b[0mServerSelectionTimeoutError\u001b[0m\u001b[1;33m:\u001b[0m\u001b[1;33m\u001b[0m\u001b[0m\n\u001b[0;32m   1203\u001b[0m                 \u001b[1;32mif\u001b[0m \u001b[0mis_retrying\u001b[0m\u001b[1;33m(\u001b[0m\u001b[1;33m)\u001b[0m\u001b[1;33m:\u001b[0m\u001b[1;33m\u001b[0m\u001b[0m\n",
      "\u001b[1;32mC:\\ProgramData\\Anaconda3\\lib\\site-packages\\pymongo\\collection.py\u001b[0m in \u001b[0;36m_insert_command\u001b[1;34m(session, sock_info, retryable_write)\u001b[0m\n\u001b[0;32m    590\u001b[0m                 retryable_write=retryable_write)\n\u001b[0;32m    591\u001b[0m \u001b[1;33m\u001b[0m\u001b[0m\n\u001b[1;32m--> 592\u001b[1;33m             \u001b[0m_check_write_command_response\u001b[0m\u001b[1;33m(\u001b[0m\u001b[0mresult\u001b[0m\u001b[1;33m)\u001b[0m\u001b[1;33m\u001b[0m\u001b[0m\n\u001b[0m\u001b[0;32m    593\u001b[0m \u001b[1;33m\u001b[0m\u001b[0m\n\u001b[0;32m    594\u001b[0m         self.__database.client._retryable_write(\n",
      "\u001b[1;32mC:\\ProgramData\\Anaconda3\\lib\\site-packages\\pymongo\\helpers.py\u001b[0m in \u001b[0;36m_check_write_command_response\u001b[1;34m(result)\u001b[0m\n\u001b[0;32m    215\u001b[0m     \u001b[0mwrite_errors\u001b[0m \u001b[1;33m=\u001b[0m \u001b[0mresult\u001b[0m\u001b[1;33m.\u001b[0m\u001b[0mget\u001b[0m\u001b[1;33m(\u001b[0m\u001b[1;34m\"writeErrors\"\u001b[0m\u001b[1;33m)\u001b[0m\u001b[1;33m\u001b[0m\u001b[0m\n\u001b[0;32m    216\u001b[0m     \u001b[1;32mif\u001b[0m \u001b[0mwrite_errors\u001b[0m\u001b[1;33m:\u001b[0m\u001b[1;33m\u001b[0m\u001b[0m\n\u001b[1;32m--> 217\u001b[1;33m         \u001b[0m_raise_last_write_error\u001b[0m\u001b[1;33m(\u001b[0m\u001b[0mwrite_errors\u001b[0m\u001b[1;33m)\u001b[0m\u001b[1;33m\u001b[0m\u001b[0m\n\u001b[0m\u001b[0;32m    218\u001b[0m \u001b[1;33m\u001b[0m\u001b[0m\n\u001b[0;32m    219\u001b[0m     \u001b[0merror\u001b[0m \u001b[1;33m=\u001b[0m \u001b[0mresult\u001b[0m\u001b[1;33m.\u001b[0m\u001b[0mget\u001b[0m\u001b[1;33m(\u001b[0m\u001b[1;34m\"writeConcernError\"\u001b[0m\u001b[1;33m)\u001b[0m\u001b[1;33m\u001b[0m\u001b[0m\n",
      "\u001b[1;32mC:\\ProgramData\\Anaconda3\\lib\\site-packages\\pymongo\\helpers.py\u001b[0m in \u001b[0;36m_raise_last_write_error\u001b[1;34m(write_errors)\u001b[0m\n\u001b[0;32m    196\u001b[0m     \u001b[0merror\u001b[0m \u001b[1;33m=\u001b[0m \u001b[0mwrite_errors\u001b[0m\u001b[1;33m[\u001b[0m\u001b[1;33m-\u001b[0m\u001b[1;36m1\u001b[0m\u001b[1;33m]\u001b[0m\u001b[1;33m\u001b[0m\u001b[0m\n\u001b[0;32m    197\u001b[0m     \u001b[1;32mif\u001b[0m \u001b[0merror\u001b[0m\u001b[1;33m.\u001b[0m\u001b[0mget\u001b[0m\u001b[1;33m(\u001b[0m\u001b[1;34m\"code\"\u001b[0m\u001b[1;33m)\u001b[0m \u001b[1;33m==\u001b[0m \u001b[1;36m11000\u001b[0m\u001b[1;33m:\u001b[0m\u001b[1;33m\u001b[0m\u001b[0m\n\u001b[1;32m--> 198\u001b[1;33m         \u001b[1;32mraise\u001b[0m \u001b[0mDuplicateKeyError\u001b[0m\u001b[1;33m(\u001b[0m\u001b[0merror\u001b[0m\u001b[1;33m.\u001b[0m\u001b[0mget\u001b[0m\u001b[1;33m(\u001b[0m\u001b[1;34m\"errmsg\"\u001b[0m\u001b[1;33m)\u001b[0m\u001b[1;33m,\u001b[0m \u001b[1;36m11000\u001b[0m\u001b[1;33m,\u001b[0m \u001b[0merror\u001b[0m\u001b[1;33m)\u001b[0m\u001b[1;33m\u001b[0m\u001b[0m\n\u001b[0m\u001b[0;32m    199\u001b[0m     \u001b[1;32mraise\u001b[0m \u001b[0mWriteError\u001b[0m\u001b[1;33m(\u001b[0m\u001b[0merror\u001b[0m\u001b[1;33m.\u001b[0m\u001b[0mget\u001b[0m\u001b[1;33m(\u001b[0m\u001b[1;34m\"errmsg\"\u001b[0m\u001b[1;33m)\u001b[0m\u001b[1;33m,\u001b[0m \u001b[0merror\u001b[0m\u001b[1;33m.\u001b[0m\u001b[0mget\u001b[0m\u001b[1;33m(\u001b[0m\u001b[1;34m\"code\"\u001b[0m\u001b[1;33m)\u001b[0m\u001b[1;33m,\u001b[0m \u001b[0merror\u001b[0m\u001b[1;33m)\u001b[0m\u001b[1;33m\u001b[0m\u001b[0m\n\u001b[0;32m    200\u001b[0m \u001b[1;33m\u001b[0m\u001b[0m\n",
      "\u001b[1;31mDuplicateKeyError\u001b[0m: E11000 duplicate key error collection: test.items index: _id_ dup key: { : 0 }"
     ]
    }
   ],
   "source": [
    "db = client.test # test라는 db\n",
    "db_col = db.items # items 라는 collection\n",
    "\n",
    "# 데이터 삽입\n",
    "for i in range(5):\n",
    "    data = {\n",
    "        '_id':i,\n",
    "        'name':'cola' + str(i),\n",
    "        'num':5,\n",
    "        'price':500*i\n",
    "    }\n",
    "    db_col.insert(data)\n",
    "    \n",
    "# 데이터 확인\n",
    "cursor = db_col.find()\n",
    "for doc in cursor:\n",
    "    print(doc)"
   ]
  },
  {
   "cell_type": "code",
   "execution_count": null,
   "metadata": {},
   "outputs": [],
   "source": []
  }
 ],
 "metadata": {
  "kernelspec": {
   "display_name": "Python 3",
   "language": "python",
   "name": "python3"
  },
  "language_info": {
   "codemirror_mode": {
    "name": "ipython",
    "version": 3
   },
   "file_extension": ".py",
   "mimetype": "text/x-python",
   "name": "python",
   "nbconvert_exporter": "python",
   "pygments_lexer": "ipython3",
   "version": "3.6.5"
  }
 },
 "nbformat": 4,
 "nbformat_minor": 2
}
