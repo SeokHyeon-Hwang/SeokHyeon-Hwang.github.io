{
  "nbformat": 4,
  "nbformat_minor": 0,
  "metadata": {
    "colab": {
      "name": "190212_DL.ipynb",
      "version": "0.3.2",
      "provenance": [],
      "collapsed_sections": []
    },
    "kernelspec": {
      "name": "python3",
      "display_name": "Python 3"
    }
  },
  "cells": [
    {
      "metadata": {
        "id": "1KkEXozTE9-o",
        "colab_type": "text"
      },
      "cell_type": "markdown",
      "source": [
        "### 1-1 1차원 배열 간의 [10, 10], [3, 5] 의 행렬의 내적(dot)를 구해보자."
      ]
    },
    {
      "metadata": {
        "id": "9EaJ1OhqFIqO",
        "colab_type": "code",
        "colab": {}
      },
      "cell_type": "code",
      "source": [
        "import math\n",
        "import numpy as np"
      ],
      "execution_count": 0,
      "outputs": []
    },
    {
      "metadata": {
        "id": "pKVsJeVgFKHy",
        "colab_type": "code",
        "colab": {
          "base_uri": "https://localhost:8080/",
          "height": 35
        },
        "outputId": "02fb97e6-03e7-4c5f-f43e-0b51644479ad"
      },
      "cell_type": "code",
      "source": [
        "d = np.array([10, 10])\n",
        "e = np.array([3, 5])\n",
        "print(np.dot(d,e))"
      ],
      "execution_count": 2,
      "outputs": [
        {
          "output_type": "stream",
          "text": [
            "80\n"
          ],
          "name": "stdout"
        }
      ]
    },
    {
      "metadata": {
        "id": "rJzit8Z6FO3e",
        "colab_type": "text"
      },
      "cell_type": "markdown",
      "source": [
        "### 아래 행렬에 대한 연산을 numpy를 이용하여 계산해 보자."
      ]
    },
    {
      "metadata": {
        "id": "0RWJ91RaFSgW",
        "colab_type": "text"
      },
      "cell_type": "markdown",
      "source": [
        "#### (가) 2를 곱하기"
      ]
    },
    {
      "metadata": {
        "id": "RglpcdYoFUrB",
        "colab_type": "code",
        "colab": {
          "base_uri": "https://localhost:8080/",
          "height": 53
        },
        "outputId": "443f6c72-d7b3-4015-a559-becc51ed71de"
      },
      "cell_type": "code",
      "source": [
        "d = np.array([[5,3], [2, 1]])\n",
        "print(2*d)"
      ],
      "execution_count": 3,
      "outputs": [
        {
          "output_type": "stream",
          "text": [
            "[[10  6]\n",
            " [ 4  2]]\n"
          ],
          "name": "stdout"
        }
      ]
    },
    {
      "metadata": {
        "id": "XW36CtmeFV7H",
        "colab_type": "text"
      },
      "cell_type": "markdown",
      "source": [
        "#### (나) 행렬의 덧셈"
      ]
    },
    {
      "metadata": {
        "id": "KWoFLI5QFX6g",
        "colab_type": "code",
        "colab": {
          "base_uri": "https://localhost:8080/",
          "height": 53
        },
        "outputId": "0f294f35-a498-40fa-831d-52eddf4ef30c"
      },
      "cell_type": "code",
      "source": [
        "d = np.array([[5, 3], [2, 1]])\n",
        "e = np.array([[5, 3], [2, 1]])\n",
        "print(d+e)"
      ],
      "execution_count": 4,
      "outputs": [
        {
          "output_type": "stream",
          "text": [
            "[[10  6]\n",
            " [ 4  2]]\n"
          ],
          "name": "stdout"
        }
      ]
    },
    {
      "metadata": {
        "id": "I30DOAUeFZE3",
        "colab_type": "text"
      },
      "cell_type": "markdown",
      "source": [
        "### 1-2 Tensorflow는 그래프의 생성과 그래프의 실행으로 나눌 수 있다. 아래 내용에 따라 파이썬 프로그램을 작성해 보자."
      ]
    },
    {
      "metadata": {
        "id": "rQr2rYHfHsO3",
        "colab_type": "text"
      },
      "cell_type": "markdown",
      "source": [
        "(1) 두 개의 값을 선언하고 이에 대한 곱에 대한 결과를 확인해 보자.<br>\n",
        "(가) a=15, b=30의 값을 저장한다.<br>\n",
        "(나) c는 두 값의 곱의 값을 저장한다.<br>\n",
        "(다) 값을 확인하기 위한 세션을 선언하고 이를 실행하여 a, b, c의 값을 확인한다.<br>"
      ]
    },
    {
      "metadata": {
        "id": "kg5aifUEFavG",
        "colab_type": "code",
        "colab": {
          "base_uri": "https://localhost:8080/",
          "height": 35
        },
        "outputId": "c65a9689-4656-491e-d2a8-4979f41bc038"
      },
      "cell_type": "code",
      "source": [
        "import tensorflow as tf\n",
        "\n",
        "a = tf.constant(15)\n",
        "b = tf.constant(30)\n",
        "c = tf.multiply(a,b)\n",
        "print(c)"
      ],
      "execution_count": 11,
      "outputs": [
        {
          "output_type": "stream",
          "text": [
            "Tensor(\"Mul_3:0\", shape=(), dtype=int32)\n"
          ],
          "name": "stdout"
        }
      ]
    },
    {
      "metadata": {
        "id": "vJCk6_5LHF0P",
        "colab_type": "code",
        "colab": {
          "base_uri": "https://localhost:8080/",
          "height": 71
        },
        "outputId": "91284a03-a117-4a83-e4ca-8d7b230cbcd2"
      },
      "cell_type": "code",
      "source": [
        "sess = tf.Session()\n",
        "print('a = ', sess.run(a))\n",
        "print('b = ', sess.run(b))\n",
        "print('c = ', sess.run(c))\n",
        "sess.close()"
      ],
      "execution_count": 13,
      "outputs": [
        {
          "output_type": "stream",
          "text": [
            "a =  15\n",
            "b =  30\n",
            "c =  450\n"
          ],
          "name": "stdout"
        }
      ]
    },
    {
      "metadata": {
        "id": "cpm2T9u3Ijee",
        "colab_type": "text"
      },
      "cell_type": "markdown",
      "source": [
        "### (2) 아래 행렬 연산을 수행하는 프로그램을 작성해 보자."
      ]
    },
    {
      "metadata": {
        "id": "XFx_x_DDIsWj",
        "colab_type": "text"
      },
      "cell_type": "markdown",
      "source": [
        "(가) R(임의 값) x 4의 행렬을 X를 선언한다. 내용은 실수 값을 갖는다.\n",
        "(Tensor형, 플레이스 홀더)<br>\n",
        "(나) W, b의 값을 random_norma를 이용하여 값을 지정\n",
        "W : 4 x 3 , b : 2 x 1<br>\n",
        "(다) Y = X * W + b를 만족시키는 식을 구하고, 이에 대한 결과를 확인해 보자."
      ]
    },
    {
      "metadata": {
        "id": "depqWxdNI2Rr",
        "colab_type": "code",
        "colab": {}
      },
      "cell_type": "code",
      "source": [
        "X = tf.placeholder(tf.float32, [None, 5]) # R(임의의 데이터 행) * 4"
      ],
      "execution_count": 0,
      "outputs": []
    },
    {
      "metadata": {
        "id": "hPMSAaQjMoro",
        "colab_type": "code",
        "colab": {}
      },
      "cell_type": "code",
      "source": [
        "x_data = [[3,4,5,6,7], [6,7,8,9,10], [1,2,3,4,5]]"
      ],
      "execution_count": 0,
      "outputs": []
    },
    {
      "metadata": {
        "id": "oQoCMLPuKS_Q",
        "colab_type": "code",
        "colab": {}
      },
      "cell_type": "code",
      "source": [
        "W = tf.Variable(tf.random_normal([5,3]))\n",
        "b = tf.Variable(tf.random_normal([3,1]))"
      ],
      "execution_count": 0,
      "outputs": []
    },
    {
      "metadata": {
        "id": "QH1WfqCnKx4b",
        "colab_type": "code",
        "colab": {}
      },
      "cell_type": "code",
      "source": [
        "Y_pred = tf.matmul(X, W) + b"
      ],
      "execution_count": 0,
      "outputs": []
    },
    {
      "metadata": {
        "id": "wk18pd0GK8XB",
        "colab_type": "code",
        "colab": {
          "base_uri": "https://localhost:8080/",
          "height": 305
        },
        "outputId": "24e19098-c959-49f4-c43e-8448477fbc71"
      },
      "cell_type": "code",
      "source": [
        "# 그래프 실행\n",
        "sess = tf.Session()\n",
        "sess.run(tf.global_variables_initializer())\n",
        "\n",
        "print('==x_data==')\n",
        "print(x_data)\n",
        "print('==W matrix==')\n",
        "print(sess.run(W))\n",
        "print('==b==')\n",
        "print(sess.run(b))\n",
        "print('==Y_pred==')\n",
        "print(sess.run(Y_pred, feed_dict={X:x_data})) # 플레이스 홀더로 되어 있는 부분은 feed_dict로 값을 넣어준다.\n",
        "\n",
        "sess.close()"
      ],
      "execution_count": 41,
      "outputs": [
        {
          "output_type": "stream",
          "text": [
            "==x_data==\n",
            "[[3, 4, 5, 6, 7], [6, 7, 8, 9, 10], [1, 2, 3, 4, 5]]\n",
            "==W matrix==\n",
            "[[ 0.16010955  1.7432028   0.36612764]\n",
            " [-0.12225422  1.6526129   1.0013729 ]\n",
            " [-0.526193    0.1930362   0.10986774]\n",
            " [ 1.1815568   1.3481311   0.12086853]\n",
            " [ 0.27211654 -0.13087441 -1.4193169 ]]\n",
            "==b==\n",
            "[[0.566554  ]\n",
            " [0.09946875]\n",
            " [1.710569  ]]\n",
            "==Y_pred==\n",
            "[[ 6.921057  20.54446   -2.9902396]\n",
            " [ 9.349979  34.4957    -2.9205654]\n",
            " [ 6.134401  12.076259  -2.2040644]]\n"
          ],
          "name": "stdout"
        }
      ]
    },
    {
      "metadata": {
        "id": "ywMmBi-SL828",
        "colab_type": "text"
      },
      "cell_type": "markdown",
      "source": [
        "### Tensorflow를 활용하여 단순/다중 선형회귀 모형을 구현해 보자."
      ]
    },
    {
      "metadata": {
        "id": "FZz7PDvGQKWr",
        "colab_type": "text"
      },
      "cell_type": "markdown",
      "source": [
        "(가) Learning rate(학습률)로 0.01로 지정한다.<br>\n",
        "(나) 손실함수 (Loss) 함수를 10개 - cost 비용<br>\n",
        "(다) 최적화 함수로 GradientDescent 알고리즘을 사용한다.<br>\n",
        "(라) 학습이 수행될 때, 최소 10번에 한번꼴로 해당 loss와 W값이 출력\n",
        "되도록 한다.<br>\n",
        "\n",
        "(다중 선형 회귀 모형의 경우 약간의 가산점이 있음)"
      ]
    },
    {
      "metadata": {
        "id": "gLqCpM9LQfrW",
        "colab_type": "code",
        "colab": {}
      },
      "cell_type": "code",
      "source": [
        "import tensorflow as tf\n",
        "import numpy as np"
      ],
      "execution_count": 0,
      "outputs": []
    },
    {
      "metadata": {
        "id": "Arp2JIKkX3sI",
        "colab_type": "code",
        "colab": {}
      },
      "cell_type": "code",
      "source": [
        "x_data = [1,2,3,4,5]\n",
        "y_data = [10, 20, 30, 40, 50]"
      ],
      "execution_count": 0,
      "outputs": []
    },
    {
      "metadata": {
        "id": "Q6d9Wk9aY9V2",
        "colab_type": "code",
        "colab": {
          "base_uri": "https://localhost:8080/",
          "height": 53
        },
        "outputId": "525870e2-f60c-4d40-8e73-40c1eb5ffc07"
      },
      "cell_type": "code",
      "source": [
        "W = tf.Variable(tf.random_uniform([1], -1.0, 1.0))\n",
        "b = tf.Variable(tf.random_uniform([1], -1.0, 1.0))\n",
        "print(W)\n",
        "print(b)"
      ],
      "execution_count": 63,
      "outputs": [
        {
          "output_type": "stream",
          "text": [
            "<tf.Variable 'Variable_16:0' shape=(1,) dtype=float32_ref>\n",
            "<tf.Variable 'Variable_17:0' shape=(1,) dtype=float32_ref>\n"
          ],
          "name": "stdout"
        }
      ]
    },
    {
      "metadata": {
        "id": "Z6ces5rhZL5i",
        "colab_type": "code",
        "colab": {
          "base_uri": "https://localhost:8080/",
          "height": 35
        },
        "outputId": "8adae0f3-b04e-4102-844b-2b7c55154e04"
      },
      "cell_type": "code",
      "source": [
        "T = tf.placeholder(tf.float32)\n",
        "print(T)"
      ],
      "execution_count": 64,
      "outputs": [
        {
          "output_type": "stream",
          "text": [
            "Tensor(\"Placeholder_6:0\", dtype=float32)\n"
          ],
          "name": "stdout"
        }
      ]
    },
    {
      "metadata": {
        "id": "rXkAzbtXZTr6",
        "colab_type": "code",
        "colab": {
          "base_uri": "https://localhost:8080/",
          "height": 53
        },
        "outputId": "1158ba81-c609-4949-b050-2db8b35690bd"
      },
      "cell_type": "code",
      "source": [
        "X = tf.placeholder(tf.float32, name='X')\n",
        "Y = tf.placeholder(tf.float32, name='Y')\n",
        "\n",
        "print(X)\n",
        "print(Y)"
      ],
      "execution_count": 65,
      "outputs": [
        {
          "output_type": "stream",
          "text": [
            "Tensor(\"X:0\", dtype=float32)\n",
            "Tensor(\"Y:0\", dtype=float32)\n"
          ],
          "name": "stdout"
        }
      ]
    },
    {
      "metadata": {
        "id": "_8ZxcMUkcGU8",
        "colab_type": "code",
        "colab": {}
      },
      "cell_type": "code",
      "source": [
        "hypothesis = W*X +b"
      ],
      "execution_count": 0,
      "outputs": []
    },
    {
      "metadata": {
        "id": "-WVWAZbZcHa7",
        "colab_type": "code",
        "colab": {
          "base_uri": "https://localhost:8080/",
          "height": 35
        },
        "outputId": "36608c5c-6387-483a-f237-5f85d443b607"
      },
      "cell_type": "code",
      "source": [
        "cost = tf.reduce_mean(tf.square(hypothesis - Y))\n",
        "cost"
      ],
      "execution_count": 67,
      "outputs": [
        {
          "output_type": "execute_result",
          "data": {
            "text/plain": [
              "<tf.Tensor 'Mean_3:0' shape=() dtype=float32>"
            ]
          },
          "metadata": {
            "tags": []
          },
          "execution_count": 67
        }
      ]
    },
    {
      "metadata": {
        "id": "_vqtBJkUcKU2",
        "colab_type": "code",
        "colab": {
          "base_uri": "https://localhost:8080/",
          "height": 107
        },
        "outputId": "a607035f-31c8-4d88-c44b-36447986a790"
      },
      "cell_type": "code",
      "source": [
        "optimizer = tf.train.GradientDescentOptimizer(learning_rate=0.01)\n",
        "train_op = optimizer.minimize(cost)\n",
        "print(train_op)"
      ],
      "execution_count": 68,
      "outputs": [
        {
          "output_type": "stream",
          "text": [
            "name: \"GradientDescent_2\"\n",
            "op: \"NoOp\"\n",
            "input: \"^GradientDescent_2/update_Variable_16/ApplyGradientDescent\"\n",
            "input: \"^GradientDescent_2/update_Variable_17/ApplyGradientDescent\"\n",
            "\n"
          ],
          "name": "stdout"
        }
      ]
    },
    {
      "metadata": {
        "id": "qrxUo3jwcPwO",
        "colab_type": "code",
        "colab": {
          "base_uri": "https://localhost:8080/",
          "height": 1817
        },
        "outputId": "cbdaf638-79be-4ca2-9be6-e574b10f8c6e"
      },
      "cell_type": "code",
      "source": [
        "with tf.Session() as sess:\n",
        "  sess.run(tf.global_variables_initializer())\n",
        "  \n",
        "  for step in range(100):\n",
        "    _, cost_val = sess.run([train_op, cost], feed_dict={X:x_data, Y:y_data})\n",
        "    print(step, cost_val, sess.run(W), sess.run(b))"
      ],
      "execution_count": 69,
      "outputs": [
        {
          "output_type": "stream",
          "text": [
            "0 1258.5676 [1.4002005] [1.5808764]\n",
            "1 734.4499 [3.1973038] [2.0652468]\n",
            "2 429.01318 [4.569982] [2.4321036]\n",
            "3 251.01297 [5.61866] [2.7092626]\n",
            "4 147.27644 [6.419999] [2.9179578]\n",
            "5 86.81721 [7.0325217] [3.0743988]\n",
            "6 51.57786 [7.500903] [3.1909595]\n",
            "7 31.035452 [7.8592467] [3.277086]\n",
            "8 19.05777 [8.133587] [3.3399894]\n",
            "9 12.07121 [8.343799] [3.3851745]\n",
            "10 7.993257 [8.505053] [3.4168432]\n",
            "11 5.61036 [8.62893] [3.438203]\n",
            "12 4.215303 [8.724274] [3.4517033]\n",
            "13 3.3959396 [8.797832] [3.4592128]\n",
            "14 2.9121113 [8.854755] [3.4621587]\n",
            "15 2.6238685 [8.89898] [3.46163]\n",
            "16 2.4496326 [8.933507] [3.4584587]\n",
            "17 2.3418865 [8.960628] [3.453279]\n",
            "18 2.272924 [8.982093] [3.4465759]\n",
            "19 2.226604 [8.999238] [3.4387188]\n",
            "20 2.193525 [9.0130825] [3.42999]\n",
            "21 2.1681962 [9.024405] [3.4206052]\n",
            "22 2.1474285 [9.033799] [3.4107287]\n",
            "23 2.1293616 [9.041719] [3.4004862]\n",
            "24 2.1129065 [9.048512] [3.3899734]\n",
            "25 2.0974298 [9.054441] [3.3792632]\n",
            "26 2.0825605 [9.059709] [3.3684113]\n",
            "27 2.0680935 [9.064468] [3.3574605]\n",
            "28 2.0538914 [9.068838] [3.3464432]\n",
            "29 2.039886 [9.072907] [3.3353841]\n",
            "30 2.0260363 [9.076745] [3.324302]\n",
            "31 2.0123112 [9.080403] [3.3132112]\n",
            "32 1.9987011 [9.083922] [3.3021228]\n",
            "33 1.9851887 [9.087332] [3.291045]\n",
            "34 1.9717779 [9.090656] [3.2799842]\n",
            "35 1.9584643 [9.093913] [3.2689452]\n",
            "36 1.9452406 [9.0971155] [3.2579315]\n",
            "37 1.9321079 [9.100274] [3.2469459]\n",
            "38 1.9190649 [9.103397] [3.2359905]\n",
            "39 1.9061086 [9.10649] [3.225067]\n",
            "40 1.8932402 [9.109558] [3.2141762]\n",
            "41 1.8804601 [9.112605] [3.203319]\n",
            "42 1.8677647 [9.115633] [3.1924963]\n",
            "43 1.8551581 [9.118644] [3.1817083]\n",
            "44 1.8426325 [9.121639] [3.1709554]\n",
            "45 1.8301957 [9.124621] [3.160238]\n",
            "46 1.8178413 [9.12759] [3.149556]\n",
            "47 1.8055693 [9.130547] [3.1389093]\n",
            "48 1.7933807 [9.1334915] [3.1282983]\n",
            "49 1.7812726 [9.136425] [3.1177227]\n",
            "50 1.7692512 [9.139348] [3.1071827]\n",
            "51 1.7573086 [9.142261] [3.0966783]\n",
            "52 1.7454427 [9.145163] [3.086209]\n",
            "53 1.7336609 [9.148054] [3.0757751]\n",
            "54 1.7219576 [9.150936] [3.0653763]\n",
            "55 1.7103342 [9.153808] [3.0550127]\n",
            "56 1.698789 [9.15667] [3.044684]\n",
            "57 1.6873192 [9.159521] [3.03439]\n",
            "58 1.6759293 [9.162363] [3.0241308]\n",
            "59 1.6646178 [9.165195] [3.0139065]\n",
            "60 1.6533808 [9.168018] [3.0037167]\n",
            "61 1.6422201 [9.170832] [2.9935613]\n",
            "62 1.6311337 [9.1736355] [2.9834402]\n",
            "63 1.6201216 [9.176429] [2.9733531]\n",
            "64 1.6091839 [9.179214] [2.9633005]\n",
            "65 1.5983236 [9.181989] [2.9532816]\n",
            "66 1.5875337 [9.184754] [2.9432967]\n",
            "67 1.5768158 [9.1875105] [2.9333456]\n",
            "68 1.566172 [9.190257] [2.923428]\n",
            "69 1.5555998 [9.192995] [2.9135442]\n",
            "70 1.5450995 [9.195724] [2.9036937]\n",
            "71 1.5346682 [9.198442] [2.8938763]\n",
            "72 1.5243111 [9.201153] [2.8840923]\n",
            "73 1.51402 [9.203854] [2.8743412]\n",
            "74 1.5038 [9.206546] [2.8646233]\n",
            "75 1.4936469 [9.2092285] [2.854938]\n",
            "76 1.4835651 [9.211902] [2.8452857]\n",
            "77 1.473548 [9.214566] [2.835666]\n",
            "78 1.4636034 [9.217221] [2.8260787]\n",
            "79 1.4537222 [9.219868] [2.8165238]\n",
            "80 1.4439094 [9.222506] [2.8070014]\n",
            "81 1.434162 [9.225134] [2.797511]\n",
            "82 1.4244803 [9.227754] [2.7880528]\n",
            "83 1.4148672 [9.230365] [2.7786264]\n",
            "84 1.4053147 [9.232967] [2.769232]\n",
            "85 1.3958266 [9.23556] [2.7598693]\n",
            "86 1.3864048 [9.238145] [2.7505383]\n",
            "87 1.3770472 [9.240721] [2.7412388]\n",
            "88 1.3677506 [9.243288] [2.7319708]\n",
            "89 1.358518 [9.245847] [2.722734]\n",
            "90 1.3493478 [9.248397] [2.7135284]\n",
            "91 1.3402373 [9.250937] [2.704354]\n",
            "92 1.33119 [9.25347] [2.6952107]\n",
            "93 1.3222045 [9.255994] [2.6860983]\n",
            "94 1.3132782 [9.25851] [2.6770167]\n",
            "95 1.3044126 [9.261017] [2.667966]\n",
            "96 1.2956078 [9.263515] [2.6589456]\n",
            "97 1.2868606 [9.2660055] [2.6499557]\n",
            "98 1.2781744 [9.268487] [2.6409962]\n",
            "99 1.269548 [9.27096] [2.632067]\n"
          ],
          "name": "stdout"
        }
      ]
    },
    {
      "metadata": {
        "id": "TubbYie6cThQ",
        "colab_type": "code",
        "colab": {
          "base_uri": "https://localhost:8080/",
          "height": 1853
        },
        "outputId": "46917385-afb9-4354-a831-d7e092ed7b65"
      },
      "cell_type": "code",
      "source": [
        "with tf.Session() as sess:\n",
        "  sess.run(tf.global_variables_initializer())\n",
        "  \n",
        "  for step in range(1000):\n",
        "    _, cost_val = sess.run([train_op, cost], feed_dict={X:x_data, Y:y_data})\n",
        "    if step%10==0:\n",
        "      print(step, cost_val, sess.run(W), sess.run(b))\n",
        "      \n",
        "  print('X:5, Y:', sess.run(hypothesis, feed_dict={X:5}))\n",
        "  print('X:2.5, Y:', sess.run(hypothesis, feed_dict={X:2.5}))"
      ],
      "execution_count": 70,
      "outputs": [
        {
          "output_type": "stream",
          "text": [
            "0 1101.9889 [2.3769758] [-0.07071327]\n",
            "10 5.5896354 [9.015468] [1.7000862]\n",
            "20 0.5973676 [9.477344] [1.7623253]\n",
            "30 0.53735167 [9.523586] [1.7116282]\n",
            "40 0.5020658 [9.541389] [1.6551679]\n",
            "50 0.46918482 [9.556791] [1.6000874]\n",
            "60 0.43845606 [9.571558] [1.5468068]\n",
            "70 0.40974307 [9.585826] [1.4952989]\n",
            "80 0.38290802 [9.599619] [1.4455056]\n",
            "90 0.3578311 [9.61295] [1.3973703]\n",
            "100 0.33439723 [9.625839] [1.3508383]\n",
            "110 0.31249633 [9.638299] [1.3058555]\n",
            "120 0.29202992 [9.650344] [1.2623707]\n",
            "130 0.27290532 [9.661986] [1.2203342]\n",
            "140 0.25503275 [9.673242] [1.179698]\n",
            "150 0.23833081 [9.684124] [1.140414]\n",
            "160 0.2227219 [9.694642] [1.1024384]\n",
            "170 0.20813553 [9.704811] [1.0657272]\n",
            "180 0.19450472 [9.714641] [1.0302387]\n",
            "190 0.18176678 [9.724143] [0.99593174]\n",
            "200 0.16986296 [9.733329] [0.9627674]\n",
            "210 0.15873827 [9.7422085] [0.93070763]\n",
            "220 0.1483424 [9.750793] [0.8997153]\n",
            "230 0.13862756 [9.759092] [0.86975485]\n",
            "240 0.12954883 [9.767114] [0.84079206]\n",
            "250 0.12106422 [9.77487] [0.8127937]\n",
            "260 0.113135144 [9.782366] [0.7857277]\n",
            "270 0.105726734 [9.789613] [0.75956315]\n",
            "280 0.09880246 [9.796619] [0.73427004]\n",
            "290 0.09233127 [9.803391] [0.7098189]\n",
            "300 0.08628416 [9.809938] [0.686182]\n",
            "310 0.08063419 [9.816268] [0.6633323]\n",
            "320 0.075353004 [9.822386] [0.6412434]\n",
            "330 0.07041804 [9.8283] [0.61989015]\n",
            "340 0.06580651 [9.834018] [0.59924775]\n",
            "350 0.061496876 [9.839546] [0.5792929]\n",
            "360 0.05746923 [9.844889] [0.5600021]\n",
            "370 0.053705417 [9.850054] [0.5413541]\n",
            "380 0.05018853 [9.855047] [0.5233268]\n",
            "390 0.046901084 [9.859874] [0.50589997]\n",
            "400 0.043829735 [9.86454] [0.48905373]\n",
            "410 0.040959187 [9.869051] [0.4727683]\n",
            "420 0.03827671 [9.873411] [0.45702514]\n",
            "430 0.035769887 [9.877626] [0.44180635]\n",
            "440 0.033427253 [9.881702] [0.4270942]\n",
            "450 0.031238046 [9.885641] [0.41287184]\n",
            "460 0.029192066 [9.889449] [0.39912334]\n",
            "470 0.02728042 [9.89313] [0.38583252]\n",
            "480 0.025493994 [9.896689] [0.37298432]\n",
            "490 0.023824297 [9.900129] [0.36056396]\n",
            "500 0.02226391 [9.903455] [0.34855714]\n",
            "510 0.020805944 [9.90667] [0.3369505]\n",
            "520 0.019443491 [9.909778] [0.3257302]\n",
            "530 0.018169906 [9.912782] [0.31488335]\n",
            "540 0.01698022 [9.915686] [0.3043984]\n",
            "550 0.015868127 [9.918494] [0.29426217]\n",
            "560 0.014828952 [9.921207] [0.2844633]\n",
            "570 0.013857481 [9.923833] [0.27499074]\n",
            "580 0.012950023 [9.92637] [0.26583326]\n",
            "590 0.012101981 [9.928821] [0.2569807]\n",
            "600 0.011309259 [9.931191] [0.248423]\n",
            "610 0.010568527 [9.933482] [0.2401504]\n",
            "620 0.009876566 [9.935698] [0.2321535]\n",
            "630 0.009229581 [9.937839] [0.22442274]\n",
            "640 0.008625241 [9.939908] [0.21694957]\n",
            "650 0.008060356 [9.94191] [0.20972529]\n",
            "660 0.0075324313 [9.943844] [0.20274132]\n",
            "670 0.0070392117 [9.945714] [0.19599009]\n",
            "680 0.0065782345 [9.947522] [0.18946356]\n",
            "690 0.0061473334 [9.949269] [0.1831542]\n",
            "700 0.0057448996 [9.950959] [0.17705515]\n",
            "710 0.0053684497 [9.952592] [0.17115901]\n",
            "720 0.0050170617 [9.95417] [0.16545962]\n",
            "730 0.0046883104 [9.955697] [0.1599497]\n",
            "740 0.0043814043 [9.957171] [0.15462358]\n",
            "750 0.0040943664 [9.958597] [0.14947489]\n",
            "760 0.003826268 [9.959976] [0.14449784]\n",
            "770 0.0035756845 [9.961309] [0.13968612]\n",
            "780 0.0033414543 [9.962598] [0.1350345]\n",
            "790 0.0031226422 [9.963843] [0.13053794]\n",
            "800 0.0029182604 [9.965047] [0.12619105]\n",
            "810 0.0027270725 [9.966211] [0.12198878]\n",
            "820 0.0025484278 [9.967337] [0.11792638]\n",
            "830 0.0023815196 [9.968424] [0.11399932]\n",
            "840 0.0022255653 [9.969476] [0.11020327]\n",
            "850 0.0020798745 [9.970491] [0.10653367]\n",
            "860 0.0019436188 [9.971475] [0.10298605]\n",
            "870 0.0018163312 [9.972424] [0.09955677]\n",
            "880 0.0016974097 [9.973343] [0.09624169]\n",
            "890 0.0015862031 [9.974231] [0.09303682]\n",
            "900 0.0014823015 [9.975088] [0.0899386]\n",
            "910 0.0013852515 [9.975918] [0.08694392]\n",
            "920 0.0012945267 [9.97672] [0.08404877]\n",
            "930 0.0012098241 [9.977495] [0.08124986]\n",
            "940 0.0011304787 [9.978245] [0.07854399]\n",
            "950 0.0010564979 [9.978969] [0.07592864]\n",
            "960 0.0009872919 [9.97967] [0.07340024]\n",
            "970 0.0009226607 [9.980346] [0.07095618]\n",
            "980 0.00086228363 [9.981001] [0.06859364]\n",
            "990 0.0008057257 [9.981633] [0.06630933]\n",
            "X:5, Y: [49.975243]\n",
            "X:2.5, Y: [25.019781]\n"
          ],
          "name": "stdout"
        }
      ]
    },
    {
      "metadata": {
        "id": "7pjb6QB3cVo4",
        "colab_type": "code",
        "colab": {
          "base_uri": "https://localhost:8080/",
          "height": 71
        },
        "outputId": "01b983b7-0b94-4676-b940-8d8c00e09c8a"
      },
      "cell_type": "code",
      "source": [
        "#########\n",
        "# 결과 확인\n",
        "# 0: 기타 1: 포유류, 2: 조류\n",
        "######\n",
        "# tf.argmax: 예측값과 실제값의 행렬에서 tf.argmax 를 이용해 가장 큰 값을 가져옵니다.\n",
        "# 예) [[0 1 0] [1 0 0]] -> [1 0]\n",
        "# [[0.2 0.7 0.1] [0.9 0.1 0.]] -> [1 0]\n",
        "prediction = tf.argmax(model, 1)\n",
        "target = tf.argmax(Y, 1)\n",
        "print('예측값:', sess.run(prediction, feed_dict={X: x_data}))\n",
        "print('실제값:', sess.run(target, feed_dict={Y: y_data}))\n",
        "\n",
        "is_correct = tf.equal(prediction, target)\n",
        "accuracy = tf.reduce_mean(tf.cast(is_correct, tf.float32))\n",
        "print('정확도: %.2f' % sess.run(accuracy * 100, feed_dict={X: x_data, Y: y_data}))"
      ],
      "execution_count": 61,
      "outputs": [
        {
          "output_type": "stream",
          "text": [
            "예측값: [0 2 2 0 0 2]\n",
            "실제값: [0 1 2 0 0 2]\n",
            "정확도: 83.33\n"
          ],
          "name": "stdout"
        }
      ]
    },
    {
      "metadata": {
        "id": "xqJau7NpdNbj",
        "colab_type": "code",
        "colab": {}
      },
      "cell_type": "code",
      "source": [
        ""
      ],
      "execution_count": 0,
      "outputs": []
    }
  ]
}