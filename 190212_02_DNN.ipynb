{
  "nbformat": 4,
  "nbformat_minor": 0,
  "metadata": {
    "colab": {
      "name": "190212_02_DNN.ipynb",
      "version": "0.3.2",
      "provenance": [],
      "collapsed_sections": []
    },
    "kernelspec": {
      "name": "python3",
      "display_name": "Python 3"
    }
  },
  "cells": [
    {
      "metadata": {
        "id": "g_Tu4o7Ey5vh",
        "colab_type": "text"
      },
      "cell_type": "markdown",
      "source": [
        "### 실습과제 2-1\n",
        "```\n",
        "▶ MNIST 데이터 셋 or 기타 데이터 셋을 이용한 아래 조건을 만족하는 DNN 신경망을 구현해 주세요.\n",
        "(1) 은닉층을 2개 이상으로 구성.\n",
        "(2) 배치 사이즈를 200으로 구성.\n",
        "(3) 최적화 알고리즘은 Gradient Decent알고리즘을 이용.\n",
        "(5) 학습 중의 cost 값을 출력.\n",
        "(4) Learning rate 기본값 0.1로 지정.\n",
        "(5) 학습 중의 cost 값을 출력.\n",
        "```"
      ]
    },
    {
      "metadata": {
        "id": "sJAFR17ozsj-",
        "colab_type": "code",
        "colab": {}
      },
      "cell_type": "code",
      "source": [
        "import tensorflow as tf\n",
        "\n",
        "from tensorflow.examples.tutorials.mnist import input_data"
      ],
      "execution_count": 0,
      "outputs": []
    },
    {
      "metadata": {
        "id": "3_ai5IBe0Uo_",
        "colab_type": "code",
        "colab": {
          "base_uri": "https://localhost:8080/",
          "height": 433
        },
        "outputId": "a6f82e5e-2585-4de0-d007-cab1bf82f65a"
      },
      "cell_type": "code",
      "source": [
        "mnist = input_data.read_data_sets(\"./mnist/data/\", one_hot=True)"
      ],
      "execution_count": 3,
      "outputs": [
        {
          "output_type": "stream",
          "text": [
            "WARNING:tensorflow:From <ipython-input-3-6fa84048fdd1>:1: read_data_sets (from tensorflow.contrib.learn.python.learn.datasets.mnist) is deprecated and will be removed in a future version.\n",
            "Instructions for updating:\n",
            "Please use alternatives such as official/mnist/dataset.py from tensorflow/models.\n",
            "WARNING:tensorflow:From /usr/local/lib/python3.6/dist-packages/tensorflow/contrib/learn/python/learn/datasets/mnist.py:260: maybe_download (from tensorflow.contrib.learn.python.learn.datasets.base) is deprecated and will be removed in a future version.\n",
            "Instructions for updating:\n",
            "Please write your own downloading logic.\n",
            "WARNING:tensorflow:From /usr/local/lib/python3.6/dist-packages/tensorflow/contrib/learn/python/learn/datasets/mnist.py:262: extract_images (from tensorflow.contrib.learn.python.learn.datasets.mnist) is deprecated and will be removed in a future version.\n",
            "Instructions for updating:\n",
            "Please use tf.data to implement this functionality.\n",
            "Extracting ./mnist/data/train-images-idx3-ubyte.gz\n",
            "WARNING:tensorflow:From /usr/local/lib/python3.6/dist-packages/tensorflow/contrib/learn/python/learn/datasets/mnist.py:267: extract_labels (from tensorflow.contrib.learn.python.learn.datasets.mnist) is deprecated and will be removed in a future version.\n",
            "Instructions for updating:\n",
            "Please use tf.data to implement this functionality.\n",
            "Extracting ./mnist/data/train-labels-idx1-ubyte.gz\n",
            "WARNING:tensorflow:From /usr/local/lib/python3.6/dist-packages/tensorflow/contrib/learn/python/learn/datasets/mnist.py:110: dense_to_one_hot (from tensorflow.contrib.learn.python.learn.datasets.mnist) is deprecated and will be removed in a future version.\n",
            "Instructions for updating:\n",
            "Please use tf.one_hot on tensors.\n",
            "Extracting ./mnist/data/t10k-images-idx3-ubyte.gz\n",
            "Extracting ./mnist/data/t10k-labels-idx1-ubyte.gz\n",
            "WARNING:tensorflow:From /usr/local/lib/python3.6/dist-packages/tensorflow/contrib/learn/python/learn/datasets/mnist.py:290: DataSet.__init__ (from tensorflow.contrib.learn.python.learn.datasets.mnist) is deprecated and will be removed in a future version.\n",
            "Instructions for updating:\n",
            "Please use alternatives such as official/mnist/dataset.py from tensorflow/models.\n"
          ],
          "name": "stdout"
        }
      ]
    },
    {
      "metadata": {
        "id": "K3GbYhsI04uX",
        "colab_type": "code",
        "colab": {}
      },
      "cell_type": "code",
      "source": [
        "X = tf.placeholder(tf.float32, [None, 784])\n",
        "Y = tf.placeholder(tf.float32, [None, 10])"
      ],
      "execution_count": 0,
      "outputs": []
    },
    {
      "metadata": {
        "id": "8kHp-xtY07RY",
        "colab_type": "code",
        "colab": {
          "base_uri": "https://localhost:8080/",
          "height": 71
        },
        "outputId": "2c5317b1-e843-421a-a704-b0d39d300772"
      },
      "cell_type": "code",
      "source": [
        "# 은닉층 3개\n",
        "W1 = tf.Variable(tf.random_normal([784, 256], stddev=0.01))\n",
        "# X(입력값)에 가중치를 곱하고, 이후 ReLU 함수를 이용하여 레이어를 만든다.\n",
        "L1 = tf.nn.relu(tf.matmul(X, W1)) # 데이터수 X 784 * 784 X 256 => 데이터수 X 256\n",
        "\n",
        "W2 = tf.Variable(tf.random_normal([256,256], stddev=0.01))\n",
        "# L1(입력값)에 가중치를 곱하고, 이후 ReLU 함수를 이용하여 레이어를 만든다.\n",
        "L2 = tf.nn.relu(tf.matmul(L1, W2)) # 데이터수 X 256 * 256 X 256 => 데이터수 X 256\n",
        "\n",
        "W3 = tf.Variable(tf.random_normal([256, 10]))\n",
        "model = tf.matmul(L2, W3) # 데이터수 X 256 * 256 X 10 => 데이터수 X 10"
      ],
      "execution_count": 5,
      "outputs": [
        {
          "output_type": "stream",
          "text": [
            "WARNING:tensorflow:From /usr/local/lib/python3.6/dist-packages/tensorflow/python/framework/op_def_library.py:263: colocate_with (from tensorflow.python.framework.ops) is deprecated and will be removed in a future version.\n",
            "Instructions for updating:\n",
            "Colocations handled automatically by placer.\n"
          ],
          "name": "stdout"
        }
      ]
    },
    {
      "metadata": {
        "id": "uWP7_iTQ1BQ5",
        "colab_type": "code",
        "colab": {}
      },
      "cell_type": "code",
      "source": [
        "cost = tf.reduce_mean(tf.nn.softmax_cross_entropy_with_logits_v2(logits=model, labels=Y))\n",
        "optimizer = tf.train.GradientDescentOptimizer(learning_rate=0.1).minimize(cost) # learning rate = 0.1\n"
      ],
      "execution_count": 0,
      "outputs": []
    },
    {
      "metadata": {
        "id": "OcZ2bXRX2TR9",
        "colab_type": "code",
        "colab": {}
      },
      "cell_type": "code",
      "source": [
        "init = tf.global_variables_initializer()\n",
        "sess = tf.Session()\n",
        "sess.run(init)"
      ],
      "execution_count": 0,
      "outputs": []
    },
    {
      "metadata": {
        "id": "hybJ8t4U2V58",
        "colab_type": "code",
        "colab": {}
      },
      "cell_type": "code",
      "source": [
        "batch_size = 200\n",
        "total_batch = int(mnist.train.num_examples / batch_size)"
      ],
      "execution_count": 0,
      "outputs": []
    },
    {
      "metadata": {
        "id": "YRA0lC643Esb",
        "colab_type": "code",
        "colab": {
          "base_uri": "https://localhost:8080/",
          "height": 557
        },
        "outputId": "2d0b619b-b717-4124-e3bf-7f6400b18155"
      },
      "cell_type": "code",
      "source": [
        "for epoch in range(15):\n",
        "  total_cost = 0\n",
        "  for i in range(total_batch):\n",
        "    batch_xs, batch_ys = mnist.train.next_batch(batch_size) # 학습할 데이터를 가져온다.\n",
        "# 입력 X, 출력 Y에 각각의 데이터 넣고 실행\n",
        "    _, cost_val = sess.run([optimizer,cost], feed_dict={X:batch_xs, Y:batch_ys})\n",
        "    total_cost += cost_val\n",
        "  print(batch_xs.shape, batch_ys.shape)\n",
        "  print('Epoch {}, Avg. cost = {}'.format(epoch+1, total_cost/total_batch))"
      ],
      "execution_count": 9,
      "outputs": [
        {
          "output_type": "stream",
          "text": [
            "(200, 784) (200, 10)\n",
            "Epoch 1, Avg. cost = 0.3613824160532518\n",
            "(200, 784) (200, 10)\n",
            "Epoch 2, Avg. cost = 0.11680128494446927\n",
            "(200, 784) (200, 10)\n",
            "Epoch 3, Avg. cost = 0.07939345982264388\n",
            "(200, 784) (200, 10)\n",
            "Epoch 4, Avg. cost = 0.059322791702368045\n",
            "(200, 784) (200, 10)\n",
            "Epoch 5, Avg. cost = 0.046417315283959565\n",
            "(200, 784) (200, 10)\n",
            "Epoch 6, Avg. cost = 0.03581906639716842\n",
            "(200, 784) (200, 10)\n",
            "Epoch 7, Avg. cost = 0.028981797955930234\n",
            "(200, 784) (200, 10)\n",
            "Epoch 8, Avg. cost = 0.020574374261566185\n",
            "(200, 784) (200, 10)\n",
            "Epoch 9, Avg. cost = 0.016302094291048973\n",
            "(200, 784) (200, 10)\n",
            "Epoch 10, Avg. cost = 0.012790605540133336\n",
            "(200, 784) (200, 10)\n",
            "Epoch 11, Avg. cost = 0.009853190924464302\n",
            "(200, 784) (200, 10)\n",
            "Epoch 12, Avg. cost = 0.007531417707743292\n",
            "(200, 784) (200, 10)\n",
            "Epoch 13, Avg. cost = 0.006160477020100436\n",
            "(200, 784) (200, 10)\n",
            "Epoch 14, Avg. cost = 0.004889345082708381\n",
            "(200, 784) (200, 10)\n",
            "Epoch 15, Avg. cost = 0.0041159922669811\n"
          ],
          "name": "stdout"
        }
      ]
    },
    {
      "metadata": {
        "id": "XLZVr5893ir1",
        "colab_type": "code",
        "colab": {
          "base_uri": "https://localhost:8080/",
          "height": 35
        },
        "outputId": "6a275ce4-e34c-4bca-ec8a-22da8050f3ea"
      },
      "cell_type": "code",
      "source": [
        "# tf.argmax(model, 1)는 1번인덱스(두번째)값 중에서 최대값을 뽑기\n",
        "# tf.argmax(Y,1)는 1번 인덱스(두번째)값 중에서 최대값 뽑기\n",
        "# 결과는 10개 레이블중에 확률이 가장 높은 값이 된다.\n",
        "is_correct = tf.equal(tf.argmax(model, 1), tf.argmax(Y,1))\n",
        "is_correct\n",
        "accuracy = tf.reduce_mean(tf.cast(is_correct, tf.float32))\n",
        "accuracy"
      ],
      "execution_count": 10,
      "outputs": [
        {
          "output_type": "execute_result",
          "data": {
            "text/plain": [
              "<tf.Tensor 'Mean_1:0' shape=() dtype=float32>"
            ]
          },
          "metadata": {
            "tags": []
          },
          "execution_count": 10
        }
      ]
    },
    {
      "metadata": {
        "id": "_OaZtZLz4E8G",
        "colab_type": "code",
        "colab": {
          "base_uri": "https://localhost:8080/",
          "height": 53
        },
        "outputId": "8e581fc7-79e6-4ded-b5f7-c1e6ce77315f"
      },
      "cell_type": "code",
      "source": [
        "print(mnist.test.images.shape)\n",
        "print(mnist.test.labels.shape)"
      ],
      "execution_count": 11,
      "outputs": [
        {
          "output_type": "stream",
          "text": [
            "(10000, 784)\n",
            "(10000, 10)\n"
          ],
          "name": "stdout"
        }
      ]
    },
    {
      "metadata": {
        "id": "iIDdTVWy4HKE",
        "colab_type": "code",
        "colab": {
          "base_uri": "https://localhost:8080/",
          "height": 35
        },
        "outputId": "115c314e-371b-4fcf-88e1-ad5abb0e220c"
      },
      "cell_type": "code",
      "source": [
        "print('정확도', sess.run(accuracy, feed_dict={X:mnist.test.images,\n",
        "Y:mnist.test.labels}))"
      ],
      "execution_count": 13,
      "outputs": [
        {
          "output_type": "stream",
          "text": [
            "정확도 0.9818\n"
          ],
          "name": "stdout"
        }
      ]
    },
    {
      "metadata": {
        "id": "gtvEA0_v4UMh",
        "colab_type": "code",
        "colab": {}
      },
      "cell_type": "code",
      "source": [
        "# 은닉층 3개\n",
        "W1 = tf.Variable(tf.random_normal([784, 256], stddev=0.01))\n",
        "# X(입력값)에 가중치를 곱하고, 이후 ReLU 함수를 이용하여 레이어를 만든다.\n",
        "L1 = tf.nn.relu(tf.matmul(X, W1)) # 데이터수 X 784 * 784 X 256 => 데이터수 X 256\n",
        "\n",
        "W2 = tf.Variable(tf.random_normal([256,256], stddev=0.01))\n",
        "# L1(입력값)에 가중치를 곱하고, 이후 ReLU 함수를 이용하여 레이어를 만든다.\n",
        "L2 = tf.nn.relu(tf.matmul(L1, W2)) # 데이터수 X 256 * 256 X 256 => 데이터수 X 256\n",
        "\n",
        "W3 = tf.Variable(tf.random_normal([256, 256], stddev=0.01))\n",
        "L3 = tf.nn.relu(tf.matmul(L2, W3))\n",
        "\n",
        "W4 = tf.Variable(tf.random_normal([256, 10]))\n",
        "model = tf.matmul(L3, W4) # 데이터수 X 256 * 256 X 10 => 데이터수 X 10"
      ],
      "execution_count": 0,
      "outputs": []
    }
  ]
}