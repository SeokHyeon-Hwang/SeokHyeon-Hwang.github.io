{
 "cells": [
  {
   "cell_type": "markdown",
   "metadata": {},
   "source": [
    "# If문"
   ]
  },
  {
   "cell_type": "markdown",
   "metadata": {},
   "source": [
    "조건에 맞는 경우에만 실행하는 코드를 만드는 것.\n",
    "\n",
    "형식은\n",
    "\n",
    "if 조건문 :\n",
    "\n",
    "    조건문이 참일 때 실행하고 싶은 코드\n",
    "    \n",
    "조건문이 거짓이라면 아무 일도 하지 않고 넘어간다.\n",
    "    \n"
   ]
  },
  {
   "cell_type": "code",
   "execution_count": 2,
   "metadata": {},
   "outputs": [
    {
     "name": "stdout",
     "output_type": "stream",
     "text": [
      "사과가 충분하군!\n",
      "짝이 맞지 않으니 몇개는 쪼개 먹자.\n"
     ]
    }
   ],
   "source": [
    "people = 3\n",
    "apple = 20\n",
    "\n",
    "if people < apple /5:\n",
    "    print('사과가 충분하군!')\n",
    "\n",
    "if apple % people > 0 :\n",
    "    print('짝이 맞지 않으니 몇개는 쪼개 먹자.')\n",
    "    \n",
    "if people > apple:\n",
    "    print('사람이 많아. 다 쪼개자.')"
   ]
  },
  {
   "cell_type": "code",
   "execution_count": 3,
   "metadata": {},
   "outputs": [
    {
     "name": "stdout",
     "output_type": "stream",
     "text": [
      "짝이 맞지 않으니 몇개는 쪼개 먹자.\n",
      "사람이 많아. 다 쪼개자.\n"
     ]
    }
   ],
   "source": [
    "people = 20\n",
    "apple = 3\n",
    "\n",
    "if people < apple /5:\n",
    "    print('사과가 충분하군!')\n",
    "\n",
    "if apple % people > 0 :\n",
    "    print('짝이 맞지 않으니 몇개는 쪼개 먹자.')\n",
    "    \n",
    "if people > apple:\n",
    "    print('사람이 많아. 다 쪼개자.')"
   ]
  },
  {
   "cell_type": "markdown",
   "metadata": {},
   "source": [
    "### 예제"
   ]
  },
  {
   "cell_type": "code",
   "execution_count": 4,
   "metadata": {},
   "outputs": [
    {
     "name": "stdout",
     "output_type": "stream",
     "text": [
      "조건식이 True이면 실행됩니다.\n"
     ]
    }
   ],
   "source": [
    "if True:\n",
    "    print(\"조건식이 True이면 실행됩니다.\")\n",
    "if False:\n",
    "    print(\"조건식이 False이면 실행되지 않습니다.\")"
   ]
  },
  {
   "cell_type": "markdown",
   "metadata": {},
   "source": [
    "# 조건식"
   ]
  },
  {
   "cell_type": "markdown",
   "metadata": {},
   "source": [
    "부등호 연산"
   ]
  },
  {
   "cell_type": "code",
   "execution_count": 5,
   "metadata": {},
   "outputs": [
    {
     "data": {
      "text/plain": [
       "True"
      ]
     },
     "execution_count": 5,
     "metadata": {},
     "output_type": "execute_result"
    }
   ],
   "source": [
    "10 >= 10"
   ]
  },
  {
   "cell_type": "code",
   "execution_count": 6,
   "metadata": {},
   "outputs": [
    {
     "data": {
      "text/plain": [
       "True"
      ]
     },
     "execution_count": 6,
     "metadata": {},
     "output_type": "execute_result"
    }
   ],
   "source": [
    "10 == 10"
   ]
  },
  {
   "cell_type": "code",
   "execution_count": 7,
   "metadata": {},
   "outputs": [
    {
     "data": {
      "text/plain": [
       "True"
      ]
     },
     "execution_count": 7,
     "metadata": {},
     "output_type": "execute_result"
    }
   ],
   "source": [
    "10 != 9"
   ]
  },
  {
   "cell_type": "markdown",
   "metadata": {},
   "source": [
    "### boolean 연산"
   ]
  },
  {
   "cell_type": "code",
   "execution_count": 8,
   "metadata": {},
   "outputs": [
    {
     "data": {
      "text/plain": [
       "True"
      ]
     },
     "execution_count": 8,
     "metadata": {},
     "output_type": "execute_result"
    }
   ],
   "source": [
    "True and True"
   ]
  },
  {
   "cell_type": "code",
   "execution_count": 9,
   "metadata": {},
   "outputs": [
    {
     "data": {
      "text/plain": [
       "False"
      ]
     },
     "execution_count": 9,
     "metadata": {},
     "output_type": "execute_result"
    }
   ],
   "source": [
    "False and True"
   ]
  },
  {
   "cell_type": "code",
   "execution_count": 10,
   "metadata": {},
   "outputs": [
    {
     "data": {
      "text/plain": [
       "True"
      ]
     },
     "execution_count": 10,
     "metadata": {},
     "output_type": "execute_result"
    }
   ],
   "source": [
    "True or False"
   ]
  },
  {
   "cell_type": "code",
   "execution_count": 11,
   "metadata": {},
   "outputs": [
    {
     "data": {
      "text/plain": [
       "False"
      ]
     },
     "execution_count": 11,
     "metadata": {},
     "output_type": "execute_result"
    }
   ],
   "source": [
    "False or False"
   ]
  },
  {
   "cell_type": "markdown",
   "metadata": {},
   "source": [
    "and 는 두 조건 모두 참인지 가릴 때 사용.\n",
    "\n",
    "or 는 두 조건 중 하나라도 참인지 가릴 때 사용.\n",
    "\n",
    "not은 조건을 뒤집기 위해 사용."
   ]
  },
  {
   "cell_type": "code",
   "execution_count": 12,
   "metadata": {},
   "outputs": [
    {
     "data": {
      "text/plain": [
       "False"
      ]
     },
     "execution_count": 12,
     "metadata": {},
     "output_type": "execute_result"
    }
   ],
   "source": [
    "not True"
   ]
  },
  {
   "cell_type": "markdown",
   "metadata": {},
   "source": [
    "### 예제"
   ]
  },
  {
   "cell_type": "code",
   "execution_count": 15,
   "metadata": {},
   "outputs": [
    {
     "name": "stdout",
     "output_type": "stream",
     "text": [
      "오전입니다.\n"
     ]
    }
   ],
   "source": [
    "from datetime import datetime\n",
    "hour = datetime.now().hour   ### 변수 hour 에 시간을 저장한다.\n",
    "\n",
    "if hour<12:\n",
    "    print('오전입니다.')"
   ]
  },
  {
   "cell_type": "markdown",
   "metadata": {},
   "source": [
    "어떤 숫자가 3의 배수인지 알아보기 위해서는 그 숫자를 3으로 나눈 나머지가 0인지 알아보면 된다."
   ]
  },
  {
   "cell_type": "code",
   "execution_count": 17,
   "metadata": {},
   "outputs": [
    {
     "name": "stdout",
     "output_type": "stream",
     "text": [
      "15는 3의 배수입니다.\n"
     ]
    }
   ],
   "source": [
    "number = 15\n",
    "if number % 3 ==0:\n",
    "    print(\"{}는 3의 배수입니다.\".format(number))"
   ]
  },
  {
   "cell_type": "code",
   "execution_count": 18,
   "metadata": {},
   "outputs": [
    {
     "name": "stdout",
     "output_type": "stream",
     "text": [
      "16는 3의 배수가 아닙니다.\n"
     ]
    }
   ],
   "source": [
    "number2 = 16\n",
    "if number2 % 3 != 0:\n",
    "    print(\"{}는 3의 배수가 아닙니다.\".format(number2))"
   ]
  },
  {
   "cell_type": "code",
   "execution_count": 19,
   "metadata": {},
   "outputs": [],
   "source": [
    "from datetime import datetime\n",
    "hour = datetime.now().hour\n",
    "\n",
    "if hour%6 ==0:\n",
    "    print('종이 울립니다.')"
   ]
  },
  {
   "cell_type": "markdown",
   "metadata": {},
   "source": [
    "# else"
   ]
  },
  {
   "cell_type": "markdown",
   "metadata": {},
   "source": [
    "if의 조건이 맞지 않을 때 실행하는 코드\n",
    "\n",
    "if 뒤에 따라나오는 문법으로 혼자 쓰일 수 없다."
   ]
  },
  {
   "cell_type": "code",
   "execution_count": 1,
   "metadata": {},
   "outputs": [
    {
     "name": "stdout",
     "output_type": "stream",
     "text": [
      "이기거나 지거나\n"
     ]
    }
   ],
   "source": [
    "SCISSOR = '가위'\n",
    "ROCK = '바위'\n",
    "PAPER = '보'\n",
    "\n",
    "WIN = '이겼다'\n",
    "DRAW = '비겼다'\n",
    "LOSE = '졌다'\n",
    "\n",
    "mine = '가위'\n",
    "yours = '바위'\n",
    "\n",
    "if mine == yours:\n",
    "    result = DRAW\n",
    "else:\n",
    "    result = '이기거나 지거나'\n",
    "\n",
    "print(result)"
   ]
  },
  {
   "cell_type": "code",
   "execution_count": 3,
   "metadata": {},
   "outputs": [
    {
     "name": "stdout",
     "output_type": "stream",
     "text": [
      "졌다\n"
     ]
    }
   ],
   "source": [
    "SCISSOR = '가위'\n",
    "ROCK = '바위'\n",
    "PAPER = '보'\n",
    "\n",
    "WIN = '이겼다'\n",
    "DRAW = '비겼다'\n",
    "LOSE = '졌다'\n",
    "\n",
    "mine = '가위'\n",
    "yours = '바위'\n",
    "\n",
    "if mine == yours:\n",
    "    result = DRAW\n",
    "else:\n",
    "    if mine == SCISSOR:\n",
    "        if yours == ROCK:\n",
    "            result = LOSE\n",
    "        else:\n",
    "            result = WIN\n",
    "    elif mine == ROCK:\n",
    "        if yours == PAPER:\n",
    "            result = LOSE\n",
    "        else:\n",
    "            result = WIN\n",
    "    elif mine == PAPER:\n",
    "        if yours == SCISSOR:\n",
    "            result = LOSE\n",
    "        else:\n",
    "            result = WIN\n",
    "    else:\n",
    "        print('값이 이상하다.')\n",
    "\n",
    "print(result)"
   ]
  }
 ],
 "metadata": {
  "kernelspec": {
   "display_name": "Python 3",
   "language": "python",
   "name": "python3"
  },
  "language_info": {
   "codemirror_mode": {
    "name": "ipython",
    "version": 3
   },
   "file_extension": ".py",
   "mimetype": "text/x-python",
   "name": "python",
   "nbconvert_exporter": "python",
   "pygments_lexer": "ipython3",
   "version": "3.6.5"
  }
 },
 "nbformat": 4,
 "nbformat_minor": 2
}
