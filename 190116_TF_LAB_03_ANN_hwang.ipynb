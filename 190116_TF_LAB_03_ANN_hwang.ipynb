{
  "nbformat": 4,
  "nbformat_minor": 0,
  "metadata": {
    "colab": {
      "name": "TF_LAB_03_ANN_hwang.ipynb",
      "version": "0.3.2",
      "provenance": [],
      "collapsed_sections": []
    },
    "kernelspec": {
      "name": "python3",
      "display_name": "Python 3"
    }
  },
  "cells": [
    {
      "metadata": {
        "id": "B9IuEPKGen_K",
        "colab_type": "code",
        "colab": {}
      },
      "cell_type": "code",
      "source": [
        "### 01. 기본 신경망 구현\n",
        "\n",
        "#y = sigmoid(X*W+b)\n",
        "#y : 출력\n",
        "#Sigmoid : Activation function(활성화 함수)\n",
        "#X: 입력\n",
        "#w:가중치(weight)\n",
        "#b:편향(bias)"
      ],
      "execution_count": 0,
      "outputs": []
    },
    {
      "metadata": {
        "id": "JdrNdy-kgS1M",
        "colab_type": "code",
        "colab": {}
      },
      "cell_type": "code",
      "source": [
        "# 학습이란 w, b를 찾아내는 것\n",
        "# 최적화 알고리즘 : GradientDescent"
      ],
      "execution_count": 0,
      "outputs": []
    },
    {
      "metadata": {
        "id": "QfGf1aDog6ZK",
        "colab_type": "code",
        "colab": {}
      },
      "cell_type": "code",
      "source": [
        "## 활성화 함수(Activation function) : 인공 신경망을 통해 들어온 값을 최종적으로 어떤 값으로 만들지 결정한다.\n",
        "## 종류 Sigmoid, ReLu, tanh, Softmax\n"
      ],
      "execution_count": 0,
      "outputs": []
    },
    {
      "metadata": {
        "id": "XDR2FOe4j0XM",
        "colab_type": "code",
        "colab": {}
      },
      "cell_type": "code",
      "source": [
        "# 신경망 알고리즘 배경\n",
        "## 수천~수만개 W, b의 값을 일일이 변경시켜가며 계산하는데 오랜 시간이 걸린다.\n",
        "## 신경망 층이 깊어질수록 시도해봐야 하는 경우의 수가 많아, 유의미한 신경망 만들기 어려웠다.\n",
        "## 제안 : Geoffrey Hinton, 제한된 볼트만 머신 (Restricted Boltzman Machine, RBM)\n",
        "## 발전 : 드롭아웃 기법, ReLu 활성화 함수, GPU 발전, 역전파(backpropagation)"
      ],
      "execution_count": 0,
      "outputs": []
    },
    {
      "metadata": {
        "id": "8ONpsiZCn25Y",
        "colab_type": "code",
        "colab": {}
      },
      "cell_type": "code",
      "source": [
        "# 간단한 모델 분류 구현\n",
        "## 딥러닝에서 가장 폭넓게 활용되는 분야는 패턴 인식을 통한 영상처리\n",
        "## 패턴을 파악해"
      ],
      "execution_count": 0,
      "outputs": []
    },
    {
      "metadata": {
        "id": "I1zpfFWPn-nY",
        "colab_type": "code",
        "colab": {}
      },
      "cell_type": "code",
      "source": [
        "import tensorflow as tf\n",
        "import numpy as np"
      ],
      "execution_count": 0,
      "outputs": []
    },
    {
      "metadata": {
        "id": "MNyaU1SxoBzm",
        "colab_type": "code",
        "colab": {}
      },
      "cell_type": "code",
      "source": [
        "# 데이터 정의\n",
        "## 털의 유무 : 1있음0없음\n",
        "## 날개 유무 : 1있음0없음\n",
        "## [털,날개]"
      ],
      "execution_count": 0,
      "outputs": []
    },
    {
      "metadata": {
        "id": "IgIPaHRMoKZG",
        "colab_type": "code",
        "colab": {
          "base_uri": "https://localhost:8080/",
          "height": 34
        },
        "outputId": "a451bdaf-23e5-4e1a-de72-71051dba4acf"
      },
      "cell_type": "code",
      "source": [
        "# [털의 유무, 날개 유무]\n",
        "x_data = np.array([[0,0], [1,0], [1,1], [0,0], [0,0], [0,1]])\n",
        "x_data.shape"
      ],
      "execution_count": 8,
      "outputs": [
        {
          "output_type": "execute_result",
          "data": {
            "text/plain": [
              "(6, 2)"
            ]
          },
          "metadata": {
            "tags": []
          },
          "execution_count": 8
        }
      ]
    },
    {
      "metadata": {
        "id": "MeHQq79boWFL",
        "colab_type": "code",
        "colab": {}
      },
      "cell_type": "code",
      "source": [
        "# 어떤 종류의 동물인가? 기타, 포유류, 조류\n",
        "# on-hot-encoding\n",
        "#기타: [1,0,0]\n",
        "#포유류: [0,1,0]\n",
        "#조류 : [0,0,1]\n",
        "\n",
        "y_data = np.array([[1,0,0],\n",
        "                 [0,1,0],\n",
        "                 [0,0,1],\n",
        "                 [1,0,0],\n",
        "                 [1,0,0],\n",
        "                 [0,0,1]])\n"
      ],
      "execution_count": 0,
      "outputs": []
    },
    {
      "metadata": {
        "id": "p3uN9PQoprDS",
        "colab_type": "code",
        "colab": {}
      },
      "cell_type": "code",
      "source": [
        "# 신경망 모델 구성하기\n",
        "## 플레이스 홀더 구성\n",
        "## W : 2개, 레이블 3개로 설정"
      ],
      "execution_count": 0,
      "outputs": []
    },
    {
      "metadata": {
        "id": "0bIBaCMJqU8F",
        "colab_type": "code",
        "colab": {
          "base_uri": "https://localhost:8080/",
          "height": 52
        },
        "outputId": "e21117fc-a299-4f66-ef2a-dec79e8d2e50"
      },
      "cell_type": "code",
      "source": [
        "X = tf.placeholder(tf.float32)\n",
        "Y = tf.placeholder(tf.float32)\n",
        "print(X)\n",
        "print(Y)"
      ],
      "execution_count": 12,
      "outputs": [
        {
          "output_type": "stream",
          "text": [
            "Tensor(\"Placeholder:0\", dtype=float32)\n",
            "Tensor(\"Placeholder_1:0\", dtype=float32)\n"
          ],
          "name": "stdout"
        }
      ]
    },
    {
      "metadata": {
        "id": "Vx4Zlw-DqhVf",
        "colab_type": "code",
        "colab": {}
      },
      "cell_type": "code",
      "source": [
        "W = tf.Variable(tf.random_uniform([2,3], -1, 1))\n",
        "b = tf.Variable(tf.zeros([3]))"
      ],
      "execution_count": 0,
      "outputs": []
    },
    {
      "metadata": {
        "id": "PVF4jdr3uVNa",
        "colab_type": "code",
        "colab": {}
      },
      "cell_type": "code",
      "source": [
        "L =tf.add(tf.matmul(X, W), b)"
      ],
      "execution_count": 0,
      "outputs": []
    },
    {
      "metadata": {
        "id": "JgKdCFQEufcU",
        "colab_type": "code",
        "colab": {}
      },
      "cell_type": "code",
      "source": [
        "L = tf.nn.relu(L)\n",
        "\n",
        "model = tf.nn.softmax(L)"
      ],
      "execution_count": 0,
      "outputs": []
    },
    {
      "metadata": {
        "id": "EHjAkupVutdf",
        "colab_type": "code",
        "colab": {}
      },
      "cell_type": "code",
      "source": [
        "# 손실함수\n",
        "cost = tf.reduce_mean(-tf.reduce_sum(Y*tf.log(model), axis=1))"
      ],
      "execution_count": 0,
      "outputs": []
    },
    {
      "metadata": {
        "id": "LWMsu1xhvkr_",
        "colab_type": "code",
        "colab": {}
      },
      "cell_type": "code",
      "source": [
        "# 학습\n",
        "optimizer = tf.train.GradientDescentOptimizer(learning_rate=0.01)"
      ],
      "execution_count": 0,
      "outputs": []
    },
    {
      "metadata": {
        "id": "TKob4x4pwzp6",
        "colab_type": "code",
        "colab": {
          "base_uri": "https://localhost:8080/",
          "height": 105
        },
        "outputId": "2fd0fc4d-bda0-4379-cd82-9e02c06f7f79"
      },
      "cell_type": "code",
      "source": [
        "train_op = optimizer.minimize(cost)\n",
        "print(train_op)"
      ],
      "execution_count": 18,
      "outputs": [
        {
          "output_type": "stream",
          "text": [
            "name: \"GradientDescent\"\n",
            "op: \"NoOp\"\n",
            "input: \"^GradientDescent/update_Variable/ApplyGradientDescent\"\n",
            "input: \"^GradientDescent/update_Variable_1/ApplyGradientDescent\"\n",
            "\n"
          ],
          "name": "stdout"
        }
      ]
    },
    {
      "metadata": {
        "id": "lgiNueVMxvoq",
        "colab_type": "code",
        "colab": {}
      },
      "cell_type": "code",
      "source": [
        "init = tf.global_variables_initializer()\n",
        "sess = tf.Session()\n",
        "sess.run(init)"
      ],
      "execution_count": 0,
      "outputs": []
    },
    {
      "metadata": {
        "id": "Lh4MZ3bkx5HW",
        "colab_type": "code",
        "colab": {
          "base_uri": "https://localhost:8080/",
          "height": 194
        },
        "outputId": "e21e2722-c229-4863-c5ea-0e6a4a660376"
      },
      "cell_type": "code",
      "source": [
        "for step in range(100):\n",
        "  sess.run(train_op, feed_dict={X:x_data, Y:y_data}) # 학습\n",
        "  \n",
        "  if (step+1)%10 ==0:\n",
        "    print(step+1, sess.run(cost, feed_dict={X:x_data, Y:y_data})) # 학습중의 코스트 값"
      ],
      "execution_count": 20,
      "outputs": [
        {
          "output_type": "stream",
          "text": [
            "10 1.15722\n",
            "20 1.1440033\n",
            "30 1.1312715\n",
            "40 1.1190127\n",
            "50 1.1072136\n",
            "60 1.0958605\n",
            "70 1.0849379\n",
            "80 1.0744318\n",
            "90 1.0643258\n",
            "100 1.0546044\n"
          ],
          "name": "stdout"
        }
      ]
    },
    {
      "metadata": {
        "id": "e4B8xhizyN1e",
        "colab_type": "code",
        "colab": {}
      },
      "cell_type": "code",
      "source": [
        ""
      ],
      "execution_count": 0,
      "outputs": []
    }
  ]
}