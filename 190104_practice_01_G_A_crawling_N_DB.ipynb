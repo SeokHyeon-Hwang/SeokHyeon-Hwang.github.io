{
 "cells": [
  {
   "cell_type": "markdown",
   "metadata": {},
   "source": [
    "# 능력단위 평가 - 빅데이터 수집\n",
    "\n",
    "## 01. 옥션 및 지마켓에서 '여성의류' 데이터 수집\n",
    "#### 01-01. 옥션 데이터 수집\n",
    "#### 01-02. 지마켓 데이터 수집\n",
    "\n",
    "## 02. 데이터 베이스에 저장\n",
    "#### 02-01. 옥션 데이터를 데이터 베이스에 저장 후 확인\n",
    "#### 02-02. 지마켓 데이터를 데이터 베이스에 저장 후 확인\n",
    "\n",
    "## 03. 실제 데이터와 비교\n",
    "#### 03-01. 옥션 데이터 비교\n",
    "#### 03-02. 지마켓 데이터 비교\n"
   ]
  },
  {
   "cell_type": "markdown",
   "metadata": {},
   "source": [
    "### 01-01. 옥션 데이터 수집\n"
   ]
  },
  {
   "cell_type": "markdown",
   "metadata": {},
   "source": [
    "![image](https://user-images.githubusercontent.com/42320146/50672592-7e8fe900-101c-11e9-898e-2bddf5c3c8dd.png)\n"
   ]
  },
  {
   "cell_type": "markdown",
   "metadata": {},
   "source": [
    "### 01-02. 지마켓 데이터 수집"
   ]
  },
  {
   "cell_type": "markdown",
   "metadata": {},
   "source": [
    "![image](https://user-images.githubusercontent.com/42320146/50672627-c282ee00-101c-11e9-8ffb-fb7743584300.png)\n",
    "\n"
   ]
  },
  {
   "cell_type": "markdown",
   "metadata": {},
   "source": [
    "![image](https://user-images.githubusercontent.com/42320146/50672643-d890ae80-101c-11e9-94d3-f0073f27f85c.png)\n"
   ]
  },
  {
   "cell_type": "markdown",
   "metadata": {},
   "source": [
    "![image](https://user-images.githubusercontent.com/42320146/50672656-e9d9bb00-101c-11e9-9684-78af39797fc4.png)\n"
   ]
  },
  {
   "cell_type": "markdown",
   "metadata": {},
   "source": [
    "![image](https://user-images.githubusercontent.com/42320146/50672670-fa8a3100-101c-11e9-9f7e-81148655996f.png)\n"
   ]
  },
  {
   "cell_type": "markdown",
   "metadata": {},
   "source": [
    "![image](https://user-images.githubusercontent.com/42320146/50672761-4d63e880-101d-11e9-8e63-b3c3ea046a62.png)\n"
   ]
  },
  {
   "cell_type": "markdown",
   "metadata": {},
   "source": [
    "![image](https://user-images.githubusercontent.com/42320146/50672802-8734ef00-101d-11e9-82ac-621d6263135d.png)\n"
   ]
  },
  {
   "cell_type": "markdown",
   "metadata": {},
   "source": [
    "### 02-01. 옥션 데이터를 데이터 베이스에 저장 후 확인"
   ]
  },
  {
   "cell_type": "markdown",
   "metadata": {},
   "source": [
    "![image](https://user-images.githubusercontent.com/42320146/50672911-0f1af900-101e-11e9-9622-fcf0d01553b8.png)\n"
   ]
  },
  {
   "cell_type": "markdown",
   "metadata": {},
   "source": [
    "![image](https://user-images.githubusercontent.com/42320146/50673005-9cf6e400-101e-11e9-9c64-d8df7f2e60b4.png)\n"
   ]
  },
  {
   "cell_type": "markdown",
   "metadata": {},
   "source": [
    "![image](https://user-images.githubusercontent.com/42320146/50673109-2dcdbf80-101f-11e9-9a42-dbf3e447498b.png)\n"
   ]
  },
  {
   "cell_type": "markdown",
   "metadata": {},
   "source": [
    "![image](https://user-images.githubusercontent.com/42320146/50673139-6a012000-101f-11e9-9c66-d5365e0f81aa.png)\n"
   ]
  },
  {
   "cell_type": "markdown",
   "metadata": {},
   "source": [
    "### 02-02. 지마켓 데이터를 데이터 베이스에 저장 후 확인"
   ]
  },
  {
   "cell_type": "markdown",
   "metadata": {},
   "source": [
    "![image](https://user-images.githubusercontent.com/42320146/50673165-a03e9f80-101f-11e9-9562-cf99eb612eda.png)\n"
   ]
  },
  {
   "cell_type": "markdown",
   "metadata": {},
   "source": [
    "![image](https://user-images.githubusercontent.com/42320146/50673209-d2e89800-101f-11e9-9751-d65442a0c6e5.png)\n"
   ]
  },
  {
   "cell_type": "markdown",
   "metadata": {},
   "source": [
    "![image](https://user-images.githubusercontent.com/42320146/50673235-ebf14900-101f-11e9-81f2-73caf94567e8.png)"
   ]
  },
  {
   "cell_type": "markdown",
   "metadata": {},
   "source": [
    "## 03. 실제 데이터와 비교"
   ]
  },
  {
   "cell_type": "markdown",
   "metadata": {},
   "source": [
    "### 03-01. 옥션 데이터 비교\n",
    "\n",
    "#### 사이트 주소 : \n",
    "http://browse.auction.co.kr/search?keyword=%EC%97%AC%EC%84%B1%EC%9D%98%EB%A5%98&itemno=&nickname=&frm=hometab&dom=auction&isSuggestion=No&retry=&Fwk=%EC%97%AC%EC%84%B1%EC%9D%98%EB%A5%98&acode=SRP_SU_0100&arraycategory=&encKeyword=%EC%97%AC%EC%84%B1%EC%9D%98%EB%A5%98"
   ]
  },
  {
   "cell_type": "markdown",
   "metadata": {},
   "source": [
    "![image](https://user-images.githubusercontent.com/42320146/50673303-3672c580-1020-11e9-973b-5b7932c58edb.png)\n"
   ]
  },
  {
   "cell_type": "markdown",
   "metadata": {},
   "source": [
    "![image](https://user-images.githubusercontent.com/42320146/50673345-5dc99280-1020-11e9-83bb-5de98e242410.png)\n"
   ]
  },
  {
   "cell_type": "markdown",
   "metadata": {},
   "source": [
    "#### 상위 항목 대조 결과 제대로 저장 되었음을 확인 할 수 있다."
   ]
  },
  {
   "cell_type": "markdown",
   "metadata": {},
   "source": [
    "### 03-02. 지마켓 데이터 비교\n",
    "\n",
    "#### 사이트 주소 : \n",
    "http://search.gmarket.co.kr/search.aspx?selecturl=total&sheaderkey=&gdlc=&SearchClassFormWord=goodsSearch&keywordOrg=%BF%A9%BC%BA&keywordCVT=%BF%A9%BC%BA%B0%A1%B5%F0%B0%C7%2C%BF%A9%BC%BA%B1%B8%B5%CE%2C%BF%A9%BC%BA%C0%C7%B7%F9%2C%BF%A9%BC%BA%B0%A1%B9%E6%2C%BF%A9%BC%BA%BB%F7%B5%E9%2C%BF%A9%BC%BA%B7%CE%C6%DB%2C%BF%A9%BC%BA%BD%BD%B8%B3%BF%C2%2C%BF%A9%BC%BA%B9%E9%C6%D1%2C%BF%A9%BC%BA%C3%BB%B9%D9%C1%F6%2C%BF%A9%BC%BA%B4%DC%C8%AD&keywordCVTi=1&keyword=%BF%A9%BC%BA%C0%C7%B7%F9\n",
    "\n",
    "플러스 상품 항목 비교\n"
   ]
  },
  {
   "cell_type": "markdown",
   "metadata": {},
   "source": [
    "![image](https://user-images.githubusercontent.com/42320146/50673430-f6601280-1020-11e9-832d-4fdc50506184.png)\n"
   ]
  },
  {
   "cell_type": "markdown",
   "metadata": {},
   "source": [
    "![image](https://user-images.githubusercontent.com/42320146/50673439-10015a00-1021-11e9-873c-5646924a8d15.png)\n"
   ]
  },
  {
   "cell_type": "markdown",
   "metadata": {},
   "source": [
    "#### 문서 작성 중 새로 등록된 상품들이 추가되어 id 번호와 같지는 않다.\n",
    "#### 하지만 id 2번을 제외한 항목들에서 데이터가 제대로 저장되었음을 확인 할 수 있다."
   ]
  },
  {
   "cell_type": "code",
   "execution_count": null,
   "metadata": {},
   "outputs": [],
   "source": []
  }
 ],
 "metadata": {
  "kernelspec": {
   "display_name": "Python 3",
   "language": "python",
   "name": "python3"
  },
  "language_info": {
   "codemirror_mode": {
    "name": "ipython",
    "version": 3
   },
   "file_extension": ".py",
   "mimetype": "text/x-python",
   "name": "python",
   "nbconvert_exporter": "python",
   "pygments_lexer": "ipython3",
   "version": "3.6.5"
  }
 },
 "nbformat": 4,
 "nbformat_minor": 2
}
